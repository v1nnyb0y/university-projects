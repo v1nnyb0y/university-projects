{
 "cells": [
  {
   "cell_type": "markdown",
   "source": [
    "# Import libs"
   ],
   "metadata": {
    "collapsed": false,
    "pycharm": {
     "name": "#%% md\n"
    }
   }
  },
  {
   "cell_type": "code",
   "execution_count": 193,
   "outputs": [
    {
     "name": "stdout",
     "output_type": "stream",
     "text": [
      "Requirement already satisfied: linearmodels in /Users/zhdanov.vdm/opt/anaconda3/lib/python3.9/site-packages (4.26)\r\n",
      "Requirement already satisfied: numpy>=1.16 in /Users/zhdanov.vdm/opt/anaconda3/lib/python3.9/site-packages (from linearmodels) (1.20.3)\r\n",
      "Requirement already satisfied: pyhdfe>=0.1 in /Users/zhdanov.vdm/opt/anaconda3/lib/python3.9/site-packages (from linearmodels) (0.1.0)\r\n",
      "Requirement already satisfied: mypy-extensions>=0.4 in /Users/zhdanov.vdm/opt/anaconda3/lib/python3.9/site-packages (from linearmodels) (0.4.3)\r\n",
      "Requirement already satisfied: property-cached>=1.6.3 in /Users/zhdanov.vdm/opt/anaconda3/lib/python3.9/site-packages (from linearmodels) (1.6.4)\r\n",
      "Requirement already satisfied: formulaic~=0.3.2 in /Users/zhdanov.vdm/opt/anaconda3/lib/python3.9/site-packages (from linearmodels) (0.3.4)\r\n",
      "Requirement already satisfied: Cython>=0.29.21 in /Users/zhdanov.vdm/opt/anaconda3/lib/python3.9/site-packages (from linearmodels) (0.29.24)\r\n",
      "Requirement already satisfied: setuptools-scm<7.0.0,>=6.4.2 in /Users/zhdanov.vdm/opt/anaconda3/lib/python3.9/site-packages (from linearmodels) (6.4.2)\r\n",
      "Requirement already satisfied: patsy in /Users/zhdanov.vdm/opt/anaconda3/lib/python3.9/site-packages (from linearmodels) (0.5.2)\r\n",
      "Requirement already satisfied: pandas>=0.24 in /Users/zhdanov.vdm/opt/anaconda3/lib/python3.9/site-packages (from linearmodels) (1.3.4)\r\n",
      "Requirement already satisfied: scipy>=1.2 in /Users/zhdanov.vdm/opt/anaconda3/lib/python3.9/site-packages (from linearmodels) (1.7.1)\r\n",
      "Requirement already satisfied: statsmodels>=0.11 in /Users/zhdanov.vdm/opt/anaconda3/lib/python3.9/site-packages (from linearmodels) (0.12.2)\r\n",
      "Requirement already satisfied: wrapt>=1.0 in /Users/zhdanov.vdm/opt/anaconda3/lib/python3.9/site-packages (from formulaic~=0.3.2->linearmodels) (1.12.1)\r\n",
      "Requirement already satisfied: interface-meta<2.0.0,>=1.2.0 in /Users/zhdanov.vdm/opt/anaconda3/lib/python3.9/site-packages (from formulaic~=0.3.2->linearmodels) (1.3.0)\r\n",
      "Requirement already satisfied: astor>=0.8 in /Users/zhdanov.vdm/opt/anaconda3/lib/python3.9/site-packages (from formulaic~=0.3.2->linearmodels) (0.8.1)\r\n",
      "Requirement already satisfied: python-dateutil>=2.7.3 in /Users/zhdanov.vdm/opt/anaconda3/lib/python3.9/site-packages (from pandas>=0.24->linearmodels) (2.8.2)\r\n",
      "Requirement already satisfied: pytz>=2017.3 in /Users/zhdanov.vdm/opt/anaconda3/lib/python3.9/site-packages (from pandas>=0.24->linearmodels) (2021.3)\r\n",
      "Requirement already satisfied: six>=1.5 in /Users/zhdanov.vdm/opt/anaconda3/lib/python3.9/site-packages (from python-dateutil>=2.7.3->pandas>=0.24->linearmodels) (1.16.0)\r\n",
      "Requirement already satisfied: tomli>=1.0.0 in /Users/zhdanov.vdm/opt/anaconda3/lib/python3.9/site-packages (from setuptools-scm<7.0.0,>=6.4.2->linearmodels) (2.0.1)\r\n",
      "Requirement already satisfied: packaging>=20.0 in /Users/zhdanov.vdm/opt/anaconda3/lib/python3.9/site-packages (from setuptools-scm<7.0.0,>=6.4.2->linearmodels) (21.0)\r\n",
      "Requirement already satisfied: setuptools in /Users/zhdanov.vdm/opt/anaconda3/lib/python3.9/site-packages (from setuptools-scm<7.0.0,>=6.4.2->linearmodels) (58.0.4)\r\n",
      "Requirement already satisfied: pyparsing>=2.0.2 in /Users/zhdanov.vdm/opt/anaconda3/lib/python3.9/site-packages (from packaging>=20.0->setuptools-scm<7.0.0,>=6.4.2->linearmodels) (3.0.4)\r\n"
     ]
    }
   ],
   "source": [
    "!pip install linearmodels"
   ],
   "metadata": {
    "collapsed": false,
    "pycharm": {
     "name": "#%%\n"
    }
   }
  },
  {
   "cell_type": "code",
   "execution_count": 194,
   "outputs": [],
   "source": [
    "import pandas as pd\n",
    "import matplotlib.pyplot as plt\n",
    "import statsmodels.api as sm\n",
    "from linearmodels import PanelOLS, RandomEffects, PooledOLS\n",
    "from statsmodels.stats.diagnostic import het_breuschpagan\n",
    "import numpy.linalg as la\n",
    "from scipy import stats\n",
    "import seaborn as sns\n",
    "import numpy as np"
   ],
   "metadata": {
    "collapsed": false,
    "pycharm": {
     "name": "#%%\n"
    }
   }
  },
  {
   "cell_type": "code",
   "execution_count": 195,
   "outputs": [
    {
     "name": "stdout",
     "output_type": "stream",
     "text": [
      "<class 'pandas.core.frame.DataFrame'>\n",
      "RangeIndex: 360 entries, 0 to 359\n",
      "Data columns (total 40 columns):\n",
      " #   Column  Non-Null Count  Dtype  \n",
      "---  ------  --------------  -----  \n",
      " 0   id      360 non-null    object \n",
      " 1   year    360 non-null    int64  \n",
      " 2   v1      329 non-null    float64\n",
      " 3   v2      338 non-null    float64\n",
      " 4   v3      338 non-null    float64\n",
      " 5   v4      307 non-null    float64\n",
      " 6   v5      359 non-null    float64\n",
      " 7   v6      359 non-null    float64\n",
      " 8   v7      360 non-null    int64  \n",
      " 9   v8      360 non-null    float64\n",
      " 10  v9      342 non-null    float64\n",
      " 11  v10     350 non-null    float64\n",
      " 12  v11     351 non-null    float64\n",
      " 13  v12     352 non-null    float64\n",
      " 14  v13     354 non-null    float64\n",
      " 15  v14     354 non-null    float64\n",
      " 16  v15     338 non-null    float64\n",
      " 17  v16     316 non-null    float64\n",
      " 18  v17     323 non-null    float64\n",
      " 19  v18     360 non-null    float64\n",
      " 20  v19     360 non-null    float64\n",
      " 21  v20     352 non-null    float64\n",
      " 22  v21     351 non-null    float64\n",
      " 23  v22     360 non-null    float64\n",
      " 24  v23     360 non-null    int64  \n",
      " 25  v24     360 non-null    float64\n",
      " 26  v25     344 non-null    float64\n",
      " 27  v26     344 non-null    float64\n",
      " 28  v27     334 non-null    float64\n",
      " 29  v28     334 non-null    float64\n",
      " 30  v29     349 non-null    float64\n",
      " 31  v30     360 non-null    float64\n",
      " 32  v31     360 non-null    float64\n",
      " 33  v32     360 non-null    float64\n",
      " 34  v33     360 non-null    float64\n",
      " 35  v34     360 non-null    float64\n",
      " 36  v35     360 non-null    float64\n",
      " 37  v36     360 non-null    float64\n",
      " 38  v37     360 non-null    float64\n",
      " 39  v38     360 non-null    float64\n",
      "dtypes: float64(36), int64(3), object(1)\n",
      "memory usage: 112.6+ KB\n"
     ]
    }
   ],
   "source": [
    "df = pd.read_excel(\"data.xlsx\")\n",
    "df.info()"
   ],
   "metadata": {
    "collapsed": false,
    "pycharm": {
     "name": "#%%\n"
    }
   }
  },
  {
   "cell_type": "code",
   "execution_count": 196,
   "outputs": [
    {
     "name": "stdout",
     "output_type": "stream",
     "text": [
      "Type: object\n",
      "['id']\n",
      "\n",
      "Type: int64\n",
      "['year' 'v7' 'v23']\n",
      "\n",
      "Type: float64\n",
      "['v1' 'v2' 'v3' 'v4' 'v5' 'v6' 'v8' 'v9' 'v10' 'v11' 'v12' 'v13' 'v14'\n",
      " 'v15' 'v16' 'v17' 'v18' 'v19' 'v20' 'v21' 'v22' 'v24' 'v25' 'v26' 'v27'\n",
      " 'v28' 'v29' 'v30' 'v31' 'v32' 'v33' 'v34' 'v35' 'v36' 'v37' 'v38']\n",
      "\n"
     ]
    }
   ],
   "source": [
    "# Types of variables\n",
    "for t in df.dtypes.unique():\n",
    "    print('Type: {}\\n{}\\n'.format(t, df.dtypes[df.dtypes==t].index.values))"
   ],
   "metadata": {
    "collapsed": false,
    "pycharm": {
     "name": "#%%\n"
    }
   }
  },
  {
   "cell_type": "code",
   "execution_count": 197,
   "outputs": [],
   "source": [
    "df_ind = df.set_index(['id', 'year'])"
   ],
   "metadata": {
    "collapsed": false,
    "pycharm": {
     "name": "#%%\n"
    }
   }
  },
  {
   "cell_type": "code",
   "execution_count": 198,
   "outputs": [
    {
     "data": {
      "text/plain": "        id  year         v1         v2       v3          v4         v5  \\\n0  Albania  2015        NaN        NaN      NaN    39699.53   242870.0   \n1  Albania  2016        NaN    26634.0    306.0    30279.78   266379.0   \n2  Albania  2017        NaN   204090.0   1904.0    53273.59   303612.0   \n3  Albania  2018   0.000000   303137.0   2935.0    13648.00   361947.0   \n4  Algeria  2015  21.901645  5400896.0  65940.0  1635509.00  2269348.0   \n\n          v6       v7        v8  ...     v29          v30        v31  \\\n0   8.402315   226718  7.843521  ...  3030.0  3952.802538   8.194605   \n1   9.228641   248640  8.614077  ...  3285.0  4090.371657   7.769623   \n2  10.526845   246720  8.554284  ...  3497.0  4249.803734   8.893543   \n3  12.555659   248631  8.624815  ...  3713.0  4431.539181   9.605795   \n4   5.712209  3267592  8.224904  ...  7718.0  4177.889542  37.429177   \n\n         v32        v33        v34        v35       v36   v37     v38  \n0  80.694759  11.110635  27.267391  44.533615  4.896312   9.6  78.025  \n1  80.961061  11.269315  28.977899  45.831964  4.916017   9.4  78.194  \n2  79.608056  11.498401  31.569808  46.624466  5.012636   9.4  78.333  \n3  79.107646  11.286560  31.571927  45.236191  5.232072   9.5  78.458  \n4  41.010477  21.560346  23.171778  36.523351  6.978489  25.2  76.090  \n\n[5 rows x 40 columns]",
      "text/html": "<div>\n<style scoped>\n    .dataframe tbody tr th:only-of-type {\n        vertical-align: middle;\n    }\n\n    .dataframe tbody tr th {\n        vertical-align: top;\n    }\n\n    .dataframe thead th {\n        text-align: right;\n    }\n</style>\n<table border=\"1\" class=\"dataframe\">\n  <thead>\n    <tr style=\"text-align: right;\">\n      <th></th>\n      <th>id</th>\n      <th>year</th>\n      <th>v1</th>\n      <th>v2</th>\n      <th>v3</th>\n      <th>v4</th>\n      <th>v5</th>\n      <th>v6</th>\n      <th>v7</th>\n      <th>v8</th>\n      <th>...</th>\n      <th>v29</th>\n      <th>v30</th>\n      <th>v31</th>\n      <th>v32</th>\n      <th>v33</th>\n      <th>v34</th>\n      <th>v35</th>\n      <th>v36</th>\n      <th>v37</th>\n      <th>v38</th>\n    </tr>\n  </thead>\n  <tbody>\n    <tr>\n      <th>0</th>\n      <td>Albania</td>\n      <td>2015</td>\n      <td>NaN</td>\n      <td>NaN</td>\n      <td>NaN</td>\n      <td>39699.53</td>\n      <td>242870.0</td>\n      <td>8.402315</td>\n      <td>226718</td>\n      <td>7.843521</td>\n      <td>...</td>\n      <td>3030.0</td>\n      <td>3952.802538</td>\n      <td>8.194605</td>\n      <td>80.694759</td>\n      <td>11.110635</td>\n      <td>27.267391</td>\n      <td>44.533615</td>\n      <td>4.896312</td>\n      <td>9.6</td>\n      <td>78.025</td>\n    </tr>\n    <tr>\n      <th>1</th>\n      <td>Albania</td>\n      <td>2016</td>\n      <td>NaN</td>\n      <td>26634.0</td>\n      <td>306.0</td>\n      <td>30279.78</td>\n      <td>266379.0</td>\n      <td>9.228641</td>\n      <td>248640</td>\n      <td>8.614077</td>\n      <td>...</td>\n      <td>3285.0</td>\n      <td>4090.371657</td>\n      <td>7.769623</td>\n      <td>80.961061</td>\n      <td>11.269315</td>\n      <td>28.977899</td>\n      <td>45.831964</td>\n      <td>4.916017</td>\n      <td>9.4</td>\n      <td>78.194</td>\n    </tr>\n    <tr>\n      <th>2</th>\n      <td>Albania</td>\n      <td>2017</td>\n      <td>NaN</td>\n      <td>204090.0</td>\n      <td>1904.0</td>\n      <td>53273.59</td>\n      <td>303612.0</td>\n      <td>10.526845</td>\n      <td>246720</td>\n      <td>8.554284</td>\n      <td>...</td>\n      <td>3497.0</td>\n      <td>4249.803734</td>\n      <td>8.893543</td>\n      <td>79.608056</td>\n      <td>11.498401</td>\n      <td>31.569808</td>\n      <td>46.624466</td>\n      <td>5.012636</td>\n      <td>9.4</td>\n      <td>78.333</td>\n    </tr>\n    <tr>\n      <th>3</th>\n      <td>Albania</td>\n      <td>2018</td>\n      <td>0.000000</td>\n      <td>303137.0</td>\n      <td>2935.0</td>\n      <td>13648.00</td>\n      <td>361947.0</td>\n      <td>12.555659</td>\n      <td>248631</td>\n      <td>8.624815</td>\n      <td>...</td>\n      <td>3713.0</td>\n      <td>4431.539181</td>\n      <td>9.605795</td>\n      <td>79.107646</td>\n      <td>11.286560</td>\n      <td>31.571927</td>\n      <td>45.236191</td>\n      <td>5.232072</td>\n      <td>9.5</td>\n      <td>78.458</td>\n    </tr>\n    <tr>\n      <th>4</th>\n      <td>Algeria</td>\n      <td>2015</td>\n      <td>21.901645</td>\n      <td>5400896.0</td>\n      <td>65940.0</td>\n      <td>1635509.00</td>\n      <td>2269348.0</td>\n      <td>5.712209</td>\n      <td>3267592</td>\n      <td>8.224904</td>\n      <td>...</td>\n      <td>7718.0</td>\n      <td>4177.889542</td>\n      <td>37.429177</td>\n      <td>41.010477</td>\n      <td>21.560346</td>\n      <td>23.171778</td>\n      <td>36.523351</td>\n      <td>6.978489</td>\n      <td>25.2</td>\n      <td>76.090</td>\n    </tr>\n  </tbody>\n</table>\n<p>5 rows × 40 columns</p>\n</div>"
     },
     "execution_count": 198,
     "metadata": {},
     "output_type": "execute_result"
    }
   ],
   "source": [
    "df.head()"
   ],
   "metadata": {
    "collapsed": false,
    "pycharm": {
     "name": "#%%\n"
    }
   }
  },
  {
   "cell_type": "markdown",
   "source": [
    "Conclusion:\n",
    "    - All variables are numeric -> ratio variables\n",
    "    - All the data are real data (economical, demographically and technical). NaN values shouldn't be handled. It can reduce the quality of the models in this case."
   ],
   "metadata": {
    "collapsed": false,
    "pycharm": {
     "name": "#%% md\n"
    }
   }
  },
  {
   "cell_type": "markdown",
   "source": [
    "# Select dependent variable and predictors"
   ],
   "metadata": {
    "collapsed": false,
    "pycharm": {
     "name": "#%% md\n"
    }
   }
  },
  {
   "cell_type": "code",
   "execution_count": 199,
   "outputs": [
    {
     "name": "stdout",
     "output_type": "stream",
     "text": [
      "id\n",
      "year\n",
      "v7\n",
      "v8\n",
      "v18\n",
      "v19\n",
      "v22\n",
      "v23\n",
      "v24\n",
      "v30\n",
      "v31\n",
      "v32\n",
      "v33\n",
      "v34\n",
      "v35\n",
      "v36\n",
      "v37\n",
      "v38\n"
     ]
    }
   ],
   "source": [
    "for i in df:\n",
    "    if df[i].isna().sum() == 0:\n",
    "        print(i)"
   ],
   "metadata": {
    "collapsed": false,
    "pycharm": {
     "name": "#%%\n"
    }
   }
  },
  {
   "cell_type": "markdown",
   "source": [
    "We have several columns with non NaN data. We need to choose from this variable the dependent variable. <br> Let's choose **v38** variable, because others variable are economic or technical, which can demonstrates closely the same (bad model can be). It's only one social variable."
   ],
   "metadata": {
    "collapsed": false,
    "pycharm": {
     "name": "#%% md\n"
    }
   }
  },
  {
   "cell_type": "markdown",
   "source": [
    "## Predictors"
   ],
   "metadata": {
    "collapsed": false,
    "pycharm": {
     "name": "#%% md\n"
    }
   }
  },
  {
   "cell_type": "markdown",
   "source": [
    "Let's use correlation approach to choose predictors (one of the good options for panel data). At this situations, we have several years. It means, we should choose variables, which save its correlation particular the same throughout the years."
   ],
   "metadata": {
    "collapsed": false,
    "pycharm": {
     "name": "#%% md\n"
    }
   }
  },
  {
   "cell_type": "code",
   "execution_count": 200,
   "outputs": [
    {
     "name": "stdout",
     "output_type": "stream",
     "text": [
      "Correlations for year 2015\n",
      "v38     1.000000\n",
      "v6      0.770184\n",
      "v15     0.761418\n",
      "v8      0.719560\n",
      "v30     0.705516\n",
      "v24     0.584467\n",
      "v36     0.445047\n",
      "v9      0.396235\n",
      "v19     0.325517\n",
      "v31     0.302663\n",
      "v34     0.289596\n",
      "v16     0.226837\n",
      "v12     0.226335\n",
      "v33     0.218547\n",
      "v1      0.200844\n",
      "v27     0.193158\n",
      "v14     0.187459\n",
      "v10     0.180107\n",
      "v22     0.177122\n",
      "v11     0.171693\n",
      "v2      0.159554\n",
      "v25     0.148372\n",
      "v3      0.144720\n",
      "v23     0.144553\n",
      "v7      0.129000\n",
      "v13     0.126845\n",
      "v35     0.120755\n",
      "v20     0.118358\n",
      "v29     0.116473\n",
      "v26     0.111906\n",
      "v5      0.092434\n",
      "v21     0.090474\n",
      "v4      0.079114\n",
      "v28     0.062256\n",
      "v17     0.049189\n",
      "v18    -0.101903\n",
      "v32    -0.368324\n",
      "v37    -0.844212\n",
      "year         NaN\n",
      "dtype: float64\n",
      "\n",
      "Correlations for year 2016\n",
      "v38     1.000000\n",
      "v6      0.782911\n",
      "v15     0.769737\n",
      "v8      0.716108\n",
      "v30     0.710332\n",
      "v24     0.479959\n",
      "v36     0.475931\n",
      "v19     0.363266\n",
      "v9      0.360769\n",
      "v31     0.341519\n",
      "v34     0.284255\n",
      "v16     0.230993\n",
      "v12     0.201167\n",
      "v14     0.197572\n",
      "v33     0.195373\n",
      "v1      0.195349\n",
      "v10     0.191684\n",
      "v27     0.186935\n",
      "v22     0.164910\n",
      "v23     0.157447\n",
      "v11     0.157131\n",
      "v2      0.150900\n",
      "v7      0.137328\n",
      "v3      0.135729\n",
      "v25     0.122710\n",
      "v35     0.116891\n",
      "v29     0.107473\n",
      "v26     0.107338\n",
      "v20     0.101870\n",
      "v13     0.097345\n",
      "v5      0.081523\n",
      "v4      0.079042\n",
      "v21     0.071786\n",
      "v28     0.056321\n",
      "v17     0.050300\n",
      "v18    -0.105749\n",
      "v32    -0.397199\n",
      "v37    -0.839494\n",
      "year         NaN\n",
      "dtype: float64\n",
      "\n",
      "Correlations for year 2017\n",
      "v38     1.000000\n",
      "v6      0.785223\n",
      "v15     0.753402\n",
      "v30     0.717595\n",
      "v8      0.708530\n",
      "v24     0.509233\n",
      "v36     0.471995\n",
      "v19     0.367922\n",
      "v9      0.315783\n",
      "v31     0.298421\n",
      "v34     0.281878\n",
      "v33     0.244342\n",
      "v16     0.242509\n",
      "v12     0.225031\n",
      "v14     0.205073\n",
      "v27     0.202008\n",
      "v1      0.194489\n",
      "v10     0.179290\n",
      "v11     0.177576\n",
      "v22     0.153071\n",
      "v25     0.152711\n",
      "v35     0.148794\n",
      "v2      0.147134\n",
      "v7      0.142747\n",
      "v23     0.140949\n",
      "v3      0.132139\n",
      "v29     0.128126\n",
      "v13     0.124132\n",
      "v26     0.123879\n",
      "v20     0.106262\n",
      "v4      0.074210\n",
      "v21     0.072248\n",
      "v5      0.071440\n",
      "v17     0.057175\n",
      "v28     0.047406\n",
      "v18    -0.105434\n",
      "v32    -0.375528\n",
      "v37    -0.836155\n",
      "year         NaN\n",
      "dtype: float64\n",
      "\n",
      "Correlations for year 2018\n",
      "v38     1.000000\n",
      "v6      0.789756\n",
      "v15     0.769429\n",
      "v30     0.718365\n",
      "v8      0.699369\n",
      "v36     0.492738\n",
      "v24     0.467103\n",
      "v19     0.368507\n",
      "v9      0.348557\n",
      "v31     0.280135\n",
      "v34     0.271536\n",
      "v33     0.265849\n",
      "v16     0.237937\n",
      "v12     0.217165\n",
      "v14     0.210586\n",
      "v27     0.203316\n",
      "v1      0.187645\n",
      "v11     0.178929\n",
      "v10     0.174686\n",
      "v25     0.161624\n",
      "v7      0.144983\n",
      "v2      0.143409\n",
      "v13     0.142309\n",
      "v22     0.136402\n",
      "v3      0.127397\n",
      "v23     0.118910\n",
      "v29     0.112811\n",
      "v20     0.107491\n",
      "v35     0.104732\n",
      "v26     0.102637\n",
      "v4      0.078882\n",
      "v5      0.069494\n",
      "v21     0.064283\n",
      "v17     0.061971\n",
      "v28     0.041372\n",
      "v18    -0.094603\n",
      "v32    -0.363690\n",
      "v37    -0.829201\n",
      "year         NaN\n",
      "dtype: float64\n",
      "\n"
     ]
    }
   ],
   "source": [
    "years = [2015, 2016, 2017, 2018]\n",
    "\n",
    "for year in years:\n",
    "    df_year = df[df['year'] == year]\n",
    "    df_year.set_index('year')\n",
    "    print(f\"Correlations for year {year}\")\n",
    "    print(df_year.corrwith(df_year['v38']).sort_values(ascending=False))\n",
    "    print()"
   ],
   "metadata": {
    "collapsed": false,
    "pycharm": {
     "name": "#%%\n"
    }
   }
  },
  {
   "cell_type": "markdown",
   "source": [
    "Now let's calculate the difference throughout years."
   ],
   "metadata": {
    "collapsed": false,
    "pycharm": {
     "name": "#%% md\n"
    }
   }
  },
  {
   "cell_type": "code",
   "execution_count": 201,
   "outputs": [
    {
     "name": "stdout",
     "output_type": "stream",
     "text": [
      "Correlations for years 2016-2015\n",
      "v38    1.000000\n",
      "v13    0.185105\n",
      "v35    0.181689\n",
      "v34    0.173739\n",
      "v36    0.105746\n",
      "v32    0.077646\n",
      "v22    0.065608\n",
      "v33    0.059941\n",
      "v4     0.043645\n",
      "v11    0.041275\n",
      "v28    0.015145\n",
      "v8     0.012166\n",
      "v10    0.012044\n",
      "v17    0.011505\n",
      "v7     0.007601\n",
      "v21    0.005804\n",
      "v5    -0.009478\n",
      "v14   -0.012750\n",
      "v1    -0.018279\n",
      "v12   -0.025738\n",
      "v18   -0.029026\n",
      "v26   -0.038454\n",
      "v15   -0.057669\n",
      "v9    -0.083881\n",
      "v31   -0.090434\n",
      "v6    -0.101562\n",
      "v3    -0.137442\n",
      "v2    -0.145335\n",
      "v19   -0.166283\n",
      "v29   -0.169191\n",
      "v20   -0.169396\n",
      "v23   -0.191431\n",
      "v30   -0.208903\n",
      "v16   -0.239106\n",
      "v27   -0.245817\n",
      "v25   -0.249330\n",
      "v24   -0.251992\n",
      "v37   -0.360396\n",
      "dtype: float64\n",
      "\n",
      "Correlations for years 2017-2016\n",
      "v38    1.000000\n",
      "v31    0.274486\n",
      "v15    0.132628\n",
      "v22    0.114124\n",
      "v3     0.104185\n",
      "v10    0.098294\n",
      "v2     0.091578\n",
      "v19    0.075335\n",
      "v14    0.061247\n",
      "v18    0.056443\n",
      "v28    0.045600\n",
      "v5     0.042149\n",
      "v4     0.025387\n",
      "v34    0.023271\n",
      "v21    0.015360\n",
      "v7     0.014088\n",
      "v36    0.011032\n",
      "v30    0.003093\n",
      "v8    -0.011468\n",
      "v1    -0.027675\n",
      "v9    -0.036473\n",
      "v17   -0.054354\n",
      "v11   -0.059524\n",
      "v13   -0.069019\n",
      "v12   -0.070689\n",
      "v26   -0.071224\n",
      "v27   -0.094946\n",
      "v29   -0.096272\n",
      "v20   -0.115021\n",
      "v16   -0.116818\n",
      "v25   -0.131230\n",
      "v24   -0.132793\n",
      "v23   -0.147282\n",
      "v6    -0.182239\n",
      "v33   -0.209298\n",
      "v32   -0.232531\n",
      "v35   -0.332990\n",
      "v37   -0.422338\n",
      "dtype: float64\n",
      "\n",
      "Correlations for years 2018-2017\n",
      "v38    1.000000\n",
      "v35    0.380881\n",
      "v34    0.288557\n",
      "v31    0.258021\n",
      "v15    0.175043\n",
      "v22    0.088790\n",
      "v7     0.055095\n",
      "v21    0.053451\n",
      "v28    0.051431\n",
      "v19    0.048250\n",
      "v17    0.045974\n",
      "v36    0.037722\n",
      "v26    0.034080\n",
      "v4     0.031301\n",
      "v1     0.031110\n",
      "v5     0.028784\n",
      "v20    0.027389\n",
      "v18    0.020934\n",
      "v3     0.012414\n",
      "v29    0.011862\n",
      "v8    -0.005108\n",
      "v27   -0.006049\n",
      "v2    -0.008648\n",
      "v12   -0.014406\n",
      "v11   -0.025647\n",
      "v25   -0.052563\n",
      "v10   -0.061918\n",
      "v16   -0.061919\n",
      "v6    -0.094368\n",
      "v23   -0.108476\n",
      "v14   -0.112954\n",
      "v32   -0.124114\n",
      "v30   -0.168549\n",
      "v9    -0.224137\n",
      "v13   -0.247095\n",
      "v33   -0.276307\n",
      "v24   -0.326355\n",
      "v37   -0.410103\n",
      "dtype: float64\n",
      "\n"
     ]
    }
   ],
   "source": [
    "for i in range(3):\n",
    "    df_year1 = df[df['year'] == years[i]]\n",
    "    df_year2 = df[df['year'] == years[i + 1]]\n",
    "    df_diff = pd.DataFrame()\n",
    "    for v in df_year1.columns:\n",
    "        if v == 'year' or v == 'id':\n",
    "            continue\n",
    "        l2 = df_year2[v].tolist()\n",
    "        l1 = df_year1[v].tolist()\n",
    "        diff = []\n",
    "        for j in range(len(l1)):\n",
    "            diff.append(l2[j] - l1[j])\n",
    "        df_diff[v] = diff\n",
    "    print(f\"Correlations for years {years[i+1]}-{years[i]}\")\n",
    "    print(df_diff.corrwith(df_diff['v38']).sort_values(ascending=False))\n",
    "    print()"
   ],
   "metadata": {
    "collapsed": false,
    "pycharm": {
     "name": "#%%\n"
    }
   }
  },
  {
   "cell_type": "markdown",
   "source": [
    "The predictors are (from difference table):\n",
    "- v35\n",
    "- v33\n",
    "- v1\n",
    "- v12\n",
    "The predictors are (from correlation by years: highest correlation throughout the years):\n",
    "- v6\n",
    "- v30\n",
    "- v36\n",
    "The final predictors list:\n",
    "- v1\n",
    "- v6\n",
    "- v12\n",
    "- v30\n",
    "- v33\n",
    "- v35\n",
    "- v36"
   ],
   "metadata": {
    "collapsed": false,
    "pycharm": {
     "name": "#%% md\n"
    }
   }
  },
  {
   "cell_type": "markdown",
   "source": [
    "# Hypothesis"
   ],
   "metadata": {
    "collapsed": false,
    "pycharm": {
     "name": "#%% md\n"
    }
   }
  },
  {
   "cell_type": "code",
   "execution_count": 202,
   "outputs": [
    {
     "name": "stdout",
     "output_type": "stream",
     "text": [
      "1 .  There is a relationship between dependent variable (v38) and  v1  variable.\n",
      "2 .  There is a relationship between dependent variable (v38) and  v6  variable.\n",
      "3 .  There is a relationship between dependent variable (v38) and  v12  variable.\n",
      "4 .  There is a relationship between dependent variable (v38) and  v30  variable.\n",
      "5 .  There is a relationship between dependent variable (v38) and  v33  variable.\n",
      "6 .  There is a relationship between dependent variable (v38) and  v35  variable.\n",
      "7 .  There is a relationship between dependent variable (v38) and  v36  variable.\n"
     ]
    }
   ],
   "source": [
    "predictors = ['v1', 'v6', 'v12', 'v30', 'v33', 'v35', 'v36']\n",
    "for ind, val in enumerate(predictors):\n",
    "    print(ind + 1, '. ', 'There is a relationship between dependent variable (v38) and ', val, ' variable.')"
   ],
   "metadata": {
    "collapsed": false,
    "pycharm": {
     "name": "#%%\n"
    }
   }
  },
  {
   "cell_type": "markdown",
   "source": [
    "# Descriptive analysis"
   ],
   "metadata": {
    "collapsed": false,
    "pycharm": {
     "name": "#%% md\n"
    }
   }
  },
  {
   "cell_type": "code",
   "execution_count": 203,
   "outputs": [
    {
     "data": {
      "text/plain": "count    360.000000\nmean      76.016128\nstd        5.328247\nmin       57.206000\n25%       73.232500\n50%       76.304000\n75%       80.964634\nmax       84.210976\nName: v38, dtype: float64"
     },
     "execution_count": 203,
     "metadata": {},
     "output_type": "execute_result"
    }
   ],
   "source": [
    "# Variable v38\n",
    "df['v38'].describe()"
   ],
   "metadata": {
    "collapsed": false,
    "pycharm": {
     "name": "#%%\n"
    }
   }
  },
  {
   "cell_type": "code",
   "execution_count": 204,
   "outputs": [
    {
     "data": {
      "text/plain": "<AxesSubplot:>"
     },
     "execution_count": 204,
     "metadata": {},
     "output_type": "execute_result"
    },
    {
     "data": {
      "text/plain": "<Figure size 432x288 with 1 Axes>",
      "image/png": "[encoded data removed]"
     },
     "metadata": {},
     "output_type": "display_data"
    }
   ],
   "source": [
    "df['v38'].hist()"
   ],
   "metadata": {
    "collapsed": false,
    "pycharm": {
     "name": "#%%\n"
    }
   }
  },
  {
   "cell_type": "markdown",
   "source": [
    "The distribution of the dependent variable aren't normal. The majority of the values are located at the right part of the bar chart. It means, most of the countries have high life expectancy"
   ],
   "metadata": {
    "collapsed": false,
    "pycharm": {
     "name": "#%% md\n"
    }
   }
  },
  {
   "cell_type": "code",
   "execution_count": 205,
   "outputs": [
    {
     "name": "stdout",
     "output_type": "stream",
     "text": [
      "Life expecanty in 2015\n",
      "count    90.000000\n",
      "mean     75.685932\n",
      "std       5.456769\n",
      "min      57.206000\n",
      "25%      73.040000\n",
      "50%      75.998000\n",
      "75%      80.687195\n",
      "max      83.793902\n",
      "Name: v38, dtype: float64\n"
     ]
    },
    {
     "data": {
      "text/plain": "<Figure size 432x288 with 1 Axes>",
      "image/png": "[encoded data removed]"
     },
     "metadata": {},
     "output_type": "display_data"
    },
    {
     "name": "stdout",
     "output_type": "stream",
     "text": [
      "Life expecanty in 2016\n",
      "count    90.000000\n",
      "mean     75.946791\n",
      "std       5.393680\n",
      "min      58.309000\n",
      "25%      73.273000\n",
      "50%      76.215500\n",
      "75%      80.956098\n",
      "max      83.984878\n",
      "Name: v38, dtype: float64\n"
     ]
    },
    {
     "data": {
      "text/plain": "<Figure size 432x288 with 1 Axes>",
      "image/png": "[encoded data removed]"
     },
     "metadata": {},
     "output_type": "display_data"
    },
    {
     "name": "stdout",
     "output_type": "stream",
     "text": [
      "Life expecanty in 2017\n",
      "count    90.000000\n",
      "mean     76.130276\n",
      "std       5.293265\n",
      "min      59.309000\n",
      "25%      73.482750\n",
      "50%      76.421000\n",
      "75%      81.075000\n",
      "max      84.099756\n",
      "Name: v38, dtype: float64\n"
     ]
    },
    {
     "data": {
      "text/plain": "<Figure size 432x288 with 1 Axes>",
      "image/png": "[encoded data removed]"
     },
     "metadata": {},
     "output_type": "display_data"
    },
    {
     "name": "stdout",
     "output_type": "stream",
     "text": [
      "Life expecanty in 2018\n",
      "count    90.000000\n",
      "mean     76.301511\n",
      "std       5.236450\n",
      "min      60.163000\n",
      "25%      73.673000\n",
      "50%      76.606500\n",
      "75%      80.938415\n",
      "max      84.210976\n",
      "Name: v38, dtype: float64\n"
     ]
    },
    {
     "data": {
      "text/plain": "<Figure size 432x288 with 1 Axes>",
      "image/png": "[encoded data removed]"
     },
     "metadata": {},
     "output_type": "display_data"
    }
   ],
   "source": [
    "for year in years:\n",
    "    df_year = df[df['year'] == year]\n",
    "    print(f\"Life expecanty in {year}\")\n",
    "    print(df_year['v38'].describe())\n",
    "    df_year['v38'].hist()\n",
    "    plt.show()"
   ],
   "metadata": {
    "collapsed": false,
    "pycharm": {
     "name": "#%%\n"
    }
   }
  },
  {
   "cell_type": "markdown",
   "source": [
    "We can say that the trend of the variable is flexible right now. Firstly, the trend was downstream. But in the end of the period we can say that the trend is increasing. However, 4 years is really lack of data to identify the global trend of this data."
   ],
   "metadata": {
    "collapsed": false,
    "pycharm": {
     "name": "#%% md\n"
    }
   }
  },
  {
   "cell_type": "code",
   "execution_count": 206,
   "outputs": [
    {
     "data": {
      "text/plain": "<AxesSubplot:xlabel='year'>"
     },
     "execution_count": 206,
     "metadata": {},
     "output_type": "execute_result"
    },
    {
     "data": {
      "text/plain": "<Figure size 432x288 with 1 Axes>",
      "image/png": "[encoded data removed]"
     },
     "metadata": {},
     "output_type": "display_data"
    }
   ],
   "source": [
    "df.groupby('year')['v38'].mean().plot()"
   ],
   "metadata": {
    "collapsed": false,
    "pycharm": {
     "name": "#%%\n"
    }
   }
  },
  {
   "cell_type": "markdown",
   "source": [
    "Here we can see the increase in this variable."
   ],
   "metadata": {
    "collapsed": false,
    "pycharm": {
     "name": "#%% md\n"
    }
   }
  },
  {
   "cell_type": "code",
   "execution_count": 207,
   "outputs": [
    {
     "data": {
      "text/plain": "count      329.000000\nmean      1818.166288\nstd       5328.783124\nmin          0.000000\n25%          7.843989\n50%        168.773000\n75%       1226.441990\nmax      42985.299596\nName: v1, dtype: float64"
     },
     "execution_count": 207,
     "metadata": {},
     "output_type": "execute_result"
    }
   ],
   "source": [
    "# Variable v1\n",
    "df['v1'].describe()"
   ],
   "metadata": {
    "collapsed": false,
    "pycharm": {
     "name": "#%%\n"
    }
   }
  },
  {
   "cell_type": "code",
   "execution_count": 208,
   "outputs": [
    {
     "data": {
      "text/plain": "<AxesSubplot:>"
     },
     "execution_count": 208,
     "metadata": {},
     "output_type": "execute_result"
    },
    {
     "data": {
      "text/plain": "<Figure size 432x288 with 1 Axes>",
      "image/png": "[encoded data removed]"
     },
     "metadata": {},
     "output_type": "display_data"
    }
   ],
   "source": [
    "df['v1'].hist()"
   ],
   "metadata": {
    "collapsed": false,
    "pycharm": {
     "name": "#%%\n"
    }
   }
  },
  {
   "cell_type": "markdown",
   "source": [
    "The distribution isn't normal. Most of the dat are less than the average."
   ],
   "metadata": {
    "collapsed": false,
    "pycharm": {
     "name": "#%% md\n"
    }
   }
  },
  {
   "cell_type": "code",
   "execution_count": 209,
   "outputs": [
    {
     "name": "stdout",
     "output_type": "stream",
     "text": [
      "Air transport, freight in 2015\n",
      "count       82.000000\n",
      "mean      1684.715891\n",
      "std       4969.506762\n",
      "min          0.000087\n",
      "25%          8.204032\n",
      "50%        168.939000\n",
      "75%       1125.465818\n",
      "max      37866.224512\n",
      "Name: v1, dtype: float64\n"
     ]
    },
    {
     "data": {
      "text/plain": "<Figure size 432x288 with 1 Axes>",
      "image/png": "[encoded data removed]"
     },
     "metadata": {},
     "output_type": "display_data"
    },
    {
     "name": "stdout",
     "output_type": "stream",
     "text": [
      "Air transport, freight in 2016\n",
      "count       81.000000\n",
      "mean      1765.223798\n",
      "std       5154.534675\n",
      "min          0.003000\n",
      "25%          8.022034\n",
      "50%        157.239000\n",
      "75%       1142.854709\n",
      "max      38657.919041\n",
      "Name: v1, dtype: float64\n"
     ]
    },
    {
     "data": {
      "text/plain": "<Figure size 432x288 with 1 Axes>",
      "image/png": "[encoded data removed]"
     },
     "metadata": {},
     "output_type": "display_data"
    },
    {
     "name": "stdout",
     "output_type": "stream",
     "text": [
      "Air transport, freight in 2017\n",
      "count       80.000000\n",
      "mean      1939.032928\n",
      "std       5602.544073\n",
      "min          0.021650\n",
      "25%         11.731028\n",
      "50%        205.287785\n",
      "75%       1289.164780\n",
      "max      41591.551767\n",
      "Name: v1, dtype: float64\n"
     ]
    },
    {
     "data": {
      "text/plain": "<Figure size 432x288 with 1 Axes>",
      "image/png": "[encoded data removed]"
     },
     "metadata": {},
     "output_type": "display_data"
    },
    {
     "name": "stdout",
     "output_type": "stream",
     "text": [
      "Air transport, freight in 2018\n",
      "count       86.000000\n",
      "mean      1882.840044\n",
      "std       5641.280204\n",
      "min          0.000000\n",
      "25%          4.867058\n",
      "50%        166.178904\n",
      "75%       1202.809856\n",
      "max      42985.299596\n",
      "Name: v1, dtype: float64\n"
     ]
    },
    {
     "data": {
      "text/plain": "<Figure size 432x288 with 1 Axes>",
      "image/png": "[encoded data removed]"
     },
     "metadata": {},
     "output_type": "display_data"
    }
   ],
   "source": [
    "for year in years:\n",
    "    df_year = df[df['year'] == year]\n",
    "    print(f\"Air transport, freight in {year}\")\n",
    "    print(df_year['v1'].describe())\n",
    "    df_year['v1'].hist()\n",
    "    plt.show()"
   ],
   "metadata": {
    "collapsed": false,
    "pycharm": {
     "name": "#%%\n"
    }
   }
  },
  {
   "cell_type": "markdown",
   "source": [
    "There isn't any significant changes in this variable over the considered period."
   ],
   "metadata": {
    "collapsed": false,
    "pycharm": {
     "name": "#%% md\n"
    }
   }
  },
  {
   "cell_type": "code",
   "execution_count": 210,
   "outputs": [
    {
     "data": {
      "text/plain": "<AxesSubplot:xlabel='year'>"
     },
     "execution_count": 210,
     "metadata": {},
     "output_type": "execute_result"
    },
    {
     "data": {
      "text/plain": "<Figure size 432x288 with 1 Axes>",
      "image/png": "[encoded data removed]"
     },
     "metadata": {},
     "output_type": "display_data"
    }
   ],
   "source": [
    "df.groupby('year')['v1'].mean().plot()"
   ],
   "metadata": {
    "collapsed": false,
    "pycharm": {
     "name": "#%%\n"
    }
   }
  },
  {
   "cell_type": "markdown",
   "source": [
    "2015 - 2017 = increasing trend\n",
    "2017 - 2018 = decreasing trend"
   ],
   "metadata": {
    "collapsed": false,
    "pycharm": {
     "name": "#%% md\n"
    }
   }
  },
  {
   "cell_type": "code",
   "execution_count": 211,
   "outputs": [
    {
     "data": {
      "text/plain": "count    359.000000\nmean      18.890255\nstd       13.305419\nmin        0.066192\n25%        7.268780\n50%       16.667271\n75%       30.284036\nmax       46.319901\nName: v6, dtype: float64"
     },
     "execution_count": 211,
     "metadata": {},
     "output_type": "execute_result"
    }
   ],
   "source": [
    "# Variable v6\n",
    "df['v6'].describe()"
   ],
   "metadata": {
    "collapsed": false,
    "pycharm": {
     "name": "#%%\n"
    }
   }
  },
  {
   "cell_type": "code",
   "execution_count": 212,
   "outputs": [
    {
     "data": {
      "text/plain": "<AxesSubplot:>"
     },
     "execution_count": 212,
     "metadata": {},
     "output_type": "execute_result"
    },
    {
     "data": {
      "text/plain": "<Figure size 432x288 with 1 Axes>",
      "image/png": "[encoded data removed]"
     },
     "metadata": {},
     "output_type": "display_data"
    }
   ],
   "source": [
    "df['v6'].hist()"
   ],
   "metadata": {
    "collapsed": false,
    "pycharm": {
     "name": "#%%\n"
    }
   }
  },
  {
   "cell_type": "markdown",
   "source": [
    "The distribution isn't normal. Again most of the variable are less than average."
   ],
   "metadata": {
    "collapsed": false,
    "pycharm": {
     "name": "#%% md\n"
    }
   }
  },
  {
   "cell_type": "code",
   "execution_count": 213,
   "outputs": [
    {
     "name": "stdout",
     "output_type": "stream",
     "text": [
      "Fixed broadband subscriptions 2015\n",
      "count    90.000000\n",
      "mean     17.640446\n",
      "std      12.947687\n",
      "min       0.072213\n",
      "25%       5.729204\n",
      "50%      15.734519\n",
      "75%      28.503171\n",
      "max      44.602427\n",
      "Name: v6, dtype: float64\n"
     ]
    },
    {
     "data": {
      "text/plain": "<Figure size 432x288 with 1 Axes>",
      "image/png": "[encoded data removed]"
     },
     "metadata": {},
     "output_type": "display_data"
    },
    {
     "name": "stdout",
     "output_type": "stream",
     "text": [
      "Fixed broadband subscriptions 2016\n",
      "count    90.000000\n",
      "mean     18.462317\n",
      "std      13.222630\n",
      "min       0.066192\n",
      "25%       6.906075\n",
      "50%      16.482966\n",
      "75%      30.118091\n",
      "max      45.059110\n",
      "Name: v6, dtype: float64\n"
     ]
    },
    {
     "data": {
      "text/plain": "<Figure size 432x288 with 1 Axes>",
      "image/png": "[encoded data removed]"
     },
     "metadata": {},
     "output_type": "display_data"
    },
    {
     "name": "stdout",
     "output_type": "stream",
     "text": [
      "Fixed broadband subscriptions 2017\n",
      "count    90.000000\n",
      "mean     19.266180\n",
      "std      13.506428\n",
      "min       0.074850\n",
      "25%       7.547700\n",
      "50%      17.214980\n",
      "75%      30.866780\n",
      "max      46.319901\n",
      "Name: v6, dtype: float64\n"
     ]
    },
    {
     "data": {
      "text/plain": "<Figure size 432x288 with 1 Axes>",
      "image/png": "[encoded data removed]"
     },
     "metadata": {},
     "output_type": "display_data"
    },
    {
     "name": "stdout",
     "output_type": "stream",
     "text": [
      "Fixed broadband subscriptions 2018\n",
      "count    89.000000\n",
      "mean     20.206703\n",
      "std      13.625570\n",
      "min       0.075002\n",
      "25%       8.098378\n",
      "50%      19.005035\n",
      "75%      31.723403\n",
      "max      45.555421\n",
      "Name: v6, dtype: float64\n"
     ]
    },
    {
     "data": {
      "text/plain": "<Figure size 432x288 with 1 Axes>",
      "image/png": "[encoded data removed]"
     },
     "metadata": {},
     "output_type": "display_data"
    }
   ],
   "source": [
    "for year in years:\n",
    "    df_year = df[df['year'] == year]\n",
    "    print(f\"Fixed broadband subscriptions {year}\")\n",
    "    print(df_year['v6'].describe())\n",
    "    df_year['v6'].hist()\n",
    "    plt.show()"
   ],
   "metadata": {
    "collapsed": false,
    "pycharm": {
     "name": "#%%\n"
    }
   }
  },
  {
   "cell_type": "markdown",
   "source": [
    "Over the period, more and more countries has fixed broadcast subscription"
   ],
   "metadata": {
    "collapsed": false,
    "pycharm": {
     "name": "#%% md\n"
    }
   }
  },
  {
   "cell_type": "code",
   "execution_count": 214,
   "outputs": [
    {
     "data": {
      "text/plain": "<AxesSubplot:xlabel='year'>"
     },
     "execution_count": 214,
     "metadata": {},
     "output_type": "execute_result"
    },
    {
     "data": {
      "text/plain": "<Figure size 432x288 with 1 Axes>",
      "image/png": "[encoded data removed]"
     },
     "metadata": {},
     "output_type": "display_data"
    }
   ],
   "source": [
    "df.groupby('year')['v6'].mean().plot()"
   ],
   "metadata": {
    "collapsed": false,
    "pycharm": {
     "name": "#%%\n"
    }
   }
  },
  {
   "cell_type": "markdown",
   "source": [
    "There is increasing trend over the period"
   ],
   "metadata": {
    "collapsed": false,
    "pycharm": {
     "name": "#%% md\n"
    }
   }
  },
  {
   "cell_type": "code",
   "execution_count": 215,
   "outputs": [
    {
     "data": {
      "text/plain": "count    352.000000\nmean       7.662915\nstd        5.239612\nmin        1.112616\n25%        4.389048\n50%        5.868136\n75%        9.007635\nmax       28.097804\nName: v12, dtype: float64"
     },
     "execution_count": 215,
     "metadata": {},
     "output_type": "execute_result"
    }
   ],
   "source": [
    "# Variable v12\n",
    "df['v12'].describe()"
   ],
   "metadata": {
    "collapsed": false,
    "pycharm": {
     "name": "#%%\n"
    }
   }
  },
  {
   "cell_type": "code",
   "execution_count": 216,
   "outputs": [
    {
     "data": {
      "text/plain": "<AxesSubplot:>"
     },
     "execution_count": 216,
     "metadata": {},
     "output_type": "execute_result"
    },
    {
     "data": {
      "text/plain": "<Figure size 432x288 with 1 Axes>",
      "image/png": "[encoded data removed]"
     },
     "metadata": {},
     "output_type": "display_data"
    }
   ],
   "source": [
    "df['v12'].hist()"
   ],
   "metadata": {
    "collapsed": false,
    "pycharm": {
     "name": "#%%\n"
    }
   }
  },
  {
   "cell_type": "markdown",
   "source": [
    "The distribution isn't normal. Again most of the variable are less than average."
   ],
   "metadata": {
    "collapsed": false,
    "pycharm": {
     "name": "#%% md\n"
    }
   }
  },
  {
   "cell_type": "code",
   "execution_count": 217,
   "outputs": [
    {
     "name": "stdout",
     "output_type": "stream",
     "text": [
      "ICT goods imports 2015\n",
      "count    89.000000\n",
      "mean      7.800464\n",
      "std       5.327777\n",
      "min       2.218812\n",
      "25%       4.217466\n",
      "50%       5.764948\n",
      "75%       9.332875\n",
      "max      27.474704\n",
      "Name: v12, dtype: float64\n"
     ]
    },
    {
     "data": {
      "text/plain": "<Figure size 432x288 with 1 Axes>",
      "image/png": "[encoded data removed]"
     },
     "metadata": {},
     "output_type": "display_data"
    },
    {
     "name": "stdout",
     "output_type": "stream",
     "text": [
      "ICT goods imports 2016\n",
      "count    88.000000\n",
      "mean      7.816014\n",
      "std       5.266334\n",
      "min       2.244557\n",
      "25%       4.755934\n",
      "50%       6.218752\n",
      "75%       9.228722\n",
      "max      28.097804\n",
      "Name: v12, dtype: float64\n"
     ]
    },
    {
     "data": {
      "text/plain": "<Figure size 432x288 with 1 Axes>",
      "image/png": "[encoded data removed]"
     },
     "metadata": {},
     "output_type": "display_data"
    },
    {
     "name": "stdout",
     "output_type": "stream",
     "text": [
      "ICT goods imports 2017\n",
      "count    89.000000\n",
      "mean      7.516582\n",
      "std       5.241103\n",
      "min       1.172655\n",
      "25%       4.128315\n",
      "50%       5.698460\n",
      "75%       8.862665\n",
      "max      27.880224\n",
      "Name: v12, dtype: float64\n"
     ]
    },
    {
     "data": {
      "text/plain": "<Figure size 432x288 with 1 Axes>",
      "image/png": "[encoded data removed]"
     },
     "metadata": {},
     "output_type": "display_data"
    },
    {
     "name": "stdout",
     "output_type": "stream",
     "text": [
      "ICT goods imports 2018\n",
      "count    86.000000\n",
      "mean      7.515346\n",
      "std       5.202487\n",
      "min       1.112616\n",
      "25%       4.379169\n",
      "50%       5.938975\n",
      "75%       8.508615\n",
      "max      26.610577\n",
      "Name: v12, dtype: float64\n"
     ]
    },
    {
     "data": {
      "text/plain": "<Figure size 432x288 with 1 Axes>",
      "image/png": "[encoded data removed]"
     },
     "metadata": {},
     "output_type": "display_data"
    }
   ],
   "source": [
    "for year in years:\n",
    "    df_year = df[df['year'] == year]\n",
    "    print(f\"ICT goods imports {year}\")\n",
    "    print(df_year['v12'].describe())\n",
    "    df_year['v12'].hist()\n",
    "    plt.show()"
   ],
   "metadata": {
    "collapsed": false,
    "pycharm": {
     "name": "#%%\n"
    }
   }
  },
  {
   "cell_type": "markdown",
   "source": [
    "For most of the countries ICT goods imports has increasing trend."
   ],
   "metadata": {
    "collapsed": false,
    "pycharm": {
     "name": "#%% md\n"
    }
   }
  },
  {
   "cell_type": "code",
   "execution_count": 218,
   "outputs": [
    {
     "data": {
      "text/plain": "<AxesSubplot:xlabel='year'>"
     },
     "execution_count": 218,
     "metadata": {},
     "output_type": "execute_result"
    },
    {
     "data": {
      "text/plain": "<Figure size 432x288 with 1 Axes>",
      "image/png": "[encoded data removed]"
     },
     "metadata": {},
     "output_type": "display_data"
    }
   ],
   "source": [
    "df.groupby('year')['v12'].mean().plot()"
   ],
   "metadata": {
    "collapsed": false,
    "pycharm": {
     "name": "#%%\n"
    }
   }
  },
  {
   "cell_type": "markdown",
   "source": [
    "Mean trend is downstream over the period"
   ],
   "metadata": {
    "collapsed": false,
    "pycharm": {
     "name": "#%% md\n"
    }
   }
  },
  {
   "cell_type": "code",
   "execution_count": 219,
   "outputs": [
    {
     "data": {
      "text/plain": "count      360.000000\nmean     17959.664527\nstd      19551.338613\nmin        467.235432\n25%       4084.777009\n50%       9679.546200\n75%      26132.789285\nmax      87980.670685\nName: v30, dtype: float64"
     },
     "execution_count": 219,
     "metadata": {},
     "output_type": "execute_result"
    }
   ],
   "source": [
    "# Variable v30\n",
    "df['v30'].describe()"
   ],
   "metadata": {
    "collapsed": false,
    "pycharm": {
     "name": "#%%\n"
    }
   }
  },
  {
   "cell_type": "code",
   "execution_count": 220,
   "outputs": [
    {
     "data": {
      "text/plain": "<AxesSubplot:>"
     },
     "execution_count": 220,
     "metadata": {},
     "output_type": "execute_result"
    },
    {
     "data": {
      "text/plain": "<Figure size 432x288 with 1 Axes>",
      "image/png": "[encoded data removed]"
     },
     "metadata": {},
     "output_type": "display_data"
    }
   ],
   "source": [
    "df['v30'].hist()"
   ],
   "metadata": {
    "collapsed": false,
    "pycharm": {
     "name": "#%%\n"
    }
   }
  },
  {
   "cell_type": "markdown",
   "source": [
    "The same as previous variable"
   ],
   "metadata": {
    "collapsed": false,
    "pycharm": {
     "name": "#%% md\n"
    }
   }
  },
  {
   "cell_type": "code",
   "execution_count": 221,
   "outputs": [
    {
     "name": "stdout",
     "output_type": "stream",
     "text": [
      "GDP per capita 2015\n",
      "count       90.000000\n",
      "mean     17434.895996\n",
      "std      19128.161943\n",
      "min        467.235432\n",
      "25%       3963.261132\n",
      "50%       9286.730464\n",
      "75%      24543.286932\n",
      "max      84776.142166\n",
      "Name: v30, dtype: float64\n"
     ]
    },
    {
     "data": {
      "text/plain": "<Figure size 432x288 with 1 Axes>",
      "image/png": "[encoded data removed]"
     },
     "metadata": {},
     "output_type": "display_data"
    },
    {
     "name": "stdout",
     "output_type": "stream",
     "text": [
      "GDP per capita 2016\n",
      "count       90.000000\n",
      "mean     17714.037153\n",
      "std      19375.918757\n",
      "min        473.005165\n",
      "25%       4048.211776\n",
      "50%       9527.122951\n",
      "75%      25216.932217\n",
      "max      85570.396058\n",
      "Name: v30, dtype: float64\n"
     ]
    },
    {
     "data": {
      "text/plain": "<Figure size 432x288 with 1 Axes>",
      "image/png": "[encoded data removed]"
     },
     "metadata": {},
     "output_type": "display_data"
    },
    {
     "name": "stdout",
     "output_type": "stream",
     "text": [
      "GDP per capita 2017\n",
      "count       90.000000\n",
      "mean     18149.587133\n",
      "std      19790.221062\n",
      "min        478.610657\n",
      "25%       4094.881238\n",
      "50%       9904.585190\n",
      "75%      26507.632107\n",
      "max      86119.145373\n",
      "Name: v30, dtype: float64\n"
     ]
    },
    {
     "data": {
      "text/plain": "<Figure size 432x288 with 1 Axes>",
      "image/png": "[encoded data removed]"
     },
     "metadata": {},
     "output_type": "display_data"
    },
    {
     "name": "stdout",
     "output_type": "stream",
     "text": [
      "GDP per capita 2018\n",
      "count       90.000000\n",
      "mean     18540.137827\n",
      "std      20204.504603\n",
      "min        480.888893\n",
      "25%       4157.980692\n",
      "50%      10140.812711\n",
      "75%      27143.785633\n",
      "max      87980.670685\n",
      "Name: v30, dtype: float64\n"
     ]
    },
    {
     "data": {
      "text/plain": "<Figure size 432x288 with 1 Axes>",
      "image/png": "[encoded data removed]"
     },
     "metadata": {},
     "output_type": "display_data"
    }
   ],
   "source": [
    "for year in years:\n",
    "    df_year = df[df['year'] == year]\n",
    "    print(f\"GDP per capita {year}\")\n",
    "    print(df_year['v30'].describe())\n",
    "    df_year['v30'].hist()\n",
    "    plt.show()"
   ],
   "metadata": {
    "collapsed": false,
    "pycharm": {
     "name": "#%%\n"
    }
   }
  },
  {
   "cell_type": "markdown",
   "source": [
    "Increasing trend for some countries over the period"
   ],
   "metadata": {
    "collapsed": false,
    "pycharm": {
     "name": "#%% md\n"
    }
   }
  },
  {
   "cell_type": "code",
   "execution_count": 222,
   "outputs": [
    {
     "data": {
      "text/plain": "<AxesSubplot:xlabel='year'>"
     },
     "execution_count": 222,
     "metadata": {},
     "output_type": "execute_result"
    },
    {
     "data": {
      "text/plain": "<Figure size 432x288 with 1 Axes>",
      "image/png": "[encoded data removed]"
     },
     "metadata": {},
     "output_type": "display_data"
    }
   ],
   "source": [
    "df.groupby('year')['v30'].mean().plot()"
   ],
   "metadata": {
    "collapsed": false,
    "pycharm": {
     "name": "#%%\n"
    }
   }
  },
  {
   "cell_type": "markdown",
   "source": [
    "There is increasing trend of mean value."
   ],
   "metadata": {
    "collapsed": false,
    "pycharm": {
     "name": "#%% md\n"
    }
   }
  },
  {
   "cell_type": "code",
   "execution_count": 223,
   "outputs": [
    {
     "data": {
      "text/plain": "count    360.000000\nmean      16.417940\nstd        4.616302\nmin        4.926273\n25%       13.196605\n50%       16.367364\n75%       19.375953\nmax       27.228583\nName: v33, dtype: float64"
     },
     "execution_count": 223,
     "metadata": {},
     "output_type": "execute_result"
    }
   ],
   "source": [
    "# Variable v33\n",
    "df['v33'].describe()"
   ],
   "metadata": {
    "collapsed": false,
    "pycharm": {
     "name": "#%%\n"
    }
   }
  },
  {
   "cell_type": "code",
   "execution_count": 224,
   "outputs": [
    {
     "data": {
      "text/plain": "<AxesSubplot:>"
     },
     "execution_count": 224,
     "metadata": {},
     "output_type": "execute_result"
    },
    {
     "data": {
      "text/plain": "<Figure size 432x288 with 1 Axes>",
      "image/png": "[encoded data removed]"
     },
     "metadata": {},
     "output_type": "display_data"
    }
   ],
   "source": [
    "df['v33'].hist()"
   ],
   "metadata": {
    "collapsed": false,
    "pycharm": {
     "name": "#%%\n"
    }
   }
  },
  {
   "cell_type": "markdown",
   "source": [
    "The distribution isn't normal, but most of the variable are close to the average variable."
   ],
   "metadata": {
    "collapsed": false,
    "pycharm": {
     "name": "#%% md\n"
    }
   }
  },
  {
   "cell_type": "code",
   "execution_count": 225,
   "outputs": [
    {
     "name": "stdout",
     "output_type": "stream",
     "text": [
      "General government final consumption expenditure 2015\n",
      "count    90.000000\n",
      "mean     16.563308\n",
      "std       4.688964\n",
      "min       5.397980\n",
      "25%      13.237919\n",
      "50%      17.024148\n",
      "75%      19.458727\n",
      "max      27.228583\n",
      "Name: v33, dtype: float64\n"
     ]
    },
    {
     "data": {
      "text/plain": "<Figure size 432x288 with 1 Axes>",
      "image/png": "[encoded data removed]"
     },
     "metadata": {},
     "output_type": "display_data"
    },
    {
     "name": "stdout",
     "output_type": "stream",
     "text": [
      "General government final consumption expenditure 2016\n",
      "count    90.000000\n",
      "mean     16.623462\n",
      "std       4.677481\n",
      "min       5.209980\n",
      "25%      13.794848\n",
      "50%      16.536217\n",
      "75%      19.565566\n",
      "max      26.987349\n",
      "Name: v33, dtype: float64\n"
     ]
    },
    {
     "data": {
      "text/plain": "<Figure size 432x288 with 1 Axes>",
      "image/png": "[encoded data removed]"
     },
     "metadata": {},
     "output_type": "display_data"
    },
    {
     "name": "stdout",
     "output_type": "stream",
     "text": [
      "General government final consumption expenditure 2017\n",
      "count    90.000000\n",
      "mean     16.310256\n",
      "std       4.581287\n",
      "min       5.123498\n",
      "25%      13.254901\n",
      "50%      16.298547\n",
      "75%      19.186939\n",
      "max      26.022412\n",
      "Name: v33, dtype: float64\n"
     ]
    },
    {
     "data": {
      "text/plain": "<Figure size 432x288 with 1 Axes>",
      "image/png": "[encoded data removed]"
     },
     "metadata": {},
     "output_type": "display_data"
    },
    {
     "name": "stdout",
     "output_type": "stream",
     "text": [
      "General government final consumption expenditure 2018\n",
      "count    90.000000\n",
      "mean     16.174733\n",
      "std       4.579332\n",
      "min       4.926273\n",
      "25%      12.801188\n",
      "50%      16.331279\n",
      "75%      19.361673\n",
      "max      26.059388\n",
      "Name: v33, dtype: float64\n"
     ]
    },
    {
     "data": {
      "text/plain": "<Figure size 432x288 with 1 Axes>",
      "image/png": "[encoded data removed]"
     },
     "metadata": {},
     "output_type": "display_data"
    }
   ],
   "source": [
    "for year in years:\n",
    "    df_year = df[df['year'] == year]\n",
    "    print(f\"General government final consumption expenditure {year}\")\n",
    "    print(df_year['v33'].describe())\n",
    "    df_year['v33'].hist()\n",
    "    plt.show()"
   ],
   "metadata": {
    "collapsed": false,
    "pycharm": {
     "name": "#%%\n"
    }
   }
  },
  {
   "cell_type": "markdown",
   "source": [
    "Variable demonstrates decreasing trend (some countries decrease governmental final consumption expenditure)."
   ],
   "metadata": {
    "collapsed": false,
    "pycharm": {
     "name": "#%% md\n"
    }
   }
  },
  {
   "cell_type": "code",
   "execution_count": 226,
   "outputs": [
    {
     "data": {
      "text/plain": "<AxesSubplot:xlabel='year'>"
     },
     "execution_count": 226,
     "metadata": {},
     "output_type": "execute_result"
    },
    {
     "data": {
      "text/plain": "<Figure size 432x288 with 1 Axes>",
      "image/png": "[encoded data removed]"
     },
     "metadata": {},
     "output_type": "display_data"
    }
   ],
   "source": [
    "df.groupby('year')['v33'].mean().plot()"
   ],
   "metadata": {
    "collapsed": false,
    "pycharm": {
     "name": "#%%\n"
    }
   }
  },
  {
   "cell_type": "markdown",
   "source": [
    "The mean value has decreasing trend."
   ],
   "metadata": {
    "collapsed": false,
    "pycharm": {
     "name": "#%% md\n"
    }
   }
  },
  {
   "cell_type": "code",
   "execution_count": 227,
   "outputs": [
    {
     "data": {
      "text/plain": "count    360.000000\nmean      45.566729\nstd       24.469239\nmin        0.683885\n25%       28.448951\n50%       42.082358\n75%       57.216309\nmax      151.086790\nName: v35, dtype: float64"
     },
     "execution_count": 227,
     "metadata": {},
     "output_type": "execute_result"
    }
   ],
   "source": [
    "# Variable v35\n",
    "df['v35'].describe()"
   ],
   "metadata": {
    "collapsed": false,
    "pycharm": {
     "name": "#%%\n"
    }
   }
  },
  {
   "cell_type": "code",
   "execution_count": 228,
   "outputs": [
    {
     "data": {
      "text/plain": "<AxesSubplot:>"
     },
     "execution_count": 228,
     "metadata": {},
     "output_type": "execute_result"
    },
    {
     "data": {
      "text/plain": "<Figure size 432x288 with 1 Axes>",
      "image/png": "[encoded data removed]"
     },
     "metadata": {},
     "output_type": "display_data"
    }
   ],
   "source": [
    "df['v35'].hist()"
   ],
   "metadata": {
    "collapsed": false,
    "pycharm": {
     "name": "#%%\n"
    }
   }
  },
  {
   "cell_type": "markdown",
   "source": [
    "The distribution is close to normal. The trend shows us that the most of the countries have smaller imports of goods than other countries have."
   ],
   "metadata": {
    "collapsed": false,
    "pycharm": {
     "name": "#%% md\n"
    }
   }
  },
  {
   "cell_type": "code",
   "execution_count": 229,
   "outputs": [
    {
     "name": "stdout",
     "output_type": "stream",
     "text": [
      "Imports of goods and services 2015\n",
      "count     90.000000\n",
      "mean      45.179270\n",
      "std       24.915903\n",
      "min        0.770629\n",
      "25%       28.443545\n",
      "50%       42.082358\n",
      "75%       57.786851\n",
      "max      151.086790\n",
      "Name: v35, dtype: float64\n"
     ]
    },
    {
     "data": {
      "text/plain": "<Figure size 432x288 with 1 Axes>",
      "image/png": "[encoded data removed]"
     },
     "metadata": {},
     "output_type": "display_data"
    },
    {
     "name": "stdout",
     "output_type": "stream",
     "text": [
      "Imports of goods and services 2016\n",
      "count     90.000000\n",
      "mean      44.453343\n",
      "std       24.498965\n",
      "min        0.742996\n",
      "25%       27.683736\n",
      "50%       41.196121\n",
      "75%       55.851558\n",
      "max      139.160195\n",
      "Name: v35, dtype: float64\n"
     ]
    },
    {
     "data": {
      "text/plain": "<Figure size 432x288 with 1 Axes>",
      "image/png": "[encoded data removed]"
     },
     "metadata": {},
     "output_type": "display_data"
    },
    {
     "name": "stdout",
     "output_type": "stream",
     "text": [
      "Imports of goods and services 2017\n",
      "count     90.000000\n",
      "mean      45.565645\n",
      "std       24.438553\n",
      "min        0.798023\n",
      "25%       27.648391\n",
      "50%       41.784663\n",
      "75%       56.983699\n",
      "max      144.650107\n",
      "Name: v35, dtype: float64\n"
     ]
    },
    {
     "data": {
      "text/plain": "<Figure size 432x288 with 1 Axes>",
      "image/png": "[encoded data removed]"
     },
     "metadata": {},
     "output_type": "display_data"
    },
    {
     "name": "stdout",
     "output_type": "stream",
     "text": [
      "Imports of goods and services 2018\n",
      "count     90.000000\n",
      "mean      47.068657\n",
      "std       24.356234\n",
      "min        0.683885\n",
      "25%       29.214606\n",
      "50%       43.381400\n",
      "75%       58.950174\n",
      "max      148.280943\n",
      "Name: v35, dtype: float64\n"
     ]
    },
    {
     "data": {
      "text/plain": "<Figure size 432x288 with 1 Axes>",
      "image/png": "[encoded data removed]"
     },
     "metadata": {},
     "output_type": "display_data"
    }
   ],
   "source": [
    "for year in years:\n",
    "    df_year = df[df['year'] == year]\n",
    "    print(f\"Imports of goods and services {year}\")\n",
    "    print(df_year['v35'].describe())\n",
    "    df_year['v35'].hist()\n",
    "    plt.show()"
   ],
   "metadata": {
    "collapsed": false,
    "pycharm": {
     "name": "#%%\n"
    }
   }
  },
  {
   "cell_type": "markdown",
   "source": [
    "Bar charts shows us the trend that more and more countries become spend more on the imports of goods and services."
   ],
   "metadata": {
    "collapsed": false,
    "pycharm": {
     "name": "#%% md\n"
    }
   }
  },
  {
   "cell_type": "code",
   "execution_count": 230,
   "outputs": [
    {
     "data": {
      "text/plain": "<AxesSubplot:xlabel='year'>"
     },
     "execution_count": 230,
     "metadata": {},
     "output_type": "execute_result"
    },
    {
     "data": {
      "text/plain": "<Figure size 432x288 with 1 Axes>",
      "image/png": "[encoded data removed]"
     },
     "metadata": {},
     "output_type": "display_data"
    }
   ],
   "source": [
    "df.groupby('year')['v35'].mean().plot()"
   ],
   "metadata": {
    "collapsed": false,
    "pycharm": {
     "name": "#%%\n"
    }
   }
  },
  {
   "cell_type": "markdown",
   "source": [
    "The mean value firstly decrease then increase over the period."
   ],
   "metadata": {
    "collapsed": false,
    "pycharm": {
     "name": "#%% md\n"
    }
   }
  },
  {
   "cell_type": "code",
   "execution_count": 231,
   "outputs": [
    {
     "data": {
      "text/plain": "count    360.000000\nmean       7.055710\nstd        2.491219\nmin        2.431802\n25%        5.163637\n50%        6.884151\n75%        8.892331\nmax       16.844324\nName: v36, dtype: float64"
     },
     "execution_count": 231,
     "metadata": {},
     "output_type": "execute_result"
    }
   ],
   "source": [
    "# Variable v36\n",
    "df['v36'].describe()"
   ],
   "metadata": {
    "collapsed": false,
    "pycharm": {
     "name": "#%%\n"
    }
   }
  },
  {
   "cell_type": "code",
   "execution_count": 232,
   "outputs": [
    {
     "data": {
      "text/plain": "<AxesSubplot:>"
     },
     "execution_count": 232,
     "metadata": {},
     "output_type": "execute_result"
    },
    {
     "data": {
      "text/plain": "<Figure size 432x288 with 1 Axes>",
      "image/png": "[encoded data removed]"
     },
     "metadata": {},
     "output_type": "display_data"
    }
   ],
   "source": [
    "df['v36'].hist()"
   ],
   "metadata": {
    "collapsed": false,
    "pycharm": {
     "name": "#%%\n"
    }
   }
  },
  {
   "cell_type": "markdown",
   "source": [
    "The distribution is close to normal. Most of the values are close to the mean value."
   ],
   "metadata": {
    "collapsed": false,
    "pycharm": {
     "name": "#%% md\n"
    }
   }
  },
  {
   "cell_type": "code",
   "execution_count": 233,
   "outputs": [
    {
     "name": "stdout",
     "output_type": "stream",
     "text": [
      "Current health expenditure 2015\n",
      "count    90.000000\n",
      "mean      7.093815\n",
      "std       2.488884\n",
      "min       2.639473\n",
      "25%       5.007076\n",
      "50%       6.918993\n",
      "75%       8.887419\n",
      "max      16.524073\n",
      "Name: v36, dtype: float64\n"
     ]
    },
    {
     "data": {
      "text/plain": "<Figure size 432x288 with 1 Axes>",
      "image/png": "[encoded data removed]"
     },
     "metadata": {},
     "output_type": "display_data"
    },
    {
     "name": "stdout",
     "output_type": "stream",
     "text": [
      "Current health expenditure 2016\n",
      "count    90.000000\n",
      "mean      7.082993\n",
      "std       2.479129\n",
      "min       2.472912\n",
      "25%       5.244133\n",
      "50%       7.050951\n",
      "75%       8.913129\n",
      "max      16.844324\n",
      "Name: v36, dtype: float64\n"
     ]
    },
    {
     "data": {
      "text/plain": "<Figure size 432x288 with 1 Axes>",
      "image/png": "[encoded data removed]"
     },
     "metadata": {},
     "output_type": "display_data"
    },
    {
     "name": "stdout",
     "output_type": "stream",
     "text": [
      "Current health expenditure 2017\n",
      "count    90.000000\n",
      "mean      7.035994\n",
      "std       2.517760\n",
      "min       2.431802\n",
      "25%       5.171793\n",
      "50%       6.878704\n",
      "75%       8.852641\n",
      "max      16.805836\n",
      "Name: v36, dtype: float64\n"
     ]
    },
    {
     "data": {
      "text/plain": "<Figure size 432x288 with 1 Axes>",
      "image/png": "[encoded data removed]"
     },
     "metadata": {},
     "output_type": "display_data"
    },
    {
     "name": "stdout",
     "output_type": "stream",
     "text": [
      "Current health expenditure 2018\n",
      "count    90.000000\n",
      "mean      7.010038\n",
      "std       2.519805\n",
      "min       2.508030\n",
      "25%       5.206201\n",
      "50%       6.802648\n",
      "75%       8.846424\n",
      "max      16.687105\n",
      "Name: v36, dtype: float64\n"
     ]
    },
    {
     "data": {
      "text/plain": "<Figure size 432x288 with 1 Axes>",
      "image/png": "[encoded data removed]"
     },
     "metadata": {},
     "output_type": "display_data"
    }
   ],
   "source": [
    "for year in years:\n",
    "    df_year = df[df['year'] == year]\n",
    "    print(f\"Current health expenditure {year}\")\n",
    "    print(df_year['v36'].describe())\n",
    "    df_year['v36'].hist()\n",
    "    plt.show()"
   ],
   "metadata": {
    "collapsed": false,
    "pycharm": {
     "name": "#%%\n"
    }
   }
  },
  {
   "cell_type": "markdown",
   "source": [
    "There is decreasing trend of spending on the healthcare."
   ],
   "metadata": {
    "collapsed": false,
    "pycharm": {
     "name": "#%% md\n"
    }
   }
  },
  {
   "cell_type": "code",
   "execution_count": 234,
   "outputs": [
    {
     "data": {
      "text/plain": "<AxesSubplot:xlabel='year'>"
     },
     "execution_count": 234,
     "metadata": {},
     "output_type": "execute_result"
    },
    {
     "data": {
      "text/plain": "<Figure size 432x288 with 1 Axes>",
      "image/png": "[encoded data removed]"
     },
     "metadata": {},
     "output_type": "display_data"
    }
   ],
   "source": [
    "df.groupby('year')['v36'].mean().plot()"
   ],
   "metadata": {
    "collapsed": false,
    "pycharm": {
     "name": "#%%\n"
    }
   }
  },
  {
   "cell_type": "markdown",
   "source": [
    "The mean value demonstrates decreasing trend of the variable."
   ],
   "metadata": {
    "collapsed": false,
    "pycharm": {
     "name": "#%% md\n"
    }
   }
  },
  {
   "cell_type": "markdown",
   "source": [
    "# Models"
   ],
   "metadata": {
    "collapsed": false,
    "pycharm": {
     "name": "#%% md\n"
    }
   }
  },
  {
   "cell_type": "code",
   "execution_count": 235,
   "outputs": [
    {
     "name": "stdout",
     "output_type": "stream",
     "text": [
      "                          PooledOLS Estimation Summary                          \n",
      "================================================================================\n",
      "Dep. Variable:                    v38   R-squared:                        0.6838\n",
      "Estimator:                  PooledOLS   R-squared (Between):              0.6707\n",
      "No. Observations:                 320   R-squared (Within):              -0.5671\n",
      "Date:                Fri, May 20 2022   R-squared (Overall):              0.6838\n",
      "Time:                        16:44:41   Log-likelihood                   -814.02\n",
      "Cov. Estimator:            Unadjusted                                           \n",
      "                                        F-statistic:                      96.384\n",
      "Entities:                          90   P-value                           0.0000\n",
      "Avg Obs:                       3.5556   Distribution:                   F(7,312)\n",
      "Min Obs:                       0.0000                                           \n",
      "Max Obs:                       4.0000   F-statistic (robust):             96.384\n",
      "                                        P-value                           0.0000\n",
      "Time periods:                       4   Distribution:                   F(7,312)\n",
      "Avg Obs:                       80.000                                           \n",
      "Min Obs:                       79.000                                           \n",
      "Max Obs:                       81.000                                           \n",
      "                                                                                \n",
      "                             Parameter Estimates                              \n",
      "==============================================================================\n",
      "            Parameter  Std. Err.     T-stat    P-value    Lower CI    Upper CI\n",
      "------------------------------------------------------------------------------\n",
      "const          70.825     0.9668     73.258     0.0000      68.922      72.727\n",
      "v1            -0.0002  4.319e-05    -4.5880     0.0000     -0.0003     -0.0001\n",
      "v6             0.2642     0.0224     11.783     0.0000      0.2201      0.3084\n",
      "v12            0.1920     0.0400     4.7939     0.0000      0.1132      0.2707\n",
      "v30         7.758e-05  1.571e-05     4.9384     0.0000   4.667e-05      0.0001\n",
      "v33           -0.1339     0.0481    -2.7848     0.0057     -0.2285     -0.0393\n",
      "v35           -0.0238     0.0079    -3.0307     0.0026     -0.0393     -0.0083\n",
      "v36            0.1402     0.1099     1.2760     0.2029     -0.0760      0.3564\n",
      "==============================================================================\n"
     ]
    },
    {
     "name": "stderr",
     "output_type": "stream",
     "text": [
      "/Users/zhdanov.vdm/opt/anaconda3/lib/python3.9/site-packages/statsmodels/tsa/tsatools.py:142: FutureWarning: In a future version of pandas all arguments of concat except for the argument 'objs' will be keyword-only\n",
      "  x = pd.concat(x[::order], 1)\n"
     ]
    }
   ],
   "source": [
    "# Pooled model\n",
    "all = ['v1', 'v6', 'v12', 'v30', 'v33', 'v35', 'v36', 'v38']\n",
    "pred = ['v1', 'v6', 'v12', 'v30', 'v33', 'v35', 'v36']\n",
    "df_cleared_all = df_ind[all].dropna()\n",
    "df_pred = df_cleared_all[pred]\n",
    "\n",
    "_pred = sm.add_constant(df_pred)\n",
    "mod = PooledOLS(df_cleared_all['v38'], _pred)\n",
    "pooled_res = mod.fit()\n",
    "print(pooled_res)"
   ],
   "metadata": {
    "collapsed": false,
    "pycharm": {
     "name": "#%%\n"
    }
   }
  },
  {
   "cell_type": "code",
   "execution_count": 236,
   "outputs": [
    {
     "name": "stdout",
     "output_type": "stream",
     "text": [
      "                          PanelOLS Estimation Summary                           \n",
      "================================================================================\n",
      "Dep. Variable:                    v38   R-squared:                        0.3540\n",
      "Estimator:                   PanelOLS   R-squared (Between):              0.4109\n",
      "No. Observations:                 320   R-squared (Within):               0.3540\n",
      "Date:                Fri, May 20 2022   R-squared (Overall):              0.4158\n",
      "Time:                        16:44:41   Log-likelihood                    18.645\n",
      "Cov. Estimator:            Unadjusted                                           \n",
      "                                        F-statistic:                      17.774\n",
      "Entities:                          90   P-value                           0.0000\n",
      "Avg Obs:                       3.5556   Distribution:                   F(7,227)\n",
      "Min Obs:                       0.0000                                           \n",
      "Max Obs:                       4.0000   F-statistic (robust):             17.774\n",
      "                                        P-value                           0.0000\n",
      "Time periods:                       4   Distribution:                   F(7,227)\n",
      "Avg Obs:                       80.000                                           \n",
      "Min Obs:                       79.000                                           \n",
      "Max Obs:                       81.000                                           \n",
      "                                                                                \n",
      "                             Parameter Estimates                              \n",
      "==============================================================================\n",
      "            Parameter  Std. Err.     T-stat    P-value    Lower CI    Upper CI\n",
      "------------------------------------------------------------------------------\n",
      "const          75.947     0.7770     97.749     0.0000      74.416      77.478\n",
      "v1          3.383e-05  4.104e-05     0.8244     0.4106  -4.703e-05      0.0001\n",
      "v6             0.0634     0.0141     4.4829     0.0000      0.0355      0.0913\n",
      "v12           -0.0253     0.0243    -1.0431     0.2980     -0.0732      0.0225\n",
      "v30         7.736e-05  2.273e-05     3.4036     0.0008   3.257e-05      0.0001\n",
      "v33           -0.1414     0.0252    -5.6014     0.0000     -0.1911     -0.0916\n",
      "v35            0.0073     0.0056     1.2924     0.1975     -0.0038      0.0183\n",
      "v36           -0.0706     0.0583    -1.2117     0.2269     -0.1854      0.0442\n",
      "==============================================================================\n",
      "\n",
      "F-test for Poolability: 483.45\n",
      "P-value: 0.0000\n",
      "Distribution: F(85,227)\n",
      "\n",
      "Included effects: Entity\n"
     ]
    }
   ],
   "source": [
    "# Fixed effect model\n",
    "mod = PanelOLS(df_cleared_all['v38'], _pred, entity_effects=True)\n",
    "fe_res = mod.fit()\n",
    "print(fe_res)"
   ],
   "metadata": {
    "collapsed": false,
    "pycharm": {
     "name": "#%%\n"
    }
   }
  },
  {
   "cell_type": "code",
   "execution_count": 237,
   "outputs": [
    {
     "name": "stdout",
     "output_type": "stream",
     "text": [
      "                        RandomEffects Estimation Summary                        \n",
      "================================================================================\n",
      "Dep. Variable:                    v38   R-squared:                        0.7456\n",
      "Estimator:              RandomEffects   R-squared (Between):              0.5482\n",
      "No. Observations:                 320   R-squared (Within):               0.3232\n",
      "Date:                Fri, May 20 2022   R-squared (Overall):              0.5538\n",
      "Time:                        16:44:41   Log-likelihood                   -48.466\n",
      "Cov. Estimator:            Unadjusted                                           \n",
      "                                        F-statistic:                      130.64\n",
      "Entities:                          90   P-value                           0.0000\n",
      "Avg Obs:                       3.5556   Distribution:                   F(7,312)\n",
      "Min Obs:                       0.0000                                           \n",
      "Max Obs:                       4.0000   F-statistic (robust):             31.494\n",
      "                                        P-value                           0.0000\n",
      "Time periods:                       4   Distribution:                   F(7,312)\n",
      "Avg Obs:                       80.000                                           \n",
      "Min Obs:                       79.000                                           \n",
      "Max Obs:                       81.000                                           \n",
      "                                                                                \n",
      "                             Parameter Estimates                              \n",
      "==============================================================================\n",
      "            Parameter  Std. Err.     T-stat    P-value    Lower CI    Upper CI\n",
      "------------------------------------------------------------------------------\n",
      "const          74.074     0.7507     98.679     0.0000      72.597      75.551\n",
      "v1          -4.93e-06  3.722e-05    -0.1325     0.8947  -7.816e-05    6.83e-05\n",
      "v6             0.0822     0.0140     5.8793     0.0000      0.0547      0.1097\n",
      "v12           -0.0005     0.0236    -0.0220     0.9825     -0.0470      0.0460\n",
      "v30            0.0001  1.698e-05     7.4068     0.0000   9.234e-05      0.0002\n",
      "v33           -0.1212     0.0252    -4.8047     0.0000     -0.1708     -0.0716\n",
      "v35            0.0057     0.0055     1.0355     0.3012     -0.0051      0.0165\n",
      "v36           -0.0187     0.0576    -0.3255     0.7450     -0.1321      0.0946\n",
      "==============================================================================\n"
     ]
    }
   ],
   "source": [
    "# Random effect model\n",
    "mod = RandomEffects(df_cleared_all['v38'], _pred)\n",
    "re_res = mod.fit()\n",
    "print(re_res)"
   ],
   "metadata": {
    "collapsed": false,
    "pycharm": {
     "name": "#%%\n"
    }
   }
  },
  {
   "cell_type": "markdown",
   "source": [
    "# Choose of the model"
   ],
   "metadata": {
    "collapsed": false,
    "pycharm": {
     "name": "#%% md\n"
    }
   }
  },
  {
   "cell_type": "markdown",
   "source": [
    "## Random effect and Pooled model\n",
    "\n",
    "H0: there are no individual effects\n",
    "\n",
    "p-value: >0.05 of accept"
   ],
   "metadata": {
    "collapsed": false,
    "pycharm": {
     "name": "#%% md\n"
    }
   }
  },
  {
   "cell_type": "code",
   "execution_count": 238,
   "outputs": [
    {
     "name": "stdout",
     "output_type": "stream",
     "text": [
      "P-value: 1.1258193527197328e-29\n"
     ]
    }
   ],
   "source": [
    "residuals_pooled_OLS = pooled_res.resids\n",
    "pooled_OLS_dataset = pd.concat([df_cleared_all, residuals_pooled_OLS], axis=1)\n",
    "breusch_pagan_test_results = het_breuschpagan(pooled_OLS_dataset['residual'], _pred)\n",
    "print('P-value:', breusch_pagan_test_results[3])"
   ],
   "metadata": {
    "collapsed": false,
    "pycharm": {
     "name": "#%%\n"
    }
   }
  },
  {
   "cell_type": "markdown",
   "source": [
    "p-value < 0.05 => H0 is rejected.\n",
    "It means, we should choose a model with effects (fixed or random)"
   ],
   "metadata": {
    "collapsed": false,
    "pycharm": {
     "name": "#%% md\n"
    }
   }
  },
  {
   "cell_type": "markdown",
   "source": [
    "## Random effect and fixed effect\n",
    "\n",
    "H0: individual effects are not correlated (they are random)\n",
    "\n",
    "p-value: >0.05 of accept"
   ],
   "metadata": {
    "collapsed": false,
    "pycharm": {
     "name": "#%% md\n"
    }
   }
  },
  {
   "cell_type": "code",
   "execution_count": 239,
   "outputs": [
    {
     "name": "stdout",
     "output_type": "stream",
     "text": [
      "p-value: 0.001628894304004751\n"
     ]
    }
   ],
   "source": [
    "def hausman(fe, re):\n",
    "    b = fe.params\n",
    "    B = re.params\n",
    "    v_b = fe.cov\n",
    "    v_B = re.cov\n",
    "    df = b[np.abs(b) < 1e8].size\n",
    "    chi2 = np.dot((b - B).T, la.inv(v_b - v_B).dot(b - B))\n",
    "    pval = stats.chi2.sf(chi2, df)\n",
    "    return chi2, df, pval\n",
    "\n",
    "hausman_results = hausman(fe_res, re_res)\n",
    "print('p-value: ' + str(hausman_results[2]))"
   ],
   "metadata": {
    "collapsed": false,
    "pycharm": {
     "name": "#%%\n"
    }
   }
  },
  {
   "cell_type": "markdown",
   "source": [
    "p-value < 0.05 => H0 is rejected.\n",
    "We should choose the fixed-effects model (FINAL CHOICE)"
   ],
   "metadata": {
    "collapsed": false,
    "pycharm": {
     "name": "#%% md\n"
    }
   }
  },
  {
   "cell_type": "markdown",
   "source": [
    "# Description of the final model\n",
    "\n",
    "- p-value = 0 -> the model is statistically significant\n",
    "- R-squared = 0.354 => the model explains 35.4% of the variance\n",
    "- R-squared (within) = 0.354 => only 35.4% of variations in the dependent variable within units of analysis is captured by the model.\n",
    "- R-squared (between) = 0.41 => only 41% of variations in the dependent variable between units of analysis is captured by the model."
   ],
   "metadata": {
    "collapsed": false,
    "pycharm": {
     "name": "#%% md\n"
    }
   }
  },
  {
   "cell_type": "code",
   "execution_count": 240,
   "outputs": [
    {
     "name": "stdout",
     "output_type": "stream",
     "text": [
      "Y = 75.947100 + 0.0000338*v1 + 0.0634062*v6 + -0.0253454*v12 + 0.0000774*v30 + -0.1413677*v33 + 0.0072655*v35 + -0.0706060*v36\n"
     ]
    }
   ],
   "source": [
    "l = []\n",
    "for (param, index) in zip(fe_res.params[1:], fe_res.params.index[1:]):\n",
    "    l.append('{:.7f}*{}'.format(param, index))\n",
    "\n",
    "print('Y = {:7f} + {}'.format(fe_res.params[0], ' + '.join(l)))"
   ],
   "metadata": {
    "collapsed": false,
    "pycharm": {
     "name": "#%%\n"
    }
   }
  },
  {
   "cell_type": "code",
   "execution_count": 241,
   "outputs": [
    {
     "data": {
      "text/plain": "\"Statistically significant model parameters: ['const' 'v6' 'v30' 'v33']\""
     },
     "execution_count": 241,
     "metadata": {},
     "output_type": "execute_result"
    }
   ],
   "source": [
    "f'Statistically significant model parameters: {fe_res.pvalues[fe_res.pvalues < 0.05].index.values}'"
   ],
   "metadata": {
    "collapsed": false,
    "pycharm": {
     "name": "#%%\n"
    }
   }
  },
  {
   "cell_type": "code",
   "execution_count": 242,
   "outputs": [
    {
     "data": {
      "text/plain": "\"Statistically nonsignificant model parameters: ['v1' 'v12' 'v35' 'v36']\""
     },
     "execution_count": 242,
     "metadata": {},
     "output_type": "execute_result"
    }
   ],
   "source": [
    "f'Statistically nonsignificant model parameters: {fe_res.pvalues[fe_res.pvalues > 0.05].index.values}'"
   ],
   "metadata": {
    "collapsed": false,
    "pycharm": {
     "name": "#%%\n"
    }
   }
  },
  {
   "cell_type": "markdown",
   "source": [
    "# Relationship between predictors"
   ],
   "metadata": {
    "collapsed": false,
    "pycharm": {
     "name": "#%% md\n"
    }
   }
  },
  {
   "cell_type": "markdown",
   "source": [
    "There are 3 statistically-significant predictors:\n",
    "- Fixed broadband subscriptions\n",
    "- GDP per capita\n",
    "- General government final consumption expenditure"
   ],
   "metadata": {
    "collapsed": false,
    "pycharm": {
     "name": "#%% md\n"
    }
   }
  },
  {
   "cell_type": "markdown",
   "source": [
    "Each relationship:\n",
    "- There is a relationship between ew SMEs created by entrepreneurs under 30 years old and Number of individuals under the age of 30 who have completed training in educational programs aimed at acquiring business skills and creating SMEs. Each increase by one leads to increase in 0.06 years in life expectancy.\n",
    "- There is a relationship between life expactancy over time and the GDP per capita. Each increase in 1$ in GDP per capita leads to increase in 0,000007 year in life expectancy.\n",
    "- There is a relationship between life expactancy over time and the general government final consumption expenditure. Each increase in one unit in general government final consumption expenditure leads to 0,14 years decrease in life expectancy.\n",
    "\n",
    "Others are not statistically significant."
   ],
   "metadata": {
    "collapsed": false,
    "pycharm": {
     "name": "#%% md\n"
    }
   }
  },
  {
   "cell_type": "markdown",
   "source": [
    "# Final conclusions"
   ],
   "metadata": {
    "collapsed": false,
    "pycharm": {
     "name": "#%% md\n"
    }
   }
  },
  {
   "cell_type": "markdown",
   "source": [
    "The accepted hypothesis:\n",
    "- There is a relationship between life expactancy over time and the number of fixed broadband subscriptions refers to fixed subscriptions to high-speed access to the public Internet per 100 people.\n",
    "- There is a relationship between life expactancy over time and GDP per capita.\n",
    "- There is a relationship between life expactancy over time and the share of general government final consumption expenditure in GDP.\n",
    "\n",
    "The rejected hypothesis:\n",
    "- There is a relationship between life expactancy over time and the volume of freight, express, and diplomatic bags carried on each flight stage.\n",
    "- There is a relationship between life expactancy over time and the share of information and communication technology goods imports of total import.\n",
    "- There is a relationship between life expactancy over time and the share of imports of goods and services of GDP.\n",
    "- There is a relationship between life expactancy over time and the level of current health expenditure in percents of GDP.\n",
    "\n",
    "In the result of the analysis:\n",
    "- We have managed to extract several indicators which have influence on the life expectancy: Fixed broadband subscriptions, GPD per capita and General government final consumption expenditure.\n",
    "- The built model is statistically significant, however it explains less than 50% variance, which is not good.\n",
    "- There are individual fixed effects which influence the life expectancy over time in different. This effects may not be chosen as the predictors or may not included in the datasets."
   ],
   "metadata": {
    "collapsed": false,
    "pycharm": {
     "name": "#%% md\n"
    }
   }
  }
 ],
 "metadata": {
  "kernelspec": {
   "display_name": "Python 3",
   "language": "python",
   "name": "python3"
  },
  "language_info": {
   "codemirror_mode": {
    "name": "ipython",
    "version": 2
   },
   "file_extension": ".py",
   "mimetype": "text/x-python",
   "name": "python",
   "nbconvert_exporter": "python",
   "pygments_lexer": "ipython2",
   "version": "2.7.6"
  }
 },
 "nbformat": 4,
 "nbformat_minor": 0
}