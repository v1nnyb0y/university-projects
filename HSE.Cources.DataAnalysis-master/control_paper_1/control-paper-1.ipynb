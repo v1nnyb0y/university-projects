{
 "nbformat": 4,
 "nbformat_minor": 0,
 "metadata": {
  "colab": {
   "name": "Control.Work.ipynb",
   "provenance": [],
   "collapsed_sections": [
    "zX_D3Coj25Cx",
    "mAFs7cV_4ztH",
    "3B-qZNMBCE9e",
    "WeqUE6o4I3aG",
    "YvsWax2rFEUr",
    "PwDTP5xrHfgk",
    "xz7H6JOOH2JC",
    "7lwCuaRpIKwD",
    "ochwaXJbIVZh",
    "7IxzBMPBIcBL",
    "IWSvm4w7IkT7",
    "NoloWnEsItGc",
    "qhs059x2JBQ2",
    "M3XkUVIANjxt",
    "9jOsHkrySsEV",
    "gCIFCjIwSw7T",
    "qruU-UsjWFv4"
   ],
   "authorship_tag": "ABX9TyPWdPsCPMQlUehXg5VxlNNL"
  },
  "kernelspec": {
   "name": "python3",
   "display_name": "Python 3"
  },
  "language_info": {
   "name": "python"
  }
 },
 "cells": [
  {
   "cell_type": "markdown",
   "source": [
    "# Input Libs"
   ],
   "metadata": {
    "id": "1vKU7OEm2A7q",
    "pycharm": {
     "name": "#%% md\n"
    }
   }
  },
  {
   "cell_type": "code",
   "source": [
    "pip install factor_analyzer"
   ],
   "metadata": {
    "colab": {
     "base_uri": "https://localhost:8080/"
    },
    "id": "whsr2vRUN7H-",
    "executionInfo": {
     "status": "ok",
     "timestamp": 1650109959637,
     "user_tz": -180,
     "elapsed": 5766,
     "user": {
      "displayName": "Vadim Zhdanov",
      "userId": "12617771296867183814"
     }
    },
    "outputId": "a71bc9ab-2548-4e91-c796-3c0f81bf8ccc",
    "pycharm": {
     "name": "#%%\n"
    }
   },
   "execution_count": 84,
   "outputs": [
    {
     "output_type": "stream",
     "name": "stdout",
     "text": [
      "Collecting factor_analyzer\n",
      "  Downloading factor_analyzer-0.4.0.tar.gz (41 kB)\n",
      "\u001B[?25l\r\u001B[K     |███████▉                        | 10 kB 18.4 MB/s eta 0:00:01\r\u001B[K     |███████████████▊                | 20 kB 20.7 MB/s eta 0:00:01\r\u001B[K     |███████████████████████▋        | 30 kB 23.0 MB/s eta 0:00:01\r\u001B[K     |███████████████████████████████▌| 40 kB 11.5 MB/s eta 0:00:01\r\u001B[K     |████████████████████████████████| 41 kB 453 kB/s \n",
      "\u001B[?25hRequirement already satisfied: pandas in /usr/local/lib/python3.7/dist-packages (from factor_analyzer) (1.3.5)\n",
      "Requirement already satisfied: scipy in /usr/local/lib/python3.7/dist-packages (from factor_analyzer) (1.4.1)\n",
      "Requirement already satisfied: numpy in /usr/local/lib/python3.7/dist-packages (from factor_analyzer) (1.21.5)\n",
      "Requirement already satisfied: scikit-learn in /usr/local/lib/python3.7/dist-packages (from factor_analyzer) (1.0.2)\n",
      "Requirement already satisfied: pytz>=2017.3 in /usr/local/lib/python3.7/dist-packages (from pandas->factor_analyzer) (2018.9)\n",
      "Requirement already satisfied: python-dateutil>=2.7.3 in /usr/local/lib/python3.7/dist-packages (from pandas->factor_analyzer) (2.8.2)\n",
      "Requirement already satisfied: six>=1.5 in /usr/local/lib/python3.7/dist-packages (from python-dateutil>=2.7.3->pandas->factor_analyzer) (1.15.0)\n",
      "Requirement already satisfied: threadpoolctl>=2.0.0 in /usr/local/lib/python3.7/dist-packages (from scikit-learn->factor_analyzer) (3.1.0)\n",
      "Requirement already satisfied: joblib>=0.11 in /usr/local/lib/python3.7/dist-packages (from scikit-learn->factor_analyzer) (1.1.0)\n",
      "Building wheels for collected packages: factor-analyzer\n",
      "  Building wheel for factor-analyzer (setup.py) ... \u001B[?25l\u001B[?25hdone\n",
      "  Created wheel for factor-analyzer: filename=factor_analyzer-0.4.0-py3-none-any.whl size=41455 sha256=5334449dc0f551e9d05f99a8ebb24febcbda050c50cf179a1ac8650db4767613\n",
      "  Stored in directory: /root/.cache/pip/wheels/ac/00/37/1f0e8a5039f9e9f207c4405bbce0796f07701eb377bfc6cc76\n",
      "Successfully built factor-analyzer\n",
      "Installing collected packages: factor-analyzer\n",
      "Successfully installed factor-analyzer-0.4.0\n"
     ]
    }
   ]
  },
  {
   "cell_type": "code",
   "execution_count": 131,
   "metadata": {
    "id": "BJZIjgoW1xcA",
    "executionInfo": {
     "status": "ok",
     "timestamp": 1650112314102,
     "user_tz": -180,
     "elapsed": 357,
     "user": {
      "displayName": "Vadim Zhdanov",
      "userId": "12617771296867183814"
     }
    },
    "pycharm": {
     "name": "#%%\n"
    }
   },
   "outputs": [],
   "source": [
    "import pandas as pd\n",
    "import seaborn as sns\n",
    "import matplotlib.pyplot as plt\n",
    "from statsmodels.stats.outliers_influence import variance_inflation_factor as vif\n",
    "import numpy as np\n",
    "from scipy.stats import chisquare, kstest, norm\n",
    "from factor_analyzer import FactorAnalyzer, Rotator\n",
    "from scipy.cluster.hierarchy import dendrogram, linkage, fcluster\n",
    "from sklearn.metrics import calinski_harabasz_score"
   ]
  },
  {
   "cell_type": "markdown",
   "source": [
    "# Pre-task execution"
   ],
   "metadata": {
    "id": "zX_D3Coj25Cx",
    "pycharm": {
     "name": "#%% md\n"
    }
   }
  },
  {
   "cell_type": "code",
   "source": [
    "filename = \"data.xls\"\n",
    "\n",
    "df = pd.read_excel(filename, index_col=0)\n",
    "df.info()"
   ],
   "metadata": {
    "colab": {
     "base_uri": "https://localhost:8080/"
    },
    "id": "gM3UX6k-4SEr",
    "executionInfo": {
     "status": "ok",
     "timestamp": 1650106817434,
     "user_tz": -180,
     "elapsed": 464,
     "user": {
      "displayName": "Vadim Zhdanov",
      "userId": "12617771296867183814"
     }
    },
    "outputId": "206123e3-efae-4e4b-e9dd-b616e3bf0c85",
    "pycharm": {
     "name": "#%%\n"
    }
   },
   "execution_count": 4,
   "outputs": [
    {
     "output_type": "stream",
     "name": "stdout",
     "text": [
      "<class 'pandas.core.frame.DataFrame'>\n",
      "Int64Index: 184 entries, 1 to 183\n",
      "Data columns (total 34 columns):\n",
      " #   Column                      Non-Null Count  Dtype  \n",
      "---  ------                      --------------  -----  \n",
      " 0   CountryName                 184 non-null    object \n",
      " 1   HighIncome                  184 non-null    int64  \n",
      " 2   Income                      184 non-null    object \n",
      " 3   Development                 184 non-null    object \n",
      " 4   Region                      184 non-null    object \n",
      " 5   WorldRank                   177 non-null    float64\n",
      " 6   RegionRank                  177 non-null    float64\n",
      " 7   2022Score                   177 non-null    float64\n",
      " 8   PropertyRights              177 non-null    float64\n",
      " 9   JudicialEffectiveness       177 non-null    float64\n",
      " 10  GovernmentIntegrity         177 non-null    float64\n",
      " 11  TaxBurden                   177 non-null    float64\n",
      " 12  GovernmentSpending          177 non-null    float64\n",
      " 13  FiscalHealth                177 non-null    float64\n",
      " 14  BusinessFreedom             177 non-null    float64\n",
      " 15  LaborFreedom                177 non-null    float64\n",
      " 16  MonetaryFreedom             177 non-null    float64\n",
      " 17  TradeFreedom                177 non-null    float64\n",
      " 18  InvestmentFreedom           177 non-null    float64\n",
      " 19  FinancialFreedom            177 non-null    float64\n",
      " 20  TariffRate                  176 non-null    float64\n",
      " 21  IncomeTaxRate               182 non-null    float64\n",
      " 22  CorporateTaxRate            182 non-null    float64\n",
      " 23  TaxBurdenofGDP              178 non-null    float64\n",
      " 24  GovernmentExpenditurofGDP   177 non-null    float64\n",
      " 25  Population                  184 non-null    float64\n",
      " 26  GDP                         181 non-null    float64\n",
      " 27  GDP_GrowthRate              183 non-null    float64\n",
      " 28  5Year_GDP_GrowthRate        183 non-null    float64\n",
      " 29  GDPperCapita                181 non-null    float64\n",
      " 30  Unemployment                180 non-null    float64\n",
      " 31  Inflation                   179 non-null    float64\n",
      " 32  FDIInflow                   180 non-null    float64\n",
      " 33  PublicDebt                  181 non-null    float64\n",
      "dtypes: float64(29), int64(1), object(4)\n",
      "memory usage: 50.3+ KB\n"
     ]
    }
   ]
  },
  {
   "cell_type": "markdown",
   "source": [
    "### Data clearing"
   ],
   "metadata": {
    "id": "mAFs7cV_4ztH",
    "pycharm": {
     "name": "#%% md\n"
    }
   }
  },
  {
   "cell_type": "code",
   "source": [
    "highIncome = \"HighIncome\"\n",
    "# For High Income should be 0\n",
    "df[highIncome] = pd.to_numeric(df[highIncome], errors = 'coerce').fillna(0).astype(int)"
   ],
   "metadata": {
    "id": "TcWuFubW40z5",
    "executionInfo": {
     "status": "ok",
     "timestamp": 1650106817435,
     "user_tz": -180,
     "elapsed": 20,
     "user": {
      "displayName": "Vadim Zhdanov",
      "userId": "12617771296867183814"
     }
    },
    "pycharm": {
     "name": "#%%\n"
    }
   },
   "execution_count": 5,
   "outputs": []
  },
  {
   "cell_type": "code",
   "source": [
    "wRank = \"WorldRank\"\n",
    "# For WorldRank null data should be filled as median \n",
    "df[wRank] = pd.to_numeric(df[wRank], errors='coerce')\n",
    "df[wRank] = df[wRank].fillna(df[wRank].median())"
   ],
   "metadata": {
    "id": "MYj30VWD96OF",
    "executionInfo": {
     "status": "ok",
     "timestamp": 1650106817435,
     "user_tz": -180,
     "elapsed": 19,
     "user": {
      "displayName": "Vadim Zhdanov",
      "userId": "12617771296867183814"
     }
    },
    "pycharm": {
     "name": "#%%\n"
    }
   },
   "execution_count": 6,
   "outputs": []
  },
  {
   "cell_type": "code",
   "source": [
    "rRank = \"RegionRank\"\n",
    "# For RegionRank null data should be filled as median \n",
    "df[rRank] = pd.to_numeric(df[rRank], errors='coerce')\n",
    "df[rRank] = df[rRank].fillna(df[rRank].median())"
   ],
   "metadata": {
    "id": "r9QLF6Zo-Q0L",
    "executionInfo": {
     "status": "ok",
     "timestamp": 1650106817435,
     "user_tz": -180,
     "elapsed": 19,
     "user": {
      "displayName": "Vadim Zhdanov",
      "userId": "12617771296867183814"
     }
    },
    "pycharm": {
     "name": "#%%\n"
    }
   },
   "execution_count": 7,
   "outputs": []
  },
  {
   "cell_type": "code",
   "source": [
    "score = \"2022Score\"\n",
    "# For 2022Score null data should be filled as median \n",
    "df[score] = pd.to_numeric(df[score], errors='coerce')\n",
    "df[score] = df[score].fillna(df[score].median())"
   ],
   "metadata": {
    "id": "bNWJzTkh-YK_",
    "executionInfo": {
     "status": "ok",
     "timestamp": 1650106817435,
     "user_tz": -180,
     "elapsed": 18,
     "user": {
      "displayName": "Vadim Zhdanov",
      "userId": "12617771296867183814"
     }
    },
    "pycharm": {
     "name": "#%%\n"
    }
   },
   "execution_count": 8,
   "outputs": []
  },
  {
   "cell_type": "code",
   "source": [
    "eff = \"JudicialEffectiveness\"\n",
    "# For JudicialEffectiveness null data should be filled as median \n",
    "df[eff] = pd.to_numeric(df[eff], errors='coerce')\n",
    "df[eff] = df[eff].fillna(df[eff].median())"
   ],
   "metadata": {
    "id": "F-6vaZtW-wLL",
    "executionInfo": {
     "status": "ok",
     "timestamp": 1650106817436,
     "user_tz": -180,
     "elapsed": 19,
     "user": {
      "displayName": "Vadim Zhdanov",
      "userId": "12617771296867183814"
     }
    },
    "pycharm": {
     "name": "#%%\n"
    }
   },
   "execution_count": 9,
   "outputs": []
  },
  {
   "cell_type": "code",
   "source": [
    "govInt = \"GovernmentIntegrity\"\n",
    "# For GovernmentIntegrity null data should be filled as 0\n",
    "df[govInt] = pd.to_numeric(df[govInt], errors='coerce')\n",
    "df[govInt] = df[govInt].fillna(0)"
   ],
   "metadata": {
    "id": "SvnAppQ2-0K8",
    "executionInfo": {
     "status": "ok",
     "timestamp": 1650106817436,
     "user_tz": -180,
     "elapsed": 19,
     "user": {
      "displayName": "Vadim Zhdanov",
      "userId": "12617771296867183814"
     }
    },
    "pycharm": {
     "name": "#%%\n"
    }
   },
   "execution_count": 10,
   "outputs": []
  },
  {
   "cell_type": "code",
   "source": [
    "tax = \"TaxBurden\"\n",
    "# For TaxBurden null data should be filled as median\n",
    "df[tax] = pd.to_numeric(df[tax], errors='coerce')\n",
    "df[tax] = df[tax].fillna(df[tax].median())"
   ],
   "metadata": {
    "id": "hZNGSJud-6kU",
    "executionInfo": {
     "status": "ok",
     "timestamp": 1650106817436,
     "user_tz": -180,
     "elapsed": 19,
     "user": {
      "displayName": "Vadim Zhdanov",
      "userId": "12617771296867183814"
     }
    },
    "pycharm": {
     "name": "#%%\n"
    }
   },
   "execution_count": 11,
   "outputs": []
  },
  {
   "cell_type": "code",
   "source": [
    "govSpending = \"GovernmentSpending\"\n",
    "# For GovernmentSpending null data should be filled as median\n",
    "df[govSpending] = pd.to_numeric(df[govSpending], errors='coerce')\n",
    "df[govSpending] = df[govSpending].fillna(df[govSpending].median())"
   ],
   "metadata": {
    "id": "YEi_W1Wy_OWN",
    "executionInfo": {
     "status": "ok",
     "timestamp": 1650106817436,
     "user_tz": -180,
     "elapsed": 19,
     "user": {
      "displayName": "Vadim Zhdanov",
      "userId": "12617771296867183814"
     }
    },
    "pycharm": {
     "name": "#%%\n"
    }
   },
   "execution_count": 12,
   "outputs": []
  },
  {
   "cell_type": "code",
   "source": [
    "fisHealth = \"FiscalHealth\"\n",
    "# For FiscalHealth null data should be filled as median\n",
    "df[fisHealth] = pd.to_numeric(df[fisHealth], errors='coerce')\n",
    "df[fisHealth] = df[fisHealth].fillna(df[fisHealth].median())"
   ],
   "metadata": {
    "id": "uTDBVV9v_Y4r",
    "executionInfo": {
     "status": "ok",
     "timestamp": 1650106817436,
     "user_tz": -180,
     "elapsed": 18,
     "user": {
      "displayName": "Vadim Zhdanov",
      "userId": "12617771296867183814"
     }
    },
    "pycharm": {
     "name": "#%%\n"
    }
   },
   "execution_count": 13,
   "outputs": []
  },
  {
   "cell_type": "code",
   "source": [
    "busFreedom = \"BusinessFreedom\"\n",
    "# For BusinessFreedom null data should be filled as median\n",
    "df[busFreedom] = pd.to_numeric(df[busFreedom], errors='coerce')\n",
    "df[busFreedom] = df[busFreedom].fillna(df[busFreedom].median())"
   ],
   "metadata": {
    "id": "Y2OeGs1m_lBN",
    "executionInfo": {
     "status": "ok",
     "timestamp": 1650106817436,
     "user_tz": -180,
     "elapsed": 18,
     "user": {
      "displayName": "Vadim Zhdanov",
      "userId": "12617771296867183814"
     }
    },
    "pycharm": {
     "name": "#%%\n"
    }
   },
   "execution_count": 14,
   "outputs": []
  },
  {
   "cell_type": "code",
   "source": [
    "labFreedom = \"LaborFreedom\"\n",
    "# For LaborFreedom null data should be filled as median\n",
    "df[labFreedom] = pd.to_numeric(df[labFreedom], errors='coerce')\n",
    "df[labFreedom] = df[labFreedom].fillna(df[labFreedom].median())"
   ],
   "metadata": {
    "id": "piyV7lfw_w0J",
    "executionInfo": {
     "status": "ok",
     "timestamp": 1650106817436,
     "user_tz": -180,
     "elapsed": 18,
     "user": {
      "displayName": "Vadim Zhdanov",
      "userId": "12617771296867183814"
     }
    },
    "pycharm": {
     "name": "#%%\n"
    }
   },
   "execution_count": 15,
   "outputs": []
  },
  {
   "cell_type": "code",
   "source": [
    "monFreedom = \"MonetaryFreedom\"\n",
    "# For MonetaryFreedom null data should be filled as median\n",
    "df[monFreedom] = pd.to_numeric(df[monFreedom], errors='coerce')\n",
    "df[monFreedom] = df[monFreedom].fillna(df[monFreedom].median())"
   ],
   "metadata": {
    "id": "ZRqmL3_4_696",
    "executionInfo": {
     "status": "ok",
     "timestamp": 1650106817437,
     "user_tz": -180,
     "elapsed": 19,
     "user": {
      "displayName": "Vadim Zhdanov",
      "userId": "12617771296867183814"
     }
    },
    "pycharm": {
     "name": "#%%\n"
    }
   },
   "execution_count": 16,
   "outputs": []
  },
  {
   "cell_type": "code",
   "source": [
    "trdFreedom = \"TradeFreedom\"\n",
    "# For TradeFreedom null data should be filled as median\n",
    "df[trdFreedom] = pd.to_numeric(df[trdFreedom], errors='coerce')\n",
    "df[trdFreedom] = df[trdFreedom].fillna(df[trdFreedom].median())"
   ],
   "metadata": {
    "id": "UzTN1rHx__cF",
    "executionInfo": {
     "status": "ok",
     "timestamp": 1650106817437,
     "user_tz": -180,
     "elapsed": 19,
     "user": {
      "displayName": "Vadim Zhdanov",
      "userId": "12617771296867183814"
     }
    },
    "pycharm": {
     "name": "#%%\n"
    }
   },
   "execution_count": 17,
   "outputs": []
  },
  {
   "cell_type": "code",
   "source": [
    "invFreedom = \"InvestmentFreedom\"\n",
    "# For InvestmentFreedom null data should be filled as median\n",
    "df[invFreedom] = pd.to_numeric(df[invFreedom], errors='coerce')\n",
    "df[invFreedom] = df[invFreedom].fillna(df[invFreedom].median())"
   ],
   "metadata": {
    "id": "aBhMejb8AEeN",
    "executionInfo": {
     "status": "ok",
     "timestamp": 1650106817437,
     "user_tz": -180,
     "elapsed": 19,
     "user": {
      "displayName": "Vadim Zhdanov",
      "userId": "12617771296867183814"
     }
    },
    "pycharm": {
     "name": "#%%\n"
    }
   },
   "execution_count": 18,
   "outputs": []
  },
  {
   "cell_type": "code",
   "source": [
    "finFreedom = \"FinancialFreedom\"\n",
    "# For FinancialFreedom null data should be filled as median\n",
    "df[finFreedom] = pd.to_numeric(df[finFreedom], errors='coerce')\n",
    "df[finFreedom] = df[finFreedom].fillna(df[finFreedom].median())"
   ],
   "metadata": {
    "id": "GTaAkOO3AL7S",
    "executionInfo": {
     "status": "ok",
     "timestamp": 1650106817437,
     "user_tz": -180,
     "elapsed": 19,
     "user": {
      "displayName": "Vadim Zhdanov",
      "userId": "12617771296867183814"
     }
    },
    "pycharm": {
     "name": "#%%\n"
    }
   },
   "execution_count": 19,
   "outputs": []
  },
  {
   "cell_type": "code",
   "source": [
    "trafRate = \"TariffRate\"\n",
    "# For TariffRate null data should be filled as median\n",
    "df[trafRate] = pd.to_numeric(df[trafRate], errors='coerce')\n",
    "df[trafRate] = df[trafRate].fillna(df[trafRate].median())"
   ],
   "metadata": {
    "id": "VSS-SsTzARUW",
    "executionInfo": {
     "status": "ok",
     "timestamp": 1650106817437,
     "user_tz": -180,
     "elapsed": 19,
     "user": {
      "displayName": "Vadim Zhdanov",
      "userId": "12617771296867183814"
     }
    },
    "pycharm": {
     "name": "#%%\n"
    }
   },
   "execution_count": 20,
   "outputs": []
  },
  {
   "cell_type": "code",
   "source": [
    "incomeTax = \"IncomeTaxRate\"\n",
    "# For IncomeTaxRate null data should be filled as median\n",
    "df[incomeTax] = pd.to_numeric(df[incomeTax], errors='coerce')\n",
    "df[incomeTax] = df[incomeTax].fillna(df[incomeTax].median())"
   ],
   "metadata": {
    "id": "lCR_3_J8AWif",
    "executionInfo": {
     "status": "ok",
     "timestamp": 1650106817437,
     "user_tz": -180,
     "elapsed": 18,
     "user": {
      "displayName": "Vadim Zhdanov",
      "userId": "12617771296867183814"
     }
    },
    "pycharm": {
     "name": "#%%\n"
    }
   },
   "execution_count": 21,
   "outputs": []
  },
  {
   "cell_type": "code",
   "source": [
    "corpTax = \"CorporateTaxRate\"\n",
    "# For CorporateTaxRate null data should be filled as median\n",
    "df[corpTax] = pd.to_numeric(df[corpTax], errors='coerce')\n",
    "df[corpTax] = df[corpTax].fillna(df[corpTax].median())"
   ],
   "metadata": {
    "id": "uw8Dqo9sAipc",
    "executionInfo": {
     "status": "ok",
     "timestamp": 1650106817437,
     "user_tz": -180,
     "elapsed": 18,
     "user": {
      "displayName": "Vadim Zhdanov",
      "userId": "12617771296867183814"
     }
    },
    "pycharm": {
     "name": "#%%\n"
    }
   },
   "execution_count": 22,
   "outputs": []
  },
  {
   "cell_type": "code",
   "source": [
    "gdrTax = \"TaxBurdenofGDP\"\n",
    "# For TaxBurdenofGDP null data should be filled as median\n",
    "df[gdrTax] = pd.to_numeric(df[gdrTax], errors='coerce')\n",
    "df[gdrTax] = df[gdrTax].fillna(df[gdrTax].median())"
   ],
   "metadata": {
    "id": "TnQdH8Z5AqtB",
    "executionInfo": {
     "status": "ok",
     "timestamp": 1650106817438,
     "user_tz": -180,
     "elapsed": 19,
     "user": {
      "displayName": "Vadim Zhdanov",
      "userId": "12617771296867183814"
     }
    },
    "pycharm": {
     "name": "#%%\n"
    }
   },
   "execution_count": 23,
   "outputs": []
  },
  {
   "cell_type": "code",
   "source": [
    "govGDR = \"GovernmentExpenditurofGDP \"\n",
    "# For GovernmentExpenditurofGDP null data should be filled as median\n",
    "df[govGDR] = pd.to_numeric(df[govGDR], errors='coerce')\n",
    "df[govGDR] = df[govGDR].fillna(df[govGDR].median())"
   ],
   "metadata": {
    "id": "IrV8qiGcAzCT",
    "executionInfo": {
     "status": "ok",
     "timestamp": 1650106817438,
     "user_tz": -180,
     "elapsed": 19,
     "user": {
      "displayName": "Vadim Zhdanov",
      "userId": "12617771296867183814"
     }
    },
    "pycharm": {
     "name": "#%%\n"
    }
   },
   "execution_count": 24,
   "outputs": []
  },
  {
   "cell_type": "code",
   "source": [
    "population = \"Population\"\n",
    "# For Population null data should be filled as median\n",
    "df[population] = pd.to_numeric(df[population], errors='coerce')\n",
    "df[population] = df[population].fillna(df[population].median())"
   ],
   "metadata": {
    "id": "kCpVi6cCA5-C",
    "executionInfo": {
     "status": "ok",
     "timestamp": 1650106817438,
     "user_tz": -180,
     "elapsed": 19,
     "user": {
      "displayName": "Vadim Zhdanov",
      "userId": "12617771296867183814"
     }
    },
    "pycharm": {
     "name": "#%%\n"
    }
   },
   "execution_count": 25,
   "outputs": []
  },
  {
   "cell_type": "code",
   "source": [
    "gdp = \"GDP\"\n",
    "# For GDP null data should be filled as median\n",
    "df[gdp] = pd.to_numeric(df[gdp], errors='coerce')\n",
    "df[gdp] = df[gdp].fillna(df[gdp].median())"
   ],
   "metadata": {
    "id": "Ls2QX2vFA9rz",
    "executionInfo": {
     "status": "ok",
     "timestamp": 1650106817438,
     "user_tz": -180,
     "elapsed": 19,
     "user": {
      "displayName": "Vadim Zhdanov",
      "userId": "12617771296867183814"
     }
    },
    "pycharm": {
     "name": "#%%\n"
    }
   },
   "execution_count": 26,
   "outputs": []
  },
  {
   "cell_type": "code",
   "source": [
    "growthRate = \"GDP_GrowthRate\"\n",
    "# For GDP_GrowthRate null data should be filled as median\n",
    "df[growthRate] = pd.to_numeric(df[growthRate], errors='coerce')\n",
    "df[growthRate] = df[growthRate].fillna(df[growthRate].median())"
   ],
   "metadata": {
    "id": "NWpUODA8BHCw",
    "executionInfo": {
     "status": "ok",
     "timestamp": 1650106817438,
     "user_tz": -180,
     "elapsed": 19,
     "user": {
      "displayName": "Vadim Zhdanov",
      "userId": "12617771296867183814"
     }
    },
    "pycharm": {
     "name": "#%%\n"
    }
   },
   "execution_count": 27,
   "outputs": []
  },
  {
   "cell_type": "code",
   "source": [
    "year5GrowthRate = \"5Year_GDP_GrowthRate\"\n",
    "# For 5Year_GDP_GrowthRate null data should be filled as median\n",
    "df[year5GrowthRate] = pd.to_numeric(df[year5GrowthRate], errors='coerce')\n",
    "df[year5GrowthRate] = df[year5GrowthRate].fillna(df[year5GrowthRate].median())"
   ],
   "metadata": {
    "id": "arTbRSmBBM25",
    "executionInfo": {
     "status": "ok",
     "timestamp": 1650106817786,
     "user_tz": -180,
     "elapsed": 367,
     "user": {
      "displayName": "Vadim Zhdanov",
      "userId": "12617771296867183814"
     }
    },
    "pycharm": {
     "name": "#%%\n"
    }
   },
   "execution_count": 28,
   "outputs": []
  },
  {
   "cell_type": "code",
   "source": [
    "gdpPerCap = \"GDPperCapita\"\n",
    "# For GDPperCapita null data should be filled as median\n",
    "df[gdpPerCap] = pd.to_numeric(df[gdpPerCap], errors='coerce')\n",
    "df[gdpPerCap] = df[gdpPerCap].fillna(df[gdpPerCap].median())"
   ],
   "metadata": {
    "id": "29b9RZm3BSbs",
    "executionInfo": {
     "status": "ok",
     "timestamp": 1650106817786,
     "user_tz": -180,
     "elapsed": 5,
     "user": {
      "displayName": "Vadim Zhdanov",
      "userId": "12617771296867183814"
     }
    },
    "pycharm": {
     "name": "#%%\n"
    }
   },
   "execution_count": 29,
   "outputs": []
  },
  {
   "cell_type": "code",
   "source": [
    "unemp = \"Unemployment\"\n",
    "# For Unemployment null data should be filled as median\n",
    "df[unemp] = pd.to_numeric(df[unemp], errors='coerce')\n",
    "df[unemp] = df[unemp].fillna(df[unemp].median())"
   ],
   "metadata": {
    "id": "77as6LJzBb-l",
    "executionInfo": {
     "status": "ok",
     "timestamp": 1650106817787,
     "user_tz": -180,
     "elapsed": 6,
     "user": {
      "displayName": "Vadim Zhdanov",
      "userId": "12617771296867183814"
     }
    },
    "pycharm": {
     "name": "#%%\n"
    }
   },
   "execution_count": 30,
   "outputs": []
  },
  {
   "cell_type": "code",
   "source": [
    "infl = \"Inflation\"\n",
    "# For Inflation null data should be filled as median\n",
    "df[infl] = pd.to_numeric(df[infl], errors='coerce')\n",
    "df[infl] = df[infl].fillna(df[infl].median())"
   ],
   "metadata": {
    "id": "Q_iFDHkaBioG",
    "executionInfo": {
     "status": "ok",
     "timestamp": 1650106817787,
     "user_tz": -180,
     "elapsed": 5,
     "user": {
      "displayName": "Vadim Zhdanov",
      "userId": "12617771296867183814"
     }
    },
    "pycharm": {
     "name": "#%%\n"
    }
   },
   "execution_count": 31,
   "outputs": []
  },
  {
   "cell_type": "code",
   "source": [
    "inflow = \"FDIInflow\"\n",
    "# For FDIInflow null data should be filled as median\n",
    "df[inflow] = pd.to_numeric(df[inflow], errors='coerce')\n",
    "df[inflow] = df[inflow].fillna(df[inflow].median())"
   ],
   "metadata": {
    "id": "MuY4tkaZBlnE",
    "executionInfo": {
     "status": "ok",
     "timestamp": 1650106817787,
     "user_tz": -180,
     "elapsed": 5,
     "user": {
      "displayName": "Vadim Zhdanov",
      "userId": "12617771296867183814"
     }
    },
    "pycharm": {
     "name": "#%%\n"
    }
   },
   "execution_count": 32,
   "outputs": []
  },
  {
   "cell_type": "code",
   "source": [
    "debt = \"PublicDebt\"\n",
    "# For PublicDebt null data should be filled as median\n",
    "df[debt] = pd.to_numeric(df[debt], errors='coerce')\n",
    "df[debt] = df[debt].fillna(df[debt].median())"
   ],
   "metadata": {
    "id": "MNN-mi-bBu98",
    "executionInfo": {
     "status": "ok",
     "timestamp": 1650106817788,
     "user_tz": -180,
     "elapsed": 6,
     "user": {
      "displayName": "Vadim Zhdanov",
      "userId": "12617771296867183814"
     }
    },
    "pycharm": {
     "name": "#%%\n"
    }
   },
   "execution_count": 33,
   "outputs": []
  },
  {
   "cell_type": "code",
   "source": [
    "prpRights = \"PropertyRights\"\n",
    "# For PropertyRights null data should be filled as median \n",
    "df[prpRights] = pd.to_numeric(df[prpRights], errors='coerce')\n",
    "df[prpRights] = df[prpRights].fillna(df[prpRights].median())"
   ],
   "metadata": {
    "id": "1Z5Pqexi-d5r",
    "executionInfo": {
     "status": "ok",
     "timestamp": 1650106817789,
     "user_tz": -180,
     "elapsed": 7,
     "user": {
      "displayName": "Vadim Zhdanov",
      "userId": "12617771296867183814"
     }
    },
    "pycharm": {
     "name": "#%%\n"
    }
   },
   "execution_count": 34,
   "outputs": []
  },
  {
   "cell_type": "code",
   "source": [
    "income = \"Income\"\n",
    "# For Income should create dummy\n",
    "df.loc[df.groupby(income)[income].transform('count').lt(4), income] = 'other'\n",
    "df_with_dummies = pd.get_dummies(df, columns=[income])"
   ],
   "metadata": {
    "id": "mtPfSWL-9D1o",
    "executionInfo": {
     "status": "ok",
     "timestamp": 1650106817789,
     "user_tz": -180,
     "elapsed": 7,
     "user": {
      "displayName": "Vadim Zhdanov",
      "userId": "12617771296867183814"
     }
    },
    "pycharm": {
     "name": "#%%\n"
    }
   },
   "execution_count": 35,
   "outputs": []
  },
  {
   "cell_type": "code",
   "source": [
    "dev = \"Development\"\n",
    "# For Development should create dummy\n",
    "df.loc[df.groupby(dev)[dev].transform('count').lt(4), dev] = 'other'\n",
    "df_with_dummies = pd.get_dummies(df_with_dummies, columns=[dev])"
   ],
   "metadata": {
    "id": "d_7mS0Cj9kVn",
    "executionInfo": {
     "status": "ok",
     "timestamp": 1650106817789,
     "user_tz": -180,
     "elapsed": 7,
     "user": {
      "displayName": "Vadim Zhdanov",
      "userId": "12617771296867183814"
     }
    },
    "pycharm": {
     "name": "#%%\n"
    }
   },
   "execution_count": 36,
   "outputs": []
  },
  {
   "cell_type": "code",
   "source": [
    "region = \"Region\"\n",
    "# For Region should create dummy\n",
    "df.loc[df.groupby(region)[region].transform('count').lt(4), region] = 'other'\n",
    "df_with_dummies = pd.get_dummies(df_with_dummies, columns=[region])"
   ],
   "metadata": {
    "id": "uHU0EMYVFWWR",
    "executionInfo": {
     "status": "ok",
     "timestamp": 1650107735217,
     "user_tz": -180,
     "elapsed": 346,
     "user": {
      "displayName": "Vadim Zhdanov",
      "userId": "12617771296867183814"
     }
    },
    "pycharm": {
     "name": "#%%\n"
    }
   },
   "execution_count": 44,
   "outputs": []
  },
  {
   "cell_type": "code",
   "source": [
    "df_with_dummies.info()"
   ],
   "metadata": {
    "colab": {
     "base_uri": "https://localhost:8080/"
    },
    "id": "dkRt9xE0B1U9",
    "executionInfo": {
     "status": "ok",
     "timestamp": 1650107736545,
     "user_tz": -180,
     "elapsed": 7,
     "user": {
      "displayName": "Vadim Zhdanov",
      "userId": "12617771296867183814"
     }
    },
    "outputId": "14657d10-ff66-40ae-ba31-25b18424139b",
    "pycharm": {
     "name": "#%%\n"
    }
   },
   "execution_count": 45,
   "outputs": [
    {
     "output_type": "stream",
     "name": "stdout",
     "text": [
      "<class 'pandas.core.frame.DataFrame'>\n",
      "Int64Index: 184 entries, 1 to 183\n",
      "Data columns (total 41 columns):\n",
      " #   Column                               Non-Null Count  Dtype  \n",
      "---  ------                               --------------  -----  \n",
      " 0   CountryName                          184 non-null    object \n",
      " 1   HighIncome                           184 non-null    int64  \n",
      " 2   WorldRank                            184 non-null    float64\n",
      " 3   RegionRank                           184 non-null    float64\n",
      " 4   2022Score                            184 non-null    float64\n",
      " 5   PropertyRights                       184 non-null    float64\n",
      " 6   JudicialEffectiveness                184 non-null    float64\n",
      " 7   GovernmentIntegrity                  184 non-null    float64\n",
      " 8   TaxBurden                            184 non-null    float64\n",
      " 9   GovernmentSpending                   184 non-null    float64\n",
      " 10  FiscalHealth                         184 non-null    float64\n",
      " 11  BusinessFreedom                      184 non-null    float64\n",
      " 12  LaborFreedom                         184 non-null    float64\n",
      " 13  MonetaryFreedom                      184 non-null    float64\n",
      " 14  TradeFreedom                         184 non-null    float64\n",
      " 15  InvestmentFreedom                    184 non-null    float64\n",
      " 16  FinancialFreedom                     184 non-null    float64\n",
      " 17  TariffRate                           184 non-null    float64\n",
      " 18  IncomeTaxRate                        184 non-null    float64\n",
      " 19  CorporateTaxRate                     184 non-null    float64\n",
      " 20  TaxBurdenofGDP                       184 non-null    float64\n",
      " 21  GovernmentExpenditurofGDP            184 non-null    float64\n",
      " 22  Population                           184 non-null    float64\n",
      " 23  GDP                                  184 non-null    float64\n",
      " 24  GDP_GrowthRate                       184 non-null    float64\n",
      " 25  5Year_GDP_GrowthRate                 184 non-null    float64\n",
      " 26  GDPperCapita                         184 non-null    float64\n",
      " 27  Unemployment                         184 non-null    float64\n",
      " 28  Inflation                            184 non-null    float64\n",
      " 29  FDIInflow                            184 non-null    float64\n",
      " 30  PublicDebt                           184 non-null    float64\n",
      " 31  Income_high income                   184 non-null    uint8  \n",
      " 32  Income_low income                    184 non-null    uint8  \n",
      " 33  Income_middle income                 184 non-null    uint8  \n",
      " 34  Development_developed                184 non-null    uint8  \n",
      " 35  Development_developing               184 non-null    uint8  \n",
      " 36  Region_Americas                      184 non-null    uint8  \n",
      " 37  Region_Asia-Pacific                  184 non-null    uint8  \n",
      " 38  Region_Europe                        184 non-null    uint8  \n",
      " 39  Region_Middle East and North Africa  184 non-null    uint8  \n",
      " 40  Region_Sub-Saharan Africa            184 non-null    uint8  \n",
      "dtypes: float64(29), int64(1), object(1), uint8(10)\n",
      "memory usage: 47.8+ KB\n"
     ]
    }
   ]
  },
  {
   "cell_type": "markdown",
   "source": [
    "# Task 1"
   ],
   "metadata": {
    "id": "3B-qZNMBCE9e",
    "pycharm": {
     "name": "#%% md\n"
    }
   }
  },
  {
   "cell_type": "code",
   "source": [
    "df_with_dummies.corr().sort_values(by=['TariffRate'])['TariffRate']"
   ],
   "metadata": {
    "colab": {
     "base_uri": "https://localhost:8080/"
    },
    "id": "Y_Ke4S92FCfe",
    "executionInfo": {
     "status": "ok",
     "timestamp": 1650107811578,
     "user_tz": -180,
     "elapsed": 348,
     "user": {
      "displayName": "Vadim Zhdanov",
      "userId": "12617771296867183814"
     }
    },
    "outputId": "9351cdca-8e61-40ba-a5fd-adc7f715af75",
    "pycharm": {
     "name": "#%%\n"
    }
   },
   "execution_count": 47,
   "outputs": [
    {
     "output_type": "execute_result",
     "data": {
      "text/plain": [
       "TradeFreedom                          -0.836958\n",
       "BusinessFreedom                       -0.497330\n",
       "2022Score                             -0.482924\n",
       "PropertyRights                        -0.453347\n",
       "MonetaryFreedom                       -0.448836\n",
       "GDPperCapita                          -0.432999\n",
       "FinancialFreedom                      -0.427789\n",
       "HighIncome                            -0.398941\n",
       "Income_high income                    -0.398941\n",
       "Region_Europe                         -0.379159\n",
       "Development_developed                 -0.366983\n",
       "JudicialEffectiveness                 -0.365185\n",
       "InvestmentFreedom                     -0.350062\n",
       "GovernmentIntegrity                   -0.348495\n",
       "GovernmentExpenditurofGDP             -0.347149\n",
       "LaborFreedom                          -0.343095\n",
       "TaxBurdenofGDP                        -0.271935\n",
       "GDP                                   -0.141760\n",
       "FDIInflow                             -0.127762\n",
       "Region_Asia-Pacific                   -0.087417\n",
       "5Year_GDP_GrowthRate                  -0.081371\n",
       "FiscalHealth                          -0.081061\n",
       "Population                            -0.054604\n",
       "GDP_GrowthRate                        -0.042305\n",
       "Region_Middle East and North Africa   -0.023592\n",
       "TaxBurden                             -0.008604\n",
       "Unemployment                           0.040452\n",
       "Region_Americas                        0.071483\n",
       "IncomeTaxRate                          0.094580\n",
       "PublicDebt                             0.104093\n",
       "Income_low income                      0.179934\n",
       "Inflation                              0.223648\n",
       "Income_middle income                   0.237132\n",
       "CorporateTaxRate                       0.255994\n",
       "RegionRank                             0.276679\n",
       "GovernmentSpending                     0.346049\n",
       "Development_developing                 0.366983\n",
       "Region_Sub-Saharan Africa              0.410266\n",
       "WorldRank                              0.486610\n",
       "TariffRate                             1.000000\n",
       "Name: TariffRate, dtype: float64"
      ]
     },
     "metadata": {},
     "execution_count": 47
    }
   ]
  },
  {
   "cell_type": "code",
   "source": [
    "dependent_var = \"TariffRate\"\n",
    "predictors = [\n",
    "    \"Income_middle income\", # 0.237132\n",
    "    \"Region_Sub-Saharan Africa\",\n",
    "    \"Development_developing\", # 0.366983\n",
    "\n",
    "    \"WorldRank\", # 0.486610\n",
    "    \"RegionRank\", # 0.276679\n",
    "    \"CorporateTaxRate\", # 0.255994\n",
    "    \"GovernmentSpending\", # 0.346049\n",
    "    \"Inflation\" # 0.223648\n",
    "    # Should add 5 more with the highest corr\n",
    "]"
   ],
   "metadata": {
    "id": "X68yKHmqDiOn",
    "executionInfo": {
     "status": "ok",
     "timestamp": 1650109173670,
     "user_tz": -180,
     "elapsed": 345,
     "user": {
      "displayName": "Vadim Zhdanov",
      "userId": "12617771296867183814"
     }
    },
    "pycharm": {
     "name": "#%%\n"
    }
   },
   "execution_count": 70,
   "outputs": []
  },
  {
   "cell_type": "markdown",
   "source": [
    "## Variable analysis"
   ],
   "metadata": {
    "id": "WeqUE6o4I3aG",
    "pycharm": {
     "name": "#%% md\n"
    }
   }
  },
  {
   "cell_type": "markdown",
   "source": [
    "### Income"
   ],
   "metadata": {
    "id": "YvsWax2rFEUr",
    "pycharm": {
     "name": "#%% md\n"
    }
   }
  },
  {
   "cell_type": "code",
   "source": [
    "# the distribution of the ages of the participants:\n",
    "\n",
    "plt.figure(figsize=(18,6))\n",
    "sns.countplot(data=df_with_dummies, x='Income_middle income')\n",
    "plt.title('The distribution of the ages of the participants:', fontsize= 16)\n",
    "plt.xlabel('Income_middle income', fontsize= 14)\n",
    "plt.ylabel('Count', fontsize = 14)\n",
    "plt.show()"
   ],
   "metadata": {
    "colab": {
     "base_uri": "https://localhost:8080/",
     "height": 410
    },
    "id": "rq3UiobSFFXj",
    "executionInfo": {
     "status": "ok",
     "timestamp": 1650108197582,
     "user_tz": -180,
     "elapsed": 392,
     "user": {
      "displayName": "Vadim Zhdanov",
      "userId": "12617771296867183814"
     }
    },
    "outputId": "c801aeb7-c458-4647-a203-9b8c140d7fc5",
    "pycharm": {
     "name": "#%%\n"
    }
   },
   "execution_count": 58,
   "outputs": [
    {
     "output_type": "display_data",
     "data": {
      "text/plain": [
       "<Figure size 1296x432 with 1 Axes>"
      ],
      "image/png": "[encoded data removed]"
     },
     "metadata": {
      "needs_background": "light"
     }
    }
   ]
  },
  {
   "cell_type": "markdown",
   "source": [
    "Most of the countries in the dataset are middle income countries"
   ],
   "metadata": {
    "id": "udFsrvcPHYMH",
    "pycharm": {
     "name": "#%% md\n"
    }
   }
  },
  {
   "cell_type": "markdown",
   "source": [
    "### Region"
   ],
   "metadata": {
    "id": "PwDTP5xrHfgk",
    "pycharm": {
     "name": "#%% md\n"
    }
   }
  },
  {
   "cell_type": "code",
   "source": [
    "# the distribution of the ages of the participants:\n",
    "\n",
    "plt.figure(figsize=(18,6))\n",
    "sns.countplot(data=df_with_dummies, x='Region_Sub-Saharan Africa')\n",
    "plt.title('The distribution of the ages of the participants:', fontsize= 16)\n",
    "plt.xlabel('Region_Sub-Saharan Africa', fontsize= 14)\n",
    "plt.ylabel('Count', fontsize = 14)\n",
    "plt.show()"
   ],
   "metadata": {
    "colab": {
     "base_uri": "https://localhost:8080/",
     "height": 0
    },
    "id": "C90mMgXEHhBc",
    "executionInfo": {
     "status": "ok",
     "timestamp": 1650108639302,
     "user_tz": -180,
     "elapsed": 732,
     "user": {
      "displayName": "Vadim Zhdanov",
      "userId": "12617771296867183814"
     }
    },
    "outputId": "9ef55cde-882c-484a-c979-7dc8039e7314",
    "pycharm": {
     "name": "#%%\n"
    }
   },
   "execution_count": 66,
   "outputs": [
    {
     "output_type": "display_data",
     "data": {
      "text/plain": [
       "<Figure size 1296x432 with 1 Axes>"
      ],
      "image/png": "[encoded data removed]"
     },
     "metadata": {
      "needs_background": "light"
     }
    }
   ]
  },
  {
   "cell_type": "markdown",
   "source": [
    "Most of the countries from the dataset are not Saharan"
   ],
   "metadata": {
    "id": "-53250k9HqzS",
    "pycharm": {
     "name": "#%% md\n"
    }
   }
  },
  {
   "cell_type": "markdown",
   "source": [
    "### Development"
   ],
   "metadata": {
    "id": "xz7H6JOOH2JC",
    "pycharm": {
     "name": "#%% md\n"
    }
   }
  },
  {
   "cell_type": "code",
   "source": [
    "# the distribution of the ages of the participants:\n",
    "\n",
    "plt.figure(figsize=(18,6))\n",
    "sns.countplot(data=df_with_dummies, x='Development_developing')\n",
    "plt.title('The distribution of the ages of the participants:', fontsize= 16)\n",
    "plt.xlabel('Development_developing', fontsize= 14)\n",
    "plt.ylabel('Count', fontsize = 14)\n",
    "plt.show()"
   ],
   "metadata": {
    "colab": {
     "base_uri": "https://localhost:8080/",
     "height": 410
    },
    "id": "wvhAONjgH3TN",
    "executionInfo": {
     "status": "ok",
     "timestamp": 1650108380283,
     "user_tz": -180,
     "elapsed": 550,
     "user": {
      "displayName": "Vadim Zhdanov",
      "userId": "12617771296867183814"
     }
    },
    "outputId": "4d432c6e-8b2f-475f-ae01-a4f1e8d91e0c",
    "pycharm": {
     "name": "#%%\n"
    }
   },
   "execution_count": 60,
   "outputs": [
    {
     "output_type": "display_data",
     "data": {
      "text/plain": [
       "<Figure size 1296x432 with 1 Axes>"
      ],
      "image/png": "[encoded data removed]"
     },
     "metadata": {
      "needs_background": "light"
     }
    }
   ]
  },
  {
   "cell_type": "markdown",
   "source": [
    "Most of the countries in the dataset are Developing countries"
   ],
   "metadata": {
    "id": "fC_0LZtEH89M",
    "pycharm": {
     "name": "#%% md\n"
    }
   }
  },
  {
   "cell_type": "markdown",
   "source": [
    "### WorldRank"
   ],
   "metadata": {
    "id": "7lwCuaRpIKwD",
    "pycharm": {
     "name": "#%% md\n"
    }
   }
  },
  {
   "cell_type": "code",
   "source": [
    "sns.distplot(df_with_dummies['WorldRank'], fit=norm)"
   ],
   "metadata": {
    "colab": {
     "base_uri": "https://localhost:8080/",
     "height": 352
    },
    "id": "9CKH-mB5ILwE",
    "executionInfo": {
     "status": "ok",
     "timestamp": 1650108462945,
     "user_tz": -180,
     "elapsed": 944,
     "user": {
      "displayName": "Vadim Zhdanov",
      "userId": "12617771296867183814"
     }
    },
    "outputId": "1ee91b3b-1db5-4adb-f48d-6f5eed996a1a",
    "pycharm": {
     "name": "#%%\n"
    }
   },
   "execution_count": 61,
   "outputs": [
    {
     "output_type": "stream",
     "name": "stderr",
     "text": [
      "/usr/local/lib/python3.7/dist-packages/seaborn/distributions.py:2619: FutureWarning: `distplot` is a deprecated function and will be removed in a future version. Please adapt your code to use either `displot` (a figure-level function with similar flexibility) or `histplot` (an axes-level function for histograms).\n",
      "  warnings.warn(msg, FutureWarning)\n"
     ]
    },
    {
     "output_type": "execute_result",
     "data": {
      "text/plain": [
       "<matplotlib.axes._subplots.AxesSubplot at 0x7fcd0bcf6350>"
      ]
     },
     "metadata": {},
     "execution_count": 61
    },
    {
     "output_type": "display_data",
     "data": {
      "text/plain": [
       "<Figure size 432x288 with 1 Axes>"
      ],
      "image/png": "[encoded data removed]"
     },
     "metadata": {
      "needs_background": "light"
     }
    }
   ]
  },
  {
   "cell_type": "markdown",
   "source": [
    "The distribution of the variable WorldRank is normal"
   ],
   "metadata": {
    "id": "e8ru8hp8IP9J",
    "pycharm": {
     "name": "#%% md\n"
    }
   }
  },
  {
   "cell_type": "markdown",
   "source": [
    "### RegionRank"
   ],
   "metadata": {
    "id": "ochwaXJbIVZh",
    "pycharm": {
     "name": "#%% md\n"
    }
   }
  },
  {
   "cell_type": "code",
   "source": [
    "sns.distplot(df_with_dummies['RegionRank'], fit=norm)"
   ],
   "metadata": {
    "colab": {
     "base_uri": "https://localhost:8080/",
     "height": 352
    },
    "id": "rAkztPbbIWg4",
    "executionInfo": {
     "status": "ok",
     "timestamp": 1650108497864,
     "user_tz": -180,
     "elapsed": 1020,
     "user": {
      "displayName": "Vadim Zhdanov",
      "userId": "12617771296867183814"
     }
    },
    "outputId": "88e91bd7-dc2f-4ba9-a047-1918db2a0e56",
    "pycharm": {
     "name": "#%%\n"
    }
   },
   "execution_count": 62,
   "outputs": [
    {
     "output_type": "stream",
     "name": "stderr",
     "text": [
      "/usr/local/lib/python3.7/dist-packages/seaborn/distributions.py:2619: FutureWarning: `distplot` is a deprecated function and will be removed in a future version. Please adapt your code to use either `displot` (a figure-level function with similar flexibility) or `histplot` (an axes-level function for histograms).\n",
      "  warnings.warn(msg, FutureWarning)\n"
     ]
    },
    {
     "output_type": "execute_result",
     "data": {
      "text/plain": [
       "<matplotlib.axes._subplots.AxesSubplot at 0x7fcd0bc19050>"
      ]
     },
     "metadata": {},
     "execution_count": 62
    },
    {
     "output_type": "display_data",
     "data": {
      "text/plain": [
       "<Figure size 432x288 with 1 Axes>"
      ],
      "image/png": "[encoded data removed]"
     },
     "metadata": {
      "needs_background": "light"
     }
    }
   ]
  },
  {
   "cell_type": "markdown",
   "source": [
    "The distribution of the variable RegionRank is normal"
   ],
   "metadata": {
    "id": "YdDKpXOPIZWJ",
    "pycharm": {
     "name": "#%% md\n"
    }
   }
  },
  {
   "cell_type": "markdown",
   "source": [
    "### CorporateTaxRate"
   ],
   "metadata": {
    "id": "7IxzBMPBIcBL",
    "pycharm": {
     "name": "#%% md\n"
    }
   }
  },
  {
   "cell_type": "code",
   "source": [
    "sns.distplot(df_with_dummies['CorporateTaxRate'], fit=norm)"
   ],
   "metadata": {
    "colab": {
     "base_uri": "https://localhost:8080/",
     "height": 355
    },
    "id": "_FEFiP7vIbs6",
    "executionInfo": {
     "status": "ok",
     "timestamp": 1650108529640,
     "user_tz": -180,
     "elapsed": 466,
     "user": {
      "displayName": "Vadim Zhdanov",
      "userId": "12617771296867183814"
     }
    },
    "outputId": "86b7c5df-a4d8-4e32-8322-2ab4738abde1",
    "pycharm": {
     "name": "#%%\n"
    }
   },
   "execution_count": 63,
   "outputs": [
    {
     "output_type": "stream",
     "name": "stderr",
     "text": [
      "/usr/local/lib/python3.7/dist-packages/seaborn/distributions.py:2619: FutureWarning: `distplot` is a deprecated function and will be removed in a future version. Please adapt your code to use either `displot` (a figure-level function with similar flexibility) or `histplot` (an axes-level function for histograms).\n",
      "  warnings.warn(msg, FutureWarning)\n"
     ]
    },
    {
     "output_type": "execute_result",
     "data": {
      "text/plain": [
       "<matplotlib.axes._subplots.AxesSubplot at 0x7fcd0bb85650>"
      ]
     },
     "metadata": {},
     "execution_count": 63
    },
    {
     "output_type": "display_data",
     "data": {
      "text/plain": [
       "<Figure size 432x288 with 1 Axes>"
      ],
      "image/png": "[encoded data removed]"
     },
     "metadata": {
      "needs_background": "light"
     }
    }
   ]
  },
  {
   "cell_type": "markdown",
   "source": [
    "The distribution of the variable CorporateTaxRate is normal"
   ],
   "metadata": {
    "id": "_aOicyiEIgyt",
    "pycharm": {
     "name": "#%% md\n"
    }
   }
  },
  {
   "cell_type": "markdown",
   "source": [
    "### GovernmentSpending"
   ],
   "metadata": {
    "id": "IWSvm4w7IkT7",
    "pycharm": {
     "name": "#%% md\n"
    }
   }
  },
  {
   "cell_type": "code",
   "source": [
    "sns.distplot(df_with_dummies['GovernmentSpending'], fit=norm)"
   ],
   "metadata": {
    "colab": {
     "base_uri": "https://localhost:8080/",
     "height": 352
    },
    "id": "ulAPr2s6IlUP",
    "executionInfo": {
     "status": "ok",
     "timestamp": 1650108560701,
     "user_tz": -180,
     "elapsed": 953,
     "user": {
      "displayName": "Vadim Zhdanov",
      "userId": "12617771296867183814"
     }
    },
    "outputId": "882ca6ba-0350-4a16-9bbf-f1e630eed609",
    "pycharm": {
     "name": "#%%\n"
    }
   },
   "execution_count": 64,
   "outputs": [
    {
     "output_type": "stream",
     "name": "stderr",
     "text": [
      "/usr/local/lib/python3.7/dist-packages/seaborn/distributions.py:2619: FutureWarning: `distplot` is a deprecated function and will be removed in a future version. Please adapt your code to use either `displot` (a figure-level function with similar flexibility) or `histplot` (an axes-level function for histograms).\n",
      "  warnings.warn(msg, FutureWarning)\n"
     ]
    },
    {
     "output_type": "execute_result",
     "data": {
      "text/plain": [
       "<matplotlib.axes._subplots.AxesSubplot at 0x7fcd0bac1290>"
      ]
     },
     "metadata": {},
     "execution_count": 64
    },
    {
     "output_type": "display_data",
     "data": {
      "text/plain": [
       "<Figure size 432x288 with 1 Axes>"
      ],
      "image/png": "[encoded data removed]"
     },
     "metadata": {
      "needs_background": "light"
     }
    }
   ]
  },
  {
   "cell_type": "markdown",
   "source": [
    "The distribution of the variable GovernmentSpending is normal"
   ],
   "metadata": {
    "id": "v8eRn0wQIkPb",
    "pycharm": {
     "name": "#%% md\n"
    }
   }
  },
  {
   "cell_type": "markdown",
   "source": [
    "### Inflation"
   ],
   "metadata": {
    "id": "NoloWnEsItGc",
    "pycharm": {
     "name": "#%% md\n"
    }
   }
  },
  {
   "cell_type": "code",
   "source": [
    "sns.distplot(df_with_dummies['Inflation'], fit=norm)"
   ],
   "metadata": {
    "colab": {
     "base_uri": "https://localhost:8080/",
     "height": 352
    },
    "id": "WURbHgWjIuQI",
    "executionInfo": {
     "status": "ok",
     "timestamp": 1650108595866,
     "user_tz": -180,
     "elapsed": 970,
     "user": {
      "displayName": "Vadim Zhdanov",
      "userId": "12617771296867183814"
     }
    },
    "outputId": "ea7e0995-56d9-4733-be10-9f365fe33064",
    "pycharm": {
     "name": "#%%\n"
    }
   },
   "execution_count": 65,
   "outputs": [
    {
     "output_type": "stream",
     "name": "stderr",
     "text": [
      "/usr/local/lib/python3.7/dist-packages/seaborn/distributions.py:2619: FutureWarning: `distplot` is a deprecated function and will be removed in a future version. Please adapt your code to use either `displot` (a figure-level function with similar flexibility) or `histplot` (an axes-level function for histograms).\n",
      "  warnings.warn(msg, FutureWarning)\n"
     ]
    },
    {
     "output_type": "execute_result",
     "data": {
      "text/plain": [
       "<matplotlib.axes._subplots.AxesSubplot at 0x7fcd0bb37510>"
      ]
     },
     "metadata": {},
     "execution_count": 65
    },
    {
     "output_type": "display_data",
     "data": {
      "text/plain": [
       "<Figure size 432x288 with 1 Axes>"
      ],
      "image/png": "[encoded data removed]"
     },
     "metadata": {
      "needs_background": "light"
     }
    }
   ]
  },
  {
   "cell_type": "markdown",
   "source": [
    "The distribution of the variable Inflation is normal"
   ],
   "metadata": {
    "id": "GDwNPl-bIvuX",
    "pycharm": {
     "name": "#%% md\n"
    }
   }
  },
  {
   "cell_type": "markdown",
   "source": [
    "## Pairwise analysis"
   ],
   "metadata": {
    "id": "qhs059x2JBQ2",
    "pycharm": {
     "name": "#%% md\n"
    }
   }
  },
  {
   "cell_type": "code",
   "source": [
    "tmp = predictors\n",
    "tmp.append(\"TariffRate\")\n",
    "df_with_dummies[tmp].corr()"
   ],
   "metadata": {
    "colab": {
     "base_uri": "https://localhost:8080/",
     "height": 447
    },
    "id": "9E4hxh3CJDl4",
    "executionInfo": {
     "status": "ok",
     "timestamp": 1650109207529,
     "user_tz": -180,
     "elapsed": 369,
     "user": {
      "displayName": "Vadim Zhdanov",
      "userId": "12617771296867183814"
     }
    },
    "outputId": "a712feab-7e79-4830-e80c-f82356ddfbfb",
    "pycharm": {
     "name": "#%%\n"
    }
   },
   "execution_count": 72,
   "outputs": [
    {
     "output_type": "execute_result",
     "data": {
      "text/plain": [
       "                           Income_middle income  Region_Sub-Saharan Africa  \\\n",
       "Income_middle income                   1.000000                  -0.058397   \n",
       "Region_Sub-Saharan Africa             -0.058397                   1.000000   \n",
       "Development_developing                 0.545373                   0.308106   \n",
       "WorldRank                              0.374865                   0.398621   \n",
       "RegionRank                             0.218374                   0.180442   \n",
       "CorporateTaxRate                       0.118250                   0.415752   \n",
       "GovernmentSpending                     0.224842                   0.372045   \n",
       "Inflation                              0.082345                  -0.001827   \n",
       "TariffRate                             0.237132                   0.410266   \n",
       "\n",
       "                           Development_developing  WorldRank  RegionRank  \\\n",
       "Income_middle income                     0.545373   0.374865    0.218374   \n",
       "Region_Sub-Saharan Africa                0.308106   0.398621    0.180442   \n",
       "Development_developing                   1.000000   0.633937    0.242180   \n",
       "WorldRank                                0.633937   1.000000    0.671701   \n",
       "RegionRank                               0.242180   0.671701    1.000000   \n",
       "CorporateTaxRate                         0.202285   0.330630    0.160385   \n",
       "GovernmentSpending                       0.500903   0.270183   -0.001238   \n",
       "Inflation                                0.059179   0.179783    0.121944   \n",
       "TariffRate                               0.366983   0.486610    0.276679   \n",
       "\n",
       "                           CorporateTaxRate  GovernmentSpending  Inflation  \\\n",
       "Income_middle income               0.118250            0.224842   0.082345   \n",
       "Region_Sub-Saharan Africa          0.415752            0.372045  -0.001827   \n",
       "Development_developing             0.202285            0.500903   0.059179   \n",
       "WorldRank                          0.330630            0.270183   0.179783   \n",
       "RegionRank                         0.160385           -0.001238   0.121944   \n",
       "CorporateTaxRate                   1.000000            0.225954   0.104335   \n",
       "GovernmentSpending                 0.225954            1.000000   0.070524   \n",
       "Inflation                          0.104335            0.070524   1.000000   \n",
       "TariffRate                         0.255994            0.346049   0.223648   \n",
       "\n",
       "                           TariffRate  \n",
       "Income_middle income         0.237132  \n",
       "Region_Sub-Saharan Africa    0.410266  \n",
       "Development_developing       0.366983  \n",
       "WorldRank                    0.486610  \n",
       "RegionRank                   0.276679  \n",
       "CorporateTaxRate             0.255994  \n",
       "GovernmentSpending           0.346049  \n",
       "Inflation                    0.223648  \n",
       "TariffRate                   1.000000  "
      ],
      "text/html": [
       "\n",
       "  <div id=\"df-ad67c64a-3f9c-40fd-8da1-04776185ccd7\">\n",
       "    <div class=\"colab-df-container\">\n",
       "      <div>\n",
       "<style scoped>\n",
       "    .dataframe tbody tr th:only-of-type {\n",
       "        vertical-align: middle;\n",
       "    }\n",
       "\n",
       "    .dataframe tbody tr th {\n",
       "        vertical-align: top;\n",
       "    }\n",
       "\n",
       "    .dataframe thead th {\n",
       "        text-align: right;\n",
       "    }\n",
       "</style>\n",
       "<table border=\"1\" class=\"dataframe\">\n",
       "  <thead>\n",
       "    <tr style=\"text-align: right;\">\n",
       "      <th></th>\n",
       "      <th>Income_middle income</th>\n",
       "      <th>Region_Sub-Saharan Africa</th>\n",
       "      <th>Development_developing</th>\n",
       "      <th>WorldRank</th>\n",
       "      <th>RegionRank</th>\n",
       "      <th>CorporateTaxRate</th>\n",
       "      <th>GovernmentSpending</th>\n",
       "      <th>Inflation</th>\n",
       "      <th>TariffRate</th>\n",
       "    </tr>\n",
       "  </thead>\n",
       "  <tbody>\n",
       "    <tr>\n",
       "      <th>Income_middle income</th>\n",
       "      <td>1.000000</td>\n",
       "      <td>-0.058397</td>\n",
       "      <td>0.545373</td>\n",
       "      <td>0.374865</td>\n",
       "      <td>0.218374</td>\n",
       "      <td>0.118250</td>\n",
       "      <td>0.224842</td>\n",
       "      <td>0.082345</td>\n",
       "      <td>0.237132</td>\n",
       "    </tr>\n",
       "    <tr>\n",
       "      <th>Region_Sub-Saharan Africa</th>\n",
       "      <td>-0.058397</td>\n",
       "      <td>1.000000</td>\n",
       "      <td>0.308106</td>\n",
       "      <td>0.398621</td>\n",
       "      <td>0.180442</td>\n",
       "      <td>0.415752</td>\n",
       "      <td>0.372045</td>\n",
       "      <td>-0.001827</td>\n",
       "      <td>0.410266</td>\n",
       "    </tr>\n",
       "    <tr>\n",
       "      <th>Development_developing</th>\n",
       "      <td>0.545373</td>\n",
       "      <td>0.308106</td>\n",
       "      <td>1.000000</td>\n",
       "      <td>0.633937</td>\n",
       "      <td>0.242180</td>\n",
       "      <td>0.202285</td>\n",
       "      <td>0.500903</td>\n",
       "      <td>0.059179</td>\n",
       "      <td>0.366983</td>\n",
       "    </tr>\n",
       "    <tr>\n",
       "      <th>WorldRank</th>\n",
       "      <td>0.374865</td>\n",
       "      <td>0.398621</td>\n",
       "      <td>0.633937</td>\n",
       "      <td>1.000000</td>\n",
       "      <td>0.671701</td>\n",
       "      <td>0.330630</td>\n",
       "      <td>0.270183</td>\n",
       "      <td>0.179783</td>\n",
       "      <td>0.486610</td>\n",
       "    </tr>\n",
       "    <tr>\n",
       "      <th>RegionRank</th>\n",
       "      <td>0.218374</td>\n",
       "      <td>0.180442</td>\n",
       "      <td>0.242180</td>\n",
       "      <td>0.671701</td>\n",
       "      <td>1.000000</td>\n",
       "      <td>0.160385</td>\n",
       "      <td>-0.001238</td>\n",
       "      <td>0.121944</td>\n",
       "      <td>0.276679</td>\n",
       "    </tr>\n",
       "    <tr>\n",
       "      <th>CorporateTaxRate</th>\n",
       "      <td>0.118250</td>\n",
       "      <td>0.415752</td>\n",
       "      <td>0.202285</td>\n",
       "      <td>0.330630</td>\n",
       "      <td>0.160385</td>\n",
       "      <td>1.000000</td>\n",
       "      <td>0.225954</td>\n",
       "      <td>0.104335</td>\n",
       "      <td>0.255994</td>\n",
       "    </tr>\n",
       "    <tr>\n",
       "      <th>GovernmentSpending</th>\n",
       "      <td>0.224842</td>\n",
       "      <td>0.372045</td>\n",
       "      <td>0.500903</td>\n",
       "      <td>0.270183</td>\n",
       "      <td>-0.001238</td>\n",
       "      <td>0.225954</td>\n",
       "      <td>1.000000</td>\n",
       "      <td>0.070524</td>\n",
       "      <td>0.346049</td>\n",
       "    </tr>\n",
       "    <tr>\n",
       "      <th>Inflation</th>\n",
       "      <td>0.082345</td>\n",
       "      <td>-0.001827</td>\n",
       "      <td>0.059179</td>\n",
       "      <td>0.179783</td>\n",
       "      <td>0.121944</td>\n",
       "      <td>0.104335</td>\n",
       "      <td>0.070524</td>\n",
       "      <td>1.000000</td>\n",
       "      <td>0.223648</td>\n",
       "    </tr>\n",
       "    <tr>\n",
       "      <th>TariffRate</th>\n",
       "      <td>0.237132</td>\n",
       "      <td>0.410266</td>\n",
       "      <td>0.366983</td>\n",
       "      <td>0.486610</td>\n",
       "      <td>0.276679</td>\n",
       "      <td>0.255994</td>\n",
       "      <td>0.346049</td>\n",
       "      <td>0.223648</td>\n",
       "      <td>1.000000</td>\n",
       "    </tr>\n",
       "  </tbody>\n",
       "</table>\n",
       "</div>\n",
       "      <button class=\"colab-df-convert\" onclick=\"convertToInteractive('df-ad67c64a-3f9c-40fd-8da1-04776185ccd7')\"\n",
       "              title=\"Convert this dataframe to an interactive table.\"\n",
       "              style=\"display:none;\">\n",
       "        \n",
       "  <svg xmlns=\"http://www.w3.org/2000/svg\" height=\"24px\"viewBox=\"0 0 24 24\"\n",
       "       width=\"24px\">\n",
       "    <path d=\"M0 0h24v24H0V0z\" fill=\"none\"/>\n",
       "    <path d=\"M18.56 5.44l.94 2.06.94-2.06 2.06-.94-2.06-.94-.94-2.06-.94 2.06-2.06.94zm-11 1L8.5 8.5l.94-2.06 2.06-.94-2.06-.94L8.5 2.5l-.94 2.06-2.06.94zm10 10l.94 2.06.94-2.06 2.06-.94-2.06-.94-.94-2.06-.94 2.06-2.06.94z\"/><path d=\"M17.41 7.96l-1.37-1.37c-.4-.4-.92-.59-1.43-.59-.52 0-1.04.2-1.43.59L10.3 9.45l-7.72 7.72c-.78.78-.78 2.05 0 2.83L4 21.41c.39.39.9.59 1.41.59.51 0 1.02-.2 1.41-.59l7.78-7.78 2.81-2.81c.8-.78.8-2.07 0-2.86zM5.41 20L4 18.59l7.72-7.72 1.47 1.35L5.41 20z\"/>\n",
       "  </svg>\n",
       "      </button>\n",
       "      \n",
       "  <style>\n",
       "    .colab-df-container {\n",
       "      display:flex;\n",
       "      flex-wrap:wrap;\n",
       "      gap: 12px;\n",
       "    }\n",
       "\n",
       "    .colab-df-convert {\n",
       "      background-color: #E8F0FE;\n",
       "      border: none;\n",
       "      border-radius: 50%;\n",
       "      cursor: pointer;\n",
       "      display: none;\n",
       "      fill: #1967D2;\n",
       "      height: 32px;\n",
       "      padding: 0 0 0 0;\n",
       "      width: 32px;\n",
       "    }\n",
       "\n",
       "    .colab-df-convert:hover {\n",
       "      background-color: #E2EBFA;\n",
       "      box-shadow: 0px 1px 2px rgba(60, 64, 67, 0.3), 0px 1px 3px 1px rgba(60, 64, 67, 0.15);\n",
       "      fill: #174EA6;\n",
       "    }\n",
       "\n",
       "    [theme=dark] .colab-df-convert {\n",
       "      background-color: #3B4455;\n",
       "      fill: #D2E3FC;\n",
       "    }\n",
       "\n",
       "    [theme=dark] .colab-df-convert:hover {\n",
       "      background-color: #434B5C;\n",
       "      box-shadow: 0px 1px 3px 1px rgba(0, 0, 0, 0.15);\n",
       "      filter: drop-shadow(0px 1px 2px rgba(0, 0, 0, 0.3));\n",
       "      fill: #FFFFFF;\n",
       "    }\n",
       "  </style>\n",
       "\n",
       "      <script>\n",
       "        const buttonEl =\n",
       "          document.querySelector('#df-ad67c64a-3f9c-40fd-8da1-04776185ccd7 button.colab-df-convert');\n",
       "        buttonEl.style.display =\n",
       "          google.colab.kernel.accessAllowed ? 'block' : 'none';\n",
       "\n",
       "        async function convertToInteractive(key) {\n",
       "          const element = document.querySelector('#df-ad67c64a-3f9c-40fd-8da1-04776185ccd7');\n",
       "          const dataTable =\n",
       "            await google.colab.kernel.invokeFunction('convertToInteractive',\n",
       "                                                     [key], {});\n",
       "          if (!dataTable) return;\n",
       "\n",
       "          const docLinkHtml = 'Like what you see? Visit the ' +\n",
       "            '<a target=\"_blank\" href=https://colab.research.google.com/notebooks/data_table.ipynb>data table notebook</a>'\n",
       "            + ' to learn more about interactive tables.';\n",
       "          element.innerHTML = '';\n",
       "          dataTable['output_type'] = 'display_data';\n",
       "          await google.colab.output.renderOutput(dataTable, element);\n",
       "          const docLink = document.createElement('div');\n",
       "          docLink.innerHTML = docLinkHtml;\n",
       "          element.appendChild(docLink);\n",
       "        }\n",
       "      </script>\n",
       "    </div>\n",
       "  </div>\n",
       "  "
      ]
     },
     "metadata": {},
     "execution_count": 72
    }
   ]
  },
  {
   "cell_type": "markdown",
   "source": [
    "The level of developing countires influence on middle class in the country"
   ],
   "metadata": {
    "id": "kNjMCQ4qLH-_",
    "pycharm": {
     "name": "#%% md\n"
    }
   }
  },
  {
   "cell_type": "markdown",
   "source": [
    "WorldRank country influence on the level of developing countries"
   ],
   "metadata": {
    "id": "BoyGC1fZLQP2",
    "pycharm": {
     "name": "#%% md\n"
    }
   }
  },
  {
   "cell_type": "markdown",
   "source": [
    "Developing countries correlate with GovernmentSpending "
   ],
   "metadata": {
    "id": "NysdIcCBLdBD",
    "pycharm": {
     "name": "#%% md\n"
    }
   }
  },
  {
   "cell_type": "markdown",
   "source": [
    "WorldRank influence on the RegionRank"
   ],
   "metadata": {
    "id": "s0LNf0l9LqOX",
    "pycharm": {
     "name": "#%% md\n"
    }
   }
  },
  {
   "cell_type": "markdown",
   "source": [
    "Corporate taxes aren't influence a lot on the variables (predictors)"
   ],
   "metadata": {
    "id": "fDmez_liLy-x",
    "pycharm": {
     "name": "#%% md\n"
    }
   }
  },
  {
   "cell_type": "markdown",
   "source": [
    "Inflation aren't influnce a lot on the variables (predictors)"
   ],
   "metadata": {
    "id": "xfIQ6iNxL5oj",
    "pycharm": {
     "name": "#%% md\n"
    }
   }
  },
  {
   "cell_type": "code",
   "source": [
    "df.groupby('Region')['TariffRate'].median().plot(kind='bar')\n",
    "#clustered bar chart based of frequencies"
   ],
   "metadata": {
    "colab": {
     "base_uri": "https://localhost:8080/",
     "height": 430
    },
    "id": "IENFyvUfL_SD",
    "executionInfo": {
     "status": "ok",
     "timestamp": 1650109791220,
     "user_tz": -180,
     "elapsed": 561,
     "user": {
      "displayName": "Vadim Zhdanov",
      "userId": "12617771296867183814"
     }
    },
    "outputId": "292602bd-9067-4625-d1e2-9986de908d78",
    "pycharm": {
     "name": "#%%\n"
    }
   },
   "execution_count": 80,
   "outputs": [
    {
     "output_type": "execute_result",
     "data": {
      "text/plain": [
       "<matplotlib.axes._subplots.AxesSubplot at 0x7fcd0e928090>"
      ]
     },
     "metadata": {},
     "execution_count": 80
    },
    {
     "output_type": "display_data",
     "data": {
      "text/plain": [
       "<Figure size 432x288 with 1 Axes>"
      ],
      "image/png": "[encoded data removed]"
     },
     "metadata": {
      "needs_background": "light"
     }
    }
   ]
  },
  {
   "cell_type": "markdown",
   "source": [
    "The biggest tariff rates in the sahara region and europe region has lowest tariff rates. That's why sahara has the biggest influence on the tariff rates from the regions"
   ],
   "metadata": {
    "id": "9tos1vJYNVAr",
    "pycharm": {
     "name": "#%% md\n"
    }
   }
  },
  {
   "cell_type": "markdown",
   "source": [
    "## Factor analysis"
   ],
   "metadata": {
    "id": "M3XkUVIANjxt",
    "pycharm": {
     "name": "#%% md\n"
    }
   }
  },
  {
   "cell_type": "code",
   "source": [
    "dependent_var = \"TariffRate\"\n",
    "predictors = [\n",
    "    \"Income_middle income\", # 0.237132\n",
    "    \"Region_Sub-Saharan Africa\",\n",
    "    \"Development_developing\", # 0.366983\n",
    "\n",
    "    \"WorldRank\", # 0.486610\n",
    "    \"RegionRank\", # 0.276679\n",
    "    \"CorporateTaxRate\", # 0.255994\n",
    "    \"GovernmentSpending\", # 0.346049\n",
    "    \"Inflation\" # 0.223648\n",
    "    # Should add 5 more with the highest corr\n",
    "]"
   ],
   "metadata": {
    "id": "ampaSBivNlg5",
    "executionInfo": {
     "status": "ok",
     "timestamp": 1650109911325,
     "user_tz": -180,
     "elapsed": 340,
     "user": {
      "displayName": "Vadim Zhdanov",
      "userId": "12617771296867183814"
     }
    },
    "pycharm": {
     "name": "#%%\n"
    }
   },
   "execution_count": 82,
   "outputs": []
  },
  {
   "cell_type": "code",
   "source": [
    "df_factors = df_with_dummies[predictors]\n",
    "\n",
    "fa = FactorAnalyzer(n_factors=len(df_factors), rotation='varimax', method='principal') \n",
    "fa.fit(df_factors)"
   ],
   "metadata": {
    "colab": {
     "base_uri": "https://localhost:8080/"
    },
    "id": "FLMlRerfN1kw",
    "executionInfo": {
     "status": "ok",
     "timestamp": 1650109997344,
     "user_tz": -180,
     "elapsed": 397,
     "user": {
      "displayName": "Vadim Zhdanov",
      "userId": "12617771296867183814"
     }
    },
    "outputId": "77dea86b-46f2-402d-97c3-bda24a014630",
    "pycharm": {
     "name": "#%%\n"
    }
   },
   "execution_count": 86,
   "outputs": [
    {
     "output_type": "stream",
     "name": "stderr",
     "text": [
      "/usr/local/lib/python3.7/dist-packages/sklearn/utils/extmath.py:376: FutureWarning: If 'random_state' is not supplied, the current default is to use 0 as a fixed seed. This will change to  None in version 1.2 leading to non-deterministic results that better reflect nature of the randomized_svd solver. If you want to silence this warning, set 'random_state' to an integer seed or to None explicitly depending if you want your code to be deterministic or not.\n",
      "  FutureWarning,\n"
     ]
    },
    {
     "output_type": "execute_result",
     "data": {
      "text/plain": [
       "FactorAnalyzer(method='principal', n_factors=184, rotation='varimax',\n",
       "               rotation_kwargs={})"
      ]
     },
     "metadata": {},
     "execution_count": 86
    }
   ]
  },
  {
   "cell_type": "code",
   "source": [
    "ev, v = fa.get_eigenvalues()\n",
    "ev # 9 eigenvalues"
   ],
   "metadata": {
    "colab": {
     "base_uri": "https://localhost:8080/"
    },
    "id": "JxRoSVglOKD8",
    "executionInfo": {
     "status": "ok",
     "timestamp": 1650110016921,
     "user_tz": -180,
     "elapsed": 379,
     "user": {
      "displayName": "Vadim Zhdanov",
      "userId": "12617771296867183814"
     }
    },
    "outputId": "b35ea87f-010d-4dda-8567-349160b2ea90",
    "pycharm": {
     "name": "#%%\n"
    }
   },
   "execution_count": 87,
   "outputs": [
    {
     "output_type": "execute_result",
     "data": {
      "text/plain": [
       "array([2.93828356, 1.27160316, 1.15789762, 0.96458573, 0.71513038,\n",
       "       0.43980567, 0.34721966, 0.16547422])"
      ]
     },
     "metadata": {},
     "execution_count": 87
    }
   ]
  },
  {
   "cell_type": "code",
   "source": [
    "ev[ev > 1]"
   ],
   "metadata": {
    "colab": {
     "base_uri": "https://localhost:8080/"
    },
    "id": "Yuts60sLOM7l",
    "executionInfo": {
     "status": "ok",
     "timestamp": 1650110027270,
     "user_tz": -180,
     "elapsed": 494,
     "user": {
      "displayName": "Vadim Zhdanov",
      "userId": "12617771296867183814"
     }
    },
    "outputId": "bdab2b88-5dad-4f41-8961-5c1a028924b7",
    "pycharm": {
     "name": "#%%\n"
    }
   },
   "execution_count": 88,
   "outputs": [
    {
     "output_type": "execute_result",
     "data": {
      "text/plain": [
       "array([2.93828356, 1.27160316, 1.15789762])"
      ]
     },
     "metadata": {},
     "execution_count": 88
    }
   ]
  },
  {
   "cell_type": "code",
   "source": [
    "plt.figure(figsize=(15, 7))\n",
    "plt.scatter(range(1, df_factors.shape[1]+1), ev)\n",
    "plt.plot(range(1, df_factors.shape[1]+1), ev)\n",
    "plt.axhline(y=1, color='r', linestyle='-')\n",
    "plt.title('Scree Plot')\n",
    "plt.xlabel('Factors')\n",
    "plt.ylabel('Eigenvalue')\n",
    "plt.grid()\n",
    "plt.show()"
   ],
   "metadata": {
    "colab": {
     "base_uri": "https://localhost:8080/",
     "height": 458
    },
    "id": "iOLSWVaFOTwD",
    "executionInfo": {
     "status": "ok",
     "timestamp": 1650110061883,
     "user_tz": -180,
     "elapsed": 937,
     "user": {
      "displayName": "Vadim Zhdanov",
      "userId": "12617771296867183814"
     }
    },
    "outputId": "a6234ca3-c337-4d5d-de46-744a7ab9b01a",
    "pycharm": {
     "name": "#%%\n"
    }
   },
   "execution_count": 89,
   "outputs": [
    {
     "output_type": "display_data",
     "data": {
      "text/plain": [
       "<Figure size 1080x504 with 1 Axes>"
      ],
      "image/png": "[encoded data removed]"
     },
     "metadata": {
      "needs_background": "light"
     }
    }
   ]
  },
  {
   "cell_type": "markdown",
   "source": [
    "We have 3 factors for analysis"
   ],
   "metadata": {
    "id": "_81bZqO5ONxg",
    "pycharm": {
     "name": "#%% md\n"
    }
   }
  },
  {
   "cell_type": "code",
   "source": [
    "fa = FactorAnalyzer(n_factors=3, rotation='varimax', method='principal') \n",
    "fa.fit(df_factors)"
   ],
   "metadata": {
    "colab": {
     "base_uri": "https://localhost:8080/"
    },
    "id": "H5LUD8ngOQeo",
    "executionInfo": {
     "status": "ok",
     "timestamp": 1650110068278,
     "user_tz": -180,
     "elapsed": 488,
     "user": {
      "displayName": "Vadim Zhdanov",
      "userId": "12617771296867183814"
     }
    },
    "outputId": "85af277f-6e11-4b0c-9285-8acbe71270dc",
    "pycharm": {
     "name": "#%%\n"
    }
   },
   "execution_count": 90,
   "outputs": [
    {
     "output_type": "stream",
     "name": "stderr",
     "text": [
      "/usr/local/lib/python3.7/dist-packages/sklearn/utils/extmath.py:376: FutureWarning: If 'random_state' is not supplied, the current default is to use 0 as a fixed seed. This will change to  None in version 1.2 leading to non-deterministic results that better reflect nature of the randomized_svd solver. If you want to silence this warning, set 'random_state' to an integer seed or to None explicitly depending if you want your code to be deterministic or not.\n",
      "  FutureWarning,\n"
     ]
    },
    {
     "output_type": "execute_result",
     "data": {
      "text/plain": [
       "FactorAnalyzer(method='principal', rotation='varimax', rotation_kwargs={})"
      ]
     },
     "metadata": {},
     "execution_count": 90
    }
   ]
  },
  {
   "cell_type": "code",
   "source": [
    "fa.loadings_"
   ],
   "metadata": {
    "colab": {
     "base_uri": "https://localhost:8080/"
    },
    "id": "808Vla2COdX5",
    "executionInfo": {
     "status": "ok",
     "timestamp": 1650110143798,
     "user_tz": -180,
     "elapsed": 444,
     "user": {
      "displayName": "Vadim Zhdanov",
      "userId": "12617771296867183814"
     }
    },
    "outputId": "0725d3a3-bb07-4b69-8026-c4f25529dc8e",
    "pycharm": {
     "name": "#%%\n"
    }
   },
   "execution_count": 91,
   "outputs": [
    {
     "output_type": "execute_result",
     "data": {
      "text/plain": [
       "array([[ 0.81036149, -0.20893152,  0.2222364 ],\n",
       "       [ 0.06866615,  0.87049165,  0.07041388],\n",
       "       [ 0.84534442,  0.26088898,  0.1695403 ],\n",
       "       [ 0.47081357,  0.37129121,  0.69865863],\n",
       "       [ 0.1152265 ,  0.11981696,  0.87116573],\n",
       "       [ 0.04399016,  0.69938025,  0.19432144],\n",
       "       [ 0.6138382 ,  0.50539685, -0.26874171],\n",
       "       [ 0.0088196 ,  0.00613145,  0.41426474]])"
      ]
     },
     "metadata": {},
     "execution_count": 91
    }
   ]
  },
  {
   "cell_type": "code",
   "source": [
    "loading_matrix = pd.DataFrame(data=fa.loadings_, \n",
    "                       index=df_factors.columns, \n",
    "                       columns=['Factor_1', 'Factor_2', 'Factor_3'])"
   ],
   "metadata": {
    "id": "7HcfDnr8Om1q",
    "executionInfo": {
     "status": "ok",
     "timestamp": 1650110191239,
     "user_tz": -180,
     "elapsed": 368,
     "user": {
      "displayName": "Vadim Zhdanov",
      "userId": "12617771296867183814"
     }
    },
    "pycharm": {
     "name": "#%%\n"
    }
   },
   "execution_count": 94,
   "outputs": []
  },
  {
   "cell_type": "code",
   "source": [
    "loading_matrix"
   ],
   "metadata": {
    "colab": {
     "base_uri": "https://localhost:8080/",
     "height": 300
    },
    "id": "oX2t6ZKVOnzp",
    "executionInfo": {
     "status": "ok",
     "timestamp": 1650110193878,
     "user_tz": -180,
     "elapsed": 444,
     "user": {
      "displayName": "Vadim Zhdanov",
      "userId": "12617771296867183814"
     }
    },
    "outputId": "7e7a758a-e48b-4f59-cec1-6f9049cc798c",
    "pycharm": {
     "name": "#%%\n"
    }
   },
   "execution_count": 95,
   "outputs": [
    {
     "output_type": "execute_result",
     "data": {
      "text/plain": [
       "                           Factor_1  Factor_2  Factor_3\n",
       "Income_middle income       0.810361 -0.208932  0.222236\n",
       "Region_Sub-Saharan Africa  0.068666  0.870492  0.070414\n",
       "Development_developing     0.845344  0.260889  0.169540\n",
       "WorldRank                  0.470814  0.371291  0.698659\n",
       "RegionRank                 0.115227  0.119817  0.871166\n",
       "CorporateTaxRate           0.043990  0.699380  0.194321\n",
       "GovernmentSpending         0.613838  0.505397 -0.268742\n",
       "Inflation                  0.008820  0.006131  0.414265"
      ],
      "text/html": [
       "\n",
       "  <div id=\"df-6b58da62-69e5-4b40-9c36-9e4487e552aa\">\n",
       "    <div class=\"colab-df-container\">\n",
       "      <div>\n",
       "<style scoped>\n",
       "    .dataframe tbody tr th:only-of-type {\n",
       "        vertical-align: middle;\n",
       "    }\n",
       "\n",
       "    .dataframe tbody tr th {\n",
       "        vertical-align: top;\n",
       "    }\n",
       "\n",
       "    .dataframe thead th {\n",
       "        text-align: right;\n",
       "    }\n",
       "</style>\n",
       "<table border=\"1\" class=\"dataframe\">\n",
       "  <thead>\n",
       "    <tr style=\"text-align: right;\">\n",
       "      <th></th>\n",
       "      <th>Factor_1</th>\n",
       "      <th>Factor_2</th>\n",
       "      <th>Factor_3</th>\n",
       "    </tr>\n",
       "  </thead>\n",
       "  <tbody>\n",
       "    <tr>\n",
       "      <th>Income_middle income</th>\n",
       "      <td>0.810361</td>\n",
       "      <td>-0.208932</td>\n",
       "      <td>0.222236</td>\n",
       "    </tr>\n",
       "    <tr>\n",
       "      <th>Region_Sub-Saharan Africa</th>\n",
       "      <td>0.068666</td>\n",
       "      <td>0.870492</td>\n",
       "      <td>0.070414</td>\n",
       "    </tr>\n",
       "    <tr>\n",
       "      <th>Development_developing</th>\n",
       "      <td>0.845344</td>\n",
       "      <td>0.260889</td>\n",
       "      <td>0.169540</td>\n",
       "    </tr>\n",
       "    <tr>\n",
       "      <th>WorldRank</th>\n",
       "      <td>0.470814</td>\n",
       "      <td>0.371291</td>\n",
       "      <td>0.698659</td>\n",
       "    </tr>\n",
       "    <tr>\n",
       "      <th>RegionRank</th>\n",
       "      <td>0.115227</td>\n",
       "      <td>0.119817</td>\n",
       "      <td>0.871166</td>\n",
       "    </tr>\n",
       "    <tr>\n",
       "      <th>CorporateTaxRate</th>\n",
       "      <td>0.043990</td>\n",
       "      <td>0.699380</td>\n",
       "      <td>0.194321</td>\n",
       "    </tr>\n",
       "    <tr>\n",
       "      <th>GovernmentSpending</th>\n",
       "      <td>0.613838</td>\n",
       "      <td>0.505397</td>\n",
       "      <td>-0.268742</td>\n",
       "    </tr>\n",
       "    <tr>\n",
       "      <th>Inflation</th>\n",
       "      <td>0.008820</td>\n",
       "      <td>0.006131</td>\n",
       "      <td>0.414265</td>\n",
       "    </tr>\n",
       "  </tbody>\n",
       "</table>\n",
       "</div>\n",
       "      <button class=\"colab-df-convert\" onclick=\"convertToInteractive('df-6b58da62-69e5-4b40-9c36-9e4487e552aa')\"\n",
       "              title=\"Convert this dataframe to an interactive table.\"\n",
       "              style=\"display:none;\">\n",
       "        \n",
       "  <svg xmlns=\"http://www.w3.org/2000/svg\" height=\"24px\"viewBox=\"0 0 24 24\"\n",
       "       width=\"24px\">\n",
       "    <path d=\"M0 0h24v24H0V0z\" fill=\"none\"/>\n",
       "    <path d=\"M18.56 5.44l.94 2.06.94-2.06 2.06-.94-2.06-.94-.94-2.06-.94 2.06-2.06.94zm-11 1L8.5 8.5l.94-2.06 2.06-.94-2.06-.94L8.5 2.5l-.94 2.06-2.06.94zm10 10l.94 2.06.94-2.06 2.06-.94-2.06-.94-.94-2.06-.94 2.06-2.06.94z\"/><path d=\"M17.41 7.96l-1.37-1.37c-.4-.4-.92-.59-1.43-.59-.52 0-1.04.2-1.43.59L10.3 9.45l-7.72 7.72c-.78.78-.78 2.05 0 2.83L4 21.41c.39.39.9.59 1.41.59.51 0 1.02-.2 1.41-.59l7.78-7.78 2.81-2.81c.8-.78.8-2.07 0-2.86zM5.41 20L4 18.59l7.72-7.72 1.47 1.35L5.41 20z\"/>\n",
       "  </svg>\n",
       "      </button>\n",
       "      \n",
       "  <style>\n",
       "    .colab-df-container {\n",
       "      display:flex;\n",
       "      flex-wrap:wrap;\n",
       "      gap: 12px;\n",
       "    }\n",
       "\n",
       "    .colab-df-convert {\n",
       "      background-color: #E8F0FE;\n",
       "      border: none;\n",
       "      border-radius: 50%;\n",
       "      cursor: pointer;\n",
       "      display: none;\n",
       "      fill: #1967D2;\n",
       "      height: 32px;\n",
       "      padding: 0 0 0 0;\n",
       "      width: 32px;\n",
       "    }\n",
       "\n",
       "    .colab-df-convert:hover {\n",
       "      background-color: #E2EBFA;\n",
       "      box-shadow: 0px 1px 2px rgba(60, 64, 67, 0.3), 0px 1px 3px 1px rgba(60, 64, 67, 0.15);\n",
       "      fill: #174EA6;\n",
       "    }\n",
       "\n",
       "    [theme=dark] .colab-df-convert {\n",
       "      background-color: #3B4455;\n",
       "      fill: #D2E3FC;\n",
       "    }\n",
       "\n",
       "    [theme=dark] .colab-df-convert:hover {\n",
       "      background-color: #434B5C;\n",
       "      box-shadow: 0px 1px 3px 1px rgba(0, 0, 0, 0.15);\n",
       "      filter: drop-shadow(0px 1px 2px rgba(0, 0, 0, 0.3));\n",
       "      fill: #FFFFFF;\n",
       "    }\n",
       "  </style>\n",
       "\n",
       "      <script>\n",
       "        const buttonEl =\n",
       "          document.querySelector('#df-6b58da62-69e5-4b40-9c36-9e4487e552aa button.colab-df-convert');\n",
       "        buttonEl.style.display =\n",
       "          google.colab.kernel.accessAllowed ? 'block' : 'none';\n",
       "\n",
       "        async function convertToInteractive(key) {\n",
       "          const element = document.querySelector('#df-6b58da62-69e5-4b40-9c36-9e4487e552aa');\n",
       "          const dataTable =\n",
       "            await google.colab.kernel.invokeFunction('convertToInteractive',\n",
       "                                                     [key], {});\n",
       "          if (!dataTable) return;\n",
       "\n",
       "          const docLinkHtml = 'Like what you see? Visit the ' +\n",
       "            '<a target=\"_blank\" href=https://colab.research.google.com/notebooks/data_table.ipynb>data table notebook</a>'\n",
       "            + ' to learn more about interactive tables.';\n",
       "          element.innerHTML = '';\n",
       "          dataTable['output_type'] = 'display_data';\n",
       "          await google.colab.output.renderOutput(dataTable, element);\n",
       "          const docLink = document.createElement('div');\n",
       "          docLink.innerHTML = docLinkHtml;\n",
       "          element.appendChild(docLink);\n",
       "        }\n",
       "      </script>\n",
       "    </div>\n",
       "  </div>\n",
       "  "
      ]
     },
     "metadata": {},
     "execution_count": 95
    }
   ]
  },
  {
   "cell_type": "markdown",
   "source": [
    "Factor 1 Name = Middle income and developing countries<br>\n",
    "Factor 2 Name = Sahara region countries and high corporate tax rate<br>\n",
    "Factor 3 Name = World and Region Ranking"
   ],
   "metadata": {
    "id": "do-Y6oijO9_5",
    "pycharm": {
     "name": "#%% md\n"
    }
   }
  },
  {
   "cell_type": "code",
   "source": [
    "factor_names = [\n",
    "    'Middle income and developing countries', \n",
    "    'Sahara region countries and high corporate tax rate', \n",
    "    'World and Region Ranking'\n",
    "]"
   ],
   "metadata": {
    "id": "p5oHzC1bPh3O",
    "executionInfo": {
     "status": "ok",
     "timestamp": 1650110426373,
     "user_tz": -180,
     "elapsed": 388,
     "user": {
      "displayName": "Vadim Zhdanov",
      "userId": "12617771296867183814"
     }
    },
    "pycharm": {
     "name": "#%%\n"
    }
   },
   "execution_count": 96,
   "outputs": []
  },
  {
   "cell_type": "code",
   "source": [
    "transformed = pd.DataFrame(data=fa.transform(df_factors),\n",
    "                           index=df_factors.index,\n",
    "                           columns=factor_names)\n",
    "transformed"
   ],
   "metadata": {
    "colab": {
     "base_uri": "https://localhost:8080/",
     "height": 499
    },
    "id": "_Z9jklExPrz7",
    "executionInfo": {
     "status": "ok",
     "timestamp": 1650110427353,
     "user_tz": -180,
     "elapsed": 10,
     "user": {
      "displayName": "Vadim Zhdanov",
      "userId": "12617771296867183814"
     }
    },
    "outputId": "a470559c-a7b8-4d08-fe35-8640fceaf694",
    "pycharm": {
     "name": "#%%\n"
    }
   },
   "execution_count": 97,
   "outputs": [
    {
     "output_type": "execute_result",
     "data": {
      "text/plain": [
       "           Middle income and developing countries  \\\n",
       "CountryID                                           \n",
       "1                                       -0.103694   \n",
       "2                                        0.827639   \n",
       "3                                        0.816835   \n",
       "4                                        0.750843   \n",
       "5                                        0.589583   \n",
       "...                                           ...   \n",
       "179                                     -0.116684   \n",
       "180                                      1.108238   \n",
       "181                                     -0.112007   \n",
       "182                                      0.375966   \n",
       "183                                      0.473472   \n",
       "\n",
       "           Sahara region countries and high corporate tax rate  \\\n",
       "CountryID                                                        \n",
       "1                                                  -0.097786     \n",
       "2                                                  -1.044463     \n",
       "3                                                  -0.392772     \n",
       "4                                                   1.021721     \n",
       "5                                                  -0.574174     \n",
       "...                                                      ...     \n",
       "179                                                -0.350136     \n",
       "180                                                -0.558260     \n",
       "181                                                -0.102590     \n",
       "182                                                 1.402974     \n",
       "183                                                 0.864464     \n",
       "\n",
       "           World and Region Ranking  \n",
       "CountryID                            \n",
       "1                         -0.213224  \n",
       "2                          0.019611  \n",
       "3                          0.379672  \n",
       "4                          0.401805  \n",
       "5                          1.000141  \n",
       "...                             ...  \n",
       "179                        4.998064  \n",
       "180                       -0.466247  \n",
       "181                       -0.179102  \n",
       "182                        1.104344  \n",
       "183                        2.341293  \n",
       "\n",
       "[184 rows x 3 columns]"
      ],
      "text/html": [
       "\n",
       "  <div id=\"df-459584e2-ee4b-4e16-b521-1002058a780a\">\n",
       "    <div class=\"colab-df-container\">\n",
       "      <div>\n",
       "<style scoped>\n",
       "    .dataframe tbody tr th:only-of-type {\n",
       "        vertical-align: middle;\n",
       "    }\n",
       "\n",
       "    .dataframe tbody tr th {\n",
       "        vertical-align: top;\n",
       "    }\n",
       "\n",
       "    .dataframe thead th {\n",
       "        text-align: right;\n",
       "    }\n",
       "</style>\n",
       "<table border=\"1\" class=\"dataframe\">\n",
       "  <thead>\n",
       "    <tr style=\"text-align: right;\">\n",
       "      <th></th>\n",
       "      <th>Middle income and developing countries</th>\n",
       "      <th>Sahara region countries and high corporate tax rate</th>\n",
       "      <th>World and Region Ranking</th>\n",
       "    </tr>\n",
       "    <tr>\n",
       "      <th>CountryID</th>\n",
       "      <th></th>\n",
       "      <th></th>\n",
       "      <th></th>\n",
       "    </tr>\n",
       "  </thead>\n",
       "  <tbody>\n",
       "    <tr>\n",
       "      <th>1</th>\n",
       "      <td>-0.103694</td>\n",
       "      <td>-0.097786</td>\n",
       "      <td>-0.213224</td>\n",
       "    </tr>\n",
       "    <tr>\n",
       "      <th>2</th>\n",
       "      <td>0.827639</td>\n",
       "      <td>-1.044463</td>\n",
       "      <td>0.019611</td>\n",
       "    </tr>\n",
       "    <tr>\n",
       "      <th>3</th>\n",
       "      <td>0.816835</td>\n",
       "      <td>-0.392772</td>\n",
       "      <td>0.379672</td>\n",
       "    </tr>\n",
       "    <tr>\n",
       "      <th>4</th>\n",
       "      <td>0.750843</td>\n",
       "      <td>1.021721</td>\n",
       "      <td>0.401805</td>\n",
       "    </tr>\n",
       "    <tr>\n",
       "      <th>5</th>\n",
       "      <td>0.589583</td>\n",
       "      <td>-0.574174</td>\n",
       "      <td>1.000141</td>\n",
       "    </tr>\n",
       "    <tr>\n",
       "      <th>...</th>\n",
       "      <td>...</td>\n",
       "      <td>...</td>\n",
       "      <td>...</td>\n",
       "    </tr>\n",
       "    <tr>\n",
       "      <th>179</th>\n",
       "      <td>-0.116684</td>\n",
       "      <td>-0.350136</td>\n",
       "      <td>4.998064</td>\n",
       "    </tr>\n",
       "    <tr>\n",
       "      <th>180</th>\n",
       "      <td>1.108238</td>\n",
       "      <td>-0.558260</td>\n",
       "      <td>-0.466247</td>\n",
       "    </tr>\n",
       "    <tr>\n",
       "      <th>181</th>\n",
       "      <td>-0.112007</td>\n",
       "      <td>-0.102590</td>\n",
       "      <td>-0.179102</td>\n",
       "    </tr>\n",
       "    <tr>\n",
       "      <th>182</th>\n",
       "      <td>0.375966</td>\n",
       "      <td>1.402974</td>\n",
       "      <td>1.104344</td>\n",
       "    </tr>\n",
       "    <tr>\n",
       "      <th>183</th>\n",
       "      <td>0.473472</td>\n",
       "      <td>0.864464</td>\n",
       "      <td>2.341293</td>\n",
       "    </tr>\n",
       "  </tbody>\n",
       "</table>\n",
       "<p>184 rows × 3 columns</p>\n",
       "</div>\n",
       "      <button class=\"colab-df-convert\" onclick=\"convertToInteractive('df-459584e2-ee4b-4e16-b521-1002058a780a')\"\n",
       "              title=\"Convert this dataframe to an interactive table.\"\n",
       "              style=\"display:none;\">\n",
       "        \n",
       "  <svg xmlns=\"http://www.w3.org/2000/svg\" height=\"24px\"viewBox=\"0 0 24 24\"\n",
       "       width=\"24px\">\n",
       "    <path d=\"M0 0h24v24H0V0z\" fill=\"none\"/>\n",
       "    <path d=\"M18.56 5.44l.94 2.06.94-2.06 2.06-.94-2.06-.94-.94-2.06-.94 2.06-2.06.94zm-11 1L8.5 8.5l.94-2.06 2.06-.94-2.06-.94L8.5 2.5l-.94 2.06-2.06.94zm10 10l.94 2.06.94-2.06 2.06-.94-2.06-.94-.94-2.06-.94 2.06-2.06.94z\"/><path d=\"M17.41 7.96l-1.37-1.37c-.4-.4-.92-.59-1.43-.59-.52 0-1.04.2-1.43.59L10.3 9.45l-7.72 7.72c-.78.78-.78 2.05 0 2.83L4 21.41c.39.39.9.59 1.41.59.51 0 1.02-.2 1.41-.59l7.78-7.78 2.81-2.81c.8-.78.8-2.07 0-2.86zM5.41 20L4 18.59l7.72-7.72 1.47 1.35L5.41 20z\"/>\n",
       "  </svg>\n",
       "      </button>\n",
       "      \n",
       "  <style>\n",
       "    .colab-df-container {\n",
       "      display:flex;\n",
       "      flex-wrap:wrap;\n",
       "      gap: 12px;\n",
       "    }\n",
       "\n",
       "    .colab-df-convert {\n",
       "      background-color: #E8F0FE;\n",
       "      border: none;\n",
       "      border-radius: 50%;\n",
       "      cursor: pointer;\n",
       "      display: none;\n",
       "      fill: #1967D2;\n",
       "      height: 32px;\n",
       "      padding: 0 0 0 0;\n",
       "      width: 32px;\n",
       "    }\n",
       "\n",
       "    .colab-df-convert:hover {\n",
       "      background-color: #E2EBFA;\n",
       "      box-shadow: 0px 1px 2px rgba(60, 64, 67, 0.3), 0px 1px 3px 1px rgba(60, 64, 67, 0.15);\n",
       "      fill: #174EA6;\n",
       "    }\n",
       "\n",
       "    [theme=dark] .colab-df-convert {\n",
       "      background-color: #3B4455;\n",
       "      fill: #D2E3FC;\n",
       "    }\n",
       "\n",
       "    [theme=dark] .colab-df-convert:hover {\n",
       "      background-color: #434B5C;\n",
       "      box-shadow: 0px 1px 3px 1px rgba(0, 0, 0, 0.15);\n",
       "      filter: drop-shadow(0px 1px 2px rgba(0, 0, 0, 0.3));\n",
       "      fill: #FFFFFF;\n",
       "    }\n",
       "  </style>\n",
       "\n",
       "      <script>\n",
       "        const buttonEl =\n",
       "          document.querySelector('#df-459584e2-ee4b-4e16-b521-1002058a780a button.colab-df-convert');\n",
       "        buttonEl.style.display =\n",
       "          google.colab.kernel.accessAllowed ? 'block' : 'none';\n",
       "\n",
       "        async function convertToInteractive(key) {\n",
       "          const element = document.querySelector('#df-459584e2-ee4b-4e16-b521-1002058a780a');\n",
       "          const dataTable =\n",
       "            await google.colab.kernel.invokeFunction('convertToInteractive',\n",
       "                                                     [key], {});\n",
       "          if (!dataTable) return;\n",
       "\n",
       "          const docLinkHtml = 'Like what you see? Visit the ' +\n",
       "            '<a target=\"_blank\" href=https://colab.research.google.com/notebooks/data_table.ipynb>data table notebook</a>'\n",
       "            + ' to learn more about interactive tables.';\n",
       "          element.innerHTML = '';\n",
       "          dataTable['output_type'] = 'display_data';\n",
       "          await google.colab.output.renderOutput(dataTable, element);\n",
       "          const docLink = document.createElement('div');\n",
       "          docLink.innerHTML = docLinkHtml;\n",
       "          element.appendChild(docLink);\n",
       "        }\n",
       "      </script>\n",
       "    </div>\n",
       "  </div>\n",
       "  "
      ]
     },
     "metadata": {},
     "execution_count": 97
    }
   ]
  },
  {
   "cell_type": "code",
   "source": [
    "df = pd.concat([df, transformed], axis=1)"
   ],
   "metadata": {
    "id": "Aakz7ywBPuLS",
    "executionInfo": {
     "status": "ok",
     "timestamp": 1650110434284,
     "user_tz": -180,
     "elapsed": 357,
     "user": {
      "displayName": "Vadim Zhdanov",
      "userId": "12617771296867183814"
     }
    },
    "pycharm": {
     "name": "#%%\n"
    }
   },
   "execution_count": 98,
   "outputs": []
  },
  {
   "cell_type": "markdown",
   "source": [
    "## Linear regression"
   ],
   "metadata": {
    "id": "Ss_ayOB6P2Ni",
    "pycharm": {
     "name": "#%% md\n"
    }
   }
  },
  {
   "cell_type": "code",
   "source": [
    "transformed"
   ],
   "metadata": {
    "colab": {
     "base_uri": "https://localhost:8080/",
     "height": 499
    },
    "id": "S3wDMef8P5uz",
    "executionInfo": {
     "status": "ok",
     "timestamp": 1650110478307,
     "user_tz": -180,
     "elapsed": 499,
     "user": {
      "displayName": "Vadim Zhdanov",
      "userId": "12617771296867183814"
     }
    },
    "outputId": "691eb911-f612-47f9-f835-9e6f43bdae74",
    "pycharm": {
     "name": "#%%\n"
    }
   },
   "execution_count": 99,
   "outputs": [
    {
     "output_type": "execute_result",
     "data": {
      "text/plain": [
       "           Middle income and developing countries  \\\n",
       "CountryID                                           \n",
       "1                                       -0.103694   \n",
       "2                                        0.827639   \n",
       "3                                        0.816835   \n",
       "4                                        0.750843   \n",
       "5                                        0.589583   \n",
       "...                                           ...   \n",
       "179                                     -0.116684   \n",
       "180                                      1.108238   \n",
       "181                                     -0.112007   \n",
       "182                                      0.375966   \n",
       "183                                      0.473472   \n",
       "\n",
       "           Sahara region countries and high corporate tax rate  \\\n",
       "CountryID                                                        \n",
       "1                                                  -0.097786     \n",
       "2                                                  -1.044463     \n",
       "3                                                  -0.392772     \n",
       "4                                                   1.021721     \n",
       "5                                                  -0.574174     \n",
       "...                                                      ...     \n",
       "179                                                -0.350136     \n",
       "180                                                -0.558260     \n",
       "181                                                -0.102590     \n",
       "182                                                 1.402974     \n",
       "183                                                 0.864464     \n",
       "\n",
       "           World and Region Ranking  \n",
       "CountryID                            \n",
       "1                         -0.213224  \n",
       "2                          0.019611  \n",
       "3                          0.379672  \n",
       "4                          0.401805  \n",
       "5                          1.000141  \n",
       "...                             ...  \n",
       "179                        4.998064  \n",
       "180                       -0.466247  \n",
       "181                       -0.179102  \n",
       "182                        1.104344  \n",
       "183                        2.341293  \n",
       "\n",
       "[184 rows x 3 columns]"
      ],
      "text/html": [
       "\n",
       "  <div id=\"df-be27a644-2c99-4855-8970-94303478b0bd\">\n",
       "    <div class=\"colab-df-container\">\n",
       "      <div>\n",
       "<style scoped>\n",
       "    .dataframe tbody tr th:only-of-type {\n",
       "        vertical-align: middle;\n",
       "    }\n",
       "\n",
       "    .dataframe tbody tr th {\n",
       "        vertical-align: top;\n",
       "    }\n",
       "\n",
       "    .dataframe thead th {\n",
       "        text-align: right;\n",
       "    }\n",
       "</style>\n",
       "<table border=\"1\" class=\"dataframe\">\n",
       "  <thead>\n",
       "    <tr style=\"text-align: right;\">\n",
       "      <th></th>\n",
       "      <th>Middle income and developing countries</th>\n",
       "      <th>Sahara region countries and high corporate tax rate</th>\n",
       "      <th>World and Region Ranking</th>\n",
       "    </tr>\n",
       "    <tr>\n",
       "      <th>CountryID</th>\n",
       "      <th></th>\n",
       "      <th></th>\n",
       "      <th></th>\n",
       "    </tr>\n",
       "  </thead>\n",
       "  <tbody>\n",
       "    <tr>\n",
       "      <th>1</th>\n",
       "      <td>-0.103694</td>\n",
       "      <td>-0.097786</td>\n",
       "      <td>-0.213224</td>\n",
       "    </tr>\n",
       "    <tr>\n",
       "      <th>2</th>\n",
       "      <td>0.827639</td>\n",
       "      <td>-1.044463</td>\n",
       "      <td>0.019611</td>\n",
       "    </tr>\n",
       "    <tr>\n",
       "      <th>3</th>\n",
       "      <td>0.816835</td>\n",
       "      <td>-0.392772</td>\n",
       "      <td>0.379672</td>\n",
       "    </tr>\n",
       "    <tr>\n",
       "      <th>4</th>\n",
       "      <td>0.750843</td>\n",
       "      <td>1.021721</td>\n",
       "      <td>0.401805</td>\n",
       "    </tr>\n",
       "    <tr>\n",
       "      <th>5</th>\n",
       "      <td>0.589583</td>\n",
       "      <td>-0.574174</td>\n",
       "      <td>1.000141</td>\n",
       "    </tr>\n",
       "    <tr>\n",
       "      <th>...</th>\n",
       "      <td>...</td>\n",
       "      <td>...</td>\n",
       "      <td>...</td>\n",
       "    </tr>\n",
       "    <tr>\n",
       "      <th>179</th>\n",
       "      <td>-0.116684</td>\n",
       "      <td>-0.350136</td>\n",
       "      <td>4.998064</td>\n",
       "    </tr>\n",
       "    <tr>\n",
       "      <th>180</th>\n",
       "      <td>1.108238</td>\n",
       "      <td>-0.558260</td>\n",
       "      <td>-0.466247</td>\n",
       "    </tr>\n",
       "    <tr>\n",
       "      <th>181</th>\n",
       "      <td>-0.112007</td>\n",
       "      <td>-0.102590</td>\n",
       "      <td>-0.179102</td>\n",
       "    </tr>\n",
       "    <tr>\n",
       "      <th>182</th>\n",
       "      <td>0.375966</td>\n",
       "      <td>1.402974</td>\n",
       "      <td>1.104344</td>\n",
       "    </tr>\n",
       "    <tr>\n",
       "      <th>183</th>\n",
       "      <td>0.473472</td>\n",
       "      <td>0.864464</td>\n",
       "      <td>2.341293</td>\n",
       "    </tr>\n",
       "  </tbody>\n",
       "</table>\n",
       "<p>184 rows × 3 columns</p>\n",
       "</div>\n",
       "      <button class=\"colab-df-convert\" onclick=\"convertToInteractive('df-be27a644-2c99-4855-8970-94303478b0bd')\"\n",
       "              title=\"Convert this dataframe to an interactive table.\"\n",
       "              style=\"display:none;\">\n",
       "        \n",
       "  <svg xmlns=\"http://www.w3.org/2000/svg\" height=\"24px\"viewBox=\"0 0 24 24\"\n",
       "       width=\"24px\">\n",
       "    <path d=\"M0 0h24v24H0V0z\" fill=\"none\"/>\n",
       "    <path d=\"M18.56 5.44l.94 2.06.94-2.06 2.06-.94-2.06-.94-.94-2.06-.94 2.06-2.06.94zm-11 1L8.5 8.5l.94-2.06 2.06-.94-2.06-.94L8.5 2.5l-.94 2.06-2.06.94zm10 10l.94 2.06.94-2.06 2.06-.94-2.06-.94-.94-2.06-.94 2.06-2.06.94z\"/><path d=\"M17.41 7.96l-1.37-1.37c-.4-.4-.92-.59-1.43-.59-.52 0-1.04.2-1.43.59L10.3 9.45l-7.72 7.72c-.78.78-.78 2.05 0 2.83L4 21.41c.39.39.9.59 1.41.59.51 0 1.02-.2 1.41-.59l7.78-7.78 2.81-2.81c.8-.78.8-2.07 0-2.86zM5.41 20L4 18.59l7.72-7.72 1.47 1.35L5.41 20z\"/>\n",
       "  </svg>\n",
       "      </button>\n",
       "      \n",
       "  <style>\n",
       "    .colab-df-container {\n",
       "      display:flex;\n",
       "      flex-wrap:wrap;\n",
       "      gap: 12px;\n",
       "    }\n",
       "\n",
       "    .colab-df-convert {\n",
       "      background-color: #E8F0FE;\n",
       "      border: none;\n",
       "      border-radius: 50%;\n",
       "      cursor: pointer;\n",
       "      display: none;\n",
       "      fill: #1967D2;\n",
       "      height: 32px;\n",
       "      padding: 0 0 0 0;\n",
       "      width: 32px;\n",
       "    }\n",
       "\n",
       "    .colab-df-convert:hover {\n",
       "      background-color: #E2EBFA;\n",
       "      box-shadow: 0px 1px 2px rgba(60, 64, 67, 0.3), 0px 1px 3px 1px rgba(60, 64, 67, 0.15);\n",
       "      fill: #174EA6;\n",
       "    }\n",
       "\n",
       "    [theme=dark] .colab-df-convert {\n",
       "      background-color: #3B4455;\n",
       "      fill: #D2E3FC;\n",
       "    }\n",
       "\n",
       "    [theme=dark] .colab-df-convert:hover {\n",
       "      background-color: #434B5C;\n",
       "      box-shadow: 0px 1px 3px 1px rgba(0, 0, 0, 0.15);\n",
       "      filter: drop-shadow(0px 1px 2px rgba(0, 0, 0, 0.3));\n",
       "      fill: #FFFFFF;\n",
       "    }\n",
       "  </style>\n",
       "\n",
       "      <script>\n",
       "        const buttonEl =\n",
       "          document.querySelector('#df-be27a644-2c99-4855-8970-94303478b0bd button.colab-df-convert');\n",
       "        buttonEl.style.display =\n",
       "          google.colab.kernel.accessAllowed ? 'block' : 'none';\n",
       "\n",
       "        async function convertToInteractive(key) {\n",
       "          const element = document.querySelector('#df-be27a644-2c99-4855-8970-94303478b0bd');\n",
       "          const dataTable =\n",
       "            await google.colab.kernel.invokeFunction('convertToInteractive',\n",
       "                                                     [key], {});\n",
       "          if (!dataTable) return;\n",
       "\n",
       "          const docLinkHtml = 'Like what you see? Visit the ' +\n",
       "            '<a target=\"_blank\" href=https://colab.research.google.com/notebooks/data_table.ipynb>data table notebook</a>'\n",
       "            + ' to learn more about interactive tables.';\n",
       "          element.innerHTML = '';\n",
       "          dataTable['output_type'] = 'display_data';\n",
       "          await google.colab.output.renderOutput(dataTable, element);\n",
       "          const docLink = document.createElement('div');\n",
       "          docLink.innerHTML = docLinkHtml;\n",
       "          element.appendChild(docLink);\n",
       "        }\n",
       "      </script>\n",
       "    </div>\n",
       "  </div>\n",
       "  "
      ]
     },
     "metadata": {},
     "execution_count": 99
    }
   ]
  },
  {
   "cell_type": "markdown",
   "source": [
    "#### Hypothesis:\n",
    "\n",
    "H0: The linear regression model constructed for a dependent variable 'Tariff Rates' and the following predictors:\n",
    "- Middle income and developing countries factor\n",
    "- Sahara region countries and high corporate tax rate\n",
    "- World and Region Ranking\n",
    "\n",
    "explains the variation of 'Tariff Rates'.\n",
    "\n",
    "H1: The aforementioned model does not explain the variation of 'Tariff Rates'.\n",
    "\n",
    "p-value = 0.05.\n",
    "\n",
    "The hypothesis can be checked based on R^2 of the model as well as based on the results of F-test"
   ],
   "metadata": {
    "id": "S0EzJXBWQOax",
    "pycharm": {
     "name": "#%% md\n"
    }
   }
  },
  {
   "cell_type": "code",
   "source": [
    "import statsmodels.api as sm\n",
    "df_model = transformed.dropna(subset=['Middle income and developing countries', \n",
    "                                          'Sahara region countries and high corporate tax rate',\n",
    "                                          'World and Region Ranking'\n",
    "                                          ])\n",
    "df_model.shape"
   ],
   "metadata": {
    "colab": {
     "base_uri": "https://localhost:8080/"
    },
    "id": "uejRU2C1Qe-7",
    "executionInfo": {
     "status": "ok",
     "timestamp": 1650110691479,
     "user_tz": -180,
     "elapsed": 1312,
     "user": {
      "displayName": "Vadim Zhdanov",
      "userId": "12617771296867183814"
     }
    },
    "outputId": "0aed6ca0-47e3-4fc4-ee44-9d20d28c7a86",
    "pycharm": {
     "name": "#%%\n"
    }
   },
   "execution_count": 100,
   "outputs": [
    {
     "output_type": "stream",
     "name": "stderr",
     "text": [
      "/usr/local/lib/python3.7/dist-packages/statsmodels/tools/_testing.py:19: FutureWarning: pandas.util.testing is deprecated. Use the functions in the public API at pandas.testing instead.\n",
      "  import pandas.util.testing as tm\n"
     ]
    },
    {
     "output_type": "execute_result",
     "data": {
      "text/plain": [
       "(184, 3)"
      ]
     },
     "metadata": {},
     "execution_count": 100
    }
   ]
  },
  {
   "cell_type": "code",
   "source": [
    "x_mult = transformed[['Middle income and developing countries', \n",
    "                                          'Sahara region countries and high corporate tax rate',\n",
    "                                          'World and Region Ranking'\n",
    "                                          ]]\n",
    "y = df_with_dummies['TariffRate']\n",
    "x_mult_constant = sm.add_constant(x_mult)"
   ],
   "metadata": {
    "colab": {
     "base_uri": "https://localhost:8080/"
    },
    "id": "IVppwoR7Qvzf",
    "executionInfo": {
     "status": "ok",
     "timestamp": 1650110754167,
     "user_tz": -180,
     "elapsed": 462,
     "user": {
      "displayName": "Vadim Zhdanov",
      "userId": "12617771296867183814"
     }
    },
    "outputId": "9deaa211-dacc-457a-be07-7b3ef7a3bed0",
    "pycharm": {
     "name": "#%%\n"
    }
   },
   "execution_count": 102,
   "outputs": [
    {
     "output_type": "stream",
     "name": "stderr",
     "text": [
      "/usr/local/lib/python3.7/dist-packages/statsmodels/tsa/tsatools.py:117: FutureWarning: In a future version of pandas all arguments of concat except for the argument 'objs' will be keyword-only\n",
      "  x = pd.concat(x[::order], 1)\n"
     ]
    }
   ]
  },
  {
   "cell_type": "code",
   "source": [
    "model = sm.OLS(y, x_mult_constant).fit()"
   ],
   "metadata": {
    "id": "Pzr7KHldQ_Vw",
    "executionInfo": {
     "status": "ok",
     "timestamp": 1650110762789,
     "user_tz": -180,
     "elapsed": 407,
     "user": {
      "displayName": "Vadim Zhdanov",
      "userId": "12617771296867183814"
     }
    },
    "pycharm": {
     "name": "#%%\n"
    }
   },
   "execution_count": 103,
   "outputs": []
  },
  {
   "cell_type": "code",
   "source": [
    "print('R^2 = {:f}'.format(model.rsquared))\n",
    "print('F-test significance = {:f}'.format(model.f_pvalue))"
   ],
   "metadata": {
    "colab": {
     "base_uri": "https://localhost:8080/"
    },
    "id": "g7L55OFhRCAp",
    "executionInfo": {
     "status": "ok",
     "timestamp": 1650110769284,
     "user_tz": -180,
     "elapsed": 465,
     "user": {
      "displayName": "Vadim Zhdanov",
      "userId": "12617771296867183814"
     }
    },
    "outputId": "457b0608-0ff4-4543-d6f7-8ce502e9af64",
    "pycharm": {
     "name": "#%%\n"
    }
   },
   "execution_count": 104,
   "outputs": [
    {
     "output_type": "stream",
     "name": "stdout",
     "text": [
      "R^2 = 0.306524\n",
      "F-test significance = 0.000000\n"
     ]
    }
   ]
  },
  {
   "cell_type": "markdown",
   "source": [
    "The model is statistically significant and explains 30,6% of variance of variable 'TariffRate'. H1 is rejected at p-value = 0.05"
   ],
   "metadata": {
    "id": "nEw3SasSRES_",
    "pycharm": {
     "name": "#%% md\n"
    }
   }
  },
  {
   "cell_type": "markdown",
   "source": [
    "## Regression equation"
   ],
   "metadata": {
    "id": "5BHUAas_RLog",
    "pycharm": {
     "name": "#%% md\n"
    }
   }
  },
  {
   "cell_type": "code",
   "source": [
    "l = []\n",
    "for (param, index) in zip(model.params[1:], model.params.index[1:]):\n",
    "    l.append('{:.2f}*{}'.format(param, index))\n",
    "    \n",
    "print('Y = {:2f} + {}'.format(model.params[0], ' + '.join(l)))"
   ],
   "metadata": {
    "colab": {
     "base_uri": "https://localhost:8080/"
    },
    "id": "ZGwJ5o5kRRlP",
    "executionInfo": {
     "status": "ok",
     "timestamp": 1650110861347,
     "user_tz": -180,
     "elapsed": 344,
     "user": {
      "displayName": "Vadim Zhdanov",
      "userId": "12617771296867183814"
     }
    },
    "outputId": "68b0fdba-bc05-47f5-933c-0549a6a39ac2",
    "pycharm": {
     "name": "#%%\n"
    }
   },
   "execution_count": 105,
   "outputs": [
    {
     "output_type": "stream",
     "name": "stdout",
     "text": [
      "Y = 7.796196 + 1.98*Middle income and developing countries + 2.39*Sahara region countries and high corporate tax rate + 1.69*World and Region Ranking\n"
     ]
    }
   ]
  },
  {
   "cell_type": "markdown",
   "source": [
    "## Relationships"
   ],
   "metadata": {
    "id": "nSV9qkpZRuUi",
    "pycharm": {
     "name": "#%% md\n"
    }
   }
  },
  {
   "cell_type": "code",
   "source": [
    "print(model.summary())"
   ],
   "metadata": {
    "colab": {
     "base_uri": "https://localhost:8080/"
    },
    "id": "KDoTaHdPRyc2",
    "executionInfo": {
     "status": "ok",
     "timestamp": 1650110967636,
     "user_tz": -180,
     "elapsed": 390,
     "user": {
      "displayName": "Vadim Zhdanov",
      "userId": "12617771296867183814"
     }
    },
    "outputId": "c23ff6c8-84e8-4fae-dd7e-9aa519b8d127",
    "pycharm": {
     "name": "#%%\n"
    }
   },
   "execution_count": 106,
   "outputs": [
    {
     "output_type": "stream",
     "name": "stdout",
     "text": [
      "                            OLS Regression Results                            \n",
      "==============================================================================\n",
      "Dep. Variable:             TariffRate   R-squared:                       0.307\n",
      "Model:                            OLS   Adj. R-squared:                  0.295\n",
      "Method:                 Least Squares   F-statistic:                     26.52\n",
      "Date:                Sat, 16 Apr 2022   Prob (F-statistic):           2.97e-14\n",
      "Time:                        12:09:27   Log-Likelihood:                -568.48\n",
      "No. Observations:                 184   AIC:                             1145.\n",
      "Df Residuals:                     180   BIC:                             1158.\n",
      "Df Model:                           3                                         \n",
      "Covariance Type:            nonrobust                                         \n",
      "=======================================================================================================================\n",
      "                                                          coef    std err          t      P>|t|      [0.025      0.975]\n",
      "-----------------------------------------------------------------------------------------------------------------------\n",
      "const                                                   7.7962      0.396     19.678      0.000       7.014       8.578\n",
      "Middle income and developing countries                  1.9795      0.396      4.996      0.000       1.198       2.761\n",
      "Sahara region countries and high corporate tax rate     2.3885      0.396      6.029      0.000       1.607       3.170\n",
      "World and Region Ranking                                1.6927      0.396      4.273      0.000       0.911       2.475\n",
      "==============================================================================\n",
      "Omnibus:                      251.072   Durbin-Watson:                   1.532\n",
      "Prob(Omnibus):                  0.000   Jarque-Bera (JB):            21522.283\n",
      "Skew:                           5.655   Prob(JB):                         0.00\n",
      "Kurtosis:                      54.762   Cond. No.                         1.00\n",
      "==============================================================================\n",
      "\n",
      "Warnings:\n",
      "[1] Standard Errors assume that the covariance matrix of the errors is correctly specified.\n"
     ]
    }
   ]
  },
  {
   "cell_type": "markdown",
   "source": [
    "- the coef of Middle income and developing countries is positive and equals to 1.9 => tariffrate increase 1.9 points for increasing that factor\n",
    "- the coef of Sahara region and high corporate tax rate is positive adn equals to 2.4 => tariffrate increase 2.4 points for incresing that factor\n",
    "- the coef of World and Region Ranking is positive and equals to 1.7 => tariffrate increase 1.7 points for increasing that factor"
   ],
   "metadata": {
    "id": "_j4sL2wtRz7X",
    "pycharm": {
     "name": "#%% md\n"
    }
   }
  },
  {
   "cell_type": "markdown",
   "source": [
    "## Model diagnostics"
   ],
   "metadata": {
    "id": "XfKr0cnuSa-6",
    "pycharm": {
     "name": "#%% md\n"
    }
   }
  },
  {
   "cell_type": "markdown",
   "source": [
    "### Residuals\n",
    "\n",
    "To evaluate how he model fits the sample data, the residuals can be calculated. Small residuals show that fits the sample data well"
   ],
   "metadata": {
    "id": "9jOsHkrySsEV",
    "pycharm": {
     "name": "#%% md\n"
    }
   }
  },
  {
   "cell_type": "markdown",
   "source": [
    "#### Hypothesis:\n",
    "\n",
    "H1: The distribution of residuals is different from the normal distribution\n",
    "\n",
    "H0: The distribution of residuals is not different from the normal distribution\n",
    "\n",
    "p-value = 0.05"
   ],
   "metadata": {
    "id": "gCIFCjIwSw7T",
    "pycharm": {
     "name": "#%% md\n"
    }
   }
  },
  {
   "cell_type": "code",
   "source": [
    "p = kstest(model.resid, 'norm', args=(model.resid.mean(), model.resid.std())).pvalue\n",
    "print('P-value: {:.3f}'.format(p))"
   ],
   "metadata": {
    "colab": {
     "base_uri": "https://localhost:8080/"
    },
    "id": "Vbk5uMH7SzyX",
    "executionInfo": {
     "status": "ok",
     "timestamp": 1650111253215,
     "user_tz": -180,
     "elapsed": 461,
     "user": {
      "displayName": "Vadim Zhdanov",
      "userId": "12617771296867183814"
     }
    },
    "outputId": "8afac493-3d13-4614-bb9f-cb9097104da7",
    "pycharm": {
     "name": "#%%\n"
    }
   },
   "execution_count": 109,
   "outputs": [
    {
     "output_type": "stream",
     "name": "stdout",
     "text": [
      "P-value: 0.000\n"
     ]
    }
   ]
  },
  {
   "cell_type": "code",
   "source": [
    "sns.distplot(model.resid, fit=norm) "
   ],
   "metadata": {
    "colab": {
     "base_uri": "https://localhost:8080/",
     "height": 338
    },
    "id": "9dtwkt6uS1z2",
    "executionInfo": {
     "status": "ok",
     "timestamp": 1650111260835,
     "user_tz": -180,
     "elapsed": 973,
     "user": {
      "displayName": "Vadim Zhdanov",
      "userId": "12617771296867183814"
     }
    },
    "outputId": "d6ffbe3a-63f1-4bae-f349-5d26cbbfaaac",
    "pycharm": {
     "name": "#%%\n"
    }
   },
   "execution_count": 110,
   "outputs": [
    {
     "output_type": "stream",
     "name": "stderr",
     "text": [
      "/usr/local/lib/python3.7/dist-packages/seaborn/distributions.py:2619: FutureWarning: `distplot` is a deprecated function and will be removed in a future version. Please adapt your code to use either `displot` (a figure-level function with similar flexibility) or `histplot` (an axes-level function for histograms).\n",
      "  warnings.warn(msg, FutureWarning)\n"
     ]
    },
    {
     "output_type": "execute_result",
     "data": {
      "text/plain": [
       "<matplotlib.axes._subplots.AxesSubplot at 0x7fccf841bf10>"
      ]
     },
     "metadata": {},
     "execution_count": 110
    },
    {
     "output_type": "display_data",
     "data": {
      "text/plain": [
       "<Figure size 432x288 with 1 Axes>"
      ],
      "image/png": "[encoded data removed]"
     },
     "metadata": {
      "needs_background": "light"
     }
    }
   ]
  },
  {
   "cell_type": "markdown",
   "source": [
    "#### Conclusion:\n",
    "\n",
    "H1 is accepted at p-value = 0.05: the distribution of residuals is different from the normal distribution.\n",
    "\n",
    "Indeed, there are some outliers, which is seen on the plot. The model does not really well fit the sample data"
   ],
   "metadata": {
    "id": "udjoK_4dS72A",
    "pycharm": {
     "name": "#%% md\n"
    }
   }
  },
  {
   "cell_type": "markdown",
   "source": [
    "### Multicollinearity\n",
    "\n",
    "Multicollinearity can be checked to find any strong correlations between predictors"
   ],
   "metadata": {
    "id": "WxLRXi1YTA7S",
    "pycharm": {
     "name": "#%% md\n"
    }
   }
  },
  {
   "cell_type": "code",
   "source": [
    "vifs = np.array([vif(model.model.exog, i) for i in range(model.model.exog.shape[1])])\n",
    "\n",
    "vif_df = pd.DataFrame()\n",
    "vif_df['VIF'] = vifs[1:]\n",
    "vif_df['Features'] = model.params.index[1:]\n",
    "vif_df.sort_values(by=['VIF'])"
   ],
   "metadata": {
    "colab": {
     "base_uri": "https://localhost:8080/",
     "height": 143
    },
    "id": "L3N2c4bBTEVQ",
    "executionInfo": {
     "status": "ok",
     "timestamp": 1650111337594,
     "user_tz": -180,
     "elapsed": 364,
     "user": {
      "displayName": "Vadim Zhdanov",
      "userId": "12617771296867183814"
     }
    },
    "outputId": "656c2338-8a58-414f-f2c2-52a9b2987c58",
    "pycharm": {
     "name": "#%%\n"
    }
   },
   "execution_count": 115,
   "outputs": [
    {
     "output_type": "execute_result",
     "data": {
      "text/plain": [
       "   VIF                                           Features\n",
       "0  1.0             Middle income and developing countries\n",
       "2  1.0                           World and Region Ranking\n",
       "1  1.0  Sahara region countries and high corporate tax..."
      ],
      "text/html": [
       "\n",
       "  <div id=\"df-ef579e5b-5ffb-42af-aed4-6fe4de342307\">\n",
       "    <div class=\"colab-df-container\">\n",
       "      <div>\n",
       "<style scoped>\n",
       "    .dataframe tbody tr th:only-of-type {\n",
       "        vertical-align: middle;\n",
       "    }\n",
       "\n",
       "    .dataframe tbody tr th {\n",
       "        vertical-align: top;\n",
       "    }\n",
       "\n",
       "    .dataframe thead th {\n",
       "        text-align: right;\n",
       "    }\n",
       "</style>\n",
       "<table border=\"1\" class=\"dataframe\">\n",
       "  <thead>\n",
       "    <tr style=\"text-align: right;\">\n",
       "      <th></th>\n",
       "      <th>VIF</th>\n",
       "      <th>Features</th>\n",
       "    </tr>\n",
       "  </thead>\n",
       "  <tbody>\n",
       "    <tr>\n",
       "      <th>0</th>\n",
       "      <td>1.0</td>\n",
       "      <td>Middle income and developing countries</td>\n",
       "    </tr>\n",
       "    <tr>\n",
       "      <th>2</th>\n",
       "      <td>1.0</td>\n",
       "      <td>World and Region Ranking</td>\n",
       "    </tr>\n",
       "    <tr>\n",
       "      <th>1</th>\n",
       "      <td>1.0</td>\n",
       "      <td>Sahara region countries and high corporate tax...</td>\n",
       "    </tr>\n",
       "  </tbody>\n",
       "</table>\n",
       "</div>\n",
       "      <button class=\"colab-df-convert\" onclick=\"convertToInteractive('df-ef579e5b-5ffb-42af-aed4-6fe4de342307')\"\n",
       "              title=\"Convert this dataframe to an interactive table.\"\n",
       "              style=\"display:none;\">\n",
       "        \n",
       "  <svg xmlns=\"http://www.w3.org/2000/svg\" height=\"24px\"viewBox=\"0 0 24 24\"\n",
       "       width=\"24px\">\n",
       "    <path d=\"M0 0h24v24H0V0z\" fill=\"none\"/>\n",
       "    <path d=\"M18.56 5.44l.94 2.06.94-2.06 2.06-.94-2.06-.94-.94-2.06-.94 2.06-2.06.94zm-11 1L8.5 8.5l.94-2.06 2.06-.94-2.06-.94L8.5 2.5l-.94 2.06-2.06.94zm10 10l.94 2.06.94-2.06 2.06-.94-2.06-.94-.94-2.06-.94 2.06-2.06.94z\"/><path d=\"M17.41 7.96l-1.37-1.37c-.4-.4-.92-.59-1.43-.59-.52 0-1.04.2-1.43.59L10.3 9.45l-7.72 7.72c-.78.78-.78 2.05 0 2.83L4 21.41c.39.39.9.59 1.41.59.51 0 1.02-.2 1.41-.59l7.78-7.78 2.81-2.81c.8-.78.8-2.07 0-2.86zM5.41 20L4 18.59l7.72-7.72 1.47 1.35L5.41 20z\"/>\n",
       "  </svg>\n",
       "      </button>\n",
       "      \n",
       "  <style>\n",
       "    .colab-df-container {\n",
       "      display:flex;\n",
       "      flex-wrap:wrap;\n",
       "      gap: 12px;\n",
       "    }\n",
       "\n",
       "    .colab-df-convert {\n",
       "      background-color: #E8F0FE;\n",
       "      border: none;\n",
       "      border-radius: 50%;\n",
       "      cursor: pointer;\n",
       "      display: none;\n",
       "      fill: #1967D2;\n",
       "      height: 32px;\n",
       "      padding: 0 0 0 0;\n",
       "      width: 32px;\n",
       "    }\n",
       "\n",
       "    .colab-df-convert:hover {\n",
       "      background-color: #E2EBFA;\n",
       "      box-shadow: 0px 1px 2px rgba(60, 64, 67, 0.3), 0px 1px 3px 1px rgba(60, 64, 67, 0.15);\n",
       "      fill: #174EA6;\n",
       "    }\n",
       "\n",
       "    [theme=dark] .colab-df-convert {\n",
       "      background-color: #3B4455;\n",
       "      fill: #D2E3FC;\n",
       "    }\n",
       "\n",
       "    [theme=dark] .colab-df-convert:hover {\n",
       "      background-color: #434B5C;\n",
       "      box-shadow: 0px 1px 3px 1px rgba(0, 0, 0, 0.15);\n",
       "      filter: drop-shadow(0px 1px 2px rgba(0, 0, 0, 0.3));\n",
       "      fill: #FFFFFF;\n",
       "    }\n",
       "  </style>\n",
       "\n",
       "      <script>\n",
       "        const buttonEl =\n",
       "          document.querySelector('#df-ef579e5b-5ffb-42af-aed4-6fe4de342307 button.colab-df-convert');\n",
       "        buttonEl.style.display =\n",
       "          google.colab.kernel.accessAllowed ? 'block' : 'none';\n",
       "\n",
       "        async function convertToInteractive(key) {\n",
       "          const element = document.querySelector('#df-ef579e5b-5ffb-42af-aed4-6fe4de342307');\n",
       "          const dataTable =\n",
       "            await google.colab.kernel.invokeFunction('convertToInteractive',\n",
       "                                                     [key], {});\n",
       "          if (!dataTable) return;\n",
       "\n",
       "          const docLinkHtml = 'Like what you see? Visit the ' +\n",
       "            '<a target=\"_blank\" href=https://colab.research.google.com/notebooks/data_table.ipynb>data table notebook</a>'\n",
       "            + ' to learn more about interactive tables.';\n",
       "          element.innerHTML = '';\n",
       "          dataTable['output_type'] = 'display_data';\n",
       "          await google.colab.output.renderOutput(dataTable, element);\n",
       "          const docLink = document.createElement('div');\n",
       "          docLink.innerHTML = docLinkHtml;\n",
       "          element.appendChild(docLink);\n",
       "        }\n",
       "      </script>\n",
       "    </div>\n",
       "  </div>\n",
       "  "
      ]
     },
     "metadata": {},
     "execution_count": 115
    }
   ]
  },
  {
   "cell_type": "markdown",
   "source": [
    "All factors are statistical important for the analysis."
   ],
   "metadata": {
    "id": "t2fNJQayTWu3",
    "pycharm": {
     "name": "#%% md\n"
    }
   }
  },
  {
   "cell_type": "markdown",
   "source": [
    "### Heteroscedasticity\n",
    "\n",
    "To check the well-fitness of the model, the heteroscedasticity can be evaluated. If the model is well-fitted, there should be no pattern to the residuals plotted against the fitted values."
   ],
   "metadata": {
    "id": "tTOwxo-0TcgZ",
    "pycharm": {
     "name": "#%% md\n"
    }
   }
  },
  {
   "cell_type": "code",
   "source": [
    "plt.figure(figsize=(8,5))\n",
    "plt.scatter(x=model.fittedvalues, y=model.resid, color='blue', edgecolor='k')\n",
    "plt.grid(True)\n",
    "plt.xlabel('Fitted value', fontsize=14)\n",
    "plt.ylabel('Residual', fontsize=14)\n",
    "plt.show()"
   ],
   "metadata": {
    "colab": {
     "base_uri": "https://localhost:8080/",
     "height": 338
    },
    "id": "Hj4eSj2HTf_1",
    "executionInfo": {
     "status": "ok",
     "timestamp": 1650111417431,
     "user_tz": -180,
     "elapsed": 1001,
     "user": {
      "displayName": "Vadim Zhdanov",
      "userId": "12617771296867183814"
     }
    },
    "outputId": "d7a859e2-dfb8-4d95-e343-39ae0a4fa17d",
    "pycharm": {
     "name": "#%%\n"
    }
   },
   "execution_count": 116,
   "outputs": [
    {
     "output_type": "display_data",
     "data": {
      "text/plain": [
       "<Figure size 576x360 with 1 Axes>"
      ],
      "image/png": "[encoded data removed]"
     },
     "metadata": {
      "needs_background": "light"
     }
    }
   ]
  },
  {
   "cell_type": "markdown",
   "source": [
    "Generally, the model can be characterized to be both homoscedastic (for the first 100 000 fitted values) then heteroscedastic (for all the fitted values). Since we evaluate all the model and variance of the residuals is non-constant throughout the whole model (especially in comparison of the left and the right sides of the plot), we have to say that there still exists a problem of heteroscedasticity."
   ],
   "metadata": {
    "id": "dBNYyPv-Tv16",
    "pycharm": {
     "name": "#%% md\n"
    }
   }
  },
  {
   "cell_type": "markdown",
   "source": [
    "### Outliers and influential cases\n",
    "\n",
    "Influential cases can be detected using DFFITS techniqe. Outliers can be detected by checking the standardized residuals of cases in the sample"
   ],
   "metadata": {
    "id": "_UGh5GLhTyPA",
    "pycharm": {
     "name": "#%% md\n"
    }
   }
  },
  {
   "cell_type": "code",
   "source": [
    "influence = model.get_influence()\n",
    "inf_sum = influence.summary_frame()\n",
    "inf_sum"
   ],
   "metadata": {
    "colab": {
     "base_uri": "https://localhost:8080/",
     "height": 606
    },
    "id": "vxGEgTR7T0IW",
    "executionInfo": {
     "status": "ok",
     "timestamp": 1650111500330,
     "user_tz": -180,
     "elapsed": 1247,
     "user": {
      "displayName": "Vadim Zhdanov",
      "userId": "12617771296867183814"
     }
    },
    "outputId": "ea84288a-0c5e-4d29-d629-943396907225",
    "pycharm": {
     "name": "#%%\n"
    }
   },
   "execution_count": 117,
   "outputs": [
    {
     "output_type": "execute_result",
     "data": {
      "text/plain": [
       "           dfb_const  dfb_Middle income and developing countries  \\\n",
       "CountryID                                                          \n",
       "1          -0.006831                                    0.000708   \n",
       "2          -0.045507                                   -0.037664   \n",
       "3           0.064881                                    0.052997   \n",
       "4          -0.068255                                   -0.051249   \n",
       "5           0.040500                                    0.023878   \n",
       "...              ...                                         ...   \n",
       "179        -0.041311                                    0.004820   \n",
       "180        -0.031504                                   -0.034914   \n",
       "181        -0.007241                                    0.000811   \n",
       "182        -0.075312                                   -0.028315   \n",
       "183         1.140194                                    0.539850   \n",
       "\n",
       "           dfb_Sahara region countries and high corporate tax rate  \\\n",
       "CountryID                                                            \n",
       "1                                                   0.000668         \n",
       "2                                                   0.047531         \n",
       "3                                                  -0.025484         \n",
       "4                                                  -0.069738         \n",
       "5                                                  -0.023254         \n",
       "...                                                      ...         \n",
       "179                                                 0.014465         \n",
       "180                                                 0.017587         \n",
       "181                                                 0.000743         \n",
       "182                                                -0.105661         \n",
       "183                                                 0.985657         \n",
       "\n",
       "           dfb_World and Region Ranking   cooks_d  standard_resid  hat_diag  \\\n",
       "CountryID                                                                     \n",
       "1                              0.001456  0.000013       -0.092644  0.005792   \n",
       "2                             -0.000892  0.001442       -0.613681  0.015088   \n",
       "3                              0.024634  0.002071        0.875951  0.010683   \n",
       "4                             -0.027425  0.003228       -0.919267  0.015050   \n",
       "5                              0.040506  0.001102        0.546423  0.014552   \n",
       "...                                 ...       ...             ...       ...   \n",
       "179                           -0.206476  0.011188       -0.520137  0.141939   \n",
       "180                            0.014689  0.000687       -0.425094  0.014985   \n",
       "181                            0.001297  0.000014       -0.098208  0.005734   \n",
       "182                           -0.083171  0.006138       -1.009444  0.023529   \n",
       "183                            2.669529  1.067326       10.056323  0.040506   \n",
       "\n",
       "           dffits_internal  student_resid    dffits  \n",
       "CountryID                                            \n",
       "1                -0.007071      -0.092388 -0.007052  \n",
       "2                -0.075957      -0.612615 -0.075825  \n",
       "3                 0.091024       0.875382  0.090965  \n",
       "4                -0.113631      -0.918869 -0.113582  \n",
       "5                 0.066401       0.545356  0.066271  \n",
       "...                    ...            ...       ...  \n",
       "179              -0.211549      -0.519081 -0.211119  \n",
       "180              -0.052431      -0.424125 -0.052312  \n",
       "181              -0.007458      -0.097938 -0.007438  \n",
       "182              -0.156693      -1.009498 -0.156702  \n",
       "183               2.066229      15.149867  3.112778  \n",
       "\n",
       "[184 rows x 10 columns]"
      ],
      "text/html": [
       "\n",
       "  <div id=\"df-ac632b11-514b-4357-8cb7-5d91dfec8428\">\n",
       "    <div class=\"colab-df-container\">\n",
       "      <div>\n",
       "<style scoped>\n",
       "    .dataframe tbody tr th:only-of-type {\n",
       "        vertical-align: middle;\n",
       "    }\n",
       "\n",
       "    .dataframe tbody tr th {\n",
       "        vertical-align: top;\n",
       "    }\n",
       "\n",
       "    .dataframe thead th {\n",
       "        text-align: right;\n",
       "    }\n",
       "</style>\n",
       "<table border=\"1\" class=\"dataframe\">\n",
       "  <thead>\n",
       "    <tr style=\"text-align: right;\">\n",
       "      <th></th>\n",
       "      <th>dfb_const</th>\n",
       "      <th>dfb_Middle income and developing countries</th>\n",
       "      <th>dfb_Sahara region countries and high corporate tax rate</th>\n",
       "      <th>dfb_World and Region Ranking</th>\n",
       "      <th>cooks_d</th>\n",
       "      <th>standard_resid</th>\n",
       "      <th>hat_diag</th>\n",
       "      <th>dffits_internal</th>\n",
       "      <th>student_resid</th>\n",
       "      <th>dffits</th>\n",
       "    </tr>\n",
       "    <tr>\n",
       "      <th>CountryID</th>\n",
       "      <th></th>\n",
       "      <th></th>\n",
       "      <th></th>\n",
       "      <th></th>\n",
       "      <th></th>\n",
       "      <th></th>\n",
       "      <th></th>\n",
       "      <th></th>\n",
       "      <th></th>\n",
       "      <th></th>\n",
       "    </tr>\n",
       "  </thead>\n",
       "  <tbody>\n",
       "    <tr>\n",
       "      <th>1</th>\n",
       "      <td>-0.006831</td>\n",
       "      <td>0.000708</td>\n",
       "      <td>0.000668</td>\n",
       "      <td>0.001456</td>\n",
       "      <td>0.000013</td>\n",
       "      <td>-0.092644</td>\n",
       "      <td>0.005792</td>\n",
       "      <td>-0.007071</td>\n",
       "      <td>-0.092388</td>\n",
       "      <td>-0.007052</td>\n",
       "    </tr>\n",
       "    <tr>\n",
       "      <th>2</th>\n",
       "      <td>-0.045507</td>\n",
       "      <td>-0.037664</td>\n",
       "      <td>0.047531</td>\n",
       "      <td>-0.000892</td>\n",
       "      <td>0.001442</td>\n",
       "      <td>-0.613681</td>\n",
       "      <td>0.015088</td>\n",
       "      <td>-0.075957</td>\n",
       "      <td>-0.612615</td>\n",
       "      <td>-0.075825</td>\n",
       "    </tr>\n",
       "    <tr>\n",
       "      <th>3</th>\n",
       "      <td>0.064881</td>\n",
       "      <td>0.052997</td>\n",
       "      <td>-0.025484</td>\n",
       "      <td>0.024634</td>\n",
       "      <td>0.002071</td>\n",
       "      <td>0.875951</td>\n",
       "      <td>0.010683</td>\n",
       "      <td>0.091024</td>\n",
       "      <td>0.875382</td>\n",
       "      <td>0.090965</td>\n",
       "    </tr>\n",
       "    <tr>\n",
       "      <th>4</th>\n",
       "      <td>-0.068255</td>\n",
       "      <td>-0.051249</td>\n",
       "      <td>-0.069738</td>\n",
       "      <td>-0.027425</td>\n",
       "      <td>0.003228</td>\n",
       "      <td>-0.919267</td>\n",
       "      <td>0.015050</td>\n",
       "      <td>-0.113631</td>\n",
       "      <td>-0.918869</td>\n",
       "      <td>-0.113582</td>\n",
       "    </tr>\n",
       "    <tr>\n",
       "      <th>5</th>\n",
       "      <td>0.040500</td>\n",
       "      <td>0.023878</td>\n",
       "      <td>-0.023254</td>\n",
       "      <td>0.040506</td>\n",
       "      <td>0.001102</td>\n",
       "      <td>0.546423</td>\n",
       "      <td>0.014552</td>\n",
       "      <td>0.066401</td>\n",
       "      <td>0.545356</td>\n",
       "      <td>0.066271</td>\n",
       "    </tr>\n",
       "    <tr>\n",
       "      <th>...</th>\n",
       "      <td>...</td>\n",
       "      <td>...</td>\n",
       "      <td>...</td>\n",
       "      <td>...</td>\n",
       "      <td>...</td>\n",
       "      <td>...</td>\n",
       "      <td>...</td>\n",
       "      <td>...</td>\n",
       "      <td>...</td>\n",
       "      <td>...</td>\n",
       "    </tr>\n",
       "    <tr>\n",
       "      <th>179</th>\n",
       "      <td>-0.041311</td>\n",
       "      <td>0.004820</td>\n",
       "      <td>0.014465</td>\n",
       "      <td>-0.206476</td>\n",
       "      <td>0.011188</td>\n",
       "      <td>-0.520137</td>\n",
       "      <td>0.141939</td>\n",
       "      <td>-0.211549</td>\n",
       "      <td>-0.519081</td>\n",
       "      <td>-0.211119</td>\n",
       "    </tr>\n",
       "    <tr>\n",
       "      <th>180</th>\n",
       "      <td>-0.031504</td>\n",
       "      <td>-0.034914</td>\n",
       "      <td>0.017587</td>\n",
       "      <td>0.014689</td>\n",
       "      <td>0.000687</td>\n",
       "      <td>-0.425094</td>\n",
       "      <td>0.014985</td>\n",
       "      <td>-0.052431</td>\n",
       "      <td>-0.424125</td>\n",
       "      <td>-0.052312</td>\n",
       "    </tr>\n",
       "    <tr>\n",
       "      <th>181</th>\n",
       "      <td>-0.007241</td>\n",
       "      <td>0.000811</td>\n",
       "      <td>0.000743</td>\n",
       "      <td>0.001297</td>\n",
       "      <td>0.000014</td>\n",
       "      <td>-0.098208</td>\n",
       "      <td>0.005734</td>\n",
       "      <td>-0.007458</td>\n",
       "      <td>-0.097938</td>\n",
       "      <td>-0.007438</td>\n",
       "    </tr>\n",
       "    <tr>\n",
       "      <th>182</th>\n",
       "      <td>-0.075312</td>\n",
       "      <td>-0.028315</td>\n",
       "      <td>-0.105661</td>\n",
       "      <td>-0.083171</td>\n",
       "      <td>0.006138</td>\n",
       "      <td>-1.009444</td>\n",
       "      <td>0.023529</td>\n",
       "      <td>-0.156693</td>\n",
       "      <td>-1.009498</td>\n",
       "      <td>-0.156702</td>\n",
       "    </tr>\n",
       "    <tr>\n",
       "      <th>183</th>\n",
       "      <td>1.140194</td>\n",
       "      <td>0.539850</td>\n",
       "      <td>0.985657</td>\n",
       "      <td>2.669529</td>\n",
       "      <td>1.067326</td>\n",
       "      <td>10.056323</td>\n",
       "      <td>0.040506</td>\n",
       "      <td>2.066229</td>\n",
       "      <td>15.149867</td>\n",
       "      <td>3.112778</td>\n",
       "    </tr>\n",
       "  </tbody>\n",
       "</table>\n",
       "<p>184 rows × 10 columns</p>\n",
       "</div>\n",
       "      <button class=\"colab-df-convert\" onclick=\"convertToInteractive('df-ac632b11-514b-4357-8cb7-5d91dfec8428')\"\n",
       "              title=\"Convert this dataframe to an interactive table.\"\n",
       "              style=\"display:none;\">\n",
       "        \n",
       "  <svg xmlns=\"http://www.w3.org/2000/svg\" height=\"24px\"viewBox=\"0 0 24 24\"\n",
       "       width=\"24px\">\n",
       "    <path d=\"M0 0h24v24H0V0z\" fill=\"none\"/>\n",
       "    <path d=\"M18.56 5.44l.94 2.06.94-2.06 2.06-.94-2.06-.94-.94-2.06-.94 2.06-2.06.94zm-11 1L8.5 8.5l.94-2.06 2.06-.94-2.06-.94L8.5 2.5l-.94 2.06-2.06.94zm10 10l.94 2.06.94-2.06 2.06-.94-2.06-.94-.94-2.06-.94 2.06-2.06.94z\"/><path d=\"M17.41 7.96l-1.37-1.37c-.4-.4-.92-.59-1.43-.59-.52 0-1.04.2-1.43.59L10.3 9.45l-7.72 7.72c-.78.78-.78 2.05 0 2.83L4 21.41c.39.39.9.59 1.41.59.51 0 1.02-.2 1.41-.59l7.78-7.78 2.81-2.81c.8-.78.8-2.07 0-2.86zM5.41 20L4 18.59l7.72-7.72 1.47 1.35L5.41 20z\"/>\n",
       "  </svg>\n",
       "      </button>\n",
       "      \n",
       "  <style>\n",
       "    .colab-df-container {\n",
       "      display:flex;\n",
       "      flex-wrap:wrap;\n",
       "      gap: 12px;\n",
       "    }\n",
       "\n",
       "    .colab-df-convert {\n",
       "      background-color: #E8F0FE;\n",
       "      border: none;\n",
       "      border-radius: 50%;\n",
       "      cursor: pointer;\n",
       "      display: none;\n",
       "      fill: #1967D2;\n",
       "      height: 32px;\n",
       "      padding: 0 0 0 0;\n",
       "      width: 32px;\n",
       "    }\n",
       "\n",
       "    .colab-df-convert:hover {\n",
       "      background-color: #E2EBFA;\n",
       "      box-shadow: 0px 1px 2px rgba(60, 64, 67, 0.3), 0px 1px 3px 1px rgba(60, 64, 67, 0.15);\n",
       "      fill: #174EA6;\n",
       "    }\n",
       "\n",
       "    [theme=dark] .colab-df-convert {\n",
       "      background-color: #3B4455;\n",
       "      fill: #D2E3FC;\n",
       "    }\n",
       "\n",
       "    [theme=dark] .colab-df-convert:hover {\n",
       "      background-color: #434B5C;\n",
       "      box-shadow: 0px 1px 3px 1px rgba(0, 0, 0, 0.15);\n",
       "      filter: drop-shadow(0px 1px 2px rgba(0, 0, 0, 0.3));\n",
       "      fill: #FFFFFF;\n",
       "    }\n",
       "  </style>\n",
       "\n",
       "      <script>\n",
       "        const buttonEl =\n",
       "          document.querySelector('#df-ac632b11-514b-4357-8cb7-5d91dfec8428 button.colab-df-convert');\n",
       "        buttonEl.style.display =\n",
       "          google.colab.kernel.accessAllowed ? 'block' : 'none';\n",
       "\n",
       "        async function convertToInteractive(key) {\n",
       "          const element = document.querySelector('#df-ac632b11-514b-4357-8cb7-5d91dfec8428');\n",
       "          const dataTable =\n",
       "            await google.colab.kernel.invokeFunction('convertToInteractive',\n",
       "                                                     [key], {});\n",
       "          if (!dataTable) return;\n",
       "\n",
       "          const docLinkHtml = 'Like what you see? Visit the ' +\n",
       "            '<a target=\"_blank\" href=https://colab.research.google.com/notebooks/data_table.ipynb>data table notebook</a>'\n",
       "            + ' to learn more about interactive tables.';\n",
       "          element.innerHTML = '';\n",
       "          dataTable['output_type'] = 'display_data';\n",
       "          await google.colab.output.renderOutput(dataTable, element);\n",
       "          const docLink = document.createElement('div');\n",
       "          docLink.innerHTML = docLinkHtml;\n",
       "          element.appendChild(docLink);\n",
       "        }\n",
       "      </script>\n",
       "    </div>\n",
       "  </div>\n",
       "  "
      ]
     },
     "metadata": {},
     "execution_count": 117
    }
   ]
  },
  {
   "cell_type": "markdown",
   "source": [
    "#### Potential influential cases\n",
    "\n",
    "Such cases can be found using difference in fit(s) diagnostic (DFFITS). DFFITS value shows how influential a particual case on the whole model"
   ],
   "metadata": {
    "id": "LUIhnXQvT559",
    "pycharm": {
     "name": "#%% md\n"
    }
   }
  },
  {
   "cell_type": "code",
   "source": [
    "inf_sum['dffits'][(inf_sum['dffits']>1) | (inf_sum['dffits']<-1)].sort_values()"
   ],
   "metadata": {
    "colab": {
     "base_uri": "https://localhost:8080/"
    },
    "id": "T0ddDB01T6aM",
    "executionInfo": {
     "status": "ok",
     "timestamp": 1650111528679,
     "user_tz": -180,
     "elapsed": 378,
     "user": {
      "displayName": "Vadim Zhdanov",
      "userId": "12617771296867183814"
     }
    },
    "outputId": "6e31104b-ebe5-4869-e9e7-71057a0268e3",
    "pycharm": {
     "name": "#%%\n"
    }
   },
   "execution_count": 118,
   "outputs": [
    {
     "output_type": "execute_result",
     "data": {
      "text/plain": [
       "CountryID\n",
       "183    3.112778\n",
       "Name: dffits, dtype: float64"
      ]
     },
     "metadata": {},
     "execution_count": 118
    }
   ]
  },
  {
   "cell_type": "markdown",
   "source": [
    "#### Potential outliers\n",
    "\n",
    "Based on standardized residuals, it is possible to identify outliers (whose value has to be less than -3 or greater than 3)"
   ],
   "metadata": {
    "id": "L3tFhMWuT9wg",
    "pycharm": {
     "name": "#%% md\n"
    }
   }
  },
  {
   "cell_type": "code",
   "source": [
    "inf_sum['standard_resid'][(inf_sum['standard_resid']>3) | (inf_sum['standard_resid']<-3)].sort_values()"
   ],
   "metadata": {
    "colab": {
     "base_uri": "https://localhost:8080/"
    },
    "id": "2qp8OKZST-U9",
    "executionInfo": {
     "status": "ok",
     "timestamp": 1650111545171,
     "user_tz": -180,
     "elapsed": 348,
     "user": {
      "displayName": "Vadim Zhdanov",
      "userId": "12617771296867183814"
     }
    },
    "outputId": "5bf228d9-48ad-467f-fe83-21d4ed7584b6",
    "pycharm": {
     "name": "#%%\n"
    }
   },
   "execution_count": 119,
   "outputs": [
    {
     "output_type": "execute_result",
     "data": {
      "text/plain": [
       "CountryID\n",
       "10      3.072708\n",
       "183    10.056323\n",
       "Name: standard_resid, dtype: float64"
      ]
     },
     "metadata": {},
     "execution_count": 119
    }
   ]
  },
  {
   "cell_type": "markdown",
   "source": [
    "### Final Conclusions\n",
    "\n",
    "The constructed linear model appeared to be statistically significant but explains only 30,6% variance of the tariff rates. Since this indicator is quite low, the model still has to be readjusted and refined. For instance, the statistically insignificant variables can be removed from the model, which will also help to avoid the problem of multicollinearity. Another way is to remove all the outliers from the sample. As it is presented above, these outliers highly influence the model since most of them are represented in the set of the most influential cases. With the outliers removed, the problem of heteroscedasticity can also potentially disappear.\n",
    "\n",
    "From my persepective, it is also better to try removing all variables which do not have a linear relationship with the dependent variable since they still cannot be well-fitted in the linear regression model. Potentially, the logistic regression can be constructed for these variables as the relationship between each of these variables and dependent one is more close to logistic."
   ],
   "metadata": {
    "id": "2r79cTNDUME6",
    "pycharm": {
     "name": "#%% md\n"
    }
   }
  },
  {
   "cell_type": "markdown",
   "source": [
    "# Task 2"
   ],
   "metadata": {
    "id": "YGnntXMAUXzb",
    "pycharm": {
     "name": "#%% md\n"
    }
   }
  },
  {
   "cell_type": "code",
   "source": [
    "df_with_dummies.corr().sort_values(by=['TariffRate'])['TariffRate']"
   ],
   "metadata": {
    "colab": {
     "base_uri": "https://localhost:8080/"
    },
    "id": "uNw7fXYDUpqI",
    "executionInfo": {
     "status": "ok",
     "timestamp": 1650111799280,
     "user_tz": -180,
     "elapsed": 338,
     "user": {
      "displayName": "Vadim Zhdanov",
      "userId": "12617771296867183814"
     }
    },
    "outputId": "870344aa-f739-4431-8eaa-3bc6973d9aa8",
    "pycharm": {
     "name": "#%%\n"
    }
   },
   "execution_count": 120,
   "outputs": [
    {
     "output_type": "execute_result",
     "data": {
      "text/plain": [
       "TradeFreedom                          -0.836958\n",
       "BusinessFreedom                       -0.497330\n",
       "2022Score                             -0.482924\n",
       "PropertyRights                        -0.453347\n",
       "MonetaryFreedom                       -0.448836\n",
       "GDPperCapita                          -0.432999\n",
       "FinancialFreedom                      -0.427789\n",
       "HighIncome                            -0.398941\n",
       "Income_high income                    -0.398941\n",
       "Region_Europe                         -0.379159\n",
       "Development_developed                 -0.366983\n",
       "JudicialEffectiveness                 -0.365185\n",
       "InvestmentFreedom                     -0.350062\n",
       "GovernmentIntegrity                   -0.348495\n",
       "GovernmentExpenditurofGDP             -0.347149\n",
       "LaborFreedom                          -0.343095\n",
       "TaxBurdenofGDP                        -0.271935\n",
       "GDP                                   -0.141760\n",
       "FDIInflow                             -0.127762\n",
       "Region_Asia-Pacific                   -0.087417\n",
       "5Year_GDP_GrowthRate                  -0.081371\n",
       "FiscalHealth                          -0.081061\n",
       "Population                            -0.054604\n",
       "GDP_GrowthRate                        -0.042305\n",
       "Region_Middle East and North Africa   -0.023592\n",
       "TaxBurden                             -0.008604\n",
       "Unemployment                           0.040452\n",
       "Region_Americas                        0.071483\n",
       "IncomeTaxRate                          0.094580\n",
       "PublicDebt                             0.104093\n",
       "Income_low income                      0.179934\n",
       "Inflation                              0.223648\n",
       "Income_middle income                   0.237132\n",
       "CorporateTaxRate                       0.255994\n",
       "RegionRank                             0.276679\n",
       "GovernmentSpending                     0.346049\n",
       "Development_developing                 0.366983\n",
       "Region_Sub-Saharan Africa              0.410266\n",
       "WorldRank                              0.486610\n",
       "TariffRate                             1.000000\n",
       "Name: TariffRate, dtype: float64"
      ]
     },
     "metadata": {},
     "execution_count": 120
    }
   ]
  },
  {
   "cell_type": "code",
   "source": [
    "cluster_analysis = [\n",
    "    \"TariffRate\",\n",
    "    \"WorldRank\",\n",
    "    \"Region_Sub-Saharan Africa\",\n",
    "    \"Development_developing\",\n",
    "    \"GovernmentSpending\",\n",
    "    \"RegionRank\"\n",
    "    # Should add 5 more with the corr lower than 0.5\n",
    "]\n",
    "\n",
    "def get_vars_to_analysis():\n",
    "    res = []\n",
    "    for i in cluster_analysis:\n",
    "        res.append('z_' + i)\n",
    "\n",
    "    return res"
   ],
   "metadata": {
    "id": "IFSvae_MUnsp",
    "executionInfo": {
     "status": "ok",
     "timestamp": 1650112226399,
     "user_tz": -180,
     "elapsed": 422,
     "user": {
      "displayName": "Vadim Zhdanov",
      "userId": "12617771296867183814"
     }
    },
    "pycharm": {
     "name": "#%%\n"
    }
   },
   "execution_count": 126,
   "outputs": []
  },
  {
   "cell_type": "markdown",
   "source": [
    "The statistical descriptive analysis was done in previous task (same variables)"
   ],
   "metadata": {
    "id": "HVJTU3nZVRPQ",
    "pycharm": {
     "name": "#%% md\n"
    }
   }
  },
  {
   "cell_type": "markdown",
   "source": [
    "## Suitable cluster algorithm"
   ],
   "metadata": {
    "id": "PFLANJ67Ve1f",
    "pycharm": {
     "name": "#%% md\n"
    }
   }
  },
  {
   "cell_type": "markdown",
   "source": [
    "Ward algo should be done here. We need to find the closest cluster to choose the appropriate tariff rate."
   ],
   "metadata": {
    "id": "zn6EFIMqVgYv",
    "pycharm": {
     "name": "#%% md\n"
    }
   }
  },
  {
   "cell_type": "markdown",
   "source": [
    "## Define the number of cluster"
   ],
   "metadata": {
    "id": "qruU-UsjWFv4",
    "pycharm": {
     "name": "#%% md\n"
    }
   }
  },
  {
   "cell_type": "code",
   "source": [
    "for var in cluster_analysis:\n",
    "    df_with_dummies['z_' + var] = (df_with_dummies[var] - df_with_dummies[var].mean())/df_with_dummies[var].std()\n",
    "\n",
    "Z = linkage(df_with_dummies[get_vars_to_analysis()], method='ward', metric='euclidean') "
   ],
   "metadata": {
    "id": "-Gn_U7C2Wq2W",
    "executionInfo": {
     "status": "ok",
     "timestamp": 1650112301684,
     "user_tz": -180,
     "elapsed": 458,
     "user": {
      "displayName": "Vadim Zhdanov",
      "userId": "12617771296867183814"
     }
    },
    "pycharm": {
     "name": "#%%\n"
    }
   },
   "execution_count": 129,
   "outputs": []
  },
  {
   "cell_type": "code",
   "source": [
    "for k in range (2, 10):\n",
    "    labels = fcluster(Z, t=k, criterion='maxclust')\n",
    "    print('Number of clusters: {}, index {}'.format(k, calinski_harabasz_score(df[get_vars_to_analysis()], labels)))"
   ],
   "metadata": {
    "colab": {
     "base_uri": "https://localhost:8080/"
    },
    "id": "1x6TZ4DoWrGf",
    "executionInfo": {
     "status": "ok",
     "timestamp": 1650112319174,
     "user_tz": -180,
     "elapsed": 363,
     "user": {
      "displayName": "Vadim Zhdanov",
      "userId": "12617771296867183814"
     }
    },
    "outputId": "ab0cb1f7-2f1c-4b7e-f329-25331e7fe99f",
    "pycharm": {
     "name": "#%%\n"
    }
   },
   "execution_count": 132,
   "outputs": [
    {
     "output_type": "stream",
     "name": "stdout",
     "text": [
      "Number of clusters: 2, index 87.03422043835876\n",
      "Number of clusters: 3, index 92.59788007440497\n",
      "Number of clusters: 4, index 86.46345293458563\n",
      "Number of clusters: 5, index 88.56632815292465\n",
      "Number of clusters: 6, index 90.04608503807457\n",
      "Number of clusters: 7, index 94.68697482508075\n",
      "Number of clusters: 8, index 93.2472698479907\n",
      "Number of clusters: 9, index 92.78434674286324\n"
     ]
    }
   ]
  },
  {
   "cell_type": "code",
   "source": [
    "plt.figure(figsize=(15, 5))\n",
    "dn = dendrogram(linkage(df_with_dummies[get_vars_to_analysis()], 'ward'))\n",
    "#Ward's Method"
   ],
   "metadata": {
    "colab": {
     "base_uri": "https://localhost:8080/",
     "height": 319
    },
    "id": "cwGFMZSVWL0_",
    "executionInfo": {
     "status": "ok",
     "timestamp": 1650112327164,
     "user_tz": -180,
     "elapsed": 5106,
     "user": {
      "displayName": "Vadim Zhdanov",
      "userId": "12617771296867183814"
     }
    },
    "outputId": "40f48c33-5f0e-40ad-b105-4e9433fcb1c3",
    "pycharm": {
     "name": "#%%\n"
    }
   },
   "execution_count": 133,
   "outputs": [
    {
     "output_type": "display_data",
     "data": {
      "text/plain": [
       "<Figure size 1080x360 with 1 Axes>"
      ],
      "image/png": "[encoded data removed]"
     },
     "metadata": {
      "needs_background": "light"
     }
    }
   ]
  },
  {
   "cell_type": "markdown",
   "source": [
    "That number was chosen according the created dendrogram. The distance between joining (height). If two clusters are merged, the dendrogram will join them in a graph and the height of the join will be the distance between those clusters."
   ],
   "metadata": {
    "id": "xX2acttoXCui",
    "pycharm": {
     "name": "#%% md\n"
    }
   }
  },
  {
   "cell_type": "markdown",
   "source": [
    "The number of clusters are 3."
   ],
   "metadata": {
    "id": "cWZoEjeXXNyk",
    "pycharm": {
     "name": "#%% md\n"
    }
   }
  },
  {
   "cell_type": "code",
   "source": [
    "labels = fcluster(Z, t=3, criterion='maxclust')\n",
    "labels"
   ],
   "metadata": {
    "colab": {
     "base_uri": "https://localhost:8080/"
    },
    "id": "8j8ZVvr5XZJR",
    "executionInfo": {
     "status": "ok",
     "timestamp": 1650112449061,
     "user_tz": -180,
     "elapsed": 382,
     "user": {
      "displayName": "Vadim Zhdanov",
      "userId": "12617771296867183814"
     }
    },
    "outputId": "8d1b9d50-3164-4bdb-c9e3-0600f9b0f14a",
    "pycharm": {
     "name": "#%%\n"
    }
   },
   "execution_count": 134,
   "outputs": [
    {
     "output_type": "execute_result",
     "data": {
      "text/plain": [
       "array([3, 3, 3, 2, 3, 3, 1, 1, 3, 1, 3, 3, 3, 3, 1, 3, 2, 3, 3, 3, 2, 3,\n",
       "       3, 1, 2, 3, 2, 3, 2, 1, 2, 2, 2, 3, 3, 3, 2, 2, 2, 3, 2, 1, 3, 1,\n",
       "       1, 1, 2, 3, 3, 3, 3, 3, 2, 2, 1, 2, 2, 3, 1, 1, 2, 2, 3, 1, 2, 1,\n",
       "       3, 2, 2, 3, 3, 3, 1, 1, 3, 3, 3, 3, 1, 1, 1, 3, 1, 3, 3, 2, 3, 3,\n",
       "       3, 3, 3, 3, 3, 1, 3, 3, 2, 3, 1, 1, 1, 3, 2, 2, 3, 3, 2, 1, 2, 2,\n",
       "       3, 3, 3, 3, 3, 3, 2, 2, 3, 1, 1, 3, 2, 2, 1, 3, 3, 3, 3, 3, 3, 3,\n",
       "       1, 1, 3, 1, 3, 2, 3, 3, 3, 2, 3, 2, 3, 2, 2, 3, 1, 1, 3, 2, 2, 1,\n",
       "       3, 2, 3, 1, 1, 3, 3, 3, 2, 3, 3, 2, 3, 3, 3, 3, 3, 2, 3, 3, 1, 1,\n",
       "       3, 3, 3, 3, 3, 3, 2, 2], dtype=int32)"
      ]
     },
     "metadata": {},
     "execution_count": 134
    }
   ]
  },
  {
   "cell_type": "code",
   "source": [
    "df_with_dummies['cluster_labels'] = labels\n",
    "df = df_with_dummies"
   ],
   "metadata": {
    "id": "KfM9nEJcXad7",
    "executionInfo": {
     "status": "ok",
     "timestamp": 1650112449549,
     "user_tz": -180,
     "elapsed": 3,
     "user": {
      "displayName": "Vadim Zhdanov",
      "userId": "12617771296867183814"
     }
    },
    "pycharm": {
     "name": "#%%\n"
    }
   },
   "execution_count": 135,
   "outputs": []
  },
  {
   "cell_type": "markdown",
   "source": [
    "## Describe the model"
   ],
   "metadata": {
    "id": "_wkvqESsXgLZ",
    "pycharm": {
     "name": "#%% md\n"
    }
   }
  },
  {
   "cell_type": "code",
   "source": [
    "df.groupby('cluster_labels')[get_vars_to_analysis()].mean()"
   ],
   "metadata": {
    "colab": {
     "base_uri": "https://localhost:8080/",
     "height": 236
    },
    "id": "MB2ArZ8LXigl",
    "executionInfo": {
     "status": "ok",
     "timestamp": 1650112485765,
     "user_tz": -180,
     "elapsed": 406,
     "user": {
      "displayName": "Vadim Zhdanov",
      "userId": "12617771296867183814"
     }
    },
    "outputId": "3c5052c1-3b85-474f-9463-c3fa5777258a",
    "pycharm": {
     "name": "#%%\n"
    }
   },
   "execution_count": 136,
   "outputs": [
    {
     "output_type": "execute_result",
     "data": {
      "text/plain": [
       "                z_TariffRate  z_WorldRank  z_Region_Sub-Saharan Africa  \\\n",
       "cluster_labels                                                           \n",
       "1                  -0.705691    -1.219031                    -0.592472   \n",
       "2                   0.691375     0.654598                     1.678671   \n",
       "3                  -0.050742     0.171185                    -0.569297   \n",
       "\n",
       "                z_Development_developing  z_GovernmentSpending  z_RegionRank  \n",
       "cluster_labels                                                                \n",
       "1                              -1.922952             -0.963211     -0.465700  \n",
       "2                               0.517208              0.691526      0.278587  \n",
       "3                               0.517208              0.051668      0.051721  "
      ],
      "text/html": [
       "\n",
       "  <div id=\"df-244b239a-b61a-45f5-8f54-224a7bf230a3\">\n",
       "    <div class=\"colab-df-container\">\n",
       "      <div>\n",
       "<style scoped>\n",
       "    .dataframe tbody tr th:only-of-type {\n",
       "        vertical-align: middle;\n",
       "    }\n",
       "\n",
       "    .dataframe tbody tr th {\n",
       "        vertical-align: top;\n",
       "    }\n",
       "\n",
       "    .dataframe thead th {\n",
       "        text-align: right;\n",
       "    }\n",
       "</style>\n",
       "<table border=\"1\" class=\"dataframe\">\n",
       "  <thead>\n",
       "    <tr style=\"text-align: right;\">\n",
       "      <th></th>\n",
       "      <th>z_TariffRate</th>\n",
       "      <th>z_WorldRank</th>\n",
       "      <th>z_Region_Sub-Saharan Africa</th>\n",
       "      <th>z_Development_developing</th>\n",
       "      <th>z_GovernmentSpending</th>\n",
       "      <th>z_RegionRank</th>\n",
       "    </tr>\n",
       "    <tr>\n",
       "      <th>cluster_labels</th>\n",
       "      <th></th>\n",
       "      <th></th>\n",
       "      <th></th>\n",
       "      <th></th>\n",
       "      <th></th>\n",
       "      <th></th>\n",
       "    </tr>\n",
       "  </thead>\n",
       "  <tbody>\n",
       "    <tr>\n",
       "      <th>1</th>\n",
       "      <td>-0.705691</td>\n",
       "      <td>-1.219031</td>\n",
       "      <td>-0.592472</td>\n",
       "      <td>-1.922952</td>\n",
       "      <td>-0.963211</td>\n",
       "      <td>-0.465700</td>\n",
       "    </tr>\n",
       "    <tr>\n",
       "      <th>2</th>\n",
       "      <td>0.691375</td>\n",
       "      <td>0.654598</td>\n",
       "      <td>1.678671</td>\n",
       "      <td>0.517208</td>\n",
       "      <td>0.691526</td>\n",
       "      <td>0.278587</td>\n",
       "    </tr>\n",
       "    <tr>\n",
       "      <th>3</th>\n",
       "      <td>-0.050742</td>\n",
       "      <td>0.171185</td>\n",
       "      <td>-0.569297</td>\n",
       "      <td>0.517208</td>\n",
       "      <td>0.051668</td>\n",
       "      <td>0.051721</td>\n",
       "    </tr>\n",
       "  </tbody>\n",
       "</table>\n",
       "</div>\n",
       "      <button class=\"colab-df-convert\" onclick=\"convertToInteractive('df-244b239a-b61a-45f5-8f54-224a7bf230a3')\"\n",
       "              title=\"Convert this dataframe to an interactive table.\"\n",
       "              style=\"display:none;\">\n",
       "        \n",
       "  <svg xmlns=\"http://www.w3.org/2000/svg\" height=\"24px\"viewBox=\"0 0 24 24\"\n",
       "       width=\"24px\">\n",
       "    <path d=\"M0 0h24v24H0V0z\" fill=\"none\"/>\n",
       "    <path d=\"M18.56 5.44l.94 2.06.94-2.06 2.06-.94-2.06-.94-.94-2.06-.94 2.06-2.06.94zm-11 1L8.5 8.5l.94-2.06 2.06-.94-2.06-.94L8.5 2.5l-.94 2.06-2.06.94zm10 10l.94 2.06.94-2.06 2.06-.94-2.06-.94-.94-2.06-.94 2.06-2.06.94z\"/><path d=\"M17.41 7.96l-1.37-1.37c-.4-.4-.92-.59-1.43-.59-.52 0-1.04.2-1.43.59L10.3 9.45l-7.72 7.72c-.78.78-.78 2.05 0 2.83L4 21.41c.39.39.9.59 1.41.59.51 0 1.02-.2 1.41-.59l7.78-7.78 2.81-2.81c.8-.78.8-2.07 0-2.86zM5.41 20L4 18.59l7.72-7.72 1.47 1.35L5.41 20z\"/>\n",
       "  </svg>\n",
       "      </button>\n",
       "      \n",
       "  <style>\n",
       "    .colab-df-container {\n",
       "      display:flex;\n",
       "      flex-wrap:wrap;\n",
       "      gap: 12px;\n",
       "    }\n",
       "\n",
       "    .colab-df-convert {\n",
       "      background-color: #E8F0FE;\n",
       "      border: none;\n",
       "      border-radius: 50%;\n",
       "      cursor: pointer;\n",
       "      display: none;\n",
       "      fill: #1967D2;\n",
       "      height: 32px;\n",
       "      padding: 0 0 0 0;\n",
       "      width: 32px;\n",
       "    }\n",
       "\n",
       "    .colab-df-convert:hover {\n",
       "      background-color: #E2EBFA;\n",
       "      box-shadow: 0px 1px 2px rgba(60, 64, 67, 0.3), 0px 1px 3px 1px rgba(60, 64, 67, 0.15);\n",
       "      fill: #174EA6;\n",
       "    }\n",
       "\n",
       "    [theme=dark] .colab-df-convert {\n",
       "      background-color: #3B4455;\n",
       "      fill: #D2E3FC;\n",
       "    }\n",
       "\n",
       "    [theme=dark] .colab-df-convert:hover {\n",
       "      background-color: #434B5C;\n",
       "      box-shadow: 0px 1px 3px 1px rgba(0, 0, 0, 0.15);\n",
       "      filter: drop-shadow(0px 1px 2px rgba(0, 0, 0, 0.3));\n",
       "      fill: #FFFFFF;\n",
       "    }\n",
       "  </style>\n",
       "\n",
       "      <script>\n",
       "        const buttonEl =\n",
       "          document.querySelector('#df-244b239a-b61a-45f5-8f54-224a7bf230a3 button.colab-df-convert');\n",
       "        buttonEl.style.display =\n",
       "          google.colab.kernel.accessAllowed ? 'block' : 'none';\n",
       "\n",
       "        async function convertToInteractive(key) {\n",
       "          const element = document.querySelector('#df-244b239a-b61a-45f5-8f54-224a7bf230a3');\n",
       "          const dataTable =\n",
       "            await google.colab.kernel.invokeFunction('convertToInteractive',\n",
       "                                                     [key], {});\n",
       "          if (!dataTable) return;\n",
       "\n",
       "          const docLinkHtml = 'Like what you see? Visit the ' +\n",
       "            '<a target=\"_blank\" href=https://colab.research.google.com/notebooks/data_table.ipynb>data table notebook</a>'\n",
       "            + ' to learn more about interactive tables.';\n",
       "          element.innerHTML = '';\n",
       "          dataTable['output_type'] = 'display_data';\n",
       "          await google.colab.output.renderOutput(dataTable, element);\n",
       "          const docLink = document.createElement('div');\n",
       "          docLink.innerHTML = docLinkHtml;\n",
       "          element.appendChild(docLink);\n",
       "        }\n",
       "      </script>\n",
       "    </div>\n",
       "  </div>\n",
       "  "
      ]
     },
     "metadata": {},
     "execution_count": 136
    }
   ]
  },
  {
   "cell_type": "code",
   "source": [
    "df['cluster_labels'].value_counts()"
   ],
   "metadata": {
    "colab": {
     "base_uri": "https://localhost:8080/"
    },
    "id": "-CCzZbHQXlFL",
    "executionInfo": {
     "status": "ok",
     "timestamp": 1650112486255,
     "user_tz": -180,
     "elapsed": 3,
     "user": {
      "displayName": "Vadim Zhdanov",
      "userId": "12617771296867183814"
     }
    },
    "outputId": "4ad0530c-f691-4463-ce56-cab09b24731b",
    "pycharm": {
     "name": "#%%\n"
    }
   },
   "execution_count": 137,
   "outputs": [
    {
     "output_type": "execute_result",
     "data": {
      "text/plain": [
       "3    98\n",
       "2    47\n",
       "1    39\n",
       "Name: cluster_labels, dtype: int64"
      ]
     },
     "metadata": {},
     "execution_count": 137
    }
   ]
  },
  {
   "cell_type": "markdown",
   "source": [
    "Cluster analysis was done according to the TariffRates => "
   ],
   "metadata": {
    "id": "FcuTIE2BXiOY",
    "pycharm": {
     "name": "#%% md\n"
    }
   }
  },
  {
   "cell_type": "markdown",
   "source": [
    "- 1 Cluster contains the lowest tariff rates (the low developed countries)\n",
    "- 2 Cluster contains the highest tariff rates (the high developed countires)\n",
    "- 3 Cluster contains the middle tariff rates (the middle developed countries) <br>\n",
    "\n",
    "The names of the clusters was chosen according to the tariff levels."
   ],
   "metadata": {
    "id": "I2wrKdwLXxfL",
    "pycharm": {
     "name": "#%% md\n"
    }
   }
  },
  {
   "cell_type": "code",
   "source": [
    "df['cluster_labels'] = df['cluster_labels'].replace(1, 'Low tariff rates')\n",
    "df['cluster_labels'] = df['cluster_labels'].replace(2, 'High tariff rates')\n",
    "df['cluster_labels'] = df['cluster_labels'].replace(3, 'Middle tariff rates')\n",
    "\n",
    "df.groupby('cluster_labels').head()"
   ],
   "metadata": {
    "colab": {
     "base_uri": "https://localhost:8080/",
     "height": 679
    },
    "id": "E_OVS3wLYFlp",
    "executionInfo": {
     "status": "ok",
     "timestamp": 1650112679969,
     "user_tz": -180,
     "elapsed": 378,
     "user": {
      "displayName": "Vadim Zhdanov",
      "userId": "12617771296867183814"
     }
    },
    "outputId": "62b7b934-a0d5-4e12-f950-4a65d2a6c2d0",
    "pycharm": {
     "name": "#%%\n"
    }
   },
   "execution_count": 138,
   "outputs": [
    {
     "output_type": "execute_result",
     "data": {
      "text/plain": [
       "            CountryName  HighIncome  WorldRank  RegionRank  2022Score  \\\n",
       "CountryID                                                               \n",
       "1           Afghanistan           0       89.0        19.0       59.8   \n",
       "2               Albania           0       50.0        30.0       66.6   \n",
       "3               Algeria           0      167.0        13.0       45.8   \n",
       "4                Angola           0      139.0        29.0       52.6   \n",
       "5             Argentina           0      144.0        27.0       50.1   \n",
       "6               Armenia           0       58.0        34.0       65.3   \n",
       "7             Australia           1       12.0         4.0       77.7   \n",
       "8               Austria           1       22.0        15.0       73.8   \n",
       "10              Bahamas           1       38.0         6.0       68.7   \n",
       "15              Belgium           1       37.0        24.0       69.6   \n",
       "17                Benin           0       81.0         6.0       61.0   \n",
       "21             Botswana           0       61.0         3.0       64.8   \n",
       "23             Bulgaria           0       29.0        20.0       71.0   \n",
       "24         Burkina Faso           0      100.0        13.0       58.3   \n",
       "26              Burundi           0      172.0        45.0       39.4   \n",
       "\n",
       "           PropertyRights  JudicialEffectiveness  GovernmentIntegrity  \\\n",
       "CountryID                                                               \n",
       "1                    50.4                   45.8             0.000000   \n",
       "2                    55.5                   49.8            35.606077   \n",
       "3                    27.9                   29.7            30.098833   \n",
       "4                    39.8                   25.3            20.633745   \n",
       "5                    35.1                   57.9            45.055133   \n",
       "6                    50.4                   33.1            50.780107   \n",
       "7                    91.7                   95.2            87.029360   \n",
       "8                    98.4                   94.6            82.866625   \n",
       "10                   61.1                   78.8            64.292915   \n",
       "15                   92.5                   91.2            83.647190   \n",
       "17                   44.3                   55.3            40.278951   \n",
       "21                   74.2                   70.1            61.430663   \n",
       "23                   77.3                   61.1            45.574379   \n",
       "24                   47.0                   36.3            41.359529   \n",
       "26                   18.8                    7.1            12.218287   \n",
       "\n",
       "           TaxBurden  GovernmentSpending  ...  Region_Europe  \\\n",
       "CountryID                                 ...                  \n",
       "1               78.9                70.2  ...              0   \n",
       "2               89.1                72.1  ...              1   \n",
       "3               67.2                57.1  ...              0   \n",
       "4               86.6                86.4  ...              0   \n",
       "5               73.3                53.0  ...              0   \n",
       "6               86.9                78.9  ...              1   \n",
       "7               62.5                51.6  ...              0   \n",
       "8               45.5                20.3  ...              1   \n",
       "10              96.5                85.8  ...              0   \n",
       "15              48.2                10.1  ...              1   \n",
       "17              68.4                91.6  ...              0   \n",
       "21              87.4                59.8  ...              0   \n",
       "23              93.9                60.5  ...              1   \n",
       "24              81.8                82.3  ...              0   \n",
       "26              77.1                76.4  ...              0   \n",
       "\n",
       "           Region_Middle East and North Africa  Region_Sub-Saharan Africa  \\\n",
       "CountryID                                                                   \n",
       "1                                            0                          0   \n",
       "2                                            0                          0   \n",
       "3                                            1                          0   \n",
       "4                                            0                          1   \n",
       "5                                            0                          0   \n",
       "6                                            0                          0   \n",
       "7                                            0                          0   \n",
       "8                                            0                          0   \n",
       "10                                           0                          0   \n",
       "15                                           0                          0   \n",
       "17                                           0                          1   \n",
       "21                                           0                          1   \n",
       "23                                           0                          0   \n",
       "24                                           0                          1   \n",
       "26                                           0                          1   \n",
       "\n",
       "           z_TariffRate  z_WorldRank  z_Region_Sub-Saharan Africa  \\\n",
       "CountryID                                                           \n",
       "1             -0.202518     0.000000                    -0.592472   \n",
       "2             -0.639990    -0.776118                    -0.592472   \n",
       "3              0.938035     1.552236                    -0.592472   \n",
       "4             -0.046278     0.995023                     1.678671   \n",
       "5              0.688051     1.094526                    -0.592472   \n",
       "6             -0.327510    -0.616914                    -0.592472   \n",
       "7             -0.827478    -1.532336                    -0.592472   \n",
       "8             -0.764982    -1.333331                    -0.592472   \n",
       "10             1.594244    -1.014924                    -0.592472   \n",
       "15            -0.764982    -1.034824                    -0.592472   \n",
       "17             0.625555    -0.159204                     1.678671   \n",
       "21            -0.218142    -0.557213                     1.678671   \n",
       "23            -0.764982    -1.194028                    -0.592472   \n",
       "24             0.266203     0.218905                     1.678671   \n",
       "26             1.047403     1.651739                     1.678671   \n",
       "\n",
       "           z_Development_developing  z_GovernmentSpending  z_RegionRank  \\\n",
       "CountryID                                                                 \n",
       "1                          0.517208              0.206396     -0.093799   \n",
       "2                          0.517208              0.285350      0.797515   \n",
       "3                          0.517208             -0.337971     -0.579971   \n",
       "4                          0.517208              0.879584      0.716486   \n",
       "5                          0.517208             -0.508346      0.554429   \n",
       "6                          0.517208              0.567923      1.121629   \n",
       "7                         -1.922952             -0.566523     -1.309228   \n",
       "8                         -1.922952             -1.867188     -0.417914   \n",
       "10                        -1.922952              0.854651     -1.147171   \n",
       "15                        -1.922952             -2.291047      0.311343   \n",
       "17                         0.517208              1.095669     -1.147171   \n",
       "21                         0.517208             -0.225774     -1.390256   \n",
       "23                        -1.922952             -0.196685     -0.012771   \n",
       "24                         0.517208              0.709209     -0.579971   \n",
       "26                         0.517208              0.464036      2.012943   \n",
       "\n",
       "                cluster_labels  \n",
       "CountryID                       \n",
       "1          Middle tariff rates  \n",
       "2          Middle tariff rates  \n",
       "3          Middle tariff rates  \n",
       "4            High tariff rates  \n",
       "5          Middle tariff rates  \n",
       "6          Middle tariff rates  \n",
       "7             Low tariff rates  \n",
       "8             Low tariff rates  \n",
       "10            Low tariff rates  \n",
       "15            Low tariff rates  \n",
       "17           High tariff rates  \n",
       "21           High tariff rates  \n",
       "23            Low tariff rates  \n",
       "24           High tariff rates  \n",
       "26           High tariff rates  \n",
       "\n",
       "[15 rows x 48 columns]"
      ],
      "text/html": [
       "\n",
       "  <div id=\"df-60749eca-2e12-4eec-87d7-d2b1a98e22be\">\n",
       "    <div class=\"colab-df-container\">\n",
       "      <div>\n",
       "<style scoped>\n",
       "    .dataframe tbody tr th:only-of-type {\n",
       "        vertical-align: middle;\n",
       "    }\n",
       "\n",
       "    .dataframe tbody tr th {\n",
       "        vertical-align: top;\n",
       "    }\n",
       "\n",
       "    .dataframe thead th {\n",
       "        text-align: right;\n",
       "    }\n",
       "</style>\n",
       "<table border=\"1\" class=\"dataframe\">\n",
       "  <thead>\n",
       "    <tr style=\"text-align: right;\">\n",
       "      <th></th>\n",
       "      <th>CountryName</th>\n",
       "      <th>HighIncome</th>\n",
       "      <th>WorldRank</th>\n",
       "      <th>RegionRank</th>\n",
       "      <th>2022Score</th>\n",
       "      <th>PropertyRights</th>\n",
       "      <th>JudicialEffectiveness</th>\n",
       "      <th>GovernmentIntegrity</th>\n",
       "      <th>TaxBurden</th>\n",
       "      <th>GovernmentSpending</th>\n",
       "      <th>...</th>\n",
       "      <th>Region_Europe</th>\n",
       "      <th>Region_Middle East and North Africa</th>\n",
       "      <th>Region_Sub-Saharan Africa</th>\n",
       "      <th>z_TariffRate</th>\n",
       "      <th>z_WorldRank</th>\n",
       "      <th>z_Region_Sub-Saharan Africa</th>\n",
       "      <th>z_Development_developing</th>\n",
       "      <th>z_GovernmentSpending</th>\n",
       "      <th>z_RegionRank</th>\n",
       "      <th>cluster_labels</th>\n",
       "    </tr>\n",
       "    <tr>\n",
       "      <th>CountryID</th>\n",
       "      <th></th>\n",
       "      <th></th>\n",
       "      <th></th>\n",
       "      <th></th>\n",
       "      <th></th>\n",
       "      <th></th>\n",
       "      <th></th>\n",
       "      <th></th>\n",
       "      <th></th>\n",
       "      <th></th>\n",
       "      <th></th>\n",
       "      <th></th>\n",
       "      <th></th>\n",
       "      <th></th>\n",
       "      <th></th>\n",
       "      <th></th>\n",
       "      <th></th>\n",
       "      <th></th>\n",
       "      <th></th>\n",
       "      <th></th>\n",
       "      <th></th>\n",
       "    </tr>\n",
       "  </thead>\n",
       "  <tbody>\n",
       "    <tr>\n",
       "      <th>1</th>\n",
       "      <td>Afghanistan</td>\n",
       "      <td>0</td>\n",
       "      <td>89.0</td>\n",
       "      <td>19.0</td>\n",
       "      <td>59.8</td>\n",
       "      <td>50.4</td>\n",
       "      <td>45.8</td>\n",
       "      <td>0.000000</td>\n",
       "      <td>78.9</td>\n",
       "      <td>70.2</td>\n",
       "      <td>...</td>\n",
       "      <td>0</td>\n",
       "      <td>0</td>\n",
       "      <td>0</td>\n",
       "      <td>-0.202518</td>\n",
       "      <td>0.000000</td>\n",
       "      <td>-0.592472</td>\n",
       "      <td>0.517208</td>\n",
       "      <td>0.206396</td>\n",
       "      <td>-0.093799</td>\n",
       "      <td>Middle tariff rates</td>\n",
       "    </tr>\n",
       "    <tr>\n",
       "      <th>2</th>\n",
       "      <td>Albania</td>\n",
       "      <td>0</td>\n",
       "      <td>50.0</td>\n",
       "      <td>30.0</td>\n",
       "      <td>66.6</td>\n",
       "      <td>55.5</td>\n",
       "      <td>49.8</td>\n",
       "      <td>35.606077</td>\n",
       "      <td>89.1</td>\n",
       "      <td>72.1</td>\n",
       "      <td>...</td>\n",
       "      <td>1</td>\n",
       "      <td>0</td>\n",
       "      <td>0</td>\n",
       "      <td>-0.639990</td>\n",
       "      <td>-0.776118</td>\n",
       "      <td>-0.592472</td>\n",
       "      <td>0.517208</td>\n",
       "      <td>0.285350</td>\n",
       "      <td>0.797515</td>\n",
       "      <td>Middle tariff rates</td>\n",
       "    </tr>\n",
       "    <tr>\n",
       "      <th>3</th>\n",
       "      <td>Algeria</td>\n",
       "      <td>0</td>\n",
       "      <td>167.0</td>\n",
       "      <td>13.0</td>\n",
       "      <td>45.8</td>\n",
       "      <td>27.9</td>\n",
       "      <td>29.7</td>\n",
       "      <td>30.098833</td>\n",
       "      <td>67.2</td>\n",
       "      <td>57.1</td>\n",
       "      <td>...</td>\n",
       "      <td>0</td>\n",
       "      <td>1</td>\n",
       "      <td>0</td>\n",
       "      <td>0.938035</td>\n",
       "      <td>1.552236</td>\n",
       "      <td>-0.592472</td>\n",
       "      <td>0.517208</td>\n",
       "      <td>-0.337971</td>\n",
       "      <td>-0.579971</td>\n",
       "      <td>Middle tariff rates</td>\n",
       "    </tr>\n",
       "    <tr>\n",
       "      <th>4</th>\n",
       "      <td>Angola</td>\n",
       "      <td>0</td>\n",
       "      <td>139.0</td>\n",
       "      <td>29.0</td>\n",
       "      <td>52.6</td>\n",
       "      <td>39.8</td>\n",
       "      <td>25.3</td>\n",
       "      <td>20.633745</td>\n",
       "      <td>86.6</td>\n",
       "      <td>86.4</td>\n",
       "      <td>...</td>\n",
       "      <td>0</td>\n",
       "      <td>0</td>\n",
       "      <td>1</td>\n",
       "      <td>-0.046278</td>\n",
       "      <td>0.995023</td>\n",
       "      <td>1.678671</td>\n",
       "      <td>0.517208</td>\n",
       "      <td>0.879584</td>\n",
       "      <td>0.716486</td>\n",
       "      <td>High tariff rates</td>\n",
       "    </tr>\n",
       "    <tr>\n",
       "      <th>5</th>\n",
       "      <td>Argentina</td>\n",
       "      <td>0</td>\n",
       "      <td>144.0</td>\n",
       "      <td>27.0</td>\n",
       "      <td>50.1</td>\n",
       "      <td>35.1</td>\n",
       "      <td>57.9</td>\n",
       "      <td>45.055133</td>\n",
       "      <td>73.3</td>\n",
       "      <td>53.0</td>\n",
       "      <td>...</td>\n",
       "      <td>0</td>\n",
       "      <td>0</td>\n",
       "      <td>0</td>\n",
       "      <td>0.688051</td>\n",
       "      <td>1.094526</td>\n",
       "      <td>-0.592472</td>\n",
       "      <td>0.517208</td>\n",
       "      <td>-0.508346</td>\n",
       "      <td>0.554429</td>\n",
       "      <td>Middle tariff rates</td>\n",
       "    </tr>\n",
       "    <tr>\n",
       "      <th>6</th>\n",
       "      <td>Armenia</td>\n",
       "      <td>0</td>\n",
       "      <td>58.0</td>\n",
       "      <td>34.0</td>\n",
       "      <td>65.3</td>\n",
       "      <td>50.4</td>\n",
       "      <td>33.1</td>\n",
       "      <td>50.780107</td>\n",
       "      <td>86.9</td>\n",
       "      <td>78.9</td>\n",
       "      <td>...</td>\n",
       "      <td>1</td>\n",
       "      <td>0</td>\n",
       "      <td>0</td>\n",
       "      <td>-0.327510</td>\n",
       "      <td>-0.616914</td>\n",
       "      <td>-0.592472</td>\n",
       "      <td>0.517208</td>\n",
       "      <td>0.567923</td>\n",
       "      <td>1.121629</td>\n",
       "      <td>Middle tariff rates</td>\n",
       "    </tr>\n",
       "    <tr>\n",
       "      <th>7</th>\n",
       "      <td>Australia</td>\n",
       "      <td>1</td>\n",
       "      <td>12.0</td>\n",
       "      <td>4.0</td>\n",
       "      <td>77.7</td>\n",
       "      <td>91.7</td>\n",
       "      <td>95.2</td>\n",
       "      <td>87.029360</td>\n",
       "      <td>62.5</td>\n",
       "      <td>51.6</td>\n",
       "      <td>...</td>\n",
       "      <td>0</td>\n",
       "      <td>0</td>\n",
       "      <td>0</td>\n",
       "      <td>-0.827478</td>\n",
       "      <td>-1.532336</td>\n",
       "      <td>-0.592472</td>\n",
       "      <td>-1.922952</td>\n",
       "      <td>-0.566523</td>\n",
       "      <td>-1.309228</td>\n",
       "      <td>Low tariff rates</td>\n",
       "    </tr>\n",
       "    <tr>\n",
       "      <th>8</th>\n",
       "      <td>Austria</td>\n",
       "      <td>1</td>\n",
       "      <td>22.0</td>\n",
       "      <td>15.0</td>\n",
       "      <td>73.8</td>\n",
       "      <td>98.4</td>\n",
       "      <td>94.6</td>\n",
       "      <td>82.866625</td>\n",
       "      <td>45.5</td>\n",
       "      <td>20.3</td>\n",
       "      <td>...</td>\n",
       "      <td>1</td>\n",
       "      <td>0</td>\n",
       "      <td>0</td>\n",
       "      <td>-0.764982</td>\n",
       "      <td>-1.333331</td>\n",
       "      <td>-0.592472</td>\n",
       "      <td>-1.922952</td>\n",
       "      <td>-1.867188</td>\n",
       "      <td>-0.417914</td>\n",
       "      <td>Low tariff rates</td>\n",
       "    </tr>\n",
       "    <tr>\n",
       "      <th>10</th>\n",
       "      <td>Bahamas</td>\n",
       "      <td>1</td>\n",
       "      <td>38.0</td>\n",
       "      <td>6.0</td>\n",
       "      <td>68.7</td>\n",
       "      <td>61.1</td>\n",
       "      <td>78.8</td>\n",
       "      <td>64.292915</td>\n",
       "      <td>96.5</td>\n",
       "      <td>85.8</td>\n",
       "      <td>...</td>\n",
       "      <td>0</td>\n",
       "      <td>0</td>\n",
       "      <td>0</td>\n",
       "      <td>1.594244</td>\n",
       "      <td>-1.014924</td>\n",
       "      <td>-0.592472</td>\n",
       "      <td>-1.922952</td>\n",
       "      <td>0.854651</td>\n",
       "      <td>-1.147171</td>\n",
       "      <td>Low tariff rates</td>\n",
       "    </tr>\n",
       "    <tr>\n",
       "      <th>15</th>\n",
       "      <td>Belgium</td>\n",
       "      <td>1</td>\n",
       "      <td>37.0</td>\n",
       "      <td>24.0</td>\n",
       "      <td>69.6</td>\n",
       "      <td>92.5</td>\n",
       "      <td>91.2</td>\n",
       "      <td>83.647190</td>\n",
       "      <td>48.2</td>\n",
       "      <td>10.1</td>\n",
       "      <td>...</td>\n",
       "      <td>1</td>\n",
       "      <td>0</td>\n",
       "      <td>0</td>\n",
       "      <td>-0.764982</td>\n",
       "      <td>-1.034824</td>\n",
       "      <td>-0.592472</td>\n",
       "      <td>-1.922952</td>\n",
       "      <td>-2.291047</td>\n",
       "      <td>0.311343</td>\n",
       "      <td>Low tariff rates</td>\n",
       "    </tr>\n",
       "    <tr>\n",
       "      <th>17</th>\n",
       "      <td>Benin</td>\n",
       "      <td>0</td>\n",
       "      <td>81.0</td>\n",
       "      <td>6.0</td>\n",
       "      <td>61.0</td>\n",
       "      <td>44.3</td>\n",
       "      <td>55.3</td>\n",
       "      <td>40.278951</td>\n",
       "      <td>68.4</td>\n",
       "      <td>91.6</td>\n",
       "      <td>...</td>\n",
       "      <td>0</td>\n",
       "      <td>0</td>\n",
       "      <td>1</td>\n",
       "      <td>0.625555</td>\n",
       "      <td>-0.159204</td>\n",
       "      <td>1.678671</td>\n",
       "      <td>0.517208</td>\n",
       "      <td>1.095669</td>\n",
       "      <td>-1.147171</td>\n",
       "      <td>High tariff rates</td>\n",
       "    </tr>\n",
       "    <tr>\n",
       "      <th>21</th>\n",
       "      <td>Botswana</td>\n",
       "      <td>0</td>\n",
       "      <td>61.0</td>\n",
       "      <td>3.0</td>\n",
       "      <td>64.8</td>\n",
       "      <td>74.2</td>\n",
       "      <td>70.1</td>\n",
       "      <td>61.430663</td>\n",
       "      <td>87.4</td>\n",
       "      <td>59.8</td>\n",
       "      <td>...</td>\n",
       "      <td>0</td>\n",
       "      <td>0</td>\n",
       "      <td>1</td>\n",
       "      <td>-0.218142</td>\n",
       "      <td>-0.557213</td>\n",
       "      <td>1.678671</td>\n",
       "      <td>0.517208</td>\n",
       "      <td>-0.225774</td>\n",
       "      <td>-1.390256</td>\n",
       "      <td>High tariff rates</td>\n",
       "    </tr>\n",
       "    <tr>\n",
       "      <th>23</th>\n",
       "      <td>Bulgaria</td>\n",
       "      <td>0</td>\n",
       "      <td>29.0</td>\n",
       "      <td>20.0</td>\n",
       "      <td>71.0</td>\n",
       "      <td>77.3</td>\n",
       "      <td>61.1</td>\n",
       "      <td>45.574379</td>\n",
       "      <td>93.9</td>\n",
       "      <td>60.5</td>\n",
       "      <td>...</td>\n",
       "      <td>1</td>\n",
       "      <td>0</td>\n",
       "      <td>0</td>\n",
       "      <td>-0.764982</td>\n",
       "      <td>-1.194028</td>\n",
       "      <td>-0.592472</td>\n",
       "      <td>-1.922952</td>\n",
       "      <td>-0.196685</td>\n",
       "      <td>-0.012771</td>\n",
       "      <td>Low tariff rates</td>\n",
       "    </tr>\n",
       "    <tr>\n",
       "      <th>24</th>\n",
       "      <td>Burkina Faso</td>\n",
       "      <td>0</td>\n",
       "      <td>100.0</td>\n",
       "      <td>13.0</td>\n",
       "      <td>58.3</td>\n",
       "      <td>47.0</td>\n",
       "      <td>36.3</td>\n",
       "      <td>41.359529</td>\n",
       "      <td>81.8</td>\n",
       "      <td>82.3</td>\n",
       "      <td>...</td>\n",
       "      <td>0</td>\n",
       "      <td>0</td>\n",
       "      <td>1</td>\n",
       "      <td>0.266203</td>\n",
       "      <td>0.218905</td>\n",
       "      <td>1.678671</td>\n",
       "      <td>0.517208</td>\n",
       "      <td>0.709209</td>\n",
       "      <td>-0.579971</td>\n",
       "      <td>High tariff rates</td>\n",
       "    </tr>\n",
       "    <tr>\n",
       "      <th>26</th>\n",
       "      <td>Burundi</td>\n",
       "      <td>0</td>\n",
       "      <td>172.0</td>\n",
       "      <td>45.0</td>\n",
       "      <td>39.4</td>\n",
       "      <td>18.8</td>\n",
       "      <td>7.1</td>\n",
       "      <td>12.218287</td>\n",
       "      <td>77.1</td>\n",
       "      <td>76.4</td>\n",
       "      <td>...</td>\n",
       "      <td>0</td>\n",
       "      <td>0</td>\n",
       "      <td>1</td>\n",
       "      <td>1.047403</td>\n",
       "      <td>1.651739</td>\n",
       "      <td>1.678671</td>\n",
       "      <td>0.517208</td>\n",
       "      <td>0.464036</td>\n",
       "      <td>2.012943</td>\n",
       "      <td>High tariff rates</td>\n",
       "    </tr>\n",
       "  </tbody>\n",
       "</table>\n",
       "<p>15 rows × 48 columns</p>\n",
       "</div>\n",
       "      <button class=\"colab-df-convert\" onclick=\"convertToInteractive('df-60749eca-2e12-4eec-87d7-d2b1a98e22be')\"\n",
       "              title=\"Convert this dataframe to an interactive table.\"\n",
       "              style=\"display:none;\">\n",
       "        \n",
       "  <svg xmlns=\"http://www.w3.org/2000/svg\" height=\"24px\"viewBox=\"0 0 24 24\"\n",
       "       width=\"24px\">\n",
       "    <path d=\"M0 0h24v24H0V0z\" fill=\"none\"/>\n",
       "    <path d=\"M18.56 5.44l.94 2.06.94-2.06 2.06-.94-2.06-.94-.94-2.06-.94 2.06-2.06.94zm-11 1L8.5 8.5l.94-2.06 2.06-.94-2.06-.94L8.5 2.5l-.94 2.06-2.06.94zm10 10l.94 2.06.94-2.06 2.06-.94-2.06-.94-.94-2.06-.94 2.06-2.06.94z\"/><path d=\"M17.41 7.96l-1.37-1.37c-.4-.4-.92-.59-1.43-.59-.52 0-1.04.2-1.43.59L10.3 9.45l-7.72 7.72c-.78.78-.78 2.05 0 2.83L4 21.41c.39.39.9.59 1.41.59.51 0 1.02-.2 1.41-.59l7.78-7.78 2.81-2.81c.8-.78.8-2.07 0-2.86zM5.41 20L4 18.59l7.72-7.72 1.47 1.35L5.41 20z\"/>\n",
       "  </svg>\n",
       "      </button>\n",
       "      \n",
       "  <style>\n",
       "    .colab-df-container {\n",
       "      display:flex;\n",
       "      flex-wrap:wrap;\n",
       "      gap: 12px;\n",
       "    }\n",
       "\n",
       "    .colab-df-convert {\n",
       "      background-color: #E8F0FE;\n",
       "      border: none;\n",
       "      border-radius: 50%;\n",
       "      cursor: pointer;\n",
       "      display: none;\n",
       "      fill: #1967D2;\n",
       "      height: 32px;\n",
       "      padding: 0 0 0 0;\n",
       "      width: 32px;\n",
       "    }\n",
       "\n",
       "    .colab-df-convert:hover {\n",
       "      background-color: #E2EBFA;\n",
       "      box-shadow: 0px 1px 2px rgba(60, 64, 67, 0.3), 0px 1px 3px 1px rgba(60, 64, 67, 0.15);\n",
       "      fill: #174EA6;\n",
       "    }\n",
       "\n",
       "    [theme=dark] .colab-df-convert {\n",
       "      background-color: #3B4455;\n",
       "      fill: #D2E3FC;\n",
       "    }\n",
       "\n",
       "    [theme=dark] .colab-df-convert:hover {\n",
       "      background-color: #434B5C;\n",
       "      box-shadow: 0px 1px 3px 1px rgba(0, 0, 0, 0.15);\n",
       "      filter: drop-shadow(0px 1px 2px rgba(0, 0, 0, 0.3));\n",
       "      fill: #FFFFFF;\n",
       "    }\n",
       "  </style>\n",
       "\n",
       "      <script>\n",
       "        const buttonEl =\n",
       "          document.querySelector('#df-60749eca-2e12-4eec-87d7-d2b1a98e22be button.colab-df-convert');\n",
       "        buttonEl.style.display =\n",
       "          google.colab.kernel.accessAllowed ? 'block' : 'none';\n",
       "\n",
       "        async function convertToInteractive(key) {\n",
       "          const element = document.querySelector('#df-60749eca-2e12-4eec-87d7-d2b1a98e22be');\n",
       "          const dataTable =\n",
       "            await google.colab.kernel.invokeFunction('convertToInteractive',\n",
       "                                                     [key], {});\n",
       "          if (!dataTable) return;\n",
       "\n",
       "          const docLinkHtml = 'Like what you see? Visit the ' +\n",
       "            '<a target=\"_blank\" href=https://colab.research.google.com/notebooks/data_table.ipynb>data table notebook</a>'\n",
       "            + ' to learn more about interactive tables.';\n",
       "          element.innerHTML = '';\n",
       "          dataTable['output_type'] = 'display_data';\n",
       "          await google.colab.output.renderOutput(dataTable, element);\n",
       "          const docLink = document.createElement('div');\n",
       "          docLink.innerHTML = docLinkHtml;\n",
       "          element.appendChild(docLink);\n",
       "        }\n",
       "      </script>\n",
       "    </div>\n",
       "  </div>\n",
       "  "
      ]
     },
     "metadata": {},
     "execution_count": 138
    }
   ]
  },
  {
   "cell_type": "markdown",
   "source": [
    "# Task 3"
   ],
   "metadata": {
    "id": "_Z7N3YYPYqz8",
    "pycharm": {
     "name": "#%% md\n"
    }
   }
  },
  {
   "cell_type": "markdown",
   "source": [
    "Методология количественного исследования: необходимо проанализировать три выборки студентов (школьники и их тенденции по будущим поступлениям, студенты и их тенденции по качеству обучения (IT) и выпускники по трудоустройству). <br>\n"
   ],
   "metadata": {
    "id": "AWqTvejIZge6",
    "pycharm": {
     "name": "#%% md\n"
    }
   }
  },
  {
   "cell_type": "markdown",
   "source": [
    "**Школьников** необходимо проанализировать про то, каике любимые предметы в школе и куда будет поступать школьник (планирует) для того, чтобы узнать, какие предметы в школе влияют на поступления в ВУЗ на IT специальность (для того, чтобы в будущем улучшить преподавание по таким дисциплинам => увеличит число поступления в IT отрасль). <br>\n",
    "**Гипотеза**: любимые предметы математика и информатика должны больше всего влиять на поступления в IT отрасль<br>\n",
    "**Методы анализа** можно использовать факторный анализ для проверки гипотез на направление поступления \n"
   ],
   "metadata": {
    "id": "xnovSQ0YbiMH",
    "pycharm": {
     "name": "#%% md\n"
    }
   }
  },
  {
   "cell_type": "markdown",
   "source": [
    "**Студентов** необходимо проанализировать про то, какие предметы преподают качественней всего и какие оценки по предметам у того или иного предмета => увеличит качество обучения на IT специальность <br>\n",
    "**Гипотеза**: необходимо проверить какие параметры в предмете нравятся больше всего, чтобы понять, почему студент получает те или иные оценки по предмету<br>\n",
    "**Методы анализа**: построить факторный анализ => линейная регрессия, чтобы установить ключевые причины хорошей обучаемости у того или иного студента"
   ],
   "metadata": {
    "id": "86mb6sXzbwqr",
    "pycharm": {
     "name": "#%% md\n"
    }
   }
  },
  {
   "cell_type": "markdown",
   "source": [
    "**Выпускников** необходимо проанализировать, чтобы определить причины сохранения сотрудника в IT отрасли. Необходимо проанализировать зарплату, компания и причины работы в IT отрасли, а также взять текущее место работы и отрасль\n",
    "**Гипотеза**: люди остаются в IT отрасли из-за ее перспективности, а также возможности в любой момент найти работу из-за дефицита на рынке \n",
    "**Методы анализа**: необходимо построить кластерный анализ, чтобы узнать, какие сотрудники остались на рабочем месте и по каким причинам, а какие ушли, чтобы сохранить сотрудников в IT отрасли"
   ],
   "metadata": {
    "id": "jl86p_Ficll5",
    "pycharm": {
     "name": "#%% md\n"
    }
   }
  }
 ]
}