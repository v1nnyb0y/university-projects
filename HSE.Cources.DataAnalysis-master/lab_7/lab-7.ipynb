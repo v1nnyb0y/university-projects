{
 "cells": [
  {
   "cell_type": "markdown",
   "source": [
    "# Import Libs"
   ],
   "metadata": {
    "collapsed": false,
    "pycharm": {
     "name": "#%% md\n"
    }
   }
  },
  {
   "cell_type": "code",
   "execution_count": 33,
   "metadata": {
    "collapsed": true,
    "pycharm": {
     "name": "#%%\n"
    }
   },
   "outputs": [],
   "source": [
    "import pandas as pd\n",
    "import matplotlib.pyplot as plt\n",
    "import statsmodels.api as sm\n",
    "import numpy as np\n",
    "from sklearn.metrics import roc_curve, auc\n",
    "from scipy import stats\n",
    "import seaborn as sns\n",
    "from statsmodels.stats.outliers_influence import variance_inflation_factor as vif"
   ]
  },
  {
   "cell_type": "markdown",
   "source": [
    "# Pre-task execution"
   ],
   "metadata": {
    "collapsed": false,
    "pycharm": {
     "name": "#%% md\n"
    }
   }
  },
  {
   "cell_type": "code",
   "execution_count": 2,
   "outputs": [
    {
     "name": "stdout",
     "output_type": "stream",
     "text": [
      "<class 'pandas.core.frame.DataFrame'>\n",
      "RangeIndex: 41188 entries, 0 to 41187\n",
      "Data columns (total 21 columns):\n",
      " #   Column          Non-Null Count  Dtype  \n",
      "---  ------          --------------  -----  \n",
      " 0   age             41188 non-null  int64  \n",
      " 1   job             41188 non-null  object \n",
      " 2   marital         41188 non-null  object \n",
      " 3   education       41188 non-null  object \n",
      " 4   default         41188 non-null  object \n",
      " 5   housing         41188 non-null  object \n",
      " 6   loan            41188 non-null  object \n",
      " 7   contact         41188 non-null  object \n",
      " 8   month           41188 non-null  object \n",
      " 9   day_of_week     41188 non-null  object \n",
      " 10  duration        41188 non-null  int64  \n",
      " 11  campaign        41188 non-null  int64  \n",
      " 12  pdays           41188 non-null  int64  \n",
      " 13  previous        41188 non-null  int64  \n",
      " 14  poutcome        41188 non-null  object \n",
      " 15  emp.var.rate    41188 non-null  float64\n",
      " 16  cons.price.idx  41188 non-null  float64\n",
      " 17  cons.conf.idx   41188 non-null  float64\n",
      " 18  euribor3m       41188 non-null  float64\n",
      " 19  nr.employed     41188 non-null  float64\n",
      " 20  y               41188 non-null  object \n",
      "dtypes: float64(5), int64(5), object(11)\n",
      "memory usage: 6.6+ MB\n"
     ]
    }
   ],
   "source": [
    "df = pd.read_csv('bank-additional-full.csv', delimiter=';')\n",
    "df.info()"
   ],
   "metadata": {
    "collapsed": false,
    "pycharm": {
     "name": "#%%\n"
    }
   }
  },
  {
   "cell_type": "code",
   "execution_count": 3,
   "outputs": [
    {
     "name": "stdout",
     "output_type": "stream",
     "text": [
      "Type: int64\n",
      "['age' 'duration' 'campaign' 'pdays' 'previous']\n",
      "\n",
      "Type: object\n",
      "['job' 'marital' 'education' 'default' 'housing' 'loan' 'contact' 'month'\n",
      " 'day_of_week' 'poutcome' 'y']\n",
      "\n",
      "Type: float64\n",
      "['emp.var.rate' 'cons.price.idx' 'cons.conf.idx' 'euribor3m' 'nr.employed']\n",
      "\n"
     ]
    }
   ],
   "source": [
    "# Types of variables\n",
    "for t in df.dtypes.unique():\n",
    "    print('Type: {}\\n{}\\n'.format(t, df.dtypes[df.dtypes==t].index.values))"
   ],
   "metadata": {
    "collapsed": false,
    "pycharm": {
     "name": "#%%\n"
    }
   }
  },
  {
   "cell_type": "code",
   "execution_count": 4,
   "outputs": [
    {
     "data": {
      "text/plain": "Empty DataFrame\nColumns: [Percent of missing values]\nIndex: []",
      "text/html": "<div>\n<style scoped>\n    .dataframe tbody tr th:only-of-type {\n        vertical-align: middle;\n    }\n\n    .dataframe tbody tr th {\n        vertical-align: top;\n    }\n\n    .dataframe thead th {\n        text-align: right;\n    }\n</style>\n<table border=\"1\" class=\"dataframe\">\n  <thead>\n    <tr style=\"text-align: right;\">\n      <th></th>\n      <th>Percent of missing values</th>\n    </tr>\n  </thead>\n  <tbody>\n  </tbody>\n</table>\n</div>"
     },
     "execution_count": 4,
     "metadata": {},
     "output_type": "execute_result"
    }
   ],
   "source": [
    "missing = (df.isna().sum() / len(df)) * 100\n",
    "missing = missing[missing > 0].sort_values(ascending=False)\n",
    "missing = pd.DataFrame({'Percent of missing values' : missing})\n",
    "missing"
   ],
   "metadata": {
    "collapsed": false,
    "pycharm": {
     "name": "#%%\n"
    }
   }
  },
  {
   "cell_type": "code",
   "execution_count": 5,
   "outputs": [
    {
     "name": "stdout",
     "output_type": "stream",
     "text": [
      "31    1947\n",
      "32    1846\n",
      "33    1833\n",
      "36    1780\n",
      "35    1759\n",
      "      ... \n",
      "89       2\n",
      "91       2\n",
      "94       1\n",
      "87       1\n",
      "95       1\n",
      "Name: age, Length: 78, dtype: int64\n",
      "admin.           10422\n",
      "blue-collar       9254\n",
      "technician        6743\n",
      "services          3969\n",
      "management        2924\n",
      "retired           1720\n",
      "entrepreneur      1456\n",
      "self-employed     1421\n",
      "housemaid         1060\n",
      "unemployed        1014\n",
      "student            875\n",
      "unknown            330\n",
      "Name: job, dtype: int64\n",
      "married     24928\n",
      "single      11568\n",
      "divorced     4612\n",
      "unknown        80\n",
      "Name: marital, dtype: int64\n",
      "university.degree      12168\n",
      "high.school             9515\n",
      "basic.9y                6045\n",
      "professional.course     5243\n",
      "basic.4y                4176\n",
      "basic.6y                2292\n",
      "unknown                 1731\n",
      "illiterate                18\n",
      "Name: education, dtype: int64\n",
      "no         32588\n",
      "unknown     8597\n",
      "yes            3\n",
      "Name: default, dtype: int64\n",
      "yes        21576\n",
      "no         18622\n",
      "unknown      990\n",
      "Name: housing, dtype: int64\n",
      "no         33950\n",
      "yes         6248\n",
      "unknown      990\n",
      "Name: loan, dtype: int64\n",
      "cellular     26144\n",
      "telephone    15044\n",
      "Name: contact, dtype: int64\n",
      "may    13769\n",
      "jul     7174\n",
      "aug     6178\n",
      "jun     5318\n",
      "nov     4101\n",
      "apr     2632\n",
      "oct      718\n",
      "sep      570\n",
      "mar      546\n",
      "dec      182\n",
      "Name: month, dtype: int64\n",
      "thu    8623\n",
      "mon    8514\n",
      "wed    8134\n",
      "tue    8090\n",
      "fri    7827\n",
      "Name: day_of_week, dtype: int64\n",
      "90      170\n",
      "85      170\n",
      "136     168\n",
      "73      167\n",
      "124     164\n",
      "       ... \n",
      "1569      1\n",
      "1053      1\n",
      "1263      1\n",
      "1169      1\n",
      "1868      1\n",
      "Name: duration, Length: 1544, dtype: int64\n",
      "1     17642\n",
      "2     10570\n",
      "3      5341\n",
      "4      2651\n",
      "5      1599\n",
      "6       979\n",
      "7       629\n",
      "8       400\n",
      "9       283\n",
      "10      225\n",
      "11      177\n",
      "12      125\n",
      "13       92\n",
      "14       69\n",
      "17       58\n",
      "16       51\n",
      "15       51\n",
      "18       33\n",
      "20       30\n",
      "19       26\n",
      "21       24\n",
      "22       17\n",
      "23       16\n",
      "24       15\n",
      "27       11\n",
      "29       10\n",
      "28        8\n",
      "26        8\n",
      "25        8\n",
      "31        7\n",
      "30        7\n",
      "35        5\n",
      "32        4\n",
      "33        4\n",
      "34        3\n",
      "42        2\n",
      "40        2\n",
      "43        2\n",
      "56        1\n",
      "39        1\n",
      "41        1\n",
      "37        1\n",
      "Name: campaign, dtype: int64\n",
      "999    39673\n",
      "3        439\n",
      "6        412\n",
      "4        118\n",
      "9         64\n",
      "2         61\n",
      "7         60\n",
      "12        58\n",
      "10        52\n",
      "5         46\n",
      "13        36\n",
      "11        28\n",
      "1         26\n",
      "15        24\n",
      "14        20\n",
      "8         18\n",
      "0         15\n",
      "16        11\n",
      "17         8\n",
      "18         7\n",
      "22         3\n",
      "19         3\n",
      "21         2\n",
      "25         1\n",
      "26         1\n",
      "27         1\n",
      "20         1\n",
      "Name: pdays, dtype: int64\n",
      "0    35563\n",
      "1     4561\n",
      "2      754\n",
      "3      216\n",
      "4       70\n",
      "5       18\n",
      "6        5\n",
      "7        1\n",
      "Name: previous, dtype: int64\n",
      "nonexistent    35563\n",
      "failure         4252\n",
      "success         1373\n",
      "Name: poutcome, dtype: int64\n",
      " 1.4    16234\n",
      "-1.8     9184\n",
      " 1.1     7763\n",
      "-0.1     3683\n",
      "-2.9     1663\n",
      "-3.4     1071\n",
      "-1.7      773\n",
      "-1.1      635\n",
      "-3.0      172\n",
      "-0.2       10\n",
      "Name: emp.var.rate, dtype: int64\n",
      "93.994    7763\n",
      "93.918    6685\n",
      "92.893    5794\n",
      "93.444    5175\n",
      "94.465    4374\n",
      "93.200    3616\n",
      "93.075    2458\n",
      "92.201     770\n",
      "92.963     715\n",
      "92.431     447\n",
      "92.649     357\n",
      "94.215     311\n",
      "94.199     303\n",
      "92.843     282\n",
      "92.379     267\n",
      "93.369     264\n",
      "94.027     233\n",
      "94.055     229\n",
      "93.876     212\n",
      "94.601     204\n",
      "92.469     178\n",
      "93.749     174\n",
      "92.713     172\n",
      "94.767     128\n",
      "93.798      67\n",
      "92.756      10\n",
      "Name: cons.price.idx, dtype: int64\n",
      "-36.4    7763\n",
      "-42.7    6685\n",
      "-46.2    5794\n",
      "-36.1    5175\n",
      "-41.8    4374\n",
      "-42.0    3616\n",
      "-47.1    2458\n",
      "-31.4     770\n",
      "-40.8     715\n",
      "-26.9     447\n",
      "-30.1     357\n",
      "-40.3     311\n",
      "-37.5     303\n",
      "-50.0     282\n",
      "-29.8     267\n",
      "-34.8     264\n",
      "-38.3     233\n",
      "-39.8     229\n",
      "-40.0     212\n",
      "-49.5     204\n",
      "-33.6     178\n",
      "-34.6     174\n",
      "-33.0     172\n",
      "-50.8     128\n",
      "-40.4      67\n",
      "-45.9      10\n",
      "Name: cons.conf.idx, dtype: int64\n",
      "4.857    2868\n",
      "4.962    2613\n",
      "4.963    2487\n",
      "4.961    1902\n",
      "4.856    1210\n",
      "         ... \n",
      "3.853       1\n",
      "3.901       1\n",
      "0.969       1\n",
      "0.956       1\n",
      "3.669       1\n",
      "Name: euribor3m, Length: 316, dtype: int64\n",
      "5228.1    16234\n",
      "5099.1     8534\n",
      "5191.0     7763\n",
      "5195.8     3683\n",
      "5076.2     1663\n",
      "5017.5     1071\n",
      "4991.6      773\n",
      "5008.7      650\n",
      "4963.6      635\n",
      "5023.5      172\n",
      "5176.3       10\n",
      "Name: nr.employed, dtype: int64\n",
      "no     36548\n",
      "yes     4640\n",
      "Name: y, dtype: int64\n"
     ]
    }
   ],
   "source": [
    "for i in df:\n",
    "    print(df[i].value_counts())"
   ],
   "metadata": {
    "collapsed": false,
    "pycharm": {
     "name": "#%%\n"
    }
   }
  },
  {
   "cell_type": "markdown",
   "source": [
    "# Data analysis:\n",
    "\n",
    "There is no null variables in the data set => it shouldn't make any pre-task execution\n",
    "\n",
    "**Age** column can be representative (full data)\n",
    "**Job** column can be representative (almost full data, only 330/41188 unknown)\n",
    "**Marital** column can be representative (almost full data, only 80/41188 unknown)\n",
    "**Education** column can be representative (almost full data, only 1731/41188 unknown)\n",
    "**Default** column can **NOT** be representative (8597/41188 is unknown and a lot of 'no' answers)\n",
    "**Housing** column can be representative (almost full data, only 990/41188 unknown)\n",
    "**Loan** column can be representative (almost full data, only 990/41188 unknown)\n",
    "**Contact** column can be representative (full data)\n",
    "**Month** column can **NOT** be representative (full data, however this column can show us only the date)\n",
    "**Day of week** column can **NOT** be representative (full data, however this column can show us only the date)\n",
    "**Duration** column can be representative (full data)\n",
    "**Campaign** column can be representative (full data)\n",
    "**pdays** column can  be representative (full data)\n",
    "**previous** column can be representative (full data)\n",
    "**poutcome** column can be representative (full data)\n",
    "**emp.var.rate** column can be representative (full data)\n",
    "**cons.price.idx** column can be representative (full data)\n",
    "**cons.conf.idx** column can be representative (full data)\n",
    "**euribor3m** column can be representative (full data)\n",
    "**nr.employed** column can be representative (full data)\n",
    "**y** is our dependent variable (full data)\n",
    "\n",
    "All in all, we exclude 3 variable (Default, month, day of week). Others variable are still can be representative. We need to choose variables, which show us the most representative information. Let's create a graph for each variable with dependent variable"
   ],
   "metadata": {
    "collapsed": false,
    "pycharm": {
     "name": "#%% md\n"
    }
   }
  },
  {
   "cell_type": "code",
   "execution_count": 6,
   "outputs": [
    {
     "data": {
      "text/plain": "<Figure size 576x360 with 1 Axes>",
      "image/png": "[encoded data removed]"
     },
     "metadata": {},
     "output_type": "display_data"
    },
    {
     "data": {
      "text/plain": "<Figure size 432x288 with 1 Axes>",
      "image/png": "[encoded data removed]"
     },
     "metadata": {},
     "output_type": "display_data"
    },
    {
     "data": {
      "text/plain": "<Figure size 432x288 with 1 Axes>",
      "image/png": "[encoded data removed]"
     },
     "metadata": {},
     "output_type": "display_data"
    },
    {
     "data": {
      "text/plain": "<Figure size 432x288 with 1 Axes>",
      "image/png": "[encoded data removed]"
     },
     "metadata": {},
     "output_type": "display_data"
    },
    {
     "data": {
      "text/plain": "<Figure size 432x288 with 1 Axes>",
      "image/png": "[encoded data removed]"
     },
     "metadata": {},
     "output_type": "display_data"
    },
    {
     "data": {
      "text/plain": "<Figure size 432x288 with 1 Axes>",
      "image/png": "[encoded data removed]"
     },
     "metadata": {},
     "output_type": "display_data"
    },
    {
     "data": {
      "text/plain": "<Figure size 432x288 with 1 Axes>",
      "image/png": "[encoded data removed]"
     },
     "metadata": {},
     "output_type": "display_data"
    },
    {
     "data": {
      "text/plain": "<Figure size 576x360 with 1 Axes>",
      "image/png": "[encoded data removed]"
     },
     "metadata": {},
     "output_type": "display_data"
    },
    {
     "data": {
      "text/plain": "<Figure size 576x360 with 1 Axes>",
      "image/png": "[encoded data removed]"
     },
     "metadata": {},
     "output_type": "display_data"
    },
    {
     "data": {
      "text/plain": "<Figure size 576x360 with 1 Axes>",
      "image/png": "[encoded data removed]"
     },
     "metadata": {},
     "output_type": "display_data"
    },
    {
     "data": {
      "text/plain": "<Figure size 576x360 with 1 Axes>",
      "image/png": "[encoded data removed]"
     },
     "metadata": {},
     "output_type": "display_data"
    },
    {
     "data": {
      "text/plain": "<Figure size 432x288 with 1 Axes>",
      "image/png": "[encoded data removed]"
     },
     "metadata": {},
     "output_type": "display_data"
    },
    {
     "data": {
      "text/plain": "<Figure size 576x360 with 1 Axes>",
      "image/png": "[encoded data removed]"
     },
     "metadata": {},
     "output_type": "display_data"
    },
    {
     "data": {
      "text/plain": "<Figure size 576x360 with 1 Axes>",
      "image/png": "[encoded data removed]"
     },
     "metadata": {},
     "output_type": "display_data"
    },
    {
     "data": {
      "text/plain": "<Figure size 576x360 with 1 Axes>",
      "image/png": "[encoded data removed]"
     },
     "metadata": {},
     "output_type": "display_data"
    },
    {
     "data": {
      "text/plain": "<Figure size 576x360 with 1 Axes>",
      "image/png": "[encoded data removed]"
     },
     "metadata": {},
     "output_type": "display_data"
    }
   ],
   "source": [
    "num = ['age', 'duration', 'campaign', 'pdays', 'previous', 'emp.var.rate', 'cons.prive.idx', 'cons.conf.idx', 'euribor3m', 'nr.employed']\n",
    "cat = ['job', 'marital', 'education', 'housing', 'loan', 'contact', 'poutcome']\n",
    "\n",
    "for c in df.columns[0:]:\n",
    "    if c in num:\n",
    "        plt.figure(figsize=(8,5))\n",
    "        plt.title('{} vs. Y'.format(c), fontsize=16)\n",
    "        plt.scatter(x=df[c], y=df.y, color='blue',edgecolor='k')\n",
    "        plt.grid(True)\n",
    "        plt.xlabel(c, fontsize=14)\n",
    "        plt.ylabel('Y', fontsize=14)\n",
    "        plt.show()\n",
    "    elif c in cat:\n",
    "        ct = pd.crosstab(df.y, df[c])\n",
    "        ct.plot.bar()"
   ],
   "metadata": {
    "collapsed": false,
    "pycharm": {
     "name": "#%%\n"
    }
   }
  },
  {
   "cell_type": "markdown",
   "source": [
    "## Conclusion of data analysis\n",
    "\n",
    "There is no relation between **Age** and **Y** (the difference only after 90+)\n",
    "There is some relation between **Job** and **Y**\n",
    "There is some relation between **Marital** and **Y**\n",
    "There is no relation between **Education** and **Y**\n",
    "There is no relation between **Housing** and **Y**\n",
    "There is no relation between **Loan** and **Y**\n",
    "There is some relation between **Contact** and **Y**\n",
    "There is some relation between **Duration** and **Y**\n",
    "There is some relation between **Campaign** and **Y**\n",
    "There is no relation between **pdays** and **Y**\n",
    "There is weak relation between **Previous** and **Y**\n",
    "There is some relation between **Poutcome** and **Y**\n",
    "There is no relation between variables **emp.var.rate**, **cons.price.idx**, **cons.conf.idx**,**nr.employed** and **Y**\n",
    "There is some relation between **euribor3m** and **Y**\n",
    "\n",
    "Predictors:\n",
    "- Job\n",
    "- Marital\n",
    "- Contact\n",
    "- Duration\n",
    "- Previous\n",
    "- Campaign\n",
    "- Poutcome\n",
    "- Euribor3m"
   ],
   "metadata": {
    "collapsed": false,
    "pycharm": {
     "name": "#%% md\n"
    }
   }
  },
  {
   "cell_type": "code",
   "execution_count": 7,
   "outputs": [
    {
     "name": "stderr",
     "output_type": "stream",
     "text": [
      "/var/folders/gw/g8w_bwb12xxgph526gfvlplr0000gn/T/ipykernel_31284/3428409131.py:1: FutureWarning: In a future version of pandas all arguments of DataFrame.drop except for the argument 'labels' will be keyword-only\n",
      "  df_cl = df.drop(['age','emp.var.rate', 'cons.price.idx', 'cons.conf.idx', 'nr.employed','education','housing','loan','default','month','day_of_week','pdays'], 1)\n"
     ]
    },
    {
     "data": {
      "text/plain": "               job  marital    contact  duration  campaign  previous  \\\n0        housemaid  married  telephone       261         1         0   \n1         services  married  telephone       149         1         0   \n2         services  married  telephone       226         1         0   \n3           admin.  married  telephone       151         1         0   \n4         services  married  telephone       307         1         0   \n...            ...      ...        ...       ...       ...       ...   \n41183      retired  married   cellular       334         1         0   \n41184  blue-collar  married   cellular       383         1         0   \n41185      retired  married   cellular       189         2         0   \n41186   technician  married   cellular       442         1         0   \n41187      retired  married   cellular       239         3         1   \n\n          poutcome  euribor3m    y  \n0      nonexistent      4.857   no  \n1      nonexistent      4.857   no  \n2      nonexistent      4.857   no  \n3      nonexistent      4.857   no  \n4      nonexistent      4.857   no  \n...            ...        ...  ...  \n41183  nonexistent      1.028  yes  \n41184  nonexistent      1.028   no  \n41185  nonexistent      1.028   no  \n41186  nonexistent      1.028  yes  \n41187      failure      1.028   no  \n\n[41188 rows x 9 columns]",
      "text/html": "<div>\n<style scoped>\n    .dataframe tbody tr th:only-of-type {\n        vertical-align: middle;\n    }\n\n    .dataframe tbody tr th {\n        vertical-align: top;\n    }\n\n    .dataframe thead th {\n        text-align: right;\n    }\n</style>\n<table border=\"1\" class=\"dataframe\">\n  <thead>\n    <tr style=\"text-align: right;\">\n      <th></th>\n      <th>job</th>\n      <th>marital</th>\n      <th>contact</th>\n      <th>duration</th>\n      <th>campaign</th>\n      <th>previous</th>\n      <th>poutcome</th>\n      <th>euribor3m</th>\n      <th>y</th>\n    </tr>\n  </thead>\n  <tbody>\n    <tr>\n      <th>0</th>\n      <td>housemaid</td>\n      <td>married</td>\n      <td>telephone</td>\n      <td>261</td>\n      <td>1</td>\n      <td>0</td>\n      <td>nonexistent</td>\n      <td>4.857</td>\n      <td>no</td>\n    </tr>\n    <tr>\n      <th>1</th>\n      <td>services</td>\n      <td>married</td>\n      <td>telephone</td>\n      <td>149</td>\n      <td>1</td>\n      <td>0</td>\n      <td>nonexistent</td>\n      <td>4.857</td>\n      <td>no</td>\n    </tr>\n    <tr>\n      <th>2</th>\n      <td>services</td>\n      <td>married</td>\n      <td>telephone</td>\n      <td>226</td>\n      <td>1</td>\n      <td>0</td>\n      <td>nonexistent</td>\n      <td>4.857</td>\n      <td>no</td>\n    </tr>\n    <tr>\n      <th>3</th>\n      <td>admin.</td>\n      <td>married</td>\n      <td>telephone</td>\n      <td>151</td>\n      <td>1</td>\n      <td>0</td>\n      <td>nonexistent</td>\n      <td>4.857</td>\n      <td>no</td>\n    </tr>\n    <tr>\n      <th>4</th>\n      <td>services</td>\n      <td>married</td>\n      <td>telephone</td>\n      <td>307</td>\n      <td>1</td>\n      <td>0</td>\n      <td>nonexistent</td>\n      <td>4.857</td>\n      <td>no</td>\n    </tr>\n    <tr>\n      <th>...</th>\n      <td>...</td>\n      <td>...</td>\n      <td>...</td>\n      <td>...</td>\n      <td>...</td>\n      <td>...</td>\n      <td>...</td>\n      <td>...</td>\n      <td>...</td>\n    </tr>\n    <tr>\n      <th>41183</th>\n      <td>retired</td>\n      <td>married</td>\n      <td>cellular</td>\n      <td>334</td>\n      <td>1</td>\n      <td>0</td>\n      <td>nonexistent</td>\n      <td>1.028</td>\n      <td>yes</td>\n    </tr>\n    <tr>\n      <th>41184</th>\n      <td>blue-collar</td>\n      <td>married</td>\n      <td>cellular</td>\n      <td>383</td>\n      <td>1</td>\n      <td>0</td>\n      <td>nonexistent</td>\n      <td>1.028</td>\n      <td>no</td>\n    </tr>\n    <tr>\n      <th>41185</th>\n      <td>retired</td>\n      <td>married</td>\n      <td>cellular</td>\n      <td>189</td>\n      <td>2</td>\n      <td>0</td>\n      <td>nonexistent</td>\n      <td>1.028</td>\n      <td>no</td>\n    </tr>\n    <tr>\n      <th>41186</th>\n      <td>technician</td>\n      <td>married</td>\n      <td>cellular</td>\n      <td>442</td>\n      <td>1</td>\n      <td>0</td>\n      <td>nonexistent</td>\n      <td>1.028</td>\n      <td>yes</td>\n    </tr>\n    <tr>\n      <th>41187</th>\n      <td>retired</td>\n      <td>married</td>\n      <td>cellular</td>\n      <td>239</td>\n      <td>3</td>\n      <td>1</td>\n      <td>failure</td>\n      <td>1.028</td>\n      <td>no</td>\n    </tr>\n  </tbody>\n</table>\n<p>41188 rows × 9 columns</p>\n</div>"
     },
     "execution_count": 7,
     "metadata": {},
     "output_type": "execute_result"
    }
   ],
   "source": [
    "df_cl = df.drop(['age','emp.var.rate', 'cons.price.idx', 'cons.conf.idx', 'nr.employed','education','housing','loan','default','month','day_of_week','pdays'], 1)\n",
    "df_cl"
   ],
   "metadata": {
    "collapsed": false,
    "pycharm": {
     "name": "#%%\n"
    }
   }
  },
  {
   "cell_type": "code",
   "execution_count": 8,
   "outputs": [
    {
     "name": "stdout",
     "output_type": "stream",
     "text": [
      "<class 'pandas.core.frame.DataFrame'>\n",
      "RangeIndex: 41188 entries, 0 to 41187\n",
      "Data columns (total 26 columns):\n",
      " #   Column                Non-Null Count  Dtype  \n",
      "---  ------                --------------  -----  \n",
      " 0   duration              41188 non-null  int64  \n",
      " 1   campaign              41188 non-null  int64  \n",
      " 2   previous              41188 non-null  int64  \n",
      " 3   euribor3m             41188 non-null  float64\n",
      " 4   y                     41188 non-null  object \n",
      " 5   job_admin.            41188 non-null  uint8  \n",
      " 6   job_blue-collar       41188 non-null  uint8  \n",
      " 7   job_entrepreneur      41188 non-null  uint8  \n",
      " 8   job_housemaid         41188 non-null  uint8  \n",
      " 9   job_management        41188 non-null  uint8  \n",
      " 10  job_retired           41188 non-null  uint8  \n",
      " 11  job_self-employed     41188 non-null  uint8  \n",
      " 12  job_services          41188 non-null  uint8  \n",
      " 13  job_student           41188 non-null  uint8  \n",
      " 14  job_technician        41188 non-null  uint8  \n",
      " 15  job_unemployed        41188 non-null  uint8  \n",
      " 16  job_unknown           41188 non-null  uint8  \n",
      " 17  marital_divorced      41188 non-null  uint8  \n",
      " 18  marital_married       41188 non-null  uint8  \n",
      " 19  marital_single        41188 non-null  uint8  \n",
      " 20  marital_unknown       41188 non-null  uint8  \n",
      " 21  contact_cellular      41188 non-null  uint8  \n",
      " 22  contact_telephone     41188 non-null  uint8  \n",
      " 23  poutcome_failure      41188 non-null  uint8  \n",
      " 24  poutcome_nonexistent  41188 non-null  uint8  \n",
      " 25  poutcome_success      41188 non-null  uint8  \n",
      "dtypes: float64(1), int64(3), object(1), uint8(21)\n",
      "memory usage: 2.4+ MB\n"
     ]
    }
   ],
   "source": [
    "df_dm = pd.get_dummies(df_cl, columns=['job','marital','contact','poutcome'])\n",
    "df_dm.info()"
   ],
   "metadata": {
    "collapsed": false,
    "pycharm": {
     "name": "#%%\n"
    }
   }
  },
  {
   "cell_type": "markdown",
   "source": [
    "# Regression\n",
    "\n",
    "H0: The linear regression model constructed for a dependent variable 'Y' and the following predictors:\n",
    "- Job\n",
    "- Marital\n",
    "- Contact\n",
    "- Duration\n",
    "- Campaign\n",
    "- Previous\n",
    "- Poutcome\n",
    "- Euribor3m\n",
    "\n",
    "explains the variation of 'Y'.\n",
    "\n",
    "H1: The aforementioned model does not explain the variation of 'Y'.\n",
    "\n",
    "p-value = 0.05."
   ],
   "metadata": {
    "collapsed": false,
    "pycharm": {
     "name": "#%% md\n"
    }
   }
  },
  {
   "cell_type": "code",
   "execution_count": 9,
   "outputs": [
    {
     "name": "stderr",
     "output_type": "stream",
     "text": [
      "/var/folders/gw/g8w_bwb12xxgph526gfvlplr0000gn/T/ipykernel_31284/3105165262.py:1: FutureWarning: In a future version of pandas all arguments of DataFrame.drop except for the argument 'labels' will be keyword-only\n",
      "  df_reg = df_dm.drop(['job_unknown','marital_unknown','contact_telephone','poutcome_nonexistent'], 1)\n"
     ]
    }
   ],
   "source": [
    "df_reg = df_dm.drop(['job_unknown','marital_unknown','contact_telephone','poutcome_nonexistent'], 1)"
   ],
   "metadata": {
    "collapsed": false,
    "pycharm": {
     "name": "#%%\n"
    }
   }
  },
  {
   "cell_type": "code",
   "execution_count": 10,
   "outputs": [
    {
     "name": "stderr",
     "output_type": "stream",
     "text": [
      "/var/folders/gw/g8w_bwb12xxgph526gfvlplr0000gn/T/ipykernel_31284/545627269.py:1: FutureWarning: In a future version of pandas all arguments of DataFrame.drop except for the argument 'labels' will be keyword-only\n",
      "  df_predictors = df_reg.drop('y',1)\n"
     ]
    }
   ],
   "source": [
    "df_predictors = df_reg.drop('y',1)\n",
    "df_dependent = df_reg['y']\n",
    "df_dependent.replace(('yes','no'),(1,0),inplace=True) #Yes/no have to be parsed to 1/0"
   ],
   "metadata": {
    "collapsed": false,
    "pycharm": {
     "name": "#%%\n"
    }
   }
  },
  {
   "cell_type": "code",
   "execution_count": 12,
   "outputs": [
    {
     "name": "stderr",
     "output_type": "stream",
     "text": [
      "/Users/zhdanov.vdm/opt/anaconda3/lib/python3.9/site-packages/statsmodels/tsa/tsatools.py:142: FutureWarning: In a future version of pandas all arguments of concat except for the argument 'objs' will be keyword-only\n",
      "  x = pd.concat(x[::order], 1)\n"
     ]
    }
   ],
   "source": [
    "x_mult_constant = sm.add_constant(df_predictors)"
   ],
   "metadata": {
    "collapsed": false,
    "pycharm": {
     "name": "#%%\n"
    }
   }
  },
  {
   "cell_type": "code",
   "execution_count": 13,
   "outputs": [
    {
     "name": "stdout",
     "output_type": "stream",
     "text": [
      "Optimization terminated successfully.\n",
      "         Current function value: 0.222914\n",
      "         Iterations 8\n",
      "                           Logit Regression Results                           \n",
      "==============================================================================\n",
      "Dep. Variable:                      y   No. Observations:                41188\n",
      "Model:                          Logit   Df Residuals:                    41166\n",
      "Method:                           MLE   Df Model:                           21\n",
      "Date:                Tue, 10 May 2022   Pseudo R-squ.:                  0.3668\n",
      "Time:                        17:40:58   Log-Likelihood:                -9181.4\n",
      "converged:                       True   LL-Null:                       -14499.\n",
      "Covariance Type:            nonrobust   LLR p-value:                     0.000\n",
      "=====================================================================================\n",
      "                        coef    std err          z      P>|z|      [0.025      0.975]\n",
      "-------------------------------------------------------------------------------------\n",
      "const                -1.9981      0.454     -4.401      0.000      -2.888      -1.108\n",
      "duration              0.0045   7.14e-05     63.177      0.000       0.004       0.005\n",
      "campaign             -0.0518      0.011     -4.526      0.000      -0.074      -0.029\n",
      "previous              0.2967      0.055      5.410      0.000       0.189       0.404\n",
      "euribor3m            -0.5633      0.014    -40.322      0.000      -0.591      -0.536\n",
      "job_admin.           -0.0430      0.226     -0.190      0.849      -0.486       0.400\n",
      "job_blue-collar      -0.7535      0.229     -3.294      0.001      -1.202      -0.305\n",
      "job_entrepreneur     -0.4427      0.251     -1.764      0.078      -0.935       0.049\n",
      "job_housemaid        -0.0863      0.258     -0.335      0.738      -0.592       0.419\n",
      "job_management       -0.1348      0.234     -0.575      0.565      -0.594       0.325\n",
      "job_retired           0.4974      0.234      2.122      0.034       0.038       0.957\n",
      "job_self-employed    -0.2309      0.247     -0.933      0.351      -0.716       0.254\n",
      "job_services         -0.5247      0.234     -2.245      0.025      -0.983      -0.067\n",
      "job_student           0.2667      0.242      1.101      0.271      -0.208       0.742\n",
      "job_technician       -0.1161      0.228     -0.508      0.611      -0.564       0.332\n",
      "job_unemployed        0.0147      0.251      0.059      0.953      -0.477       0.506\n",
      "marital_divorced      0.0040      0.400      0.010      0.992      -0.780       0.788\n",
      "marital_married       0.0177      0.396      0.045      0.964      -0.759       0.795\n",
      "marital_single        0.1264      0.397      0.318      0.750      -0.652       0.905\n",
      "contact_cellular      0.2690      0.054      4.980      0.000       0.163       0.375\n",
      "poutcome_failure     -0.7794      0.091     -8.595      0.000      -0.957      -0.602\n",
      "poutcome_success      1.3364      0.107     12.526      0.000       1.127       1.546\n",
      "=====================================================================================\n"
     ]
    }
   ],
   "source": [
    "model = sm.Logit(df_dependent, x_mult_constant).fit()\n",
    "print(model.summary())"
   ],
   "metadata": {
    "collapsed": false,
    "pycharm": {
     "name": "#%%\n"
    }
   }
  },
  {
   "cell_type": "code",
   "execution_count": 15,
   "outputs": [
    {
     "name": "stdout",
     "output_type": "stream",
     "text": [
      "R^2 = 0.366774\n",
      "Model significance = 0.000000\n"
     ]
    }
   ],
   "source": [
    "print('R^2 = {:f}'.format(model.prsquared))\n",
    "print('Model significance = {:f}'.format(model.llr_pvalue))"
   ],
   "metadata": {
    "collapsed": false,
    "pycharm": {
     "name": "#%%\n"
    }
   }
  },
  {
   "cell_type": "markdown",
   "source": [
    "##### Conclusion:\n",
    "\n",
    "Model is statistically significant at p-value = 0.05 and explains 37% of variance of variable 'Y'. H1 is rejected at p-value = 0.05"
   ],
   "metadata": {
    "collapsed": false,
    "pycharm": {
     "name": "#%% md\n"
    }
   }
  },
  {
   "cell_type": "markdown",
   "source": [
    "#### Hypotheses:\n",
    "\n",
    "- H0_1: The variable job is statistically significant for the logistic regression model constructed for a dependent variable 'y'\n",
    "- H0_2: The variable marital is statistically significant for the logistic regression model constructed for a dependent variable 'y'\n",
    "- H0_3: The variable contact is statistically significant for the logistic regression model constructed for a dependent variable 'y'\n",
    "- H0_4: The variable duration is statistically significant for the logistic regression model constructed for a dependent variable 'y'\n",
    "- H0_5: The variable campaign is statistically significant for the logistic regression model constructed for a dependent variable 'y'\n",
    "- H0_6: The variable previous is statistically significant for the logistic regression model constructed for a dependent variable 'y'\n",
    "- H0_7: The variable poutcome is statistically significant for the logistic regression model constructed for a dependent variable 'y'\n",
    "- H0_8: The variable euribor3m is statistically significant for the logistic regression model constructed for a dependent variable 'y'\n",
    "\n",
    "- H1_1: The variable job is not statistically significant for the logistic regression model constructed for a dependent variable 'y'\n",
    "- H1_2: The variable marital is not statistically significant for the logistic regression model constructed for a dependent variable 'y'\n",
    "- H1_3: The variable contact is not statistically significant for the logistic regression model constructed for a dependent variable 'y'\n",
    "- H1_4: The variable duration is not statistically significant for the logistic regression model constructed for a dependent variable 'y'\n",
    "- H1_5: The variable campaign is not statistically significant for the logistic regression model constructed for a dependent variable 'y'\n",
    "- H1_6: The variable previous is not statistically significant for the logistic regression model constructed for a dependent variable 'y'\n",
    "- H1_7: The variable poutcome is not statistically significant for the logistic regression model constructed for a dependent variable 'y'\n",
    "- H1_8: The variable euribor3m is not statistically significant for the logistic regression model constructed for a dependent variable 'y'\n",
    "\n",
    "p-value = 0.05"
   ],
   "metadata": {
    "collapsed": false,
    "pycharm": {
     "name": "#%% md\n"
    }
   }
  },
  {
   "cell_type": "code",
   "execution_count": 16,
   "outputs": [
    {
     "name": "stdout",
     "output_type": "stream",
     "text": [
      "Statistically significant model parameters: ['const' 'duration' 'campaign' 'previous' 'euribor3m' 'job_blue-collar'\n",
      " 'job_retired' 'job_services' 'contact_cellular' 'poutcome_failure'\n",
      " 'poutcome_success']\n"
     ]
    }
   ],
   "source": [
    "print(f'Statistically significant model parameters: {model.pvalues[model.pvalues < 0.05].index.values}')"
   ],
   "metadata": {
    "collapsed": false,
    "pycharm": {
     "name": "#%%\n"
    }
   }
  },
  {
   "cell_type": "code",
   "execution_count": 17,
   "outputs": [
    {
     "name": "stdout",
     "output_type": "stream",
     "text": [
      "Statistically nonsignificant model parameters: ['job_admin.' 'job_entrepreneur' 'job_housemaid' 'job_management'\n",
      " 'job_self-employed' 'job_student' 'job_technician' 'job_unemployed'\n",
      " 'marital_divorced' 'marital_married' 'marital_single']\n"
     ]
    }
   ],
   "source": [
    "print(f'Statistically nonsignificant model parameters: {model.pvalues[model.pvalues > 0.05].index.values}')"
   ],
   "metadata": {
    "collapsed": false,
    "pycharm": {
     "name": "#%%\n"
    }
   }
  },
  {
   "cell_type": "markdown",
   "source": [
    "## Conclusion:\n",
    "\n",
    "Duration, campaign, previous, euribor3m, job (partially), contact and poutcome are statistically significant. Thus, H1_2 is accepted at p-value = 0.05, H1_1, H1_3, H1_4, H1_5, H1_6, H1_7 and H1_8 are rejected."
   ],
   "metadata": {
    "collapsed": false,
    "pycharm": {
     "name": "#%% md\n"
    }
   }
  },
  {
   "cell_type": "markdown",
   "source": [
    "# Regression equation"
   ],
   "metadata": {
    "collapsed": false,
    "pycharm": {
     "name": "#%% md\n"
    }
   }
  },
  {
   "cell_type": "code",
   "execution_count": 18,
   "outputs": [
    {
     "name": "stdout",
     "output_type": "stream",
     "text": [
      "logit(p) = -1.998094 + 0.00*duration + -0.05*campaign + 0.30*previous + -0.56*euribor3m + -0.04*job_admin. + -0.75*job_blue-collar + -0.44*job_entrepreneur + -0.09*job_housemaid + -0.13*job_management + 0.50*job_retired + -0.23*job_self-employed + -0.52*job_services + 0.27*job_student + -0.12*job_technician + 0.01*job_unemployed + 0.00*marital_divorced + 0.02*marital_married + 0.13*marital_single + 0.27*contact_cellular + -0.78*poutcome_failure + 1.34*poutcome_success\n"
     ]
    }
   ],
   "source": [
    "l = []\n",
    "for (param, index) in zip(model.params[1:], model.params.index[1:]):\n",
    "    l.append('{:.2f}*{}'.format(param, index))\n",
    "\n",
    "print('logit(p) = {:2f} + {}'.format(model.params[0], ' + '.join(l)))"
   ],
   "metadata": {
    "collapsed": false,
    "pycharm": {
     "name": "#%%\n"
    }
   }
  },
  {
   "cell_type": "markdown",
   "source": [
    "# Coefs"
   ],
   "metadata": {
    "collapsed": false,
    "pycharm": {
     "name": "#%% md\n"
    }
   }
  },
  {
   "cell_type": "code",
   "execution_count": 19,
   "outputs": [
    {
     "name": "stdout",
     "output_type": "stream",
     "text": [
      "Intercept =  -1.998094108551784\n"
     ]
    },
    {
     "data": {
      "text/plain": "                      Coefs\nFeatures                   \nduration           0.004514\ncampaign          -0.051817\nprevious           0.296664\neuribor3m         -0.563277\njob_admin.        -0.042991\njob_blue-collar   -0.753511\njob_entrepreneur  -0.442676\njob_housemaid     -0.086330\njob_management    -0.134755\njob_retired        0.497379\njob_self-employed -0.230851\njob_services      -0.524718\njob_student        0.266672\njob_technician    -0.116058\njob_unemployed     0.014730\nmarital_divorced   0.004022\nmarital_married    0.017684\nmarital_single     0.126414\ncontact_cellular   0.269001\npoutcome_failure  -0.779387\npoutcome_success   1.336399",
      "text/html": "<div>\n<style scoped>\n    .dataframe tbody tr th:only-of-type {\n        vertical-align: middle;\n    }\n\n    .dataframe tbody tr th {\n        vertical-align: top;\n    }\n\n    .dataframe thead th {\n        text-align: right;\n    }\n</style>\n<table border=\"1\" class=\"dataframe\">\n  <thead>\n    <tr style=\"text-align: right;\">\n      <th></th>\n      <th>Coefs</th>\n    </tr>\n    <tr>\n      <th>Features</th>\n      <th></th>\n    </tr>\n  </thead>\n  <tbody>\n    <tr>\n      <th>duration</th>\n      <td>0.004514</td>\n    </tr>\n    <tr>\n      <th>campaign</th>\n      <td>-0.051817</td>\n    </tr>\n    <tr>\n      <th>previous</th>\n      <td>0.296664</td>\n    </tr>\n    <tr>\n      <th>euribor3m</th>\n      <td>-0.563277</td>\n    </tr>\n    <tr>\n      <th>job_admin.</th>\n      <td>-0.042991</td>\n    </tr>\n    <tr>\n      <th>job_blue-collar</th>\n      <td>-0.753511</td>\n    </tr>\n    <tr>\n      <th>job_entrepreneur</th>\n      <td>-0.442676</td>\n    </tr>\n    <tr>\n      <th>job_housemaid</th>\n      <td>-0.086330</td>\n    </tr>\n    <tr>\n      <th>job_management</th>\n      <td>-0.134755</td>\n    </tr>\n    <tr>\n      <th>job_retired</th>\n      <td>0.497379</td>\n    </tr>\n    <tr>\n      <th>job_self-employed</th>\n      <td>-0.230851</td>\n    </tr>\n    <tr>\n      <th>job_services</th>\n      <td>-0.524718</td>\n    </tr>\n    <tr>\n      <th>job_student</th>\n      <td>0.266672</td>\n    </tr>\n    <tr>\n      <th>job_technician</th>\n      <td>-0.116058</td>\n    </tr>\n    <tr>\n      <th>job_unemployed</th>\n      <td>0.014730</td>\n    </tr>\n    <tr>\n      <th>marital_divorced</th>\n      <td>0.004022</td>\n    </tr>\n    <tr>\n      <th>marital_married</th>\n      <td>0.017684</td>\n    </tr>\n    <tr>\n      <th>marital_single</th>\n      <td>0.126414</td>\n    </tr>\n    <tr>\n      <th>contact_cellular</th>\n      <td>0.269001</td>\n    </tr>\n    <tr>\n      <th>poutcome_failure</th>\n      <td>-0.779387</td>\n    </tr>\n    <tr>\n      <th>poutcome_success</th>\n      <td>1.336399</td>\n    </tr>\n  </tbody>\n</table>\n</div>"
     },
     "execution_count": 19,
     "metadata": {},
     "output_type": "execute_result"
    }
   ],
   "source": [
    "coefs = pd.DataFrame()\n",
    "coefs['Coefs'] = model.params[1:]\n",
    "coefs['Features'] = model.params.index[1:]\n",
    "coefs.set_index('Features', inplace=True)\n",
    "print('Intercept = ', model.params[0])\n",
    "coefs"
   ],
   "metadata": {
    "collapsed": false,
    "pycharm": {
     "name": "#%%\n"
    }
   }
  },
  {
   "cell_type": "code",
   "execution_count": 22,
   "outputs": [
    {
     "data": {
      "text/plain": "                      Coefs  OddsRatio\nFeatures                              \nduration           0.004514   1.004524\ncampaign          -0.051817   0.949503\nprevious           0.296664   1.345363\neuribor3m         -0.563277   0.569340\njob_admin.        -0.042991   0.957920\njob_blue-collar   -0.753511   0.470711\njob_entrepreneur  -0.442676   0.642315\njob_housemaid     -0.086330   0.917292\njob_management    -0.134755   0.873930\njob_retired        0.497379   1.644406\njob_self-employed -0.230851   0.793857\njob_services      -0.524718   0.591722\njob_student        0.266672   1.305612\njob_technician    -0.116058   0.890423\njob_unemployed     0.014730   1.014839\nmarital_divorced   0.004022   1.004030\nmarital_married    0.017684   1.017842\nmarital_single     0.126414   1.134752\ncontact_cellular   0.269001   1.308656\npoutcome_failure  -0.779387   0.458687\npoutcome_success   1.336399   3.805318",
      "text/html": "<div>\n<style scoped>\n    .dataframe tbody tr th:only-of-type {\n        vertical-align: middle;\n    }\n\n    .dataframe tbody tr th {\n        vertical-align: top;\n    }\n\n    .dataframe thead th {\n        text-align: right;\n    }\n</style>\n<table border=\"1\" class=\"dataframe\">\n  <thead>\n    <tr style=\"text-align: right;\">\n      <th></th>\n      <th>Coefs</th>\n      <th>OddsRatio</th>\n    </tr>\n    <tr>\n      <th>Features</th>\n      <th></th>\n      <th></th>\n    </tr>\n  </thead>\n  <tbody>\n    <tr>\n      <th>duration</th>\n      <td>0.004514</td>\n      <td>1.004524</td>\n    </tr>\n    <tr>\n      <th>campaign</th>\n      <td>-0.051817</td>\n      <td>0.949503</td>\n    </tr>\n    <tr>\n      <th>previous</th>\n      <td>0.296664</td>\n      <td>1.345363</td>\n    </tr>\n    <tr>\n      <th>euribor3m</th>\n      <td>-0.563277</td>\n      <td>0.569340</td>\n    </tr>\n    <tr>\n      <th>job_admin.</th>\n      <td>-0.042991</td>\n      <td>0.957920</td>\n    </tr>\n    <tr>\n      <th>job_blue-collar</th>\n      <td>-0.753511</td>\n      <td>0.470711</td>\n    </tr>\n    <tr>\n      <th>job_entrepreneur</th>\n      <td>-0.442676</td>\n      <td>0.642315</td>\n    </tr>\n    <tr>\n      <th>job_housemaid</th>\n      <td>-0.086330</td>\n      <td>0.917292</td>\n    </tr>\n    <tr>\n      <th>job_management</th>\n      <td>-0.134755</td>\n      <td>0.873930</td>\n    </tr>\n    <tr>\n      <th>job_retired</th>\n      <td>0.497379</td>\n      <td>1.644406</td>\n    </tr>\n    <tr>\n      <th>job_self-employed</th>\n      <td>-0.230851</td>\n      <td>0.793857</td>\n    </tr>\n    <tr>\n      <th>job_services</th>\n      <td>-0.524718</td>\n      <td>0.591722</td>\n    </tr>\n    <tr>\n      <th>job_student</th>\n      <td>0.266672</td>\n      <td>1.305612</td>\n    </tr>\n    <tr>\n      <th>job_technician</th>\n      <td>-0.116058</td>\n      <td>0.890423</td>\n    </tr>\n    <tr>\n      <th>job_unemployed</th>\n      <td>0.014730</td>\n      <td>1.014839</td>\n    </tr>\n    <tr>\n      <th>marital_divorced</th>\n      <td>0.004022</td>\n      <td>1.004030</td>\n    </tr>\n    <tr>\n      <th>marital_married</th>\n      <td>0.017684</td>\n      <td>1.017842</td>\n    </tr>\n    <tr>\n      <th>marital_single</th>\n      <td>0.126414</td>\n      <td>1.134752</td>\n    </tr>\n    <tr>\n      <th>contact_cellular</th>\n      <td>0.269001</td>\n      <td>1.308656</td>\n    </tr>\n    <tr>\n      <th>poutcome_failure</th>\n      <td>-0.779387</td>\n      <td>0.458687</td>\n    </tr>\n    <tr>\n      <th>poutcome_success</th>\n      <td>1.336399</td>\n      <td>3.805318</td>\n    </tr>\n  </tbody>\n</table>\n</div>"
     },
     "execution_count": 22,
     "metadata": {},
     "output_type": "execute_result"
    }
   ],
   "source": [
    "coefs['OddsRatio'] = np.exp(coefs.Coefs)\n",
    "coefs"
   ],
   "metadata": {
    "collapsed": false,
    "pycharm": {
     "name": "#%%\n"
    }
   }
  },
  {
   "cell_type": "markdown",
   "source": [
    "Statistically significant model parameters: ['duration' 'campaign' 'previous' 'euribor3m' 'job_blue-collar'\n",
    " 'job_retired' 'job_services' 'contact_cellular' 'poutcome_failure'\n",
    " 'poutcome_success'].\n",
    "\n",
    "Description for them (odds = odds to deposit subscription):\n",
    "\n",
    "- Increase in duration by one => increase the odds by 0.4%\n",
    "- Increase in campaign by one => decrease the odds by 5%\n",
    "- Increase in previous by one => increase the odds by 35%\n",
    "- Increase in euribor3m by one => decrease the odds by 43%\n",
    "- Increase blue collar jobs by one => decrease the odds by 53%\n",
    "- Increase retired job by one => increase the odds by 64%\n",
    "- Increase service job by one => decrease the odds by 41%\n",
    "- Increase contact cellular by one => increase the odds by 31%\n",
    "- Increase failed outcome by one => decrease the odds by 54%\n",
    "- Increase success outcome by one => increase the odds by 280%"
   ],
   "metadata": {
    "collapsed": false,
    "pycharm": {
     "name": "#%% md\n"
    }
   }
  },
  {
   "cell_type": "markdown",
   "source": [],
   "metadata": {
    "collapsed": false,
    "pycharm": {
     "name": "#%% md\n"
    }
   }
  },
  {
   "cell_type": "markdown",
   "source": [
    "# Confusion matrix"
   ],
   "metadata": {
    "collapsed": false,
    "pycharm": {
     "name": "#%% md\n"
    }
   }
  },
  {
   "cell_type": "code",
   "execution_count": 23,
   "outputs": [
    {
     "data": {
      "text/plain": "array([[35633.,   915.],\n       [ 2900.,  1740.]])"
     },
     "execution_count": 23,
     "metadata": {},
     "output_type": "execute_result"
    }
   ],
   "source": [
    "cm = model.pred_table()\n",
    "cm"
   ],
   "metadata": {
    "collapsed": false,
    "pycharm": {
     "name": "#%%\n"
    }
   }
  },
  {
   "cell_type": "code",
   "execution_count": 24,
   "outputs": [
    {
     "name": "stdout",
     "output_type": "stream",
     "text": [
      "TP: 35633.0 | FN: 915.0\n",
      "-------------------\n",
      "FP: 2900.0  | TN: 1740.0\n"
     ]
    }
   ],
   "source": [
    "print('TP: {} | FN: {}\\n-------------------\\nFP: {}  | TN: {}'.format(cm[0,0], cm[0,1], cm[1,0], cm[1,1]))"
   ],
   "metadata": {
    "collapsed": false,
    "pycharm": {
     "name": "#%%\n"
    }
   }
  },
  {
   "cell_type": "code",
   "execution_count": 25,
   "outputs": [
    {
     "name": "stdout",
     "output_type": "stream",
     "text": [
      "Accuracy: 0.9073759347382733\n"
     ]
    }
   ],
   "source": [
    "accuracy = (cm[0,0] + cm[1,1]) / sum(sum(cm))\n",
    "print('Accuracy: {}'.format(accuracy))"
   ],
   "metadata": {
    "collapsed": false,
    "pycharm": {
     "name": "#%%\n"
    }
   }
  },
  {
   "cell_type": "markdown",
   "source": [
    "Accuracy rate for the model is greater than 0.9 which means that models fits the data very well."
   ],
   "metadata": {
    "collapsed": false,
    "pycharm": {
     "name": "#%% md\n"
    }
   }
  },
  {
   "cell_type": "markdown",
   "source": [
    "# ROC-curve"
   ],
   "metadata": {
    "collapsed": false,
    "pycharm": {
     "name": "#%% md\n"
    }
   }
  },
  {
   "cell_type": "code",
   "execution_count": 28,
   "outputs": [],
   "source": [
    "fpr, tpr, _ = roc_curve(df_dependent, model.predict())\n",
    "roc_auc = auc(fpr, tpr)"
   ],
   "metadata": {
    "collapsed": false,
    "pycharm": {
     "name": "#%%\n"
    }
   }
  },
  {
   "cell_type": "code",
   "execution_count": 29,
   "outputs": [
    {
     "data": {
      "text/plain": "<Figure size 432x288 with 1 Axes>",
      "image/png": "[encoded data removed]"
     },
     "metadata": {},
     "output_type": "display_data"
    }
   ],
   "source": [
    "plt.plot(fpr, tpr, color='darkorange', lw=2, label='ROC curve (area = %0.2f)' % roc_auc)\n",
    "plt.plot([0, 1], [0, 1], color='navy', lw=2, linestyle='--')\n",
    "plt.xlim([0.0, 1.0])\n",
    "plt.ylim([0.0, 1.05])\n",
    "plt.xlabel('False Positive Rate')\n",
    "plt.ylabel('True Positive Rate')\n",
    "plt.legend(loc='lower right')\n",
    "plt.show()"
   ],
   "metadata": {
    "collapsed": false,
    "pycharm": {
     "name": "#%%\n"
    }
   }
  },
  {
   "cell_type": "markdown",
   "source": [
    "AUC equals to 0.92 which shows that the model fits the data very well"
   ],
   "metadata": {
    "collapsed": false,
    "pycharm": {
     "name": "#%% md\n"
    }
   }
  },
  {
   "cell_type": "markdown",
   "source": [
    "# Model Diagnostics"
   ],
   "metadata": {
    "collapsed": false,
    "pycharm": {
     "name": "#%% md\n"
    }
   }
  },
  {
   "cell_type": "markdown",
   "source": [
    "## Residuals\n",
    "\n",
    "H1: The distribution of residuals is different from the normal distribution\n",
    "\n",
    "H0: The distribution of residuals is not different from the normal distribution\n",
    "\n",
    "p-value = 0.05"
   ],
   "metadata": {
    "collapsed": false,
    "pycharm": {
     "name": "#%% md\n"
    }
   }
  },
  {
   "cell_type": "code",
   "execution_count": 31,
   "outputs": [
    {
     "name": "stdout",
     "output_type": "stream",
     "text": [
      "P-value: 0.000\n"
     ]
    }
   ],
   "source": [
    "p = stats.kstest(model.resid_generalized, 'norm', args=(model.resid_generalized.mean(), model.resid_generalized.std())).pvalue\n",
    "print('P-value: {:.3f}'.format(p))"
   ],
   "metadata": {
    "collapsed": false,
    "pycharm": {
     "name": "#%%\n"
    }
   }
  },
  {
   "cell_type": "code",
   "execution_count": 32,
   "outputs": [
    {
     "name": "stderr",
     "output_type": "stream",
     "text": [
      "/Users/zhdanov.vdm/opt/anaconda3/lib/python3.9/site-packages/seaborn/distributions.py:2619: FutureWarning: `distplot` is a deprecated function and will be removed in a future version. Please adapt your code to use either `displot` (a figure-level function with similar flexibility) or `histplot` (an axes-level function for histograms).\n",
      "  warnings.warn(msg, FutureWarning)\n"
     ]
    },
    {
     "data": {
      "text/plain": "<AxesSubplot:ylabel='Density'>"
     },
     "execution_count": 32,
     "metadata": {},
     "output_type": "execute_result"
    },
    {
     "data": {
      "text/plain": "<Figure size 432x288 with 1 Axes>",
      "image/png": "[encoded data removed]"
     },
     "metadata": {},
     "output_type": "display_data"
    }
   ],
   "source": [
    "sns.distplot(model.resid_generalized, fit=stats.norm)"
   ],
   "metadata": {
    "collapsed": false,
    "pycharm": {
     "name": "#%%\n"
    }
   }
  },
  {
   "cell_type": "markdown",
   "source": [
    "##### Conclusion:\n",
    "\n",
    "H1 is accepted at p-value = 0.05 : residuals significantly differ from the normal distribution."
   ],
   "metadata": {
    "collapsed": false,
    "pycharm": {
     "name": "#%% md\n"
    }
   }
  },
  {
   "cell_type": "markdown",
   "source": [
    "## Multicollinearity\n",
    "\n",
    "Multicollinearity can be checked to find any strong correlations between predictors"
   ],
   "metadata": {
    "collapsed": false,
    "pycharm": {
     "name": "#%% md\n"
    }
   }
  },
  {
   "cell_type": "code",
   "execution_count": 34,
   "outputs": [],
   "source": [
    "vifs = np.array([vif(model.model.exog, i) for i in range(model.model.exog.shape[1])])"
   ],
   "metadata": {
    "collapsed": false,
    "pycharm": {
     "name": "#%%\n"
    }
   }
  },
  {
   "cell_type": "code",
   "execution_count": 35,
   "outputs": [
    {
     "data": {
      "text/plain": "           VIF           Features\n0     1.008783           duration\n1     1.025271           campaign\n18    1.214701   contact_cellular\n3     1.548186          euribor3m\n20    2.632202   poutcome_success\n19    3.631560   poutcome_failure\n12    3.667968        job_student\n14    3.982859     job_unemployed\n7     4.117375      job_housemaid\n2     4.765811           previous\n10    5.138916  job_self-employed\n6     5.239301   job_entrepreneur\n9     6.003282        job_retired\n8     9.198177     job_management\n11   11.823037       job_services\n13   18.014684     job_technician\n5    22.599984    job_blue-collar\n4    24.475208         job_admin.\n15   52.271434   marital_divorced\n17  105.130937     marital_single\n16  123.818235    marital_married",
      "text/html": "<div>\n<style scoped>\n    .dataframe tbody tr th:only-of-type {\n        vertical-align: middle;\n    }\n\n    .dataframe tbody tr th {\n        vertical-align: top;\n    }\n\n    .dataframe thead th {\n        text-align: right;\n    }\n</style>\n<table border=\"1\" class=\"dataframe\">\n  <thead>\n    <tr style=\"text-align: right;\">\n      <th></th>\n      <th>VIF</th>\n      <th>Features</th>\n    </tr>\n  </thead>\n  <tbody>\n    <tr>\n      <th>0</th>\n      <td>1.008783</td>\n      <td>duration</td>\n    </tr>\n    <tr>\n      <th>1</th>\n      <td>1.025271</td>\n      <td>campaign</td>\n    </tr>\n    <tr>\n      <th>18</th>\n      <td>1.214701</td>\n      <td>contact_cellular</td>\n    </tr>\n    <tr>\n      <th>3</th>\n      <td>1.548186</td>\n      <td>euribor3m</td>\n    </tr>\n    <tr>\n      <th>20</th>\n      <td>2.632202</td>\n      <td>poutcome_success</td>\n    </tr>\n    <tr>\n      <th>19</th>\n      <td>3.631560</td>\n      <td>poutcome_failure</td>\n    </tr>\n    <tr>\n      <th>12</th>\n      <td>3.667968</td>\n      <td>job_student</td>\n    </tr>\n    <tr>\n      <th>14</th>\n      <td>3.982859</td>\n      <td>job_unemployed</td>\n    </tr>\n    <tr>\n      <th>7</th>\n      <td>4.117375</td>\n      <td>job_housemaid</td>\n    </tr>\n    <tr>\n      <th>2</th>\n      <td>4.765811</td>\n      <td>previous</td>\n    </tr>\n    <tr>\n      <th>10</th>\n      <td>5.138916</td>\n      <td>job_self-employed</td>\n    </tr>\n    <tr>\n      <th>6</th>\n      <td>5.239301</td>\n      <td>job_entrepreneur</td>\n    </tr>\n    <tr>\n      <th>9</th>\n      <td>6.003282</td>\n      <td>job_retired</td>\n    </tr>\n    <tr>\n      <th>8</th>\n      <td>9.198177</td>\n      <td>job_management</td>\n    </tr>\n    <tr>\n      <th>11</th>\n      <td>11.823037</td>\n      <td>job_services</td>\n    </tr>\n    <tr>\n      <th>13</th>\n      <td>18.014684</td>\n      <td>job_technician</td>\n    </tr>\n    <tr>\n      <th>5</th>\n      <td>22.599984</td>\n      <td>job_blue-collar</td>\n    </tr>\n    <tr>\n      <th>4</th>\n      <td>24.475208</td>\n      <td>job_admin.</td>\n    </tr>\n    <tr>\n      <th>15</th>\n      <td>52.271434</td>\n      <td>marital_divorced</td>\n    </tr>\n    <tr>\n      <th>17</th>\n      <td>105.130937</td>\n      <td>marital_single</td>\n    </tr>\n    <tr>\n      <th>16</th>\n      <td>123.818235</td>\n      <td>marital_married</td>\n    </tr>\n  </tbody>\n</table>\n</div>"
     },
     "execution_count": 35,
     "metadata": {},
     "output_type": "execute_result"
    }
   ],
   "source": [
    "vif_df = pd.DataFrame()\n",
    "vif_df['VIF'] = vifs[1:]\n",
    "vif_df['Features'] = model.params.index[1:]\n",
    "vif_df.sort_values(by=['VIF'])"
   ],
   "metadata": {
    "collapsed": false,
    "pycharm": {
     "name": "#%%\n"
    }
   }
  },
  {
   "cell_type": "markdown",
   "source": [
    "There is a multicollinearity problem since some groups of 'marital' and 'job' predictors have strong correlation with each other"
   ],
   "metadata": {
    "collapsed": false,
    "pycharm": {
     "name": "#%% md\n"
    }
   }
  },
  {
   "cell_type": "markdown",
   "source": [
    "## Saving probability of Y to the source dataframe:"
   ],
   "metadata": {
    "collapsed": false,
    "pycharm": {
     "name": "#%% md\n"
    }
   }
  },
  {
   "cell_type": "code",
   "execution_count": 36,
   "outputs": [
    {
     "data": {
      "text/plain": "       age          job  marital            education  default housing loan  \\\n0       56    housemaid  married             basic.4y       no      no   no   \n1       57     services  married          high.school  unknown      no   no   \n2       37     services  married          high.school       no     yes   no   \n3       40       admin.  married             basic.6y       no      no   no   \n4       56     services  married          high.school       no      no  yes   \n...    ...          ...      ...                  ...      ...     ...  ...   \n41183   73      retired  married  professional.course       no     yes   no   \n41184   46  blue-collar  married  professional.course       no      no   no   \n41185   56      retired  married    university.degree       no     yes   no   \n41186   44   technician  married  professional.course       no      no   no   \n41187   74      retired  married  professional.course       no     yes   no   \n\n         contact month day_of_week  ...  pdays  previous     poutcome  \\\n0      telephone   may         mon  ...    999         0  nonexistent   \n1      telephone   may         mon  ...    999         0  nonexistent   \n2      telephone   may         mon  ...    999         0  nonexistent   \n3      telephone   may         mon  ...    999         0  nonexistent   \n4      telephone   may         mon  ...    999         0  nonexistent   \n...          ...   ...         ...  ...    ...       ...          ...   \n41183   cellular   nov         fri  ...    999         0  nonexistent   \n41184   cellular   nov         fri  ...    999         0  nonexistent   \n41185   cellular   nov         fri  ...    999         0  nonexistent   \n41186   cellular   nov         fri  ...    999         0  nonexistent   \n41187   cellular   nov         fri  ...    999         1      failure   \n\n       emp.var.rate cons.price.idx  cons.conf.idx  euribor3m  nr.employed  \\\n0               1.1         93.994          -36.4      4.857       5191.0   \n1               1.1         93.994          -36.4      4.857       5191.0   \n2               1.1         93.994          -36.4      4.857       5191.0   \n3               1.1         93.994          -36.4      4.857       5191.0   \n4               1.1         93.994          -36.4      4.857       5191.0   \n...             ...            ...            ...        ...          ...   \n41183          -1.1         94.767          -50.8      1.028       4963.6   \n41184          -1.1         94.767          -50.8      1.028       4963.6   \n41185          -1.1         94.767          -50.8      1.028       4963.6   \n41186          -1.1         94.767          -50.8      1.028       4963.6   \n41187          -1.1         94.767          -50.8      1.028       4963.6   \n\n         y  probability  \n0       no     0.024692  \n1       no     0.009755  \n2       no     0.013753  \n3       no     0.015837  \n4       no     0.019704  \n...    ...          ...  \n41183  yes     0.416477  \n41184   no     0.203111  \n41185   no     0.260459  \n41186  yes     0.386230  \n41187   no     0.205473  \n\n[41188 rows x 22 columns]",
      "text/html": "<div>\n<style scoped>\n    .dataframe tbody tr th:only-of-type {\n        vertical-align: middle;\n    }\n\n    .dataframe tbody tr th {\n        vertical-align: top;\n    }\n\n    .dataframe thead th {\n        text-align: right;\n    }\n</style>\n<table border=\"1\" class=\"dataframe\">\n  <thead>\n    <tr style=\"text-align: right;\">\n      <th></th>\n      <th>age</th>\n      <th>job</th>\n      <th>marital</th>\n      <th>education</th>\n      <th>default</th>\n      <th>housing</th>\n      <th>loan</th>\n      <th>contact</th>\n      <th>month</th>\n      <th>day_of_week</th>\n      <th>...</th>\n      <th>pdays</th>\n      <th>previous</th>\n      <th>poutcome</th>\n      <th>emp.var.rate</th>\n      <th>cons.price.idx</th>\n      <th>cons.conf.idx</th>\n      <th>euribor3m</th>\n      <th>nr.employed</th>\n      <th>y</th>\n      <th>probability</th>\n    </tr>\n  </thead>\n  <tbody>\n    <tr>\n      <th>0</th>\n      <td>56</td>\n      <td>housemaid</td>\n      <td>married</td>\n      <td>basic.4y</td>\n      <td>no</td>\n      <td>no</td>\n      <td>no</td>\n      <td>telephone</td>\n      <td>may</td>\n      <td>mon</td>\n      <td>...</td>\n      <td>999</td>\n      <td>0</td>\n      <td>nonexistent</td>\n      <td>1.1</td>\n      <td>93.994</td>\n      <td>-36.4</td>\n      <td>4.857</td>\n      <td>5191.0</td>\n      <td>no</td>\n      <td>0.024692</td>\n    </tr>\n    <tr>\n      <th>1</th>\n      <td>57</td>\n      <td>services</td>\n      <td>married</td>\n      <td>high.school</td>\n      <td>unknown</td>\n      <td>no</td>\n      <td>no</td>\n      <td>telephone</td>\n      <td>may</td>\n      <td>mon</td>\n      <td>...</td>\n      <td>999</td>\n      <td>0</td>\n      <td>nonexistent</td>\n      <td>1.1</td>\n      <td>93.994</td>\n      <td>-36.4</td>\n      <td>4.857</td>\n      <td>5191.0</td>\n      <td>no</td>\n      <td>0.009755</td>\n    </tr>\n    <tr>\n      <th>2</th>\n      <td>37</td>\n      <td>services</td>\n      <td>married</td>\n      <td>high.school</td>\n      <td>no</td>\n      <td>yes</td>\n      <td>no</td>\n      <td>telephone</td>\n      <td>may</td>\n      <td>mon</td>\n      <td>...</td>\n      <td>999</td>\n      <td>0</td>\n      <td>nonexistent</td>\n      <td>1.1</td>\n      <td>93.994</td>\n      <td>-36.4</td>\n      <td>4.857</td>\n      <td>5191.0</td>\n      <td>no</td>\n      <td>0.013753</td>\n    </tr>\n    <tr>\n      <th>3</th>\n      <td>40</td>\n      <td>admin.</td>\n      <td>married</td>\n      <td>basic.6y</td>\n      <td>no</td>\n      <td>no</td>\n      <td>no</td>\n      <td>telephone</td>\n      <td>may</td>\n      <td>mon</td>\n      <td>...</td>\n      <td>999</td>\n      <td>0</td>\n      <td>nonexistent</td>\n      <td>1.1</td>\n      <td>93.994</td>\n      <td>-36.4</td>\n      <td>4.857</td>\n      <td>5191.0</td>\n      <td>no</td>\n      <td>0.015837</td>\n    </tr>\n    <tr>\n      <th>4</th>\n      <td>56</td>\n      <td>services</td>\n      <td>married</td>\n      <td>high.school</td>\n      <td>no</td>\n      <td>no</td>\n      <td>yes</td>\n      <td>telephone</td>\n      <td>may</td>\n      <td>mon</td>\n      <td>...</td>\n      <td>999</td>\n      <td>0</td>\n      <td>nonexistent</td>\n      <td>1.1</td>\n      <td>93.994</td>\n      <td>-36.4</td>\n      <td>4.857</td>\n      <td>5191.0</td>\n      <td>no</td>\n      <td>0.019704</td>\n    </tr>\n    <tr>\n      <th>...</th>\n      <td>...</td>\n      <td>...</td>\n      <td>...</td>\n      <td>...</td>\n      <td>...</td>\n      <td>...</td>\n      <td>...</td>\n      <td>...</td>\n      <td>...</td>\n      <td>...</td>\n      <td>...</td>\n      <td>...</td>\n      <td>...</td>\n      <td>...</td>\n      <td>...</td>\n      <td>...</td>\n      <td>...</td>\n      <td>...</td>\n      <td>...</td>\n      <td>...</td>\n      <td>...</td>\n    </tr>\n    <tr>\n      <th>41183</th>\n      <td>73</td>\n      <td>retired</td>\n      <td>married</td>\n      <td>professional.course</td>\n      <td>no</td>\n      <td>yes</td>\n      <td>no</td>\n      <td>cellular</td>\n      <td>nov</td>\n      <td>fri</td>\n      <td>...</td>\n      <td>999</td>\n      <td>0</td>\n      <td>nonexistent</td>\n      <td>-1.1</td>\n      <td>94.767</td>\n      <td>-50.8</td>\n      <td>1.028</td>\n      <td>4963.6</td>\n      <td>yes</td>\n      <td>0.416477</td>\n    </tr>\n    <tr>\n      <th>41184</th>\n      <td>46</td>\n      <td>blue-collar</td>\n      <td>married</td>\n      <td>professional.course</td>\n      <td>no</td>\n      <td>no</td>\n      <td>no</td>\n      <td>cellular</td>\n      <td>nov</td>\n      <td>fri</td>\n      <td>...</td>\n      <td>999</td>\n      <td>0</td>\n      <td>nonexistent</td>\n      <td>-1.1</td>\n      <td>94.767</td>\n      <td>-50.8</td>\n      <td>1.028</td>\n      <td>4963.6</td>\n      <td>no</td>\n      <td>0.203111</td>\n    </tr>\n    <tr>\n      <th>41185</th>\n      <td>56</td>\n      <td>retired</td>\n      <td>married</td>\n      <td>university.degree</td>\n      <td>no</td>\n      <td>yes</td>\n      <td>no</td>\n      <td>cellular</td>\n      <td>nov</td>\n      <td>fri</td>\n      <td>...</td>\n      <td>999</td>\n      <td>0</td>\n      <td>nonexistent</td>\n      <td>-1.1</td>\n      <td>94.767</td>\n      <td>-50.8</td>\n      <td>1.028</td>\n      <td>4963.6</td>\n      <td>no</td>\n      <td>0.260459</td>\n    </tr>\n    <tr>\n      <th>41186</th>\n      <td>44</td>\n      <td>technician</td>\n      <td>married</td>\n      <td>professional.course</td>\n      <td>no</td>\n      <td>no</td>\n      <td>no</td>\n      <td>cellular</td>\n      <td>nov</td>\n      <td>fri</td>\n      <td>...</td>\n      <td>999</td>\n      <td>0</td>\n      <td>nonexistent</td>\n      <td>-1.1</td>\n      <td>94.767</td>\n      <td>-50.8</td>\n      <td>1.028</td>\n      <td>4963.6</td>\n      <td>yes</td>\n      <td>0.386230</td>\n    </tr>\n    <tr>\n      <th>41187</th>\n      <td>74</td>\n      <td>retired</td>\n      <td>married</td>\n      <td>professional.course</td>\n      <td>no</td>\n      <td>yes</td>\n      <td>no</td>\n      <td>cellular</td>\n      <td>nov</td>\n      <td>fri</td>\n      <td>...</td>\n      <td>999</td>\n      <td>1</td>\n      <td>failure</td>\n      <td>-1.1</td>\n      <td>94.767</td>\n      <td>-50.8</td>\n      <td>1.028</td>\n      <td>4963.6</td>\n      <td>no</td>\n      <td>0.205473</td>\n    </tr>\n  </tbody>\n</table>\n<p>41188 rows × 22 columns</p>\n</div>"
     },
     "execution_count": 36,
     "metadata": {},
     "output_type": "execute_result"
    }
   ],
   "source": [
    "df['probability'] = model.predict()\n",
    "df"
   ],
   "metadata": {
    "collapsed": false,
    "pycharm": {
     "name": "#%%\n"
    }
   }
  },
  {
   "cell_type": "markdown",
   "source": [
    "# Final conclusion\n",
    "\n",
    "The model shows a very high accuracy and AUC. Thus, the model fits the data very well (but lots of unknown, not null, data) and gives us possibility to predict **Y** variable. All in all, the model quite good, but describes only 37% of the **Y** variance"
   ],
   "metadata": {
    "collapsed": false,
    "pycharm": {
     "name": "#%% md\n"
    }
   }
  }
 ],
 "metadata": {
  "kernelspec": {
   "display_name": "Python 3",
   "language": "python",
   "name": "python3"
  },
  "language_info": {
   "codemirror_mode": {
    "name": "ipython",
    "version": 2
   },
   "file_extension": ".py",
   "mimetype": "text/x-python",
   "name": "python",
   "nbconvert_exporter": "python",
   "pygments_lexer": "ipython2",
   "version": "2.7.6"
  }
 },
 "nbformat": 4,
 "nbformat_minor": 0
}