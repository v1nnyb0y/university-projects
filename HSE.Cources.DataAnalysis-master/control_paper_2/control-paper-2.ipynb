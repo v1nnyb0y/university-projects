{
  "nbformat": 4,
  "nbformat_minor": 0,
  "metadata": {
    "colab": {
      "name": "Control-Paper-2.ipynb",
      "provenance": [],
      "collapsed_sections": [
        "78TNerJ5J0ON",
        "AKwA7LPCL8mm",
        "zAhUnB8Cdk8-",
        "xydXiNWRlxKn",
        "MXDqu5TGmExT",
        "0kcpDhkjmqL4",
        "iLhCVT-SnGP_",
        "Aznrxt4onn7G",
        "uFisAPvyn6F7",
        "sGiFrYVGoDGT",
        "pm1kmFkpoK77",
        "ir0oolrXoSiH",
        "JY941ETPoasU"
      ]
    },
    "kernelspec": {
      "name": "python3",
      "display_name": "Python 3"
    },
    "language_info": {
      "name": "python"
    }
  },
  "cells": [
    {
      "cell_type": "markdown",
      "source": [
        "# Input libs"
      ],
      "metadata": {
        "id": "2B8b5UpuJxY6"
      }
    },
    {
      "cell_type": "code",
      "source": [
        "!pip install xlrd==1.2.0\n",
        "!pip install linearmodels"
      ],
      "metadata": {
        "colab": {
          "base_uri": "https://localhost:8080/"
        },
        "id": "HaNm1tYnKThc",
        "outputId": "ae842e75-01a2-451d-b2c3-994ac8145c98"
      },
      "execution_count": 60,
      "outputs": [
        {
          "output_type": "stream",
          "name": "stdout",
          "text": [
            "Looking in indexes: https://pypi.org/simple, https://us-python.pkg.dev/colab-wheels/public/simple/\n",
            "Requirement already satisfied: xlrd==1.2.0 in /usr/local/lib/python3.7/dist-packages (1.2.0)\n",
            "Looking in indexes: https://pypi.org/simple, https://us-python.pkg.dev/colab-wheels/public/simple/\n",
            "Requirement already satisfied: linearmodels in /usr/local/lib/python3.7/dist-packages (4.25)\n",
            "Requirement already satisfied: mypy-extensions>=0.4 in /usr/local/lib/python3.7/dist-packages (from linearmodels) (0.4.3)\n",
            "Requirement already satisfied: property-cached>=1.6.3 in /usr/local/lib/python3.7/dist-packages (from linearmodels) (1.6.4)\n",
            "Requirement already satisfied: formulaic in /usr/local/lib/python3.7/dist-packages (from linearmodels) (0.3.4)\n",
            "Requirement already satisfied: numpy>=1.16 in /usr/local/lib/python3.7/dist-packages (from linearmodels) (1.21.6)\n",
            "Requirement already satisfied: patsy in /usr/local/lib/python3.7/dist-packages (from linearmodels) (0.5.2)\n",
            "Requirement already satisfied: pandas>=0.24 in /usr/local/lib/python3.7/dist-packages (from linearmodels) (1.3.5)\n",
            "Requirement already satisfied: Cython>=0.29.21 in /usr/local/lib/python3.7/dist-packages (from linearmodels) (0.29.30)\n",
            "Requirement already satisfied: statsmodels>=0.11 in /usr/local/lib/python3.7/dist-packages (from linearmodels) (0.13.2)\n",
            "Requirement already satisfied: scipy>=1.2 in /usr/local/lib/python3.7/dist-packages (from linearmodels) (1.7.3)\n",
            "Requirement already satisfied: pyhdfe>=0.1 in /usr/local/lib/python3.7/dist-packages (from linearmodels) (0.1.0)\n",
            "Requirement already satisfied: python-dateutil>=2.7.3 in /usr/local/lib/python3.7/dist-packages (from pandas>=0.24->linearmodels) (2.8.2)\n",
            "Requirement already satisfied: pytz>=2017.3 in /usr/local/lib/python3.7/dist-packages (from pandas>=0.24->linearmodels) (2022.1)\n",
            "Requirement already satisfied: six>=1.5 in /usr/local/lib/python3.7/dist-packages (from python-dateutil>=2.7.3->pandas>=0.24->linearmodels) (1.15.0)\n",
            "Requirement already satisfied: packaging>=21.3 in /usr/local/lib/python3.7/dist-packages (from statsmodels>=0.11->linearmodels) (21.3)\n",
            "Requirement already satisfied: pyparsing!=3.0.5,>=2.0.2 in /usr/local/lib/python3.7/dist-packages (from packaging>=21.3->statsmodels>=0.11->linearmodels) (3.0.9)\n",
            "Requirement already satisfied: interface-meta<2.0.0,>=1.2.0 in /usr/local/lib/python3.7/dist-packages (from formulaic->linearmodels) (1.3.0)\n",
            "Requirement already satisfied: wrapt>=1.0 in /usr/local/lib/python3.7/dist-packages (from formulaic->linearmodels) (1.14.1)\n",
            "Requirement already satisfied: astor>=0.8 in /usr/local/lib/python3.7/dist-packages (from formulaic->linearmodels) (0.8.1)\n"
          ]
        }
      ]
    },
    {
      "cell_type": "code",
      "execution_count": 61,
      "metadata": {
        "id": "EzNgWTiaJmtU"
      },
      "outputs": [],
      "source": [
        "import pandas as pd\n",
        "import matplotlib.pyplot as plt\n",
        "import statsmodels.api as sm\n",
        "import numpy as np\n",
        "from sklearn.metrics import roc_curve, auc\n",
        "from scipy import stats\n",
        "import seaborn as sns\n",
        "from statsmodels.stats.outliers_influence import variance_inflation_factor as vif\n",
        "\n",
        "from linearmodels import PanelOLS, RandomEffects, PooledOLS\n",
        "from statsmodels.stats.diagnostic import het_breuschpagan\n",
        "import numpy.linalg as la"
      ]
    },
    {
      "cell_type": "markdown",
      "source": [
        "# Pre-task execution"
      ],
      "metadata": {
        "id": "78TNerJ5J0ON"
      }
    },
    {
      "cell_type": "code",
      "source": [
        "smes = pd.read_excel('SMEs.xls')\n",
        "smes.head()"
      ],
      "metadata": {
        "colab": {
          "base_uri": "https://localhost:8080/",
          "height": 331
        },
        "id": "XkP56Oo8J2B5",
        "outputId": "a1389e2e-2bf8-42c5-bbae-e18d86865555"
      },
      "execution_count": 62,
      "outputs": [
        {
          "output_type": "execute_result",
          "data": {
            "text/plain": [
              "   id  year            Region      District  Rabotniki  SubMSP  Vnovsozd  \\\n",
              "0   1  2016            Moscow       Central    2608366  731632    150349   \n",
              "1   1  2017            Moscow       Central    2199321  768618    159342   \n",
              "2   1  2018            Moscow       Central    2200603  780902    150734   \n",
              "3   2  2016  Saint Petersburg  Northwestern    1151893  334994     66107   \n",
              "4   2  2017  Saint Petersburg  Northwestern    1082580  347355     64414   \n",
              "\n",
              "         oborot      InvestFC       fedsub  ...  newSMBdo30  naselenie  edu30  \\\n",
              "0  1.686972e+13  1.883730e+11  705299000.0  ...         0.0   12355400      0   \n",
              "1  1.499113e+13  3.439057e+11  555608500.0  ...         0.0   12380700      0   \n",
              "2  1.467666e+13  1.467666e+13  481000000.0  ...         0.0   12506468      0   \n",
              "3  5.854914e+12  2.343767e+10   96443000.0  ...         0.0    5253600    100   \n",
              "4  4.396981e+12  3.118336e+10   59893240.0  ...         0.0    5281600    122   \n",
              "\n",
              "     biznav      im   infrmoney  infrrazv  suppmsp           vrp          budg  \n",
              "0   6766.08   104.0  705.000000      23.0      425  1.429980e+07  1.852642e+06  \n",
              "1   7048.00   114.0    0.000000      26.0    11401  1.590428e+07  2.000854e+06  \n",
              "2  25400.00   152.0  362.164356      28.6    13111  1.780433e+07  2.134911e+06  \n",
              "3   1585.92  2504.0  121.000000       9.0     3834  3.742182e+06  4.766638e+05  \n",
              "4   1652.00  2775.0  200.000000      10.0     7384  4.162067e+06  5.147969e+05  \n",
              "\n",
              "[5 rows x 25 columns]"
            ],
            "text/html": [
              "\n",
              "  <div id=\"df-e400459f-5060-4082-a906-f9596bcbd04c\">\n",
              "    <div class=\"colab-df-container\">\n",
              "      <div>\n",
              "<style scoped>\n",
              "    .dataframe tbody tr th:only-of-type {\n",
              "        vertical-align: middle;\n",
              "    }\n",
              "\n",
              "    .dataframe tbody tr th {\n",
              "        vertical-align: top;\n",
              "    }\n",
              "\n",
              "    .dataframe thead th {\n",
              "        text-align: right;\n",
              "    }\n",
              "</style>\n",
              "<table border=\"1\" class=\"dataframe\">\n",
              "  <thead>\n",
              "    <tr style=\"text-align: right;\">\n",
              "      <th></th>\n",
              "      <th>id</th>\n",
              "      <th>year</th>\n",
              "      <th>Region</th>\n",
              "      <th>District</th>\n",
              "      <th>Rabotniki</th>\n",
              "      <th>SubMSP</th>\n",
              "      <th>Vnovsozd</th>\n",
              "      <th>oborot</th>\n",
              "      <th>InvestFC</th>\n",
              "      <th>fedsub</th>\n",
              "      <th>...</th>\n",
              "      <th>newSMBdo30</th>\n",
              "      <th>naselenie</th>\n",
              "      <th>edu30</th>\n",
              "      <th>biznav</th>\n",
              "      <th>im</th>\n",
              "      <th>infrmoney</th>\n",
              "      <th>infrrazv</th>\n",
              "      <th>suppmsp</th>\n",
              "      <th>vrp</th>\n",
              "      <th>budg</th>\n",
              "    </tr>\n",
              "  </thead>\n",
              "  <tbody>\n",
              "    <tr>\n",
              "      <th>0</th>\n",
              "      <td>1</td>\n",
              "      <td>2016</td>\n",
              "      <td>Moscow</td>\n",
              "      <td>Central</td>\n",
              "      <td>2608366</td>\n",
              "      <td>731632</td>\n",
              "      <td>150349</td>\n",
              "      <td>1.686972e+13</td>\n",
              "      <td>1.883730e+11</td>\n",
              "      <td>705299000.0</td>\n",
              "      <td>...</td>\n",
              "      <td>0.0</td>\n",
              "      <td>12355400</td>\n",
              "      <td>0</td>\n",
              "      <td>6766.08</td>\n",
              "      <td>104.0</td>\n",
              "      <td>705.000000</td>\n",
              "      <td>23.0</td>\n",
              "      <td>425</td>\n",
              "      <td>1.429980e+07</td>\n",
              "      <td>1.852642e+06</td>\n",
              "    </tr>\n",
              "    <tr>\n",
              "      <th>1</th>\n",
              "      <td>1</td>\n",
              "      <td>2017</td>\n",
              "      <td>Moscow</td>\n",
              "      <td>Central</td>\n",
              "      <td>2199321</td>\n",
              "      <td>768618</td>\n",
              "      <td>159342</td>\n",
              "      <td>1.499113e+13</td>\n",
              "      <td>3.439057e+11</td>\n",
              "      <td>555608500.0</td>\n",
              "      <td>...</td>\n",
              "      <td>0.0</td>\n",
              "      <td>12380700</td>\n",
              "      <td>0</td>\n",
              "      <td>7048.00</td>\n",
              "      <td>114.0</td>\n",
              "      <td>0.000000</td>\n",
              "      <td>26.0</td>\n",
              "      <td>11401</td>\n",
              "      <td>1.590428e+07</td>\n",
              "      <td>2.000854e+06</td>\n",
              "    </tr>\n",
              "    <tr>\n",
              "      <th>2</th>\n",
              "      <td>1</td>\n",
              "      <td>2018</td>\n",
              "      <td>Moscow</td>\n",
              "      <td>Central</td>\n",
              "      <td>2200603</td>\n",
              "      <td>780902</td>\n",
              "      <td>150734</td>\n",
              "      <td>1.467666e+13</td>\n",
              "      <td>1.467666e+13</td>\n",
              "      <td>481000000.0</td>\n",
              "      <td>...</td>\n",
              "      <td>0.0</td>\n",
              "      <td>12506468</td>\n",
              "      <td>0</td>\n",
              "      <td>25400.00</td>\n",
              "      <td>152.0</td>\n",
              "      <td>362.164356</td>\n",
              "      <td>28.6</td>\n",
              "      <td>13111</td>\n",
              "      <td>1.780433e+07</td>\n",
              "      <td>2.134911e+06</td>\n",
              "    </tr>\n",
              "    <tr>\n",
              "      <th>3</th>\n",
              "      <td>2</td>\n",
              "      <td>2016</td>\n",
              "      <td>Saint Petersburg</td>\n",
              "      <td>Northwestern</td>\n",
              "      <td>1151893</td>\n",
              "      <td>334994</td>\n",
              "      <td>66107</td>\n",
              "      <td>5.854914e+12</td>\n",
              "      <td>2.343767e+10</td>\n",
              "      <td>96443000.0</td>\n",
              "      <td>...</td>\n",
              "      <td>0.0</td>\n",
              "      <td>5253600</td>\n",
              "      <td>100</td>\n",
              "      <td>1585.92</td>\n",
              "      <td>2504.0</td>\n",
              "      <td>121.000000</td>\n",
              "      <td>9.0</td>\n",
              "      <td>3834</td>\n",
              "      <td>3.742182e+06</td>\n",
              "      <td>4.766638e+05</td>\n",
              "    </tr>\n",
              "    <tr>\n",
              "      <th>4</th>\n",
              "      <td>2</td>\n",
              "      <td>2017</td>\n",
              "      <td>Saint Petersburg</td>\n",
              "      <td>Northwestern</td>\n",
              "      <td>1082580</td>\n",
              "      <td>347355</td>\n",
              "      <td>64414</td>\n",
              "      <td>4.396981e+12</td>\n",
              "      <td>3.118336e+10</td>\n",
              "      <td>59893240.0</td>\n",
              "      <td>...</td>\n",
              "      <td>0.0</td>\n",
              "      <td>5281600</td>\n",
              "      <td>122</td>\n",
              "      <td>1652.00</td>\n",
              "      <td>2775.0</td>\n",
              "      <td>200.000000</td>\n",
              "      <td>10.0</td>\n",
              "      <td>7384</td>\n",
              "      <td>4.162067e+06</td>\n",
              "      <td>5.147969e+05</td>\n",
              "    </tr>\n",
              "  </tbody>\n",
              "</table>\n",
              "<p>5 rows × 25 columns</p>\n",
              "</div>\n",
              "      <button class=\"colab-df-convert\" onclick=\"convertToInteractive('df-e400459f-5060-4082-a906-f9596bcbd04c')\"\n",
              "              title=\"Convert this dataframe to an interactive table.\"\n",
              "              style=\"display:none;\">\n",
              "        \n",
              "  <svg xmlns=\"http://www.w3.org/2000/svg\" height=\"24px\"viewBox=\"0 0 24 24\"\n",
              "       width=\"24px\">\n",
              "    <path d=\"M0 0h24v24H0V0z\" fill=\"none\"/>\n",
              "    <path d=\"M18.56 5.44l.94 2.06.94-2.06 2.06-.94-2.06-.94-.94-2.06-.94 2.06-2.06.94zm-11 1L8.5 8.5l.94-2.06 2.06-.94-2.06-.94L8.5 2.5l-.94 2.06-2.06.94zm10 10l.94 2.06.94-2.06 2.06-.94-2.06-.94-.94-2.06-.94 2.06-2.06.94z\"/><path d=\"M17.41 7.96l-1.37-1.37c-.4-.4-.92-.59-1.43-.59-.52 0-1.04.2-1.43.59L10.3 9.45l-7.72 7.72c-.78.78-.78 2.05 0 2.83L4 21.41c.39.39.9.59 1.41.59.51 0 1.02-.2 1.41-.59l7.78-7.78 2.81-2.81c.8-.78.8-2.07 0-2.86zM5.41 20L4 18.59l7.72-7.72 1.47 1.35L5.41 20z\"/>\n",
              "  </svg>\n",
              "      </button>\n",
              "      \n",
              "  <style>\n",
              "    .colab-df-container {\n",
              "      display:flex;\n",
              "      flex-wrap:wrap;\n",
              "      gap: 12px;\n",
              "    }\n",
              "\n",
              "    .colab-df-convert {\n",
              "      background-color: #E8F0FE;\n",
              "      border: none;\n",
              "      border-radius: 50%;\n",
              "      cursor: pointer;\n",
              "      display: none;\n",
              "      fill: #1967D2;\n",
              "      height: 32px;\n",
              "      padding: 0 0 0 0;\n",
              "      width: 32px;\n",
              "    }\n",
              "\n",
              "    .colab-df-convert:hover {\n",
              "      background-color: #E2EBFA;\n",
              "      box-shadow: 0px 1px 2px rgba(60, 64, 67, 0.3), 0px 1px 3px 1px rgba(60, 64, 67, 0.15);\n",
              "      fill: #174EA6;\n",
              "    }\n",
              "\n",
              "    [theme=dark] .colab-df-convert {\n",
              "      background-color: #3B4455;\n",
              "      fill: #D2E3FC;\n",
              "    }\n",
              "\n",
              "    [theme=dark] .colab-df-convert:hover {\n",
              "      background-color: #434B5C;\n",
              "      box-shadow: 0px 1px 3px 1px rgba(0, 0, 0, 0.15);\n",
              "      filter: drop-shadow(0px 1px 2px rgba(0, 0, 0, 0.3));\n",
              "      fill: #FFFFFF;\n",
              "    }\n",
              "  </style>\n",
              "\n",
              "      <script>\n",
              "        const buttonEl =\n",
              "          document.querySelector('#df-e400459f-5060-4082-a906-f9596bcbd04c button.colab-df-convert');\n",
              "        buttonEl.style.display =\n",
              "          google.colab.kernel.accessAllowed ? 'block' : 'none';\n",
              "\n",
              "        async function convertToInteractive(key) {\n",
              "          const element = document.querySelector('#df-e400459f-5060-4082-a906-f9596bcbd04c');\n",
              "          const dataTable =\n",
              "            await google.colab.kernel.invokeFunction('convertToInteractive',\n",
              "                                                     [key], {});\n",
              "          if (!dataTable) return;\n",
              "\n",
              "          const docLinkHtml = 'Like what you see? Visit the ' +\n",
              "            '<a target=\"_blank\" href=https://colab.research.google.com/notebooks/data_table.ipynb>data table notebook</a>'\n",
              "            + ' to learn more about interactive tables.';\n",
              "          element.innerHTML = '';\n",
              "          dataTable['output_type'] = 'display_data';\n",
              "          await google.colab.output.renderOutput(dataTable, element);\n",
              "          const docLink = document.createElement('div');\n",
              "          docLink.innerHTML = docLinkHtml;\n",
              "          element.appendChild(docLink);\n",
              "        }\n",
              "      </script>\n",
              "    </div>\n",
              "  </div>\n",
              "  "
            ]
          },
          "metadata": {},
          "execution_count": 62
        }
      ]
    },
    {
      "cell_type": "code",
      "source": [
        "telco = pd.read_excel('telco.xls')\n",
        "telco.head()"
      ],
      "metadata": {
        "colab": {
          "base_uri": "https://localhost:8080/",
          "height": 433
        },
        "id": "l5zxo63gL6VB",
        "outputId": "cd3074a4-4383-4a67-df7a-67cc661bd738"
      },
      "execution_count": 63,
      "outputs": [
        {
          "output_type": "execute_result",
          "data": {
            "text/plain": [
              "   region  tenure  age    marital  address  income  \\\n",
              "0  Zone 2      13   44    Married        9      64   \n",
              "1  Zone 3      11   33    Married        7     136   \n",
              "2  Zone 3      68   52    Married       24     116   \n",
              "3  Zone 2      33   33  Unmarried       12      33   \n",
              "4  Zone 2      23   30    Married        9      30   \n",
              "\n",
              "                             ed  employ retire  gender  ...  equipmon cardmon  \\\n",
              "0                College degree       5     No    Male  ...       0.0    7.50   \n",
              "1     Post-undergraduate degree       5     No    Male  ...       0.0   15.25   \n",
              "2  Did not complete high school      29     No  Female  ...       0.0   30.25   \n",
              "3            High school degree       0     No  Female  ...       0.0    0.00   \n",
              "4  Did not complete high school       2     No    Male  ...       0.0    0.00   \n",
              "\n",
              "  wiremon multline voice  internet  callid  callwait  forward  confer  \n",
              "0     0.0       No    No        No      No        No      Yes      No  \n",
              "1    35.7       No   Yes        No     Yes       Yes      Yes     Yes  \n",
              "2     0.0       No    No        No     Yes       Yes       No     Yes  \n",
              "3     0.0       No    No        No      No        No       No      No  \n",
              "4     0.0       No    No        No     Yes        No      Yes     Yes  \n",
              "\n",
              "[5 rows x 27 columns]"
            ],
            "text/html": [
              "\n",
              "  <div id=\"df-ebdbbd11-279a-4a12-9448-bcb294c4e03d\">\n",
              "    <div class=\"colab-df-container\">\n",
              "      <div>\n",
              "<style scoped>\n",
              "    .dataframe tbody tr th:only-of-type {\n",
              "        vertical-align: middle;\n",
              "    }\n",
              "\n",
              "    .dataframe tbody tr th {\n",
              "        vertical-align: top;\n",
              "    }\n",
              "\n",
              "    .dataframe thead th {\n",
              "        text-align: right;\n",
              "    }\n",
              "</style>\n",
              "<table border=\"1\" class=\"dataframe\">\n",
              "  <thead>\n",
              "    <tr style=\"text-align: right;\">\n",
              "      <th></th>\n",
              "      <th>region</th>\n",
              "      <th>tenure</th>\n",
              "      <th>age</th>\n",
              "      <th>marital</th>\n",
              "      <th>address</th>\n",
              "      <th>income</th>\n",
              "      <th>ed</th>\n",
              "      <th>employ</th>\n",
              "      <th>retire</th>\n",
              "      <th>gender</th>\n",
              "      <th>...</th>\n",
              "      <th>equipmon</th>\n",
              "      <th>cardmon</th>\n",
              "      <th>wiremon</th>\n",
              "      <th>multline</th>\n",
              "      <th>voice</th>\n",
              "      <th>internet</th>\n",
              "      <th>callid</th>\n",
              "      <th>callwait</th>\n",
              "      <th>forward</th>\n",
              "      <th>confer</th>\n",
              "    </tr>\n",
              "  </thead>\n",
              "  <tbody>\n",
              "    <tr>\n",
              "      <th>0</th>\n",
              "      <td>Zone 2</td>\n",
              "      <td>13</td>\n",
              "      <td>44</td>\n",
              "      <td>Married</td>\n",
              "      <td>9</td>\n",
              "      <td>64</td>\n",
              "      <td>College degree</td>\n",
              "      <td>5</td>\n",
              "      <td>No</td>\n",
              "      <td>Male</td>\n",
              "      <td>...</td>\n",
              "      <td>0.0</td>\n",
              "      <td>7.50</td>\n",
              "      <td>0.0</td>\n",
              "      <td>No</td>\n",
              "      <td>No</td>\n",
              "      <td>No</td>\n",
              "      <td>No</td>\n",
              "      <td>No</td>\n",
              "      <td>Yes</td>\n",
              "      <td>No</td>\n",
              "    </tr>\n",
              "    <tr>\n",
              "      <th>1</th>\n",
              "      <td>Zone 3</td>\n",
              "      <td>11</td>\n",
              "      <td>33</td>\n",
              "      <td>Married</td>\n",
              "      <td>7</td>\n",
              "      <td>136</td>\n",
              "      <td>Post-undergraduate degree</td>\n",
              "      <td>5</td>\n",
              "      <td>No</td>\n",
              "      <td>Male</td>\n",
              "      <td>...</td>\n",
              "      <td>0.0</td>\n",
              "      <td>15.25</td>\n",
              "      <td>35.7</td>\n",
              "      <td>No</td>\n",
              "      <td>Yes</td>\n",
              "      <td>No</td>\n",
              "      <td>Yes</td>\n",
              "      <td>Yes</td>\n",
              "      <td>Yes</td>\n",
              "      <td>Yes</td>\n",
              "    </tr>\n",
              "    <tr>\n",
              "      <th>2</th>\n",
              "      <td>Zone 3</td>\n",
              "      <td>68</td>\n",
              "      <td>52</td>\n",
              "      <td>Married</td>\n",
              "      <td>24</td>\n",
              "      <td>116</td>\n",
              "      <td>Did not complete high school</td>\n",
              "      <td>29</td>\n",
              "      <td>No</td>\n",
              "      <td>Female</td>\n",
              "      <td>...</td>\n",
              "      <td>0.0</td>\n",
              "      <td>30.25</td>\n",
              "      <td>0.0</td>\n",
              "      <td>No</td>\n",
              "      <td>No</td>\n",
              "      <td>No</td>\n",
              "      <td>Yes</td>\n",
              "      <td>Yes</td>\n",
              "      <td>No</td>\n",
              "      <td>Yes</td>\n",
              "    </tr>\n",
              "    <tr>\n",
              "      <th>3</th>\n",
              "      <td>Zone 2</td>\n",
              "      <td>33</td>\n",
              "      <td>33</td>\n",
              "      <td>Unmarried</td>\n",
              "      <td>12</td>\n",
              "      <td>33</td>\n",
              "      <td>High school degree</td>\n",
              "      <td>0</td>\n",
              "      <td>No</td>\n",
              "      <td>Female</td>\n",
              "      <td>...</td>\n",
              "      <td>0.0</td>\n",
              "      <td>0.00</td>\n",
              "      <td>0.0</td>\n",
              "      <td>No</td>\n",
              "      <td>No</td>\n",
              "      <td>No</td>\n",
              "      <td>No</td>\n",
              "      <td>No</td>\n",
              "      <td>No</td>\n",
              "      <td>No</td>\n",
              "    </tr>\n",
              "    <tr>\n",
              "      <th>4</th>\n",
              "      <td>Zone 2</td>\n",
              "      <td>23</td>\n",
              "      <td>30</td>\n",
              "      <td>Married</td>\n",
              "      <td>9</td>\n",
              "      <td>30</td>\n",
              "      <td>Did not complete high school</td>\n",
              "      <td>2</td>\n",
              "      <td>No</td>\n",
              "      <td>Male</td>\n",
              "      <td>...</td>\n",
              "      <td>0.0</td>\n",
              "      <td>0.00</td>\n",
              "      <td>0.0</td>\n",
              "      <td>No</td>\n",
              "      <td>No</td>\n",
              "      <td>No</td>\n",
              "      <td>Yes</td>\n",
              "      <td>No</td>\n",
              "      <td>Yes</td>\n",
              "      <td>Yes</td>\n",
              "    </tr>\n",
              "  </tbody>\n",
              "</table>\n",
              "<p>5 rows × 27 columns</p>\n",
              "</div>\n",
              "      <button class=\"colab-df-convert\" onclick=\"convertToInteractive('df-ebdbbd11-279a-4a12-9448-bcb294c4e03d')\"\n",
              "              title=\"Convert this dataframe to an interactive table.\"\n",
              "              style=\"display:none;\">\n",
              "        \n",
              "  <svg xmlns=\"http://www.w3.org/2000/svg\" height=\"24px\"viewBox=\"0 0 24 24\"\n",
              "       width=\"24px\">\n",
              "    <path d=\"M0 0h24v24H0V0z\" fill=\"none\"/>\n",
              "    <path d=\"M18.56 5.44l.94 2.06.94-2.06 2.06-.94-2.06-.94-.94-2.06-.94 2.06-2.06.94zm-11 1L8.5 8.5l.94-2.06 2.06-.94-2.06-.94L8.5 2.5l-.94 2.06-2.06.94zm10 10l.94 2.06.94-2.06 2.06-.94-2.06-.94-.94-2.06-.94 2.06-2.06.94z\"/><path d=\"M17.41 7.96l-1.37-1.37c-.4-.4-.92-.59-1.43-.59-.52 0-1.04.2-1.43.59L10.3 9.45l-7.72 7.72c-.78.78-.78 2.05 0 2.83L4 21.41c.39.39.9.59 1.41.59.51 0 1.02-.2 1.41-.59l7.78-7.78 2.81-2.81c.8-.78.8-2.07 0-2.86zM5.41 20L4 18.59l7.72-7.72 1.47 1.35L5.41 20z\"/>\n",
              "  </svg>\n",
              "      </button>\n",
              "      \n",
              "  <style>\n",
              "    .colab-df-container {\n",
              "      display:flex;\n",
              "      flex-wrap:wrap;\n",
              "      gap: 12px;\n",
              "    }\n",
              "\n",
              "    .colab-df-convert {\n",
              "      background-color: #E8F0FE;\n",
              "      border: none;\n",
              "      border-radius: 50%;\n",
              "      cursor: pointer;\n",
              "      display: none;\n",
              "      fill: #1967D2;\n",
              "      height: 32px;\n",
              "      padding: 0 0 0 0;\n",
              "      width: 32px;\n",
              "    }\n",
              "\n",
              "    .colab-df-convert:hover {\n",
              "      background-color: #E2EBFA;\n",
              "      box-shadow: 0px 1px 2px rgba(60, 64, 67, 0.3), 0px 1px 3px 1px rgba(60, 64, 67, 0.15);\n",
              "      fill: #174EA6;\n",
              "    }\n",
              "\n",
              "    [theme=dark] .colab-df-convert {\n",
              "      background-color: #3B4455;\n",
              "      fill: #D2E3FC;\n",
              "    }\n",
              "\n",
              "    [theme=dark] .colab-df-convert:hover {\n",
              "      background-color: #434B5C;\n",
              "      box-shadow: 0px 1px 3px 1px rgba(0, 0, 0, 0.15);\n",
              "      filter: drop-shadow(0px 1px 2px rgba(0, 0, 0, 0.3));\n",
              "      fill: #FFFFFF;\n",
              "    }\n",
              "  </style>\n",
              "\n",
              "      <script>\n",
              "        const buttonEl =\n",
              "          document.querySelector('#df-ebdbbd11-279a-4a12-9448-bcb294c4e03d button.colab-df-convert');\n",
              "        buttonEl.style.display =\n",
              "          google.colab.kernel.accessAllowed ? 'block' : 'none';\n",
              "\n",
              "        async function convertToInteractive(key) {\n",
              "          const element = document.querySelector('#df-ebdbbd11-279a-4a12-9448-bcb294c4e03d');\n",
              "          const dataTable =\n",
              "            await google.colab.kernel.invokeFunction('convertToInteractive',\n",
              "                                                     [key], {});\n",
              "          if (!dataTable) return;\n",
              "\n",
              "          const docLinkHtml = 'Like what you see? Visit the ' +\n",
              "            '<a target=\"_blank\" href=https://colab.research.google.com/notebooks/data_table.ipynb>data table notebook</a>'\n",
              "            + ' to learn more about interactive tables.';\n",
              "          element.innerHTML = '';\n",
              "          dataTable['output_type'] = 'display_data';\n",
              "          await google.colab.output.renderOutput(dataTable, element);\n",
              "          const docLink = document.createElement('div');\n",
              "          docLink.innerHTML = docLinkHtml;\n",
              "          element.appendChild(docLink);\n",
              "        }\n",
              "      </script>\n",
              "    </div>\n",
              "  </div>\n",
              "  "
            ]
          },
          "metadata": {},
          "execution_count": 63
        }
      ]
    },
    {
      "cell_type": "markdown",
      "source": [
        "# Binary regression (task 1)"
      ],
      "metadata": {
        "id": "AKwA7LPCL8mm"
      }
    },
    {
      "cell_type": "code",
      "source": [
        "df = telco\n",
        "# Types of variables\n",
        "for t in df.dtypes.unique():\n",
        "    print('Type: {}\\n{}\\n'.format(t, df.dtypes[df.dtypes==t].index.values))"
      ],
      "metadata": {
        "colab": {
          "base_uri": "https://localhost:8080/"
        },
        "id": "Rl5FLETfMTlB",
        "outputId": "9ce86558-e165-4790-a249-18cfaba0567e"
      },
      "execution_count": 64,
      "outputs": [
        {
          "output_type": "stream",
          "name": "stdout",
          "text": [
            "Type: object\n",
            "['region' 'marital' 'ed' 'retire' 'gender' 'tollfree' 'equip' 'callcard'\n",
            " 'wireless' 'multline' 'voice' 'internet' 'callid' 'callwait' 'forward'\n",
            " 'confer']\n",
            "\n",
            "Type: int64\n",
            "['tenure' 'age' 'address' 'income' 'employ' 'reside']\n",
            "\n",
            "Type: float64\n",
            "['longmon' 'tollmon' 'equipmon' 'cardmon' 'wiremon']\n",
            "\n"
          ]
        }
      ]
    },
    {
      "cell_type": "code",
      "source": [
        "dep_var = 'tollfree'\n",
        "preds = [\n",
        "    'income',\n",
        "    'ed',\n",
        "    'gender',\n",
        "    'marital',\n",
        "    'age'\n",
        "    # should add 3 more\n",
        "]"
      ],
      "metadata": {
        "id": "mg9f_IkZL-sA"
      },
      "execution_count": 65,
      "outputs": []
    },
    {
      "cell_type": "markdown",
      "source": [
        "Before we make variable analysis, we should choose 3 more predictors. <br> After, we will analysis only variables in the binary regression"
      ],
      "metadata": {
        "id": "5IOewzpIMBSp"
      }
    },
    {
      "cell_type": "markdown",
      "source": [
        "## Choosing 3 more predictors"
      ],
      "metadata": {
        "id": "pxL_PIRiMJxs"
      }
    },
    {
      "cell_type": "code",
      "source": [
        "missing = (df.isna().sum() / len(df)) * 100\n",
        "missing = missing[missing > 0].sort_values(ascending=False)\n",
        "missing = pd.DataFrame({'Percent of missing values' : missing})\n",
        "missing"
      ],
      "metadata": {
        "colab": {
          "base_uri": "https://localhost:8080/",
          "height": 49
        },
        "id": "Xn4VkU74Mnti",
        "outputId": "7b766f6c-87a6-447f-e93d-53b6dcda02a6"
      },
      "execution_count": 66,
      "outputs": [
        {
          "output_type": "execute_result",
          "data": {
            "text/plain": [
              "Empty DataFrame\n",
              "Columns: [Percent of missing values]\n",
              "Index: []"
            ],
            "text/html": [
              "\n",
              "  <div id=\"df-19d271db-c9db-4805-a762-5368a853a794\">\n",
              "    <div class=\"colab-df-container\">\n",
              "      <div>\n",
              "<style scoped>\n",
              "    .dataframe tbody tr th:only-of-type {\n",
              "        vertical-align: middle;\n",
              "    }\n",
              "\n",
              "    .dataframe tbody tr th {\n",
              "        vertical-align: top;\n",
              "    }\n",
              "\n",
              "    .dataframe thead th {\n",
              "        text-align: right;\n",
              "    }\n",
              "</style>\n",
              "<table border=\"1\" class=\"dataframe\">\n",
              "  <thead>\n",
              "    <tr style=\"text-align: right;\">\n",
              "      <th></th>\n",
              "      <th>Percent of missing values</th>\n",
              "    </tr>\n",
              "  </thead>\n",
              "  <tbody>\n",
              "  </tbody>\n",
              "</table>\n",
              "</div>\n",
              "      <button class=\"colab-df-convert\" onclick=\"convertToInteractive('df-19d271db-c9db-4805-a762-5368a853a794')\"\n",
              "              title=\"Convert this dataframe to an interactive table.\"\n",
              "              style=\"display:none;\">\n",
              "        \n",
              "  <svg xmlns=\"http://www.w3.org/2000/svg\" height=\"24px\"viewBox=\"0 0 24 24\"\n",
              "       width=\"24px\">\n",
              "    <path d=\"M0 0h24v24H0V0z\" fill=\"none\"/>\n",
              "    <path d=\"M18.56 5.44l.94 2.06.94-2.06 2.06-.94-2.06-.94-.94-2.06-.94 2.06-2.06.94zm-11 1L8.5 8.5l.94-2.06 2.06-.94-2.06-.94L8.5 2.5l-.94 2.06-2.06.94zm10 10l.94 2.06.94-2.06 2.06-.94-2.06-.94-.94-2.06-.94 2.06-2.06.94z\"/><path d=\"M17.41 7.96l-1.37-1.37c-.4-.4-.92-.59-1.43-.59-.52 0-1.04.2-1.43.59L10.3 9.45l-7.72 7.72c-.78.78-.78 2.05 0 2.83L4 21.41c.39.39.9.59 1.41.59.51 0 1.02-.2 1.41-.59l7.78-7.78 2.81-2.81c.8-.78.8-2.07 0-2.86zM5.41 20L4 18.59l7.72-7.72 1.47 1.35L5.41 20z\"/>\n",
              "  </svg>\n",
              "      </button>\n",
              "      \n",
              "  <style>\n",
              "    .colab-df-container {\n",
              "      display:flex;\n",
              "      flex-wrap:wrap;\n",
              "      gap: 12px;\n",
              "    }\n",
              "\n",
              "    .colab-df-convert {\n",
              "      background-color: #E8F0FE;\n",
              "      border: none;\n",
              "      border-radius: 50%;\n",
              "      cursor: pointer;\n",
              "      display: none;\n",
              "      fill: #1967D2;\n",
              "      height: 32px;\n",
              "      padding: 0 0 0 0;\n",
              "      width: 32px;\n",
              "    }\n",
              "\n",
              "    .colab-df-convert:hover {\n",
              "      background-color: #E2EBFA;\n",
              "      box-shadow: 0px 1px 2px rgba(60, 64, 67, 0.3), 0px 1px 3px 1px rgba(60, 64, 67, 0.15);\n",
              "      fill: #174EA6;\n",
              "    }\n",
              "\n",
              "    [theme=dark] .colab-df-convert {\n",
              "      background-color: #3B4455;\n",
              "      fill: #D2E3FC;\n",
              "    }\n",
              "\n",
              "    [theme=dark] .colab-df-convert:hover {\n",
              "      background-color: #434B5C;\n",
              "      box-shadow: 0px 1px 3px 1px rgba(0, 0, 0, 0.15);\n",
              "      filter: drop-shadow(0px 1px 2px rgba(0, 0, 0, 0.3));\n",
              "      fill: #FFFFFF;\n",
              "    }\n",
              "  </style>\n",
              "\n",
              "      <script>\n",
              "        const buttonEl =\n",
              "          document.querySelector('#df-19d271db-c9db-4805-a762-5368a853a794 button.colab-df-convert');\n",
              "        buttonEl.style.display =\n",
              "          google.colab.kernel.accessAllowed ? 'block' : 'none';\n",
              "\n",
              "        async function convertToInteractive(key) {\n",
              "          const element = document.querySelector('#df-19d271db-c9db-4805-a762-5368a853a794');\n",
              "          const dataTable =\n",
              "            await google.colab.kernel.invokeFunction('convertToInteractive',\n",
              "                                                     [key], {});\n",
              "          if (!dataTable) return;\n",
              "\n",
              "          const docLinkHtml = 'Like what you see? Visit the ' +\n",
              "            '<a target=\"_blank\" href=https://colab.research.google.com/notebooks/data_table.ipynb>data table notebook</a>'\n",
              "            + ' to learn more about interactive tables.';\n",
              "          element.innerHTML = '';\n",
              "          dataTable['output_type'] = 'display_data';\n",
              "          await google.colab.output.renderOutput(dataTable, element);\n",
              "          const docLink = document.createElement('div');\n",
              "          docLink.innerHTML = docLinkHtml;\n",
              "          element.appendChild(docLink);\n",
              "        }\n",
              "      </script>\n",
              "    </div>\n",
              "  </div>\n",
              "  "
            ]
          },
          "metadata": {},
          "execution_count": 66
        }
      ]
    },
    {
      "cell_type": "code",
      "source": [
        "for i in df:\n",
        "    print(df[i].value_counts())"
      ],
      "metadata": {
        "colab": {
          "base_uri": "https://localhost:8080/"
        },
        "id": "87AW5EzVNcYW",
        "outputId": "492f5b30-d218-4e6d-865c-2e626bf8f801"
      },
      "execution_count": 67,
      "outputs": [
        {
          "output_type": "stream",
          "name": "stdout",
          "text": [
            "Zone 3    344\n",
            "Zone 2    334\n",
            "Zone 1    322\n",
            "Name: region, dtype: int64\n",
            "72    31\n",
            "24    20\n",
            "48    20\n",
            "3     20\n",
            "13    19\n",
            "      ..\n",
            "36     7\n",
            "2      7\n",
            "47     7\n",
            "21     6\n",
            "63     6\n",
            "Name: tenure, Length: 72, dtype: int64\n",
            "33    39\n",
            "39    35\n",
            "35    34\n",
            "31    32\n",
            "34    32\n",
            "37    31\n",
            "40    28\n",
            "42    28\n",
            "30    26\n",
            "52    25\n",
            "36    25\n",
            "54    24\n",
            "45    24\n",
            "43    24\n",
            "27    24\n",
            "48    24\n",
            "46    24\n",
            "41    24\n",
            "51    23\n",
            "25    23\n",
            "50    23\n",
            "28    22\n",
            "26    21\n",
            "55    21\n",
            "47    21\n",
            "32    21\n",
            "38    21\n",
            "24    20\n",
            "57    20\n",
            "44    20\n",
            "29    19\n",
            "53    19\n",
            "49    18\n",
            "23    16\n",
            "22    15\n",
            "59    14\n",
            "63    12\n",
            "56    11\n",
            "61    11\n",
            "60    11\n",
            "64    10\n",
            "20    10\n",
            "58    10\n",
            "62     9\n",
            "21     8\n",
            "66     7\n",
            "68     6\n",
            "69     6\n",
            "65     6\n",
            "67     5\n",
            "19     4\n",
            "76     3\n",
            "70     3\n",
            "75     2\n",
            "71     1\n",
            "72     1\n",
            "74     1\n",
            "77     1\n",
            "18     1\n",
            "73     1\n",
            "Name: age, dtype: int64\n",
            "Unmarried    505\n",
            "Married      495\n",
            "Name: marital, dtype: int64\n",
            "1     68\n",
            "2     66\n",
            "4     61\n",
            "3     61\n",
            "0     56\n",
            "7     53\n",
            "5     50\n",
            "9     41\n",
            "8     39\n",
            "10    38\n",
            "12    36\n",
            "6     36\n",
            "13    33\n",
            "19    29\n",
            "14    24\n",
            "15    24\n",
            "11    23\n",
            "17    22\n",
            "20    20\n",
            "18    20\n",
            "21    20\n",
            "27    16\n",
            "23    15\n",
            "22    15\n",
            "16    14\n",
            "26    12\n",
            "25    12\n",
            "28    12\n",
            "24    12\n",
            "30    11\n",
            "29     8\n",
            "31     6\n",
            "34     6\n",
            "32     5\n",
            "38     5\n",
            "33     5\n",
            "43     3\n",
            "37     3\n",
            "40     3\n",
            "44     3\n",
            "39     3\n",
            "36     2\n",
            "35     2\n",
            "41     1\n",
            "49     1\n",
            "45     1\n",
            "48     1\n",
            "42     1\n",
            "46     1\n",
            "55     1\n",
            "Name: address, dtype: int64\n",
            "25     24\n",
            "26     22\n",
            "41     22\n",
            "33     20\n",
            "46     19\n",
            "       ..\n",
            "200     1\n",
            "250     1\n",
            "674     1\n",
            "187     1\n",
            "944     1\n",
            "Name: income, Length: 218, dtype: int64\n",
            "High school degree              287\n",
            "College degree                  234\n",
            "Some college                    209\n",
            "Did not complete high school    204\n",
            "Post-undergraduate degree        66\n",
            "Name: ed, dtype: int64\n",
            "0     106\n",
            "1      66\n",
            "2      59\n",
            "5      54\n",
            "4      52\n",
            "3      50\n",
            "7      48\n",
            "6      44\n",
            "9      39\n",
            "8      38\n",
            "11     34\n",
            "12     32\n",
            "10     30\n",
            "15     30\n",
            "13     28\n",
            "21     22\n",
            "20     20\n",
            "22     20\n",
            "18     20\n",
            "19     19\n",
            "25     17\n",
            "16     17\n",
            "17     16\n",
            "24     14\n",
            "23     14\n",
            "14     13\n",
            "27     10\n",
            "35      9\n",
            "31      9\n",
            "29      9\n",
            "30      8\n",
            "26      8\n",
            "33      7\n",
            "28      5\n",
            "37      5\n",
            "34      4\n",
            "36      4\n",
            "32      3\n",
            "39      3\n",
            "43      3\n",
            "40      3\n",
            "44      2\n",
            "41      2\n",
            "45      2\n",
            "38      1\n",
            "47      1\n",
            "Name: employ, dtype: int64\n",
            "No     953\n",
            "Yes     47\n",
            "Name: retire, dtype: int64\n",
            "Female    517\n",
            "Male      483\n",
            "Name: gender, dtype: int64\n",
            "1    375\n",
            "2    272\n",
            "3    138\n",
            "4    120\n",
            "5     60\n",
            "6     29\n",
            "7      4\n",
            "8      2\n",
            "Name: reside, dtype: int64\n",
            "No     526\n",
            "Yes    474\n",
            "Name: tollfree, dtype: int64\n",
            "No     614\n",
            "Yes    386\n",
            "Name: equip, dtype: int64\n",
            "Yes    678\n",
            "No     322\n",
            "Name: callcard, dtype: int64\n",
            "No     704\n",
            "Yes    296\n",
            "Name: wireless, dtype: int64\n",
            "4.25     11\n",
            "5.40      9\n",
            "7.25      9\n",
            "4.85      9\n",
            "7.10      9\n",
            "         ..\n",
            "18.10     1\n",
            "6.80      1\n",
            "29.95     1\n",
            "27.10     1\n",
            "13.15     1\n",
            "Name: longmon, Length: 425, dtype: int64\n",
            "0.00     525\n",
            "27.50     11\n",
            "21.75     10\n",
            "21.25     10\n",
            "18.50      9\n",
            "        ... \n",
            "36.50      1\n",
            "35.75      1\n",
            "44.00      1\n",
            "47.50      1\n",
            "45.25      1\n",
            "Name: tollmon, Length: 162, dtype: int64\n",
            "0.00     614\n",
            "33.00      4\n",
            "27.35      3\n",
            "28.50      3\n",
            "39.20      3\n",
            "        ... \n",
            "30.65      1\n",
            "27.20      1\n",
            "47.40      1\n",
            "51.95      1\n",
            "33.60      1\n",
            "Name: equipmon, Length: 310, dtype: int64\n",
            "0.00     322\n",
            "18.75     14\n",
            "14.25     11\n",
            "15.75     11\n",
            "8.75      11\n",
            "        ... \n",
            "87.50      1\n",
            "2.75       1\n",
            "4.50       1\n",
            "7.75       1\n",
            "52.75      1\n",
            "Name: cardmon, Length: 176, dtype: int64\n",
            "0.00     704\n",
            "28.05      3\n",
            "38.80      3\n",
            "24.15      2\n",
            "26.40      2\n",
            "        ... \n",
            "37.45      1\n",
            "33.20      1\n",
            "43.95      1\n",
            "51.00      1\n",
            "65.80      1\n",
            "Name: wiremon, Length: 263, dtype: int64\n",
            "No     525\n",
            "Yes    475\n",
            "Name: multline, dtype: int64\n",
            "No     696\n",
            "Yes    304\n",
            "Name: voice, dtype: int64\n",
            "No     632\n",
            "Yes    368\n",
            "Name: internet, dtype: int64\n",
            "No     519\n",
            "Yes    481\n",
            "Name: callid, dtype: int64\n",
            "No     515\n",
            "Yes    485\n",
            "Name: callwait, dtype: int64\n",
            "No     507\n",
            "Yes    493\n",
            "Name: forward, dtype: int64\n",
            "Yes    502\n",
            "No     498\n",
            "Name: confer, dtype: int64\n"
          ]
        }
      ]
    },
    {
      "cell_type": "markdown",
      "source": [
        "There aren't any null data in the dataset => it shouldn't make any pre-task execution\n",
        "<br>\n",
        "<br>\n",
        "\n",
        "**region** column can be representative (full data) <br>\n",
        "**tenure** column can **NOT** be representative (full data. The same as age, but only in month. It's obligatory to use **age** column, that is why it's better to remove this column) <br>\n",
        "**age (ALREADY IN USE)** column can be representative (full data) <br>\n",
        "**marital (ALREADY IN USE)** column can be representative (full data) <br>\n",
        "**address** column can **NOT** be representative (user can use service from different addresses) <br>\n",
        "**income (ALREADY IN USE)** column can be representative (full data) <br>\n",
        "**ed (ALREADY IN USE)** column can be representative (full data) <br>\n",
        "**employ** column can **NOT** be representative (full data. Sounds like this data doesn't show us anything) <br>\n",
        "**retire** column can be representative (full data) <br>\n",
        "**gender (ALREADY IN USE)** column can be representative (full data) <br>\n",
        "**reside** column can be representative (full data) <br>\n",
        "**tollfree** column is dependept variable <br>\n",
        "Columns **callcard**, **wireless**, **equip**, **internet** are showed services and it doesn't improve the model quality <br>\n",
        "**longmon** column can be representative (full data) <br>\n",
        "**tollmon** column can be representative (full data, can show us a quality of the tolls) <br>\n",
        "**equipmon** column can **NOT** be representative (full data. It shows us the characteristic of another service) <br>\n",
        "**cardmon** column can **NOT** be representative (full data. It shows us the characteristic of another service) <br>\n",
        "**wiremon** column can **NOT** be representative (full data. It shows us the characteristic of another service) <br>\n",
        "**multline** column can be representative (full data. It shows us the characteristic of the needed service) <br>\n",
        "**voice** column can be representative (full data. It shows us the characteristic of the needed service) <br>\n",
        "**called** column can **NOT** be representative (full data, It shows us the characteristic of call) <br>\n",
        "**callwait** column can **NOT** be representative (full data. It shows us the characteristic of call) <br>\n",
        "**forward** column can **NOT** be representative (full data. It shows us the characteristic of call) <br>\n",
        "**confer** column can **NOT** be representative (full data. It shows us the characteristic of call) <br>"
      ],
      "metadata": {
        "id": "KzBh4qf_M7PT"
      }
    },
    {
      "cell_type": "code",
      "source": [
        "preds"
      ],
      "metadata": {
        "colab": {
          "base_uri": "https://localhost:8080/"
        },
        "id": "weEHxi_wMqI3",
        "outputId": "a5eb4061-b79e-4182-997e-14ecdb049e6b"
      },
      "execution_count": 68,
      "outputs": [
        {
          "output_type": "execute_result",
          "data": {
            "text/plain": [
              "['income', 'ed', 'gender', 'marital', 'age']"
            ]
          },
          "metadata": {},
          "execution_count": 68
        }
      ]
    },
    {
      "cell_type": "code",
      "source": [
        "num = ['age', 'income', 'reside', 'longmon', 'tollmon']\n",
        "cat = ['region', 'marital', 'ed', 'retire', 'gender', 'multline', 'voice']"
      ],
      "metadata": {
        "id": "mwYXygMkRzcu"
      },
      "execution_count": 69,
      "outputs": []
    },
    {
      "cell_type": "code",
      "source": [
        "for c in df.columns[0:]:\n",
        "    if c in num:\n",
        "        plt.figure(figsize=(8,5))\n",
        "        plt.title('{} vs. tollfree'.format(c), fontsize=16)\n",
        "        plt.scatter(x=df[c], y=df.tollfree, color='blue',edgecolor='k')\n",
        "        plt.grid(True)\n",
        "        plt.xlabel(c, fontsize=14)\n",
        "        plt.ylabel('Y', fontsize=14)\n",
        "        plt.show()\n",
        "    elif c in cat:\n",
        "        ct = pd.crosstab(df.tollfree, df[c])\n",
        "        ct.plot.bar()"
      ],
      "metadata": {
        "colab": {
          "base_uri": "https://localhost:8080/",
          "height": 1000
        },
        "id": "OX4VwyJZSoK1",
        "outputId": "e5a04f20-6472-4350-8ca5-ee061c6cbc87"
      },
      "execution_count": 70,
      "outputs": [
        {
          "output_type": "display_data",
          "data": {
            "text/plain": [
              "<Figure size 432x288 with 1 Axes>"
            ],
            "image/png": "[encoded data removed]"
          },
          "metadata": {
            "needs_background": "light"
          }
        },
        {
          "output_type": "display_data",
          "data": {
            "text/plain": [
              "<Figure size 576x360 with 1 Axes>"
            ],
            "image/png": "[encoded data removed]"
          },
          "metadata": {
            "needs_background": "light"
          }
        },
        {
          "output_type": "display_data",
          "data": {
            "text/plain": [
              "<Figure size 432x288 with 1 Axes>"
            ],
            "image/png": "[encoded data removed]"
          },
          "metadata": {
            "needs_background": "light"
          }
        },
        {
          "output_type": "display_data",
          "data": {
            "text/plain": [
              "<Figure size 576x360 with 1 Axes>"
            ],
            "image/png": "[encoded data removed]"
          },
          "metadata": {
            "needs_background": "light"
          }
        },
        {
          "output_type": "display_data",
          "data": {
            "text/plain": [
              "<Figure size 432x288 with 1 Axes>"
            ],
            "image/png": "[encoded data removed]"
          },
          "metadata": {
            "needs_background": "light"
          }
        },
        {
          "output_type": "display_data",
          "data": {
            "text/plain": [
              "<Figure size 432x288 with 1 Axes>"
            ],
            "image/png": "[encoded data removed]"
          },
          "metadata": {
            "needs_background": "light"
          }
        },
        {
          "output_type": "display_data",
          "data": {
            "text/plain": [
              "<Figure size 432x288 with 1 Axes>"
            ],
            "image/png": "[encoded data removed]"
          },
          "metadata": {
            "needs_background": "light"
          }
        },
        {
          "output_type": "display_data",
          "data": {
            "text/plain": [
              "<Figure size 576x360 with 1 Axes>"
            ],
            "image/png": "[encoded data removed]"
          },
          "metadata": {
            "needs_background": "light"
          }
        },
        {
          "output_type": "display_data",
          "data": {
            "text/plain": [
              "<Figure size 576x360 with 1 Axes>"
            ],
            "image/png": "[encoded data removed]"
          },
          "metadata": {
            "needs_background": "light"
          }
        },
        {
          "output_type": "display_data",
          "data": {
            "text/plain": [
              "<Figure size 576x360 with 1 Axes>"
            ],
            "image/png": "[encoded data removed]"
          },
          "metadata": {
            "needs_background": "light"
          }
        },
        {
          "output_type": "display_data",
          "data": {
            "text/plain": [
              "<Figure size 432x288 with 1 Axes>"
            ],
            "image/png": "[encoded data removed]"
          },
          "metadata": {
            "needs_background": "light"
          }
        },
        {
          "output_type": "display_data",
          "data": {
            "text/plain": [
              "<Figure size 432x288 with 1 Axes>"
            ],
            "image/png": "[encoded data removed]"
          },
          "metadata": {
            "needs_background": "light"
          }
        }
      ]
    },
    {
      "cell_type": "markdown",
      "source": [
        "#### Conclusion of variable analysis"
      ],
      "metadata": {
        "id": "qwziPG6-S2n8"
      }
    },
    {
      "cell_type": "markdown",
      "source": [
        "*Note: dep var = dependent variable (**tollfree**)*\n",
        "\n",
        "There is some correlation between **region** and dep var <br>\n",
        "There is weak correlation between **age** and dep var (use **age** is obligatory by var in control paper) <br>\n",
        "There is some correlation between **marital** and dep var (use **marital** is obligatory by var in control paper) <br>\n",
        "There is some correlation between **income** and dep var (use **income** is obligatory by var in control paper) <br>\n",
        "There is some correlation between **ed** and dep var (use **ed** is obligatory by var in control paper) <br>\n",
        "There is **NO** correlation between **retire** and dep var <br>\n",
        "There is weak correlation between **gender** and dep var (use **gender** is obligatory by var in control paper) <br>\n",
        "There is **NO** correlation between **reside** and dep var <br>\n",
        "There is **NO** correlation between **longmon** and dep var <br>\n",
        "There is weak correlation between **tollmon** and dep var <br>\n",
        "There is **NO** correlation between **multline** and dep var <br>\n",
        "There is some correlation between **voice** and dep var <br>"
      ],
      "metadata": {
        "id": "-vvzOD14WOmJ"
      }
    },
    {
      "cell_type": "markdown",
      "source": [
        "Predictors:\n",
        "* age\n",
        "* marital\n",
        "* income\n",
        "* ed\n",
        "* gender\n",
        "* voice\n",
        "* tollmon\n",
        "* region"
      ],
      "metadata": {
        "id": "c3-FGD75V0eA"
      }
    },
    {
      "cell_type": "code",
      "source": [
        "preds.append('voice')\n",
        "preds.append('tollmon')\n",
        "preds.append('region')\n",
        "preds"
      ],
      "metadata": {
        "colab": {
          "base_uri": "https://localhost:8080/"
        },
        "id": "OpOwCU9dWBCG",
        "outputId": "3bdda361-a028-4159-a882-ff274bb2231d"
      },
      "execution_count": 71,
      "outputs": [
        {
          "output_type": "execute_result",
          "data": {
            "text/plain": [
              "['income', 'ed', 'gender', 'marital', 'age', 'voice', 'tollmon', 'region']"
            ]
          },
          "metadata": {},
          "execution_count": 71
        }
      ]
    },
    {
      "cell_type": "code",
      "source": [
        "not_preds = []\n",
        "for i in df:\n",
        "    if i not in preds and i != 'tollfree':\n",
        "        not_preds.append(i)\n",
        "not_preds"
      ],
      "metadata": {
        "colab": {
          "base_uri": "https://localhost:8080/"
        },
        "id": "bBj97L-4Wh_O",
        "outputId": "6d1cac7f-b120-4dd3-b142-c211a633bb1e"
      },
      "execution_count": 72,
      "outputs": [
        {
          "output_type": "execute_result",
          "data": {
            "text/plain": [
              "['tenure',\n",
              " 'address',\n",
              " 'employ',\n",
              " 'retire',\n",
              " 'reside',\n",
              " 'equip',\n",
              " 'callcard',\n",
              " 'wireless',\n",
              " 'longmon',\n",
              " 'equipmon',\n",
              " 'cardmon',\n",
              " 'wiremon',\n",
              " 'multline',\n",
              " 'internet',\n",
              " 'callid',\n",
              " 'callwait',\n",
              " 'forward',\n",
              " 'confer']"
            ]
          },
          "metadata": {},
          "execution_count": 72
        }
      ]
    },
    {
      "cell_type": "code",
      "source": [
        "df_cl = df.drop(not_preds, 1)\n",
        "df_cl"
      ],
      "metadata": {
        "colab": {
          "base_uri": "https://localhost:8080/",
          "height": 473
        },
        "id": "gNMDg-sGWX__",
        "outputId": "876c9d60-9625-41ea-b049-3fa8669d5dcb"
      },
      "execution_count": 73,
      "outputs": [
        {
          "output_type": "stream",
          "name": "stderr",
          "text": [
            "/usr/local/lib/python3.7/dist-packages/ipykernel_launcher.py:1: FutureWarning: In a future version of pandas all arguments of DataFrame.drop except for the argument 'labels' will be keyword-only\n",
            "  \"\"\"Entry point for launching an IPython kernel.\n"
          ]
        },
        {
          "output_type": "execute_result",
          "data": {
            "text/plain": [
              "     region  age    marital  income                            ed  gender  \\\n",
              "0    Zone 2   44    Married      64                College degree    Male   \n",
              "1    Zone 3   33    Married     136     Post-undergraduate degree    Male   \n",
              "2    Zone 3   52    Married     116  Did not complete high school  Female   \n",
              "3    Zone 2   33  Unmarried      33            High school degree  Female   \n",
              "4    Zone 2   30    Married      30  Did not complete high school    Male   \n",
              "..      ...  ...        ...     ...                           ...     ...   \n",
              "995  Zone 3   39  Unmarried      27                  Some college  Female   \n",
              "996  Zone 1   34  Unmarried      22     Post-undergraduate degree  Female   \n",
              "997  Zone 3   59  Unmarried     944     Post-undergraduate degree  Female   \n",
              "998  Zone 3   49  Unmarried      87            High school degree  Female   \n",
              "999  Zone 3   36    Married      39                  Some college  Female   \n",
              "\n",
              "    tollfree  tollmon voice  \n",
              "0         No     0.00    No  \n",
              "1        Yes    20.75   Yes  \n",
              "2        Yes    18.00    No  \n",
              "3         No     0.00    No  \n",
              "4         No     0.00    No  \n",
              "..       ...      ...   ...  \n",
              "995       No     0.00    No  \n",
              "996       No     0.00    No  \n",
              "997      Yes    32.00   Yes  \n",
              "998      Yes    33.50   Yes  \n",
              "999       No     0.00    No  \n",
              "\n",
              "[1000 rows x 9 columns]"
            ],
            "text/html": [
              "\n",
              "  <div id=\"df-afd8453e-7f31-43b6-b21e-2aad1d565aff\">\n",
              "    <div class=\"colab-df-container\">\n",
              "      <div>\n",
              "<style scoped>\n",
              "    .dataframe tbody tr th:only-of-type {\n",
              "        vertical-align: middle;\n",
              "    }\n",
              "\n",
              "    .dataframe tbody tr th {\n",
              "        vertical-align: top;\n",
              "    }\n",
              "\n",
              "    .dataframe thead th {\n",
              "        text-align: right;\n",
              "    }\n",
              "</style>\n",
              "<table border=\"1\" class=\"dataframe\">\n",
              "  <thead>\n",
              "    <tr style=\"text-align: right;\">\n",
              "      <th></th>\n",
              "      <th>region</th>\n",
              "      <th>age</th>\n",
              "      <th>marital</th>\n",
              "      <th>income</th>\n",
              "      <th>ed</th>\n",
              "      <th>gender</th>\n",
              "      <th>tollfree</th>\n",
              "      <th>tollmon</th>\n",
              "      <th>voice</th>\n",
              "    </tr>\n",
              "  </thead>\n",
              "  <tbody>\n",
              "    <tr>\n",
              "      <th>0</th>\n",
              "      <td>Zone 2</td>\n",
              "      <td>44</td>\n",
              "      <td>Married</td>\n",
              "      <td>64</td>\n",
              "      <td>College degree</td>\n",
              "      <td>Male</td>\n",
              "      <td>No</td>\n",
              "      <td>0.00</td>\n",
              "      <td>No</td>\n",
              "    </tr>\n",
              "    <tr>\n",
              "      <th>1</th>\n",
              "      <td>Zone 3</td>\n",
              "      <td>33</td>\n",
              "      <td>Married</td>\n",
              "      <td>136</td>\n",
              "      <td>Post-undergraduate degree</td>\n",
              "      <td>Male</td>\n",
              "      <td>Yes</td>\n",
              "      <td>20.75</td>\n",
              "      <td>Yes</td>\n",
              "    </tr>\n",
              "    <tr>\n",
              "      <th>2</th>\n",
              "      <td>Zone 3</td>\n",
              "      <td>52</td>\n",
              "      <td>Married</td>\n",
              "      <td>116</td>\n",
              "      <td>Did not complete high school</td>\n",
              "      <td>Female</td>\n",
              "      <td>Yes</td>\n",
              "      <td>18.00</td>\n",
              "      <td>No</td>\n",
              "    </tr>\n",
              "    <tr>\n",
              "      <th>3</th>\n",
              "      <td>Zone 2</td>\n",
              "      <td>33</td>\n",
              "      <td>Unmarried</td>\n",
              "      <td>33</td>\n",
              "      <td>High school degree</td>\n",
              "      <td>Female</td>\n",
              "      <td>No</td>\n",
              "      <td>0.00</td>\n",
              "      <td>No</td>\n",
              "    </tr>\n",
              "    <tr>\n",
              "      <th>4</th>\n",
              "      <td>Zone 2</td>\n",
              "      <td>30</td>\n",
              "      <td>Married</td>\n",
              "      <td>30</td>\n",
              "      <td>Did not complete high school</td>\n",
              "      <td>Male</td>\n",
              "      <td>No</td>\n",
              "      <td>0.00</td>\n",
              "      <td>No</td>\n",
              "    </tr>\n",
              "    <tr>\n",
              "      <th>...</th>\n",
              "      <td>...</td>\n",
              "      <td>...</td>\n",
              "      <td>...</td>\n",
              "      <td>...</td>\n",
              "      <td>...</td>\n",
              "      <td>...</td>\n",
              "      <td>...</td>\n",
              "      <td>...</td>\n",
              "      <td>...</td>\n",
              "    </tr>\n",
              "    <tr>\n",
              "      <th>995</th>\n",
              "      <td>Zone 3</td>\n",
              "      <td>39</td>\n",
              "      <td>Unmarried</td>\n",
              "      <td>27</td>\n",
              "      <td>Some college</td>\n",
              "      <td>Female</td>\n",
              "      <td>No</td>\n",
              "      <td>0.00</td>\n",
              "      <td>No</td>\n",
              "    </tr>\n",
              "    <tr>\n",
              "      <th>996</th>\n",
              "      <td>Zone 1</td>\n",
              "      <td>34</td>\n",
              "      <td>Unmarried</td>\n",
              "      <td>22</td>\n",
              "      <td>Post-undergraduate degree</td>\n",
              "      <td>Female</td>\n",
              "      <td>No</td>\n",
              "      <td>0.00</td>\n",
              "      <td>No</td>\n",
              "    </tr>\n",
              "    <tr>\n",
              "      <th>997</th>\n",
              "      <td>Zone 3</td>\n",
              "      <td>59</td>\n",
              "      <td>Unmarried</td>\n",
              "      <td>944</td>\n",
              "      <td>Post-undergraduate degree</td>\n",
              "      <td>Female</td>\n",
              "      <td>Yes</td>\n",
              "      <td>32.00</td>\n",
              "      <td>Yes</td>\n",
              "    </tr>\n",
              "    <tr>\n",
              "      <th>998</th>\n",
              "      <td>Zone 3</td>\n",
              "      <td>49</td>\n",
              "      <td>Unmarried</td>\n",
              "      <td>87</td>\n",
              "      <td>High school degree</td>\n",
              "      <td>Female</td>\n",
              "      <td>Yes</td>\n",
              "      <td>33.50</td>\n",
              "      <td>Yes</td>\n",
              "    </tr>\n",
              "    <tr>\n",
              "      <th>999</th>\n",
              "      <td>Zone 3</td>\n",
              "      <td>36</td>\n",
              "      <td>Married</td>\n",
              "      <td>39</td>\n",
              "      <td>Some college</td>\n",
              "      <td>Female</td>\n",
              "      <td>No</td>\n",
              "      <td>0.00</td>\n",
              "      <td>No</td>\n",
              "    </tr>\n",
              "  </tbody>\n",
              "</table>\n",
              "<p>1000 rows × 9 columns</p>\n",
              "</div>\n",
              "      <button class=\"colab-df-convert\" onclick=\"convertToInteractive('df-afd8453e-7f31-43b6-b21e-2aad1d565aff')\"\n",
              "              title=\"Convert this dataframe to an interactive table.\"\n",
              "              style=\"display:none;\">\n",
              "        \n",
              "  <svg xmlns=\"http://www.w3.org/2000/svg\" height=\"24px\"viewBox=\"0 0 24 24\"\n",
              "       width=\"24px\">\n",
              "    <path d=\"M0 0h24v24H0V0z\" fill=\"none\"/>\n",
              "    <path d=\"M18.56 5.44l.94 2.06.94-2.06 2.06-.94-2.06-.94-.94-2.06-.94 2.06-2.06.94zm-11 1L8.5 8.5l.94-2.06 2.06-.94-2.06-.94L8.5 2.5l-.94 2.06-2.06.94zm10 10l.94 2.06.94-2.06 2.06-.94-2.06-.94-.94-2.06-.94 2.06-2.06.94z\"/><path d=\"M17.41 7.96l-1.37-1.37c-.4-.4-.92-.59-1.43-.59-.52 0-1.04.2-1.43.59L10.3 9.45l-7.72 7.72c-.78.78-.78 2.05 0 2.83L4 21.41c.39.39.9.59 1.41.59.51 0 1.02-.2 1.41-.59l7.78-7.78 2.81-2.81c.8-.78.8-2.07 0-2.86zM5.41 20L4 18.59l7.72-7.72 1.47 1.35L5.41 20z\"/>\n",
              "  </svg>\n",
              "      </button>\n",
              "      \n",
              "  <style>\n",
              "    .colab-df-container {\n",
              "      display:flex;\n",
              "      flex-wrap:wrap;\n",
              "      gap: 12px;\n",
              "    }\n",
              "\n",
              "    .colab-df-convert {\n",
              "      background-color: #E8F0FE;\n",
              "      border: none;\n",
              "      border-radius: 50%;\n",
              "      cursor: pointer;\n",
              "      display: none;\n",
              "      fill: #1967D2;\n",
              "      height: 32px;\n",
              "      padding: 0 0 0 0;\n",
              "      width: 32px;\n",
              "    }\n",
              "\n",
              "    .colab-df-convert:hover {\n",
              "      background-color: #E2EBFA;\n",
              "      box-shadow: 0px 1px 2px rgba(60, 64, 67, 0.3), 0px 1px 3px 1px rgba(60, 64, 67, 0.15);\n",
              "      fill: #174EA6;\n",
              "    }\n",
              "\n",
              "    [theme=dark] .colab-df-convert {\n",
              "      background-color: #3B4455;\n",
              "      fill: #D2E3FC;\n",
              "    }\n",
              "\n",
              "    [theme=dark] .colab-df-convert:hover {\n",
              "      background-color: #434B5C;\n",
              "      box-shadow: 0px 1px 3px 1px rgba(0, 0, 0, 0.15);\n",
              "      filter: drop-shadow(0px 1px 2px rgba(0, 0, 0, 0.3));\n",
              "      fill: #FFFFFF;\n",
              "    }\n",
              "  </style>\n",
              "\n",
              "      <script>\n",
              "        const buttonEl =\n",
              "          document.querySelector('#df-afd8453e-7f31-43b6-b21e-2aad1d565aff button.colab-df-convert');\n",
              "        buttonEl.style.display =\n",
              "          google.colab.kernel.accessAllowed ? 'block' : 'none';\n",
              "\n",
              "        async function convertToInteractive(key) {\n",
              "          const element = document.querySelector('#df-afd8453e-7f31-43b6-b21e-2aad1d565aff');\n",
              "          const dataTable =\n",
              "            await google.colab.kernel.invokeFunction('convertToInteractive',\n",
              "                                                     [key], {});\n",
              "          if (!dataTable) return;\n",
              "\n",
              "          const docLinkHtml = 'Like what you see? Visit the ' +\n",
              "            '<a target=\"_blank\" href=https://colab.research.google.com/notebooks/data_table.ipynb>data table notebook</a>'\n",
              "            + ' to learn more about interactive tables.';\n",
              "          element.innerHTML = '';\n",
              "          dataTable['output_type'] = 'display_data';\n",
              "          await google.colab.output.renderOutput(dataTable, element);\n",
              "          const docLink = document.createElement('div');\n",
              "          docLink.innerHTML = docLinkHtml;\n",
              "          element.appendChild(docLink);\n",
              "        }\n",
              "      </script>\n",
              "    </div>\n",
              "  </div>\n",
              "  "
            ]
          },
          "metadata": {},
          "execution_count": 73
        }
      ]
    },
    {
      "cell_type": "code",
      "source": [
        "df_dm = pd.get_dummies(df_cl, columns=['region','marital','ed','gender','voice'])\n",
        "df_dm.info()"
      ],
      "metadata": {
        "colab": {
          "base_uri": "https://localhost:8080/"
        },
        "id": "5EGrmQnlWxKf",
        "outputId": "73c2792c-2821-4add-c801-48d95954c969"
      },
      "execution_count": 74,
      "outputs": [
        {
          "output_type": "stream",
          "name": "stdout",
          "text": [
            "<class 'pandas.core.frame.DataFrame'>\n",
            "RangeIndex: 1000 entries, 0 to 999\n",
            "Data columns (total 18 columns):\n",
            " #   Column                           Non-Null Count  Dtype  \n",
            "---  ------                           --------------  -----  \n",
            " 0   age                              1000 non-null   int64  \n",
            " 1   income                           1000 non-null   int64  \n",
            " 2   tollfree                         1000 non-null   object \n",
            " 3   tollmon                          1000 non-null   float64\n",
            " 4   region_Zone 1                    1000 non-null   uint8  \n",
            " 5   region_Zone 2                    1000 non-null   uint8  \n",
            " 6   region_Zone 3                    1000 non-null   uint8  \n",
            " 7   marital_Married                  1000 non-null   uint8  \n",
            " 8   marital_Unmarried                1000 non-null   uint8  \n",
            " 9   ed_College degree                1000 non-null   uint8  \n",
            " 10  ed_Did not complete high school  1000 non-null   uint8  \n",
            " 11  ed_High school degree            1000 non-null   uint8  \n",
            " 12  ed_Post-undergraduate degree     1000 non-null   uint8  \n",
            " 13  ed_Some college                  1000 non-null   uint8  \n",
            " 14  gender_Female                    1000 non-null   uint8  \n",
            " 15  gender_Male                      1000 non-null   uint8  \n",
            " 16  voice_No                         1000 non-null   uint8  \n",
            " 17  voice_Yes                        1000 non-null   uint8  \n",
            "dtypes: float64(1), int64(2), object(1), uint8(14)\n",
            "memory usage: 45.0+ KB\n"
          ]
        }
      ]
    },
    {
      "cell_type": "code",
      "source": [
        "# remove referent group\n",
        "df_without_ref = df_dm.drop('region_Zone 1', 1)\n",
        "df_without_ref = df_without_ref.drop('marital_Married', 1)\n",
        "df_without_ref = df_without_ref.drop('ed_College degree', 1)\n",
        "df_without_ref = df_without_ref.drop('gender_Female', 1)\n",
        "df_without_ref = df_without_ref.drop('voice_No', 1)"
      ],
      "metadata": {
        "colab": {
          "base_uri": "https://localhost:8080/"
        },
        "id": "eQerIN1-hadq",
        "outputId": "439ba04f-68b8-47b2-8cef-1929bba23242"
      },
      "execution_count": 75,
      "outputs": [
        {
          "output_type": "stream",
          "name": "stderr",
          "text": [
            "/usr/local/lib/python3.7/dist-packages/ipykernel_launcher.py:2: FutureWarning: In a future version of pandas all arguments of DataFrame.drop except for the argument 'labels' will be keyword-only\n",
            "  \n",
            "/usr/local/lib/python3.7/dist-packages/ipykernel_launcher.py:3: FutureWarning: In a future version of pandas all arguments of DataFrame.drop except for the argument 'labels' will be keyword-only\n",
            "  This is separate from the ipykernel package so we can avoid doing imports until\n",
            "/usr/local/lib/python3.7/dist-packages/ipykernel_launcher.py:4: FutureWarning: In a future version of pandas all arguments of DataFrame.drop except for the argument 'labels' will be keyword-only\n",
            "  after removing the cwd from sys.path.\n",
            "/usr/local/lib/python3.7/dist-packages/ipykernel_launcher.py:5: FutureWarning: In a future version of pandas all arguments of DataFrame.drop except for the argument 'labels' will be keyword-only\n",
            "  \"\"\"\n",
            "/usr/local/lib/python3.7/dist-packages/ipykernel_launcher.py:6: FutureWarning: In a future version of pandas all arguments of DataFrame.drop except for the argument 'labels' will be keyword-only\n",
            "  \n"
          ]
        }
      ]
    },
    {
      "cell_type": "markdown",
      "source": [
        "## Regression"
      ],
      "metadata": {
        "id": "PO6BzpTSWTX5"
      }
    },
    {
      "cell_type": "markdown",
      "source": [
        "H0: The binary regression model constructed for a dependent variable 'tollfree' and the following predictors:\n",
        "- age\n",
        "- income\n",
        "- tollmon\n",
        "- region\n",
        "- marital\n",
        "- ed\n",
        "- gender\n",
        "- voice\n",
        "\n",
        "explains the variation of 'tollfree'.\n",
        "\n",
        "H1: The aforementioned model does not explain the variation of 'tollfree'.\n",
        "\n",
        "p-value = 0.05."
      ],
      "metadata": {
        "id": "c5hPSMkaXD1e"
      }
    },
    {
      "cell_type": "code",
      "source": [
        "df_predictors = df_without_ref.drop('tollfree',1)\n",
        "df_dependent = df_without_ref['tollfree']\n",
        "df_dependent.replace(('Yes','No'),(1,0),inplace=True) #Yes/no have to be parsed to 1/0"
      ],
      "metadata": {
        "colab": {
          "base_uri": "https://localhost:8080/"
        },
        "id": "U2mDsnZbWSzz",
        "outputId": "1adf2ba8-d5d0-49e7-86e2-843ee2fe3b00"
      },
      "execution_count": 76,
      "outputs": [
        {
          "output_type": "stream",
          "name": "stderr",
          "text": [
            "/usr/local/lib/python3.7/dist-packages/ipykernel_launcher.py:1: FutureWarning: In a future version of pandas all arguments of DataFrame.drop except for the argument 'labels' will be keyword-only\n",
            "  \"\"\"Entry point for launching an IPython kernel.\n"
          ]
        }
      ]
    },
    {
      "cell_type": "code",
      "source": [
        "x_mult_constant = sm.add_constant(df_predictors)"
      ],
      "metadata": {
        "colab": {
          "base_uri": "https://localhost:8080/"
        },
        "id": "ZDnFtAE8XpW6",
        "outputId": "bf6f6d7f-f7e5-4de8-f2a4-5b3cfc5f4eb3"
      },
      "execution_count": 77,
      "outputs": [
        {
          "output_type": "stream",
          "name": "stderr",
          "text": [
            "/usr/local/lib/python3.7/dist-packages/statsmodels/tsa/tsatools.py:117: FutureWarning: In a future version of pandas all arguments of concat except for the argument 'objs' will be keyword-only\n",
            "  x = pd.concat(x[::order], 1)\n"
          ]
        }
      ]
    },
    {
      "cell_type": "code",
      "source": [
        "model = sm.Logit(df_dependent, x_mult_constant).fit()\n",
        "print(model.summary())"
      ],
      "metadata": {
        "colab": {
          "base_uri": "https://localhost:8080/"
        },
        "id": "dnxIVT8DXyaj",
        "outputId": "5c1d9859-b851-4839-9a3c-2faafac7f30b"
      },
      "execution_count": 78,
      "outputs": [
        {
          "output_type": "stream",
          "name": "stdout",
          "text": [
            "Optimization terminated successfully.\n",
            "         Current function value: 0.092566\n",
            "         Iterations 9\n",
            "                           Logit Regression Results                           \n",
            "==============================================================================\n",
            "Dep. Variable:               tollfree   No. Observations:                 1000\n",
            "Model:                          Logit   Df Residuals:                      987\n",
            "Method:                           MLE   Df Model:                           12\n",
            "Date:                Sat, 28 May 2022   Pseudo R-squ.:                  0.8662\n",
            "Time:                        11:57:21   Log-Likelihood:                -92.566\n",
            "converged:                       True   LL-Null:                       -691.79\n",
            "Covariance Type:            nonrobust   LLR p-value:                3.722e-249\n",
            "===================================================================================================\n",
            "                                      coef    std err          z      P>|z|      [0.025      0.975]\n",
            "---------------------------------------------------------------------------------------------------\n",
            "const                              -4.0432      0.955     -4.232      0.000      -5.916      -2.171\n",
            "age                                -0.0068      0.019     -0.361      0.718      -0.044       0.030\n",
            "income                              0.0003      0.002      0.137      0.891      -0.005       0.005\n",
            "tollmon                             0.4033      0.029     13.806      0.000       0.346       0.461\n",
            "region_Zone 2                       0.1568      0.549      0.285      0.775      -0.920       1.233\n",
            "region_Zone 3                       0.1092      0.540      0.202      0.840      -0.950       1.168\n",
            "marital_Unmarried                   0.5247      0.458      1.147      0.251      -0.372       1.421\n",
            "ed_Did not complete high school    -0.3122      0.678     -0.460      0.645      -1.641       1.017\n",
            "ed_High school degree              -0.0472      0.598     -0.079      0.937      -1.220       1.125\n",
            "ed_Post-undergraduate degree       -0.2107      0.950     -0.222      0.824      -2.073       1.652\n",
            "ed_Some college                    -0.3044      0.659     -0.462      0.644      -1.596       0.987\n",
            "gender_Male                         0.4255      0.446      0.955      0.340      -0.448       1.299\n",
            "voice_Yes                           0.3708      0.543      0.683      0.494      -0.693       1.434\n",
            "===================================================================================================\n",
            "\n",
            "Possibly complete quasi-separation: A fraction 0.12 of observations can be\n",
            "perfectly predicted. This might indicate that there is complete\n",
            "quasi-separation. In this case some parameters will not be identified.\n"
          ]
        }
      ]
    },
    {
      "cell_type": "code",
      "source": [
        "print('R^2 = {:f}'.format(model.prsquared))\n",
        "print('Model significance = {:f}'.format(model.llr_pvalue))"
      ],
      "metadata": {
        "colab": {
          "base_uri": "https://localhost:8080/"
        },
        "id": "MdifTkyXX86E",
        "outputId": "36ad1dcc-1f4a-4e67-c463-2f8a7dcdb38a"
      },
      "execution_count": 79,
      "outputs": [
        {
          "output_type": "stream",
          "name": "stdout",
          "text": [
            "R^2 = 0.866194\n",
            "Model significance = 0.000000\n"
          ]
        }
      ]
    },
    {
      "cell_type": "markdown",
      "source": [
        "##### Conclusion:\n",
        "\n",
        "Model is statistically significant at p-value = 0.05 and explains 86.6% of variance of variable 'tollfree'. H1 is rejected at p-value = 0.05"
      ],
      "metadata": {
        "id": "D3PHb0PiYJvi"
      }
    },
    {
      "cell_type": "markdown",
      "source": [
        "#### Hypothesis"
      ],
      "metadata": {
        "id": "iEGgGfAkYSnL"
      }
    },
    {
      "cell_type": "code",
      "source": [
        "count = 0\n",
        "for i in preds:\n",
        "    print('H0_' + str(count) + ': The variable ' + i + 'is statistically significant for the binary regression model constructed for a dependent variable ‘tollfree’')\n",
        "    count += 1\n",
        "\n",
        "print()\n",
        "count = 0\n",
        "for i in preds:\n",
        "    print('H1_' + str(count) + ': The variable ' + i + ' is not statistically significant for the binary regression model constructed for a dependent variable ‘tollfree’')\n",
        "    count += 1\n",
        "\n",
        "print()\n",
        "print('p-value = 0.05')\n"
      ],
      "metadata": {
        "colab": {
          "base_uri": "https://localhost:8080/"
        },
        "id": "-m56MHGjYWid",
        "outputId": "c66f5d9c-c4d4-42cd-a7e2-afbf0be9725f"
      },
      "execution_count": 80,
      "outputs": [
        {
          "output_type": "stream",
          "name": "stdout",
          "text": [
            "H0_0: The variable incomeis statistically significant for the binary regression model constructed for a dependent variable ‘tollfree’\n",
            "H0_1: The variable edis statistically significant for the binary regression model constructed for a dependent variable ‘tollfree’\n",
            "H0_2: The variable genderis statistically significant for the binary regression model constructed for a dependent variable ‘tollfree’\n",
            "H0_3: The variable maritalis statistically significant for the binary regression model constructed for a dependent variable ‘tollfree’\n",
            "H0_4: The variable ageis statistically significant for the binary regression model constructed for a dependent variable ‘tollfree’\n",
            "H0_5: The variable voiceis statistically significant for the binary regression model constructed for a dependent variable ‘tollfree’\n",
            "H0_6: The variable tollmonis statistically significant for the binary regression model constructed for a dependent variable ‘tollfree’\n",
            "H0_7: The variable regionis statistically significant for the binary regression model constructed for a dependent variable ‘tollfree’\n",
            "\n",
            "H1_0: The variable income is not statistically significant for the binary regression model constructed for a dependent variable ‘tollfree’\n",
            "H1_1: The variable ed is not statistically significant for the binary regression model constructed for a dependent variable ‘tollfree’\n",
            "H1_2: The variable gender is not statistically significant for the binary regression model constructed for a dependent variable ‘tollfree’\n",
            "H1_3: The variable marital is not statistically significant for the binary regression model constructed for a dependent variable ‘tollfree’\n",
            "H1_4: The variable age is not statistically significant for the binary regression model constructed for a dependent variable ‘tollfree’\n",
            "H1_5: The variable voice is not statistically significant for the binary regression model constructed for a dependent variable ‘tollfree’\n",
            "H1_6: The variable tollmon is not statistically significant for the binary regression model constructed for a dependent variable ‘tollfree’\n",
            "H1_7: The variable region is not statistically significant for the binary regression model constructed for a dependent variable ‘tollfree’\n",
            "\n",
            "p-value = 0.05\n"
          ]
        }
      ]
    },
    {
      "cell_type": "code",
      "source": [
        "print(f'Statistically significant model parameters: {model.pvalues[model.pvalues < 0.05].index.values}')"
      ],
      "metadata": {
        "colab": {
          "base_uri": "https://localhost:8080/"
        },
        "id": "gsQ4wtXOY0QL",
        "outputId": "4a75dd42-8228-4aca-b404-d5d5bc576695"
      },
      "execution_count": 81,
      "outputs": [
        {
          "output_type": "stream",
          "name": "stdout",
          "text": [
            "Statistically significant model parameters: ['const' 'tollmon']\n"
          ]
        }
      ]
    },
    {
      "cell_type": "code",
      "source": [
        "print(f'Statistically nonsignificant model parameters: {model.pvalues[model.pvalues > 0.05].index.values}')"
      ],
      "metadata": {
        "colab": {
          "base_uri": "https://localhost:8080/"
        },
        "id": "J7z_Em0CZHUg",
        "outputId": "fadfcac2-4c6a-40eb-8679-1fb8b15b2c3d"
      },
      "execution_count": 82,
      "outputs": [
        {
          "output_type": "stream",
          "name": "stdout",
          "text": [
            "Statistically nonsignificant model parameters: ['age' 'income' 'region_Zone 2' 'region_Zone 3' 'marital_Unmarried'\n",
            " 'ed_Did not complete high school' 'ed_High school degree'\n",
            " 'ed_Post-undergraduate degree' 'ed_Some college' 'gender_Male'\n",
            " 'voice_Yes']\n"
          ]
        }
      ]
    },
    {
      "cell_type": "markdown",
      "source": [
        "#### Conclusion"
      ],
      "metadata": {
        "id": "YPoeWF1QaRqz"
      }
    },
    {
      "cell_type": "markdown",
      "source": [
        "Tollmon is statistically significant. Thus, H1_6 is accepted at p-value = 0.05, H1_1, H1_2, H1_3, H1_4, H1_5 and H1_7 are rejected."
      ],
      "metadata": {
        "id": "wtA15TDnaTVh"
      }
    },
    {
      "cell_type": "markdown",
      "source": [
        "## Regression coefs"
      ],
      "metadata": {
        "id": "zlfuRjw4bOxh"
      }
    },
    {
      "cell_type": "code",
      "source": [
        "l = []\n",
        "for (param, index) in zip(model.params[1:], model.params.index[1:]):\n",
        "    l.append('{:.2f}*{}'.format(param, index))\n",
        "\n",
        "print('logit(p) = {:2f} + {}'.format(model.params[0], ' + '.join(l)))"
      ],
      "metadata": {
        "colab": {
          "base_uri": "https://localhost:8080/"
        },
        "id": "1zc3m16XbP9k",
        "outputId": "470498f9-5657-4879-df03-ea64ced78661"
      },
      "execution_count": 83,
      "outputs": [
        {
          "output_type": "stream",
          "name": "stdout",
          "text": [
            "logit(p) = -4.043158 + -0.01*age + 0.00*income + 0.40*tollmon + 0.16*region_Zone 2 + 0.11*region_Zone 3 + 0.52*marital_Unmarried + -0.31*ed_Did not complete high school + -0.05*ed_High school degree + -0.21*ed_Post-undergraduate degree + -0.30*ed_Some college + 0.43*gender_Male + 0.37*voice_Yes\n"
          ]
        }
      ]
    },
    {
      "cell_type": "markdown",
      "source": [
        "## Coefs"
      ],
      "metadata": {
        "id": "i-TFrwpLbUBp"
      }
    },
    {
      "cell_type": "code",
      "source": [
        "coefs = pd.DataFrame()\n",
        "coefs['Coefs'] = model.params[1:]\n",
        "coefs['Features'] = model.params.index[1:]\n",
        "coefs.set_index('Features', inplace=True)\n",
        "print('Intercept = ', model.params[0])\n",
        "coefs"
      ],
      "metadata": {
        "colab": {
          "base_uri": "https://localhost:8080/",
          "height": 469
        },
        "id": "oVSunbCnbVSN",
        "outputId": "3a4b0e33-9442-416e-cc23-f82f4029c159"
      },
      "execution_count": 84,
      "outputs": [
        {
          "output_type": "stream",
          "name": "stdout",
          "text": [
            "Intercept =  -4.043157501680763\n"
          ]
        },
        {
          "output_type": "execute_result",
          "data": {
            "text/plain": [
              "                                    Coefs\n",
              "Features                                 \n",
              "age                             -0.006849\n",
              "income                           0.000340\n",
              "tollmon                          0.403304\n",
              "region_Zone 2                    0.156789\n",
              "region_Zone 3                    0.109229\n",
              "marital_Unmarried                0.524725\n",
              "ed_Did not complete high school -0.312184\n",
              "ed_High school degree           -0.047197\n",
              "ed_Post-undergraduate degree    -0.210736\n",
              "ed_Some college                 -0.304439\n",
              "gender_Male                      0.425485\n",
              "voice_Yes                        0.370782"
            ],
            "text/html": [
              "\n",
              "  <div id=\"df-07ab583d-aea0-4d8a-bd73-069a395b25d7\">\n",
              "    <div class=\"colab-df-container\">\n",
              "      <div>\n",
              "<style scoped>\n",
              "    .dataframe tbody tr th:only-of-type {\n",
              "        vertical-align: middle;\n",
              "    }\n",
              "\n",
              "    .dataframe tbody tr th {\n",
              "        vertical-align: top;\n",
              "    }\n",
              "\n",
              "    .dataframe thead th {\n",
              "        text-align: right;\n",
              "    }\n",
              "</style>\n",
              "<table border=\"1\" class=\"dataframe\">\n",
              "  <thead>\n",
              "    <tr style=\"text-align: right;\">\n",
              "      <th></th>\n",
              "      <th>Coefs</th>\n",
              "    </tr>\n",
              "    <tr>\n",
              "      <th>Features</th>\n",
              "      <th></th>\n",
              "    </tr>\n",
              "  </thead>\n",
              "  <tbody>\n",
              "    <tr>\n",
              "      <th>age</th>\n",
              "      <td>-0.006849</td>\n",
              "    </tr>\n",
              "    <tr>\n",
              "      <th>income</th>\n",
              "      <td>0.000340</td>\n",
              "    </tr>\n",
              "    <tr>\n",
              "      <th>tollmon</th>\n",
              "      <td>0.403304</td>\n",
              "    </tr>\n",
              "    <tr>\n",
              "      <th>region_Zone 2</th>\n",
              "      <td>0.156789</td>\n",
              "    </tr>\n",
              "    <tr>\n",
              "      <th>region_Zone 3</th>\n",
              "      <td>0.109229</td>\n",
              "    </tr>\n",
              "    <tr>\n",
              "      <th>marital_Unmarried</th>\n",
              "      <td>0.524725</td>\n",
              "    </tr>\n",
              "    <tr>\n",
              "      <th>ed_Did not complete high school</th>\n",
              "      <td>-0.312184</td>\n",
              "    </tr>\n",
              "    <tr>\n",
              "      <th>ed_High school degree</th>\n",
              "      <td>-0.047197</td>\n",
              "    </tr>\n",
              "    <tr>\n",
              "      <th>ed_Post-undergraduate degree</th>\n",
              "      <td>-0.210736</td>\n",
              "    </tr>\n",
              "    <tr>\n",
              "      <th>ed_Some college</th>\n",
              "      <td>-0.304439</td>\n",
              "    </tr>\n",
              "    <tr>\n",
              "      <th>gender_Male</th>\n",
              "      <td>0.425485</td>\n",
              "    </tr>\n",
              "    <tr>\n",
              "      <th>voice_Yes</th>\n",
              "      <td>0.370782</td>\n",
              "    </tr>\n",
              "  </tbody>\n",
              "</table>\n",
              "</div>\n",
              "      <button class=\"colab-df-convert\" onclick=\"convertToInteractive('df-07ab583d-aea0-4d8a-bd73-069a395b25d7')\"\n",
              "              title=\"Convert this dataframe to an interactive table.\"\n",
              "              style=\"display:none;\">\n",
              "        \n",
              "  <svg xmlns=\"http://www.w3.org/2000/svg\" height=\"24px\"viewBox=\"0 0 24 24\"\n",
              "       width=\"24px\">\n",
              "    <path d=\"M0 0h24v24H0V0z\" fill=\"none\"/>\n",
              "    <path d=\"M18.56 5.44l.94 2.06.94-2.06 2.06-.94-2.06-.94-.94-2.06-.94 2.06-2.06.94zm-11 1L8.5 8.5l.94-2.06 2.06-.94-2.06-.94L8.5 2.5l-.94 2.06-2.06.94zm10 10l.94 2.06.94-2.06 2.06-.94-2.06-.94-.94-2.06-.94 2.06-2.06.94z\"/><path d=\"M17.41 7.96l-1.37-1.37c-.4-.4-.92-.59-1.43-.59-.52 0-1.04.2-1.43.59L10.3 9.45l-7.72 7.72c-.78.78-.78 2.05 0 2.83L4 21.41c.39.39.9.59 1.41.59.51 0 1.02-.2 1.41-.59l7.78-7.78 2.81-2.81c.8-.78.8-2.07 0-2.86zM5.41 20L4 18.59l7.72-7.72 1.47 1.35L5.41 20z\"/>\n",
              "  </svg>\n",
              "      </button>\n",
              "      \n",
              "  <style>\n",
              "    .colab-df-container {\n",
              "      display:flex;\n",
              "      flex-wrap:wrap;\n",
              "      gap: 12px;\n",
              "    }\n",
              "\n",
              "    .colab-df-convert {\n",
              "      background-color: #E8F0FE;\n",
              "      border: none;\n",
              "      border-radius: 50%;\n",
              "      cursor: pointer;\n",
              "      display: none;\n",
              "      fill: #1967D2;\n",
              "      height: 32px;\n",
              "      padding: 0 0 0 0;\n",
              "      width: 32px;\n",
              "    }\n",
              "\n",
              "    .colab-df-convert:hover {\n",
              "      background-color: #E2EBFA;\n",
              "      box-shadow: 0px 1px 2px rgba(60, 64, 67, 0.3), 0px 1px 3px 1px rgba(60, 64, 67, 0.15);\n",
              "      fill: #174EA6;\n",
              "    }\n",
              "\n",
              "    [theme=dark] .colab-df-convert {\n",
              "      background-color: #3B4455;\n",
              "      fill: #D2E3FC;\n",
              "    }\n",
              "\n",
              "    [theme=dark] .colab-df-convert:hover {\n",
              "      background-color: #434B5C;\n",
              "      box-shadow: 0px 1px 3px 1px rgba(0, 0, 0, 0.15);\n",
              "      filter: drop-shadow(0px 1px 2px rgba(0, 0, 0, 0.3));\n",
              "      fill: #FFFFFF;\n",
              "    }\n",
              "  </style>\n",
              "\n",
              "      <script>\n",
              "        const buttonEl =\n",
              "          document.querySelector('#df-07ab583d-aea0-4d8a-bd73-069a395b25d7 button.colab-df-convert');\n",
              "        buttonEl.style.display =\n",
              "          google.colab.kernel.accessAllowed ? 'block' : 'none';\n",
              "\n",
              "        async function convertToInteractive(key) {\n",
              "          const element = document.querySelector('#df-07ab583d-aea0-4d8a-bd73-069a395b25d7');\n",
              "          const dataTable =\n",
              "            await google.colab.kernel.invokeFunction('convertToInteractive',\n",
              "                                                     [key], {});\n",
              "          if (!dataTable) return;\n",
              "\n",
              "          const docLinkHtml = 'Like what you see? Visit the ' +\n",
              "            '<a target=\"_blank\" href=https://colab.research.google.com/notebooks/data_table.ipynb>data table notebook</a>'\n",
              "            + ' to learn more about interactive tables.';\n",
              "          element.innerHTML = '';\n",
              "          dataTable['output_type'] = 'display_data';\n",
              "          await google.colab.output.renderOutput(dataTable, element);\n",
              "          const docLink = document.createElement('div');\n",
              "          docLink.innerHTML = docLinkHtml;\n",
              "          element.appendChild(docLink);\n",
              "        }\n",
              "      </script>\n",
              "    </div>\n",
              "  </div>\n",
              "  "
            ]
          },
          "metadata": {},
          "execution_count": 84
        }
      ]
    },
    {
      "cell_type": "code",
      "source": [
        "coefs['OddsRatio'] = np.exp(coefs.Coefs)\n",
        "coefs"
      ],
      "metadata": {
        "colab": {
          "base_uri": "https://localhost:8080/",
          "height": 452
        },
        "id": "vh8V-2z4bYLo",
        "outputId": "7c6553ad-7fa3-4c18-88cb-a84843fb53af"
      },
      "execution_count": 85,
      "outputs": [
        {
          "output_type": "execute_result",
          "data": {
            "text/plain": [
              "                                    Coefs  OddsRatio\n",
              "Features                                            \n",
              "age                             -0.006849   0.993175\n",
              "income                           0.000340   1.000340\n",
              "tollmon                          0.403304   1.496762\n",
              "region_Zone 2                    0.156789   1.169748\n",
              "region_Zone 3                    0.109229   1.115418\n",
              "marital_Unmarried                0.524725   1.689994\n",
              "ed_Did not complete high school -0.312184   0.731847\n",
              "ed_High school degree           -0.047197   0.953900\n",
              "ed_Post-undergraduate degree    -0.210736   0.809988\n",
              "ed_Some college                 -0.304439   0.737537\n",
              "gender_Male                      0.425485   1.530333\n",
              "voice_Yes                        0.370782   1.448868"
            ],
            "text/html": [
              "\n",
              "  <div id=\"df-ec3c9450-adf5-41dc-a06b-37bf9a95d133\">\n",
              "    <div class=\"colab-df-container\">\n",
              "      <div>\n",
              "<style scoped>\n",
              "    .dataframe tbody tr th:only-of-type {\n",
              "        vertical-align: middle;\n",
              "    }\n",
              "\n",
              "    .dataframe tbody tr th {\n",
              "        vertical-align: top;\n",
              "    }\n",
              "\n",
              "    .dataframe thead th {\n",
              "        text-align: right;\n",
              "    }\n",
              "</style>\n",
              "<table border=\"1\" class=\"dataframe\">\n",
              "  <thead>\n",
              "    <tr style=\"text-align: right;\">\n",
              "      <th></th>\n",
              "      <th>Coefs</th>\n",
              "      <th>OddsRatio</th>\n",
              "    </tr>\n",
              "    <tr>\n",
              "      <th>Features</th>\n",
              "      <th></th>\n",
              "      <th></th>\n",
              "    </tr>\n",
              "  </thead>\n",
              "  <tbody>\n",
              "    <tr>\n",
              "      <th>age</th>\n",
              "      <td>-0.006849</td>\n",
              "      <td>0.993175</td>\n",
              "    </tr>\n",
              "    <tr>\n",
              "      <th>income</th>\n",
              "      <td>0.000340</td>\n",
              "      <td>1.000340</td>\n",
              "    </tr>\n",
              "    <tr>\n",
              "      <th>tollmon</th>\n",
              "      <td>0.403304</td>\n",
              "      <td>1.496762</td>\n",
              "    </tr>\n",
              "    <tr>\n",
              "      <th>region_Zone 2</th>\n",
              "      <td>0.156789</td>\n",
              "      <td>1.169748</td>\n",
              "    </tr>\n",
              "    <tr>\n",
              "      <th>region_Zone 3</th>\n",
              "      <td>0.109229</td>\n",
              "      <td>1.115418</td>\n",
              "    </tr>\n",
              "    <tr>\n",
              "      <th>marital_Unmarried</th>\n",
              "      <td>0.524725</td>\n",
              "      <td>1.689994</td>\n",
              "    </tr>\n",
              "    <tr>\n",
              "      <th>ed_Did not complete high school</th>\n",
              "      <td>-0.312184</td>\n",
              "      <td>0.731847</td>\n",
              "    </tr>\n",
              "    <tr>\n",
              "      <th>ed_High school degree</th>\n",
              "      <td>-0.047197</td>\n",
              "      <td>0.953900</td>\n",
              "    </tr>\n",
              "    <tr>\n",
              "      <th>ed_Post-undergraduate degree</th>\n",
              "      <td>-0.210736</td>\n",
              "      <td>0.809988</td>\n",
              "    </tr>\n",
              "    <tr>\n",
              "      <th>ed_Some college</th>\n",
              "      <td>-0.304439</td>\n",
              "      <td>0.737537</td>\n",
              "    </tr>\n",
              "    <tr>\n",
              "      <th>gender_Male</th>\n",
              "      <td>0.425485</td>\n",
              "      <td>1.530333</td>\n",
              "    </tr>\n",
              "    <tr>\n",
              "      <th>voice_Yes</th>\n",
              "      <td>0.370782</td>\n",
              "      <td>1.448868</td>\n",
              "    </tr>\n",
              "  </tbody>\n",
              "</table>\n",
              "</div>\n",
              "      <button class=\"colab-df-convert\" onclick=\"convertToInteractive('df-ec3c9450-adf5-41dc-a06b-37bf9a95d133')\"\n",
              "              title=\"Convert this dataframe to an interactive table.\"\n",
              "              style=\"display:none;\">\n",
              "        \n",
              "  <svg xmlns=\"http://www.w3.org/2000/svg\" height=\"24px\"viewBox=\"0 0 24 24\"\n",
              "       width=\"24px\">\n",
              "    <path d=\"M0 0h24v24H0V0z\" fill=\"none\"/>\n",
              "    <path d=\"M18.56 5.44l.94 2.06.94-2.06 2.06-.94-2.06-.94-.94-2.06-.94 2.06-2.06.94zm-11 1L8.5 8.5l.94-2.06 2.06-.94-2.06-.94L8.5 2.5l-.94 2.06-2.06.94zm10 10l.94 2.06.94-2.06 2.06-.94-2.06-.94-.94-2.06-.94 2.06-2.06.94z\"/><path d=\"M17.41 7.96l-1.37-1.37c-.4-.4-.92-.59-1.43-.59-.52 0-1.04.2-1.43.59L10.3 9.45l-7.72 7.72c-.78.78-.78 2.05 0 2.83L4 21.41c.39.39.9.59 1.41.59.51 0 1.02-.2 1.41-.59l7.78-7.78 2.81-2.81c.8-.78.8-2.07 0-2.86zM5.41 20L4 18.59l7.72-7.72 1.47 1.35L5.41 20z\"/>\n",
              "  </svg>\n",
              "      </button>\n",
              "      \n",
              "  <style>\n",
              "    .colab-df-container {\n",
              "      display:flex;\n",
              "      flex-wrap:wrap;\n",
              "      gap: 12px;\n",
              "    }\n",
              "\n",
              "    .colab-df-convert {\n",
              "      background-color: #E8F0FE;\n",
              "      border: none;\n",
              "      border-radius: 50%;\n",
              "      cursor: pointer;\n",
              "      display: none;\n",
              "      fill: #1967D2;\n",
              "      height: 32px;\n",
              "      padding: 0 0 0 0;\n",
              "      width: 32px;\n",
              "    }\n",
              "\n",
              "    .colab-df-convert:hover {\n",
              "      background-color: #E2EBFA;\n",
              "      box-shadow: 0px 1px 2px rgba(60, 64, 67, 0.3), 0px 1px 3px 1px rgba(60, 64, 67, 0.15);\n",
              "      fill: #174EA6;\n",
              "    }\n",
              "\n",
              "    [theme=dark] .colab-df-convert {\n",
              "      background-color: #3B4455;\n",
              "      fill: #D2E3FC;\n",
              "    }\n",
              "\n",
              "    [theme=dark] .colab-df-convert:hover {\n",
              "      background-color: #434B5C;\n",
              "      box-shadow: 0px 1px 3px 1px rgba(0, 0, 0, 0.15);\n",
              "      filter: drop-shadow(0px 1px 2px rgba(0, 0, 0, 0.3));\n",
              "      fill: #FFFFFF;\n",
              "    }\n",
              "  </style>\n",
              "\n",
              "      <script>\n",
              "        const buttonEl =\n",
              "          document.querySelector('#df-ec3c9450-adf5-41dc-a06b-37bf9a95d133 button.colab-df-convert');\n",
              "        buttonEl.style.display =\n",
              "          google.colab.kernel.accessAllowed ? 'block' : 'none';\n",
              "\n",
              "        async function convertToInteractive(key) {\n",
              "          const element = document.querySelector('#df-ec3c9450-adf5-41dc-a06b-37bf9a95d133');\n",
              "          const dataTable =\n",
              "            await google.colab.kernel.invokeFunction('convertToInteractive',\n",
              "                                                     [key], {});\n",
              "          if (!dataTable) return;\n",
              "\n",
              "          const docLinkHtml = 'Like what you see? Visit the ' +\n",
              "            '<a target=\"_blank\" href=https://colab.research.google.com/notebooks/data_table.ipynb>data table notebook</a>'\n",
              "            + ' to learn more about interactive tables.';\n",
              "          element.innerHTML = '';\n",
              "          dataTable['output_type'] = 'display_data';\n",
              "          await google.colab.output.renderOutput(dataTable, element);\n",
              "          const docLink = document.createElement('div');\n",
              "          docLink.innerHTML = docLinkHtml;\n",
              "          element.appendChild(docLink);\n",
              "        }\n",
              "      </script>\n",
              "    </div>\n",
              "  </div>\n",
              "  "
            ]
          },
          "metadata": {},
          "execution_count": 85
        }
      ]
    },
    {
      "cell_type": "markdown",
      "source": [
        "Statistically significant model parameters: [tollmon].\n",
        "\n",
        "Description for them (odds = odds to deposit subscription):\n",
        "\n",
        "- Increase in tollmon by one => increase the odds by 50%"
      ],
      "metadata": {
        "id": "jo0_6iRGb8at"
      }
    },
    {
      "cell_type": "markdown",
      "source": [
        "## Confusion matrix"
      ],
      "metadata": {
        "id": "XDXJ0i7ncm0G"
      }
    },
    {
      "cell_type": "code",
      "source": [
        "cm = model.pred_table()\n",
        "cm"
      ],
      "metadata": {
        "colab": {
          "base_uri": "https://localhost:8080/"
        },
        "id": "zX6sAuthcpIz",
        "outputId": "54b7a131-5c7d-4d72-de31-54088b4549ea"
      },
      "execution_count": 86,
      "outputs": [
        {
          "output_type": "execute_result",
          "data": {
            "text/plain": [
              "array([[525.,   1.],\n",
              "       [  1., 473.]])"
            ]
          },
          "metadata": {},
          "execution_count": 86
        }
      ]
    },
    {
      "cell_type": "code",
      "source": [
        "print('TP: {} | FN: {}\\n-------------------\\nFP: {}  | TN: {}'.format(cm[0,0], cm[0,1], cm[1,0], cm[1,1]))"
      ],
      "metadata": {
        "colab": {
          "base_uri": "https://localhost:8080/"
        },
        "id": "RKLhLe-QcqTx",
        "outputId": "e7f52577-8527-48a5-a6d1-d511a6bd21c6"
      },
      "execution_count": 87,
      "outputs": [
        {
          "output_type": "stream",
          "name": "stdout",
          "text": [
            "TP: 525.0 | FN: 1.0\n",
            "-------------------\n",
            "FP: 1.0  | TN: 473.0\n"
          ]
        }
      ]
    },
    {
      "cell_type": "code",
      "source": [
        "accuracy = (cm[0,0] + cm[1,1]) / sum(sum(cm))\n",
        "print('Accuracy: {}'.format(accuracy))"
      ],
      "metadata": {
        "colab": {
          "base_uri": "https://localhost:8080/"
        },
        "id": "BBUl8ZG7crc1",
        "outputId": "c2c8c7a1-b20d-432d-dac1-8cf10ad8855b"
      },
      "execution_count": 88,
      "outputs": [
        {
          "output_type": "stream",
          "name": "stdout",
          "text": [
            "Accuracy: 0.998\n"
          ]
        }
      ]
    },
    {
      "cell_type": "markdown",
      "source": [
        "Accuracy rate for the model is greater than 0.99 which means that models fits the data very well."
      ],
      "metadata": {
        "id": "Yg0uym3uctHM"
      }
    },
    {
      "cell_type": "markdown",
      "source": [
        "## ROC-curve"
      ],
      "metadata": {
        "id": "ax22pYyYcvp3"
      }
    },
    {
      "cell_type": "code",
      "source": [
        "fpr, tpr, _ = roc_curve(df_dependent, model.predict())\n",
        "roc_auc = auc(fpr, tpr)"
      ],
      "metadata": {
        "id": "ChtQzzK4cwuU"
      },
      "execution_count": 89,
      "outputs": []
    },
    {
      "cell_type": "code",
      "source": [
        "plt.plot(fpr, tpr, color='darkorange', lw=2, label='ROC curve (area = %0.2f)' % roc_auc)\n",
        "plt.plot([0, 1], [0, 1], color='navy', lw=2, linestyle='--')\n",
        "plt.xlim([0.0, 1.0])\n",
        "plt.ylim([0.0, 1.05])\n",
        "plt.xlabel('False Positive Rate')\n",
        "plt.ylabel('True Positive Rate')\n",
        "plt.legend(loc='lower right')\n",
        "plt.show()"
      ],
      "metadata": {
        "colab": {
          "base_uri": "https://localhost:8080/",
          "height": 279
        },
        "id": "ddMxA4NNc3xu",
        "outputId": "50b51e4d-1c87-408c-fa51-25c0e057143b"
      },
      "execution_count": 90,
      "outputs": [
        {
          "output_type": "display_data",
          "data": {
            "text/plain": [
              "<Figure size 432x288 with 1 Axes>"
            ],
            "image/png": "[encoded data removed]"
          },
          "metadata": {
            "needs_background": "light"
          }
        }
      ]
    },
    {
      "cell_type": "markdown",
      "source": [
        "## Residuals\n",
        "\n",
        "H1: The distribution of residuals is different from the normal distribution\n",
        "\n",
        "H0: The distribution of residuals is not different from the normal distribution\n",
        "\n",
        "p-value = 0.05"
      ],
      "metadata": {
        "id": "OUjISaTcdFI0"
      }
    },
    {
      "cell_type": "code",
      "source": [
        "p = stats.kstest(model.resid_generalized, 'norm', args=(model.resid_generalized.mean(), model.resid_generalized.std())).pvalue\n",
        "print('P-value: {:.3f}'.format(p))"
      ],
      "metadata": {
        "colab": {
          "base_uri": "https://localhost:8080/"
        },
        "id": "uKi-XM39dGuA",
        "outputId": "0500c255-ebdf-4e9c-be08-cbfa7222a6e8"
      },
      "execution_count": 91,
      "outputs": [
        {
          "output_type": "stream",
          "name": "stdout",
          "text": [
            "P-value: 0.000\n"
          ]
        }
      ]
    },
    {
      "cell_type": "code",
      "source": [
        "sns.distplot(model.resid_generalized, fit=stats.norm)"
      ],
      "metadata": {
        "colab": {
          "base_uri": "https://localhost:8080/",
          "height": 336
        },
        "id": "WIfX7JdtdH5U",
        "outputId": "e4c2f3fe-dc0a-4502-d043-34e9bee128a8"
      },
      "execution_count": 92,
      "outputs": [
        {
          "output_type": "stream",
          "name": "stderr",
          "text": [
            "/usr/local/lib/python3.7/dist-packages/seaborn/distributions.py:2619: FutureWarning: `distplot` is a deprecated function and will be removed in a future version. Please adapt your code to use either `displot` (a figure-level function with similar flexibility) or `histplot` (an axes-level function for histograms).\n",
            "  warnings.warn(msg, FutureWarning)\n"
          ]
        },
        {
          "output_type": "execute_result",
          "data": {
            "text/plain": [
              "<matplotlib.axes._subplots.AxesSubplot at 0x7f6035ebc6d0>"
            ]
          },
          "metadata": {},
          "execution_count": 92
        },
        {
          "output_type": "display_data",
          "data": {
            "text/plain": [
              "<Figure size 432x288 with 1 Axes>"
            ],
            "image/png": "[encoded data removed]"
          },
          "metadata": {
            "needs_background": "light"
          }
        }
      ]
    },
    {
      "cell_type": "markdown",
      "source": [
        "##### Conclusion:\n",
        "\n",
        "H1 is accepted at p-value = 0.05 : residuals significantly differ from the normal distribution."
      ],
      "metadata": {
        "id": "KZaRdzaIdJ-Q"
      }
    },
    {
      "cell_type": "markdown",
      "source": [
        "## Multicollinearity\n",
        "\n",
        "Multicollinearity can be checked to find any strong correlations between predictors"
      ],
      "metadata": {
        "id": "lOcq4RvHdLlF"
      }
    },
    {
      "cell_type": "code",
      "source": [
        "vifs = np.array([vif(model.model.exog, i) for i in range(model.model.exog.shape[1])])"
      ],
      "metadata": {
        "id": "lZtyoT20dMmG"
      },
      "execution_count": 93,
      "outputs": []
    },
    {
      "cell_type": "code",
      "source": [
        "vif_df = pd.DataFrame()\n",
        "vif_df['VIF'] = vifs[1:]\n",
        "vif_df['Features'] = model.params.index[1:]\n",
        "vif_df.sort_values(by=['VIF'])"
      ],
      "metadata": {
        "colab": {
          "base_uri": "https://localhost:8080/",
          "height": 421
        },
        "id": "t6YPvlpqdNsA",
        "outputId": "cf27dcfd-9c7b-4c08-c15c-1b2f49b56e5c"
      },
      "execution_count": 94,
      "outputs": [
        {
          "output_type": "execute_result",
          "data": {
            "text/plain": [
              "         VIF                         Features\n",
              "10  1.009396                      gender_Male\n",
              "5   1.020334                marital_Unmarried\n",
              "1   1.189571                           income\n",
              "0   1.203030                              age\n",
              "2   1.207209                          tollmon\n",
              "8   1.222524     ed_Post-undergraduate degree\n",
              "11  1.281727                        voice_Yes\n",
              "4   1.377678                    region_Zone 3\n",
              "3   1.392103                    region_Zone 2\n",
              "9   1.526504                  ed_Some college\n",
              "7   1.669547            ed_High school degree\n",
              "6   1.672245  ed_Did not complete high school"
            ],
            "text/html": [
              "\n",
              "  <div id=\"df-6abfa87b-431a-4039-95a9-8c3ac0a327f3\">\n",
              "    <div class=\"colab-df-container\">\n",
              "      <div>\n",
              "<style scoped>\n",
              "    .dataframe tbody tr th:only-of-type {\n",
              "        vertical-align: middle;\n",
              "    }\n",
              "\n",
              "    .dataframe tbody tr th {\n",
              "        vertical-align: top;\n",
              "    }\n",
              "\n",
              "    .dataframe thead th {\n",
              "        text-align: right;\n",
              "    }\n",
              "</style>\n",
              "<table border=\"1\" class=\"dataframe\">\n",
              "  <thead>\n",
              "    <tr style=\"text-align: right;\">\n",
              "      <th></th>\n",
              "      <th>VIF</th>\n",
              "      <th>Features</th>\n",
              "    </tr>\n",
              "  </thead>\n",
              "  <tbody>\n",
              "    <tr>\n",
              "      <th>10</th>\n",
              "      <td>1.009396</td>\n",
              "      <td>gender_Male</td>\n",
              "    </tr>\n",
              "    <tr>\n",
              "      <th>5</th>\n",
              "      <td>1.020334</td>\n",
              "      <td>marital_Unmarried</td>\n",
              "    </tr>\n",
              "    <tr>\n",
              "      <th>1</th>\n",
              "      <td>1.189571</td>\n",
              "      <td>income</td>\n",
              "    </tr>\n",
              "    <tr>\n",
              "      <th>0</th>\n",
              "      <td>1.203030</td>\n",
              "      <td>age</td>\n",
              "    </tr>\n",
              "    <tr>\n",
              "      <th>2</th>\n",
              "      <td>1.207209</td>\n",
              "      <td>tollmon</td>\n",
              "    </tr>\n",
              "    <tr>\n",
              "      <th>8</th>\n",
              "      <td>1.222524</td>\n",
              "      <td>ed_Post-undergraduate degree</td>\n",
              "    </tr>\n",
              "    <tr>\n",
              "      <th>11</th>\n",
              "      <td>1.281727</td>\n",
              "      <td>voice_Yes</td>\n",
              "    </tr>\n",
              "    <tr>\n",
              "      <th>4</th>\n",
              "      <td>1.377678</td>\n",
              "      <td>region_Zone 3</td>\n",
              "    </tr>\n",
              "    <tr>\n",
              "      <th>3</th>\n",
              "      <td>1.392103</td>\n",
              "      <td>region_Zone 2</td>\n",
              "    </tr>\n",
              "    <tr>\n",
              "      <th>9</th>\n",
              "      <td>1.526504</td>\n",
              "      <td>ed_Some college</td>\n",
              "    </tr>\n",
              "    <tr>\n",
              "      <th>7</th>\n",
              "      <td>1.669547</td>\n",
              "      <td>ed_High school degree</td>\n",
              "    </tr>\n",
              "    <tr>\n",
              "      <th>6</th>\n",
              "      <td>1.672245</td>\n",
              "      <td>ed_Did not complete high school</td>\n",
              "    </tr>\n",
              "  </tbody>\n",
              "</table>\n",
              "</div>\n",
              "      <button class=\"colab-df-convert\" onclick=\"convertToInteractive('df-6abfa87b-431a-4039-95a9-8c3ac0a327f3')\"\n",
              "              title=\"Convert this dataframe to an interactive table.\"\n",
              "              style=\"display:none;\">\n",
              "        \n",
              "  <svg xmlns=\"http://www.w3.org/2000/svg\" height=\"24px\"viewBox=\"0 0 24 24\"\n",
              "       width=\"24px\">\n",
              "    <path d=\"M0 0h24v24H0V0z\" fill=\"none\"/>\n",
              "    <path d=\"M18.56 5.44l.94 2.06.94-2.06 2.06-.94-2.06-.94-.94-2.06-.94 2.06-2.06.94zm-11 1L8.5 8.5l.94-2.06 2.06-.94-2.06-.94L8.5 2.5l-.94 2.06-2.06.94zm10 10l.94 2.06.94-2.06 2.06-.94-2.06-.94-.94-2.06-.94 2.06-2.06.94z\"/><path d=\"M17.41 7.96l-1.37-1.37c-.4-.4-.92-.59-1.43-.59-.52 0-1.04.2-1.43.59L10.3 9.45l-7.72 7.72c-.78.78-.78 2.05 0 2.83L4 21.41c.39.39.9.59 1.41.59.51 0 1.02-.2 1.41-.59l7.78-7.78 2.81-2.81c.8-.78.8-2.07 0-2.86zM5.41 20L4 18.59l7.72-7.72 1.47 1.35L5.41 20z\"/>\n",
              "  </svg>\n",
              "      </button>\n",
              "      \n",
              "  <style>\n",
              "    .colab-df-container {\n",
              "      display:flex;\n",
              "      flex-wrap:wrap;\n",
              "      gap: 12px;\n",
              "    }\n",
              "\n",
              "    .colab-df-convert {\n",
              "      background-color: #E8F0FE;\n",
              "      border: none;\n",
              "      border-radius: 50%;\n",
              "      cursor: pointer;\n",
              "      display: none;\n",
              "      fill: #1967D2;\n",
              "      height: 32px;\n",
              "      padding: 0 0 0 0;\n",
              "      width: 32px;\n",
              "    }\n",
              "\n",
              "    .colab-df-convert:hover {\n",
              "      background-color: #E2EBFA;\n",
              "      box-shadow: 0px 1px 2px rgba(60, 64, 67, 0.3), 0px 1px 3px 1px rgba(60, 64, 67, 0.15);\n",
              "      fill: #174EA6;\n",
              "    }\n",
              "\n",
              "    [theme=dark] .colab-df-convert {\n",
              "      background-color: #3B4455;\n",
              "      fill: #D2E3FC;\n",
              "    }\n",
              "\n",
              "    [theme=dark] .colab-df-convert:hover {\n",
              "      background-color: #434B5C;\n",
              "      box-shadow: 0px 1px 3px 1px rgba(0, 0, 0, 0.15);\n",
              "      filter: drop-shadow(0px 1px 2px rgba(0, 0, 0, 0.3));\n",
              "      fill: #FFFFFF;\n",
              "    }\n",
              "  </style>\n",
              "\n",
              "      <script>\n",
              "        const buttonEl =\n",
              "          document.querySelector('#df-6abfa87b-431a-4039-95a9-8c3ac0a327f3 button.colab-df-convert');\n",
              "        buttonEl.style.display =\n",
              "          google.colab.kernel.accessAllowed ? 'block' : 'none';\n",
              "\n",
              "        async function convertToInteractive(key) {\n",
              "          const element = document.querySelector('#df-6abfa87b-431a-4039-95a9-8c3ac0a327f3');\n",
              "          const dataTable =\n",
              "            await google.colab.kernel.invokeFunction('convertToInteractive',\n",
              "                                                     [key], {});\n",
              "          if (!dataTable) return;\n",
              "\n",
              "          const docLinkHtml = 'Like what you see? Visit the ' +\n",
              "            '<a target=\"_blank\" href=https://colab.research.google.com/notebooks/data_table.ipynb>data table notebook</a>'\n",
              "            + ' to learn more about interactive tables.';\n",
              "          element.innerHTML = '';\n",
              "          dataTable['output_type'] = 'display_data';\n",
              "          await google.colab.output.renderOutput(dataTable, element);\n",
              "          const docLink = document.createElement('div');\n",
              "          docLink.innerHTML = docLinkHtml;\n",
              "          element.appendChild(docLink);\n",
              "        }\n",
              "      </script>\n",
              "    </div>\n",
              "  </div>\n",
              "  "
            ]
          },
          "metadata": {},
          "execution_count": 94
        }
      ]
    },
    {
      "cell_type": "markdown",
      "source": [
        "## Saving probability of tollfree to the source dataframe:"
      ],
      "metadata": {
        "id": "vHVlIjtVdVMp"
      }
    },
    {
      "cell_type": "code",
      "source": [
        "df['probability'] = model.predict()\n",
        "df"
      ],
      "metadata": {
        "colab": {
          "base_uri": "https://localhost:8080/",
          "height": 704
        },
        "id": "mq7pqJLhdWO0",
        "outputId": "70c9468b-4737-42cf-e0f5-73b4e9ad4b15"
      },
      "execution_count": 95,
      "outputs": [
        {
          "output_type": "execute_result",
          "data": {
            "text/plain": [
              "     region  tenure  age    marital  address  income  \\\n",
              "0    Zone 2      13   44    Married        9      64   \n",
              "1    Zone 3      11   33    Married        7     136   \n",
              "2    Zone 3      68   52    Married       24     116   \n",
              "3    Zone 2      33   33  Unmarried       12      33   \n",
              "4    Zone 2      23   30    Married        9      30   \n",
              "..      ...     ...  ...        ...      ...     ...   \n",
              "995  Zone 3      10   39  Unmarried        0      27   \n",
              "996  Zone 1       7   34  Unmarried        2      22   \n",
              "997  Zone 3      67   59  Unmarried       40     944   \n",
              "998  Zone 3      70   49  Unmarried       18      87   \n",
              "999  Zone 3      50   36    Married        7      39   \n",
              "\n",
              "                               ed  employ retire  gender  ...  cardmon  \\\n",
              "0                  College degree       5     No    Male  ...     7.50   \n",
              "1       Post-undergraduate degree       5     No    Male  ...    15.25   \n",
              "2    Did not complete high school      29     No  Female  ...    30.25   \n",
              "3              High school degree       0     No  Female  ...     0.00   \n",
              "4    Did not complete high school       2     No    Male  ...     0.00   \n",
              "..                            ...     ...    ...     ...  ...      ...   \n",
              "995                  Some college       0     No  Female  ...     0.00   \n",
              "996     Post-undergraduate degree       5     No  Female  ...     0.00   \n",
              "997     Post-undergraduate degree      33     No  Female  ...    35.75   \n",
              "998            High school degree      22     No  Female  ...    25.25   \n",
              "999                  Some college       3     No  Female  ...    16.25   \n",
              "\n",
              "    wiremon multline voice internet  callid  callwait  forward  confer  \\\n",
              "0       0.0       No    No       No      No        No      Yes      No   \n",
              "1      35.7       No   Yes       No     Yes       Yes      Yes     Yes   \n",
              "2       0.0       No    No       No     Yes       Yes       No     Yes   \n",
              "3       0.0       No    No       No      No        No       No      No   \n",
              "4       0.0       No    No       No     Yes        No      Yes     Yes   \n",
              "..      ...      ...   ...      ...     ...       ...      ...     ...   \n",
              "995     0.0       No    No       No      No        No       No      No   \n",
              "996     0.0       No    No       No      No        No       No      No   \n",
              "997    65.8      Yes   Yes      Yes     Yes       Yes      Yes     Yes   \n",
              "998     0.0       No   Yes       No     Yes       Yes      Yes     Yes   \n",
              "999     0.0      Yes    No      Yes      No        No       No      No   \n",
              "\n",
              "     probability  \n",
              "0       0.023193  \n",
              "1       0.992158  \n",
              "2       0.936831  \n",
              "3       0.025992  \n",
              "4       0.018554  \n",
              "..           ...  \n",
              "995     0.018496  \n",
              "996     0.018807  \n",
              "997     0.999930  \n",
              "998     0.999960  \n",
              "999     0.011299  \n",
              "\n",
              "[1000 rows x 28 columns]"
            ],
            "text/html": [
              "\n",
              "  <div id=\"df-a8bff23c-ea08-4c42-b8b4-984ac0831e43\">\n",
              "    <div class=\"colab-df-container\">\n",
              "      <div>\n",
              "<style scoped>\n",
              "    .dataframe tbody tr th:only-of-type {\n",
              "        vertical-align: middle;\n",
              "    }\n",
              "\n",
              "    .dataframe tbody tr th {\n",
              "        vertical-align: top;\n",
              "    }\n",
              "\n",
              "    .dataframe thead th {\n",
              "        text-align: right;\n",
              "    }\n",
              "</style>\n",
              "<table border=\"1\" class=\"dataframe\">\n",
              "  <thead>\n",
              "    <tr style=\"text-align: right;\">\n",
              "      <th></th>\n",
              "      <th>region</th>\n",
              "      <th>tenure</th>\n",
              "      <th>age</th>\n",
              "      <th>marital</th>\n",
              "      <th>address</th>\n",
              "      <th>income</th>\n",
              "      <th>ed</th>\n",
              "      <th>employ</th>\n",
              "      <th>retire</th>\n",
              "      <th>gender</th>\n",
              "      <th>...</th>\n",
              "      <th>cardmon</th>\n",
              "      <th>wiremon</th>\n",
              "      <th>multline</th>\n",
              "      <th>voice</th>\n",
              "      <th>internet</th>\n",
              "      <th>callid</th>\n",
              "      <th>callwait</th>\n",
              "      <th>forward</th>\n",
              "      <th>confer</th>\n",
              "      <th>probability</th>\n",
              "    </tr>\n",
              "  </thead>\n",
              "  <tbody>\n",
              "    <tr>\n",
              "      <th>0</th>\n",
              "      <td>Zone 2</td>\n",
              "      <td>13</td>\n",
              "      <td>44</td>\n",
              "      <td>Married</td>\n",
              "      <td>9</td>\n",
              "      <td>64</td>\n",
              "      <td>College degree</td>\n",
              "      <td>5</td>\n",
              "      <td>No</td>\n",
              "      <td>Male</td>\n",
              "      <td>...</td>\n",
              "      <td>7.50</td>\n",
              "      <td>0.0</td>\n",
              "      <td>No</td>\n",
              "      <td>No</td>\n",
              "      <td>No</td>\n",
              "      <td>No</td>\n",
              "      <td>No</td>\n",
              "      <td>Yes</td>\n",
              "      <td>No</td>\n",
              "      <td>0.023193</td>\n",
              "    </tr>\n",
              "    <tr>\n",
              "      <th>1</th>\n",
              "      <td>Zone 3</td>\n",
              "      <td>11</td>\n",
              "      <td>33</td>\n",
              "      <td>Married</td>\n",
              "      <td>7</td>\n",
              "      <td>136</td>\n",
              "      <td>Post-undergraduate degree</td>\n",
              "      <td>5</td>\n",
              "      <td>No</td>\n",
              "      <td>Male</td>\n",
              "      <td>...</td>\n",
              "      <td>15.25</td>\n",
              "      <td>35.7</td>\n",
              "      <td>No</td>\n",
              "      <td>Yes</td>\n",
              "      <td>No</td>\n",
              "      <td>Yes</td>\n",
              "      <td>Yes</td>\n",
              "      <td>Yes</td>\n",
              "      <td>Yes</td>\n",
              "      <td>0.992158</td>\n",
              "    </tr>\n",
              "    <tr>\n",
              "      <th>2</th>\n",
              "      <td>Zone 3</td>\n",
              "      <td>68</td>\n",
              "      <td>52</td>\n",
              "      <td>Married</td>\n",
              "      <td>24</td>\n",
              "      <td>116</td>\n",
              "      <td>Did not complete high school</td>\n",
              "      <td>29</td>\n",
              "      <td>No</td>\n",
              "      <td>Female</td>\n",
              "      <td>...</td>\n",
              "      <td>30.25</td>\n",
              "      <td>0.0</td>\n",
              "      <td>No</td>\n",
              "      <td>No</td>\n",
              "      <td>No</td>\n",
              "      <td>Yes</td>\n",
              "      <td>Yes</td>\n",
              "      <td>No</td>\n",
              "      <td>Yes</td>\n",
              "      <td>0.936831</td>\n",
              "    </tr>\n",
              "    <tr>\n",
              "      <th>3</th>\n",
              "      <td>Zone 2</td>\n",
              "      <td>33</td>\n",
              "      <td>33</td>\n",
              "      <td>Unmarried</td>\n",
              "      <td>12</td>\n",
              "      <td>33</td>\n",
              "      <td>High school degree</td>\n",
              "      <td>0</td>\n",
              "      <td>No</td>\n",
              "      <td>Female</td>\n",
              "      <td>...</td>\n",
              "      <td>0.00</td>\n",
              "      <td>0.0</td>\n",
              "      <td>No</td>\n",
              "      <td>No</td>\n",
              "      <td>No</td>\n",
              "      <td>No</td>\n",
              "      <td>No</td>\n",
              "      <td>No</td>\n",
              "      <td>No</td>\n",
              "      <td>0.025992</td>\n",
              "    </tr>\n",
              "    <tr>\n",
              "      <th>4</th>\n",
              "      <td>Zone 2</td>\n",
              "      <td>23</td>\n",
              "      <td>30</td>\n",
              "      <td>Married</td>\n",
              "      <td>9</td>\n",
              "      <td>30</td>\n",
              "      <td>Did not complete high school</td>\n",
              "      <td>2</td>\n",
              "      <td>No</td>\n",
              "      <td>Male</td>\n",
              "      <td>...</td>\n",
              "      <td>0.00</td>\n",
              "      <td>0.0</td>\n",
              "      <td>No</td>\n",
              "      <td>No</td>\n",
              "      <td>No</td>\n",
              "      <td>Yes</td>\n",
              "      <td>No</td>\n",
              "      <td>Yes</td>\n",
              "      <td>Yes</td>\n",
              "      <td>0.018554</td>\n",
              "    </tr>\n",
              "    <tr>\n",
              "      <th>...</th>\n",
              "      <td>...</td>\n",
              "      <td>...</td>\n",
              "      <td>...</td>\n",
              "      <td>...</td>\n",
              "      <td>...</td>\n",
              "      <td>...</td>\n",
              "      <td>...</td>\n",
              "      <td>...</td>\n",
              "      <td>...</td>\n",
              "      <td>...</td>\n",
              "      <td>...</td>\n",
              "      <td>...</td>\n",
              "      <td>...</td>\n",
              "      <td>...</td>\n",
              "      <td>...</td>\n",
              "      <td>...</td>\n",
              "      <td>...</td>\n",
              "      <td>...</td>\n",
              "      <td>...</td>\n",
              "      <td>...</td>\n",
              "      <td>...</td>\n",
              "    </tr>\n",
              "    <tr>\n",
              "      <th>995</th>\n",
              "      <td>Zone 3</td>\n",
              "      <td>10</td>\n",
              "      <td>39</td>\n",
              "      <td>Unmarried</td>\n",
              "      <td>0</td>\n",
              "      <td>27</td>\n",
              "      <td>Some college</td>\n",
              "      <td>0</td>\n",
              "      <td>No</td>\n",
              "      <td>Female</td>\n",
              "      <td>...</td>\n",
              "      <td>0.00</td>\n",
              "      <td>0.0</td>\n",
              "      <td>No</td>\n",
              "      <td>No</td>\n",
              "      <td>No</td>\n",
              "      <td>No</td>\n",
              "      <td>No</td>\n",
              "      <td>No</td>\n",
              "      <td>No</td>\n",
              "      <td>0.018496</td>\n",
              "    </tr>\n",
              "    <tr>\n",
              "      <th>996</th>\n",
              "      <td>Zone 1</td>\n",
              "      <td>7</td>\n",
              "      <td>34</td>\n",
              "      <td>Unmarried</td>\n",
              "      <td>2</td>\n",
              "      <td>22</td>\n",
              "      <td>Post-undergraduate degree</td>\n",
              "      <td>5</td>\n",
              "      <td>No</td>\n",
              "      <td>Female</td>\n",
              "      <td>...</td>\n",
              "      <td>0.00</td>\n",
              "      <td>0.0</td>\n",
              "      <td>No</td>\n",
              "      <td>No</td>\n",
              "      <td>No</td>\n",
              "      <td>No</td>\n",
              "      <td>No</td>\n",
              "      <td>No</td>\n",
              "      <td>No</td>\n",
              "      <td>0.018807</td>\n",
              "    </tr>\n",
              "    <tr>\n",
              "      <th>997</th>\n",
              "      <td>Zone 3</td>\n",
              "      <td>67</td>\n",
              "      <td>59</td>\n",
              "      <td>Unmarried</td>\n",
              "      <td>40</td>\n",
              "      <td>944</td>\n",
              "      <td>Post-undergraduate degree</td>\n",
              "      <td>33</td>\n",
              "      <td>No</td>\n",
              "      <td>Female</td>\n",
              "      <td>...</td>\n",
              "      <td>35.75</td>\n",
              "      <td>65.8</td>\n",
              "      <td>Yes</td>\n",
              "      <td>Yes</td>\n",
              "      <td>Yes</td>\n",
              "      <td>Yes</td>\n",
              "      <td>Yes</td>\n",
              "      <td>Yes</td>\n",
              "      <td>Yes</td>\n",
              "      <td>0.999930</td>\n",
              "    </tr>\n",
              "    <tr>\n",
              "      <th>998</th>\n",
              "      <td>Zone 3</td>\n",
              "      <td>70</td>\n",
              "      <td>49</td>\n",
              "      <td>Unmarried</td>\n",
              "      <td>18</td>\n",
              "      <td>87</td>\n",
              "      <td>High school degree</td>\n",
              "      <td>22</td>\n",
              "      <td>No</td>\n",
              "      <td>Female</td>\n",
              "      <td>...</td>\n",
              "      <td>25.25</td>\n",
              "      <td>0.0</td>\n",
              "      <td>No</td>\n",
              "      <td>Yes</td>\n",
              "      <td>No</td>\n",
              "      <td>Yes</td>\n",
              "      <td>Yes</td>\n",
              "      <td>Yes</td>\n",
              "      <td>Yes</td>\n",
              "      <td>0.999960</td>\n",
              "    </tr>\n",
              "    <tr>\n",
              "      <th>999</th>\n",
              "      <td>Zone 3</td>\n",
              "      <td>50</td>\n",
              "      <td>36</td>\n",
              "      <td>Married</td>\n",
              "      <td>7</td>\n",
              "      <td>39</td>\n",
              "      <td>Some college</td>\n",
              "      <td>3</td>\n",
              "      <td>No</td>\n",
              "      <td>Female</td>\n",
              "      <td>...</td>\n",
              "      <td>16.25</td>\n",
              "      <td>0.0</td>\n",
              "      <td>Yes</td>\n",
              "      <td>No</td>\n",
              "      <td>Yes</td>\n",
              "      <td>No</td>\n",
              "      <td>No</td>\n",
              "      <td>No</td>\n",
              "      <td>No</td>\n",
              "      <td>0.011299</td>\n",
              "    </tr>\n",
              "  </tbody>\n",
              "</table>\n",
              "<p>1000 rows × 28 columns</p>\n",
              "</div>\n",
              "      <button class=\"colab-df-convert\" onclick=\"convertToInteractive('df-a8bff23c-ea08-4c42-b8b4-984ac0831e43')\"\n",
              "              title=\"Convert this dataframe to an interactive table.\"\n",
              "              style=\"display:none;\">\n",
              "        \n",
              "  <svg xmlns=\"http://www.w3.org/2000/svg\" height=\"24px\"viewBox=\"0 0 24 24\"\n",
              "       width=\"24px\">\n",
              "    <path d=\"M0 0h24v24H0V0z\" fill=\"none\"/>\n",
              "    <path d=\"M18.56 5.44l.94 2.06.94-2.06 2.06-.94-2.06-.94-.94-2.06-.94 2.06-2.06.94zm-11 1L8.5 8.5l.94-2.06 2.06-.94-2.06-.94L8.5 2.5l-.94 2.06-2.06.94zm10 10l.94 2.06.94-2.06 2.06-.94-2.06-.94-.94-2.06-.94 2.06-2.06.94z\"/><path d=\"M17.41 7.96l-1.37-1.37c-.4-.4-.92-.59-1.43-.59-.52 0-1.04.2-1.43.59L10.3 9.45l-7.72 7.72c-.78.78-.78 2.05 0 2.83L4 21.41c.39.39.9.59 1.41.59.51 0 1.02-.2 1.41-.59l7.78-7.78 2.81-2.81c.8-.78.8-2.07 0-2.86zM5.41 20L4 18.59l7.72-7.72 1.47 1.35L5.41 20z\"/>\n",
              "  </svg>\n",
              "      </button>\n",
              "      \n",
              "  <style>\n",
              "    .colab-df-container {\n",
              "      display:flex;\n",
              "      flex-wrap:wrap;\n",
              "      gap: 12px;\n",
              "    }\n",
              "\n",
              "    .colab-df-convert {\n",
              "      background-color: #E8F0FE;\n",
              "      border: none;\n",
              "      border-radius: 50%;\n",
              "      cursor: pointer;\n",
              "      display: none;\n",
              "      fill: #1967D2;\n",
              "      height: 32px;\n",
              "      padding: 0 0 0 0;\n",
              "      width: 32px;\n",
              "    }\n",
              "\n",
              "    .colab-df-convert:hover {\n",
              "      background-color: #E2EBFA;\n",
              "      box-shadow: 0px 1px 2px rgba(60, 64, 67, 0.3), 0px 1px 3px 1px rgba(60, 64, 67, 0.15);\n",
              "      fill: #174EA6;\n",
              "    }\n",
              "\n",
              "    [theme=dark] .colab-df-convert {\n",
              "      background-color: #3B4455;\n",
              "      fill: #D2E3FC;\n",
              "    }\n",
              "\n",
              "    [theme=dark] .colab-df-convert:hover {\n",
              "      background-color: #434B5C;\n",
              "      box-shadow: 0px 1px 3px 1px rgba(0, 0, 0, 0.15);\n",
              "      filter: drop-shadow(0px 1px 2px rgba(0, 0, 0, 0.3));\n",
              "      fill: #FFFFFF;\n",
              "    }\n",
              "  </style>\n",
              "\n",
              "      <script>\n",
              "        const buttonEl =\n",
              "          document.querySelector('#df-a8bff23c-ea08-4c42-b8b4-984ac0831e43 button.colab-df-convert');\n",
              "        buttonEl.style.display =\n",
              "          google.colab.kernel.accessAllowed ? 'block' : 'none';\n",
              "\n",
              "        async function convertToInteractive(key) {\n",
              "          const element = document.querySelector('#df-a8bff23c-ea08-4c42-b8b4-984ac0831e43');\n",
              "          const dataTable =\n",
              "            await google.colab.kernel.invokeFunction('convertToInteractive',\n",
              "                                                     [key], {});\n",
              "          if (!dataTable) return;\n",
              "\n",
              "          const docLinkHtml = 'Like what you see? Visit the ' +\n",
              "            '<a target=\"_blank\" href=https://colab.research.google.com/notebooks/data_table.ipynb>data table notebook</a>'\n",
              "            + ' to learn more about interactive tables.';\n",
              "          element.innerHTML = '';\n",
              "          dataTable['output_type'] = 'display_data';\n",
              "          await google.colab.output.renderOutput(dataTable, element);\n",
              "          const docLink = document.createElement('div');\n",
              "          docLink.innerHTML = docLinkHtml;\n",
              "          element.appendChild(docLink);\n",
              "        }\n",
              "      </script>\n",
              "    </div>\n",
              "  </div>\n",
              "  "
            ]
          },
          "metadata": {},
          "execution_count": 95
        }
      ]
    },
    {
      "cell_type": "markdown",
      "source": [
        "## Final conclusion\n",
        "\n",
        "The model shows a very high accuracy and AUC. Thus, the model fits the data very well and gives us possibility to predict **tollfree** variable. All in all, the model quite good and describes 86.6% of the **tollfree** variance. Only one varialbe in statistically significant, which can demonstrates that others variables can be removed from the logistic regression from the future analysis (maybe some other params can be analysed to improve the accuracy. Because we can't make real conclusion on the dependent variable on the dependence on 1 statistically significant variable)."
      ],
      "metadata": {
        "id": "vusQI_GSdaHm"
      }
    },
    {
      "cell_type": "markdown",
      "source": [
        "# Panel regression (task 2)"
      ],
      "metadata": {
        "id": "zAhUnB8Cdk8-"
      }
    },
    {
      "cell_type": "code",
      "source": [
        "smes.head()"
      ],
      "metadata": {
        "colab": {
          "base_uri": "https://localhost:8080/",
          "height": 331
        },
        "id": "z2yb4bB2fp1O",
        "outputId": "903a2c24-708e-4763-b32c-5664283cbac5"
      },
      "execution_count": 96,
      "outputs": [
        {
          "output_type": "execute_result",
          "data": {
            "text/plain": [
              "   id  year            Region      District  Rabotniki  SubMSP  Vnovsozd  \\\n",
              "0   1  2016            Moscow       Central    2608366  731632    150349   \n",
              "1   1  2017            Moscow       Central    2199321  768618    159342   \n",
              "2   1  2018            Moscow       Central    2200603  780902    150734   \n",
              "3   2  2016  Saint Petersburg  Northwestern    1151893  334994     66107   \n",
              "4   2  2017  Saint Petersburg  Northwestern    1082580  347355     64414   \n",
              "\n",
              "         oborot      InvestFC       fedsub  ...  newSMBdo30  naselenie  edu30  \\\n",
              "0  1.686972e+13  1.883730e+11  705299000.0  ...         0.0   12355400      0   \n",
              "1  1.499113e+13  3.439057e+11  555608500.0  ...         0.0   12380700      0   \n",
              "2  1.467666e+13  1.467666e+13  481000000.0  ...         0.0   12506468      0   \n",
              "3  5.854914e+12  2.343767e+10   96443000.0  ...         0.0    5253600    100   \n",
              "4  4.396981e+12  3.118336e+10   59893240.0  ...         0.0    5281600    122   \n",
              "\n",
              "     biznav      im   infrmoney  infrrazv  suppmsp           vrp          budg  \n",
              "0   6766.08   104.0  705.000000      23.0      425  1.429980e+07  1.852642e+06  \n",
              "1   7048.00   114.0    0.000000      26.0    11401  1.590428e+07  2.000854e+06  \n",
              "2  25400.00   152.0  362.164356      28.6    13111  1.780433e+07  2.134911e+06  \n",
              "3   1585.92  2504.0  121.000000       9.0     3834  3.742182e+06  4.766638e+05  \n",
              "4   1652.00  2775.0  200.000000      10.0     7384  4.162067e+06  5.147969e+05  \n",
              "\n",
              "[5 rows x 25 columns]"
            ],
            "text/html": [
              "\n",
              "  <div id=\"df-02243200-e54b-431e-9470-ef45eb4f5fdc\">\n",
              "    <div class=\"colab-df-container\">\n",
              "      <div>\n",
              "<style scoped>\n",
              "    .dataframe tbody tr th:only-of-type {\n",
              "        vertical-align: middle;\n",
              "    }\n",
              "\n",
              "    .dataframe tbody tr th {\n",
              "        vertical-align: top;\n",
              "    }\n",
              "\n",
              "    .dataframe thead th {\n",
              "        text-align: right;\n",
              "    }\n",
              "</style>\n",
              "<table border=\"1\" class=\"dataframe\">\n",
              "  <thead>\n",
              "    <tr style=\"text-align: right;\">\n",
              "      <th></th>\n",
              "      <th>id</th>\n",
              "      <th>year</th>\n",
              "      <th>Region</th>\n",
              "      <th>District</th>\n",
              "      <th>Rabotniki</th>\n",
              "      <th>SubMSP</th>\n",
              "      <th>Vnovsozd</th>\n",
              "      <th>oborot</th>\n",
              "      <th>InvestFC</th>\n",
              "      <th>fedsub</th>\n",
              "      <th>...</th>\n",
              "      <th>newSMBdo30</th>\n",
              "      <th>naselenie</th>\n",
              "      <th>edu30</th>\n",
              "      <th>biznav</th>\n",
              "      <th>im</th>\n",
              "      <th>infrmoney</th>\n",
              "      <th>infrrazv</th>\n",
              "      <th>suppmsp</th>\n",
              "      <th>vrp</th>\n",
              "      <th>budg</th>\n",
              "    </tr>\n",
              "  </thead>\n",
              "  <tbody>\n",
              "    <tr>\n",
              "      <th>0</th>\n",
              "      <td>1</td>\n",
              "      <td>2016</td>\n",
              "      <td>Moscow</td>\n",
              "      <td>Central</td>\n",
              "      <td>2608366</td>\n",
              "      <td>731632</td>\n",
              "      <td>150349</td>\n",
              "      <td>1.686972e+13</td>\n",
              "      <td>1.883730e+11</td>\n",
              "      <td>705299000.0</td>\n",
              "      <td>...</td>\n",
              "      <td>0.0</td>\n",
              "      <td>12355400</td>\n",
              "      <td>0</td>\n",
              "      <td>6766.08</td>\n",
              "      <td>104.0</td>\n",
              "      <td>705.000000</td>\n",
              "      <td>23.0</td>\n",
              "      <td>425</td>\n",
              "      <td>1.429980e+07</td>\n",
              "      <td>1.852642e+06</td>\n",
              "    </tr>\n",
              "    <tr>\n",
              "      <th>1</th>\n",
              "      <td>1</td>\n",
              "      <td>2017</td>\n",
              "      <td>Moscow</td>\n",
              "      <td>Central</td>\n",
              "      <td>2199321</td>\n",
              "      <td>768618</td>\n",
              "      <td>159342</td>\n",
              "      <td>1.499113e+13</td>\n",
              "      <td>3.439057e+11</td>\n",
              "      <td>555608500.0</td>\n",
              "      <td>...</td>\n",
              "      <td>0.0</td>\n",
              "      <td>12380700</td>\n",
              "      <td>0</td>\n",
              "      <td>7048.00</td>\n",
              "      <td>114.0</td>\n",
              "      <td>0.000000</td>\n",
              "      <td>26.0</td>\n",
              "      <td>11401</td>\n",
              "      <td>1.590428e+07</td>\n",
              "      <td>2.000854e+06</td>\n",
              "    </tr>\n",
              "    <tr>\n",
              "      <th>2</th>\n",
              "      <td>1</td>\n",
              "      <td>2018</td>\n",
              "      <td>Moscow</td>\n",
              "      <td>Central</td>\n",
              "      <td>2200603</td>\n",
              "      <td>780902</td>\n",
              "      <td>150734</td>\n",
              "      <td>1.467666e+13</td>\n",
              "      <td>1.467666e+13</td>\n",
              "      <td>481000000.0</td>\n",
              "      <td>...</td>\n",
              "      <td>0.0</td>\n",
              "      <td>12506468</td>\n",
              "      <td>0</td>\n",
              "      <td>25400.00</td>\n",
              "      <td>152.0</td>\n",
              "      <td>362.164356</td>\n",
              "      <td>28.6</td>\n",
              "      <td>13111</td>\n",
              "      <td>1.780433e+07</td>\n",
              "      <td>2.134911e+06</td>\n",
              "    </tr>\n",
              "    <tr>\n",
              "      <th>3</th>\n",
              "      <td>2</td>\n",
              "      <td>2016</td>\n",
              "      <td>Saint Petersburg</td>\n",
              "      <td>Northwestern</td>\n",
              "      <td>1151893</td>\n",
              "      <td>334994</td>\n",
              "      <td>66107</td>\n",
              "      <td>5.854914e+12</td>\n",
              "      <td>2.343767e+10</td>\n",
              "      <td>96443000.0</td>\n",
              "      <td>...</td>\n",
              "      <td>0.0</td>\n",
              "      <td>5253600</td>\n",
              "      <td>100</td>\n",
              "      <td>1585.92</td>\n",
              "      <td>2504.0</td>\n",
              "      <td>121.000000</td>\n",
              "      <td>9.0</td>\n",
              "      <td>3834</td>\n",
              "      <td>3.742182e+06</td>\n",
              "      <td>4.766638e+05</td>\n",
              "    </tr>\n",
              "    <tr>\n",
              "      <th>4</th>\n",
              "      <td>2</td>\n",
              "      <td>2017</td>\n",
              "      <td>Saint Petersburg</td>\n",
              "      <td>Northwestern</td>\n",
              "      <td>1082580</td>\n",
              "      <td>347355</td>\n",
              "      <td>64414</td>\n",
              "      <td>4.396981e+12</td>\n",
              "      <td>3.118336e+10</td>\n",
              "      <td>59893240.0</td>\n",
              "      <td>...</td>\n",
              "      <td>0.0</td>\n",
              "      <td>5281600</td>\n",
              "      <td>122</td>\n",
              "      <td>1652.00</td>\n",
              "      <td>2775.0</td>\n",
              "      <td>200.000000</td>\n",
              "      <td>10.0</td>\n",
              "      <td>7384</td>\n",
              "      <td>4.162067e+06</td>\n",
              "      <td>5.147969e+05</td>\n",
              "    </tr>\n",
              "  </tbody>\n",
              "</table>\n",
              "<p>5 rows × 25 columns</p>\n",
              "</div>\n",
              "      <button class=\"colab-df-convert\" onclick=\"convertToInteractive('df-02243200-e54b-431e-9470-ef45eb4f5fdc')\"\n",
              "              title=\"Convert this dataframe to an interactive table.\"\n",
              "              style=\"display:none;\">\n",
              "        \n",
              "  <svg xmlns=\"http://www.w3.org/2000/svg\" height=\"24px\"viewBox=\"0 0 24 24\"\n",
              "       width=\"24px\">\n",
              "    <path d=\"M0 0h24v24H0V0z\" fill=\"none\"/>\n",
              "    <path d=\"M18.56 5.44l.94 2.06.94-2.06 2.06-.94-2.06-.94-.94-2.06-.94 2.06-2.06.94zm-11 1L8.5 8.5l.94-2.06 2.06-.94-2.06-.94L8.5 2.5l-.94 2.06-2.06.94zm10 10l.94 2.06.94-2.06 2.06-.94-2.06-.94-.94-2.06-.94 2.06-2.06.94z\"/><path d=\"M17.41 7.96l-1.37-1.37c-.4-.4-.92-.59-1.43-.59-.52 0-1.04.2-1.43.59L10.3 9.45l-7.72 7.72c-.78.78-.78 2.05 0 2.83L4 21.41c.39.39.9.59 1.41.59.51 0 1.02-.2 1.41-.59l7.78-7.78 2.81-2.81c.8-.78.8-2.07 0-2.86zM5.41 20L4 18.59l7.72-7.72 1.47 1.35L5.41 20z\"/>\n",
              "  </svg>\n",
              "      </button>\n",
              "      \n",
              "  <style>\n",
              "    .colab-df-container {\n",
              "      display:flex;\n",
              "      flex-wrap:wrap;\n",
              "      gap: 12px;\n",
              "    }\n",
              "\n",
              "    .colab-df-convert {\n",
              "      background-color: #E8F0FE;\n",
              "      border: none;\n",
              "      border-radius: 50%;\n",
              "      cursor: pointer;\n",
              "      display: none;\n",
              "      fill: #1967D2;\n",
              "      height: 32px;\n",
              "      padding: 0 0 0 0;\n",
              "      width: 32px;\n",
              "    }\n",
              "\n",
              "    .colab-df-convert:hover {\n",
              "      background-color: #E2EBFA;\n",
              "      box-shadow: 0px 1px 2px rgba(60, 64, 67, 0.3), 0px 1px 3px 1px rgba(60, 64, 67, 0.15);\n",
              "      fill: #174EA6;\n",
              "    }\n",
              "\n",
              "    [theme=dark] .colab-df-convert {\n",
              "      background-color: #3B4455;\n",
              "      fill: #D2E3FC;\n",
              "    }\n",
              "\n",
              "    [theme=dark] .colab-df-convert:hover {\n",
              "      background-color: #434B5C;\n",
              "      box-shadow: 0px 1px 3px 1px rgba(0, 0, 0, 0.15);\n",
              "      filter: drop-shadow(0px 1px 2px rgba(0, 0, 0, 0.3));\n",
              "      fill: #FFFFFF;\n",
              "    }\n",
              "  </style>\n",
              "\n",
              "      <script>\n",
              "        const buttonEl =\n",
              "          document.querySelector('#df-02243200-e54b-431e-9470-ef45eb4f5fdc button.colab-df-convert');\n",
              "        buttonEl.style.display =\n",
              "          google.colab.kernel.accessAllowed ? 'block' : 'none';\n",
              "\n",
              "        async function convertToInteractive(key) {\n",
              "          const element = document.querySelector('#df-02243200-e54b-431e-9470-ef45eb4f5fdc');\n",
              "          const dataTable =\n",
              "            await google.colab.kernel.invokeFunction('convertToInteractive',\n",
              "                                                     [key], {});\n",
              "          if (!dataTable) return;\n",
              "\n",
              "          const docLinkHtml = 'Like what you see? Visit the ' +\n",
              "            '<a target=\"_blank\" href=https://colab.research.google.com/notebooks/data_table.ipynb>data table notebook</a>'\n",
              "            + ' to learn more about interactive tables.';\n",
              "          element.innerHTML = '';\n",
              "          dataTable['output_type'] = 'display_data';\n",
              "          await google.colab.output.renderOutput(dataTable, element);\n",
              "          const docLink = document.createElement('div');\n",
              "          docLink.innerHTML = docLinkHtml;\n",
              "          element.appendChild(docLink);\n",
              "        }\n",
              "      </script>\n",
              "    </div>\n",
              "  </div>\n",
              "  "
            ]
          },
          "metadata": {},
          "execution_count": 96
        }
      ]
    },
    {
      "cell_type": "code",
      "source": [
        "df = smes.drop(['Region', 'District'], 1)\n",
        "df.info()"
      ],
      "metadata": {
        "colab": {
          "base_uri": "https://localhost:8080/"
        },
        "id": "7JAdOiSXfY_L",
        "outputId": "d649ce92-d0c7-486a-c27b-d8999fc87d3b"
      },
      "execution_count": 105,
      "outputs": [
        {
          "output_type": "stream",
          "name": "stdout",
          "text": [
            "<class 'pandas.core.frame.DataFrame'>\n",
            "RangeIndex: 255 entries, 0 to 254\n",
            "Data columns (total 23 columns):\n",
            " #   Column         Non-Null Count  Dtype  \n",
            "---  ------         --------------  -----  \n",
            " 0   id             255 non-null    int64  \n",
            " 1   year           255 non-null    int64  \n",
            " 2   Rabotniki      255 non-null    int64  \n",
            " 3   SubMSP         255 non-null    int64  \n",
            " 4   Vnovsozd       255 non-null    int64  \n",
            " 5   oborot         255 non-null    float64\n",
            " 6   InvestFC       255 non-null    float64\n",
            " 7   fedsub         253 non-null    float64\n",
            " 8   minekfed       255 non-null    float64\n",
            " 9   minekreg       255 non-null    int64  \n",
            " 10  fz22344        255 non-null    float64\n",
            " 11  saldfinresult  255 non-null    float64\n",
            " 12  newrabmesta    255 non-null    float64\n",
            " 13  newSMBdo30     255 non-null    float64\n",
            " 14  naselenie      255 non-null    int64  \n",
            " 15  edu30          255 non-null    int64  \n",
            " 16  biznav         255 non-null    float64\n",
            " 17  im             255 non-null    float64\n",
            " 18  infrmoney      255 non-null    float64\n",
            " 19  infrrazv       255 non-null    float64\n",
            " 20  suppmsp        255 non-null    int64  \n",
            " 21  vrp            255 non-null    float64\n",
            " 22  budg           255 non-null    float64\n",
            "dtypes: float64(14), int64(9)\n",
            "memory usage: 45.9 KB\n"
          ]
        },
        {
          "output_type": "stream",
          "name": "stderr",
          "text": [
            "/usr/local/lib/python3.7/dist-packages/ipykernel_launcher.py:1: FutureWarning: In a future version of pandas all arguments of DataFrame.drop except for the argument 'labels' will be keyword-only\n",
            "  \"\"\"Entry point for launching an IPython kernel.\n"
          ]
        }
      ]
    },
    {
      "cell_type": "code",
      "source": [
        "dep = 'newSMBdo30'\n",
        "\n",
        "# Types of variables\n",
        "for t in df.dtypes.unique():\n",
        "    print('Type: {}\\n{}\\n'.format(t, df.dtypes[df.dtypes==t].index.values))"
      ],
      "metadata": {
        "colab": {
          "base_uri": "https://localhost:8080/"
        },
        "id": "ZincrelIfhq1",
        "outputId": "44f82690-36db-4617-9e8a-b06fbdaf6860"
      },
      "execution_count": 106,
      "outputs": [
        {
          "output_type": "stream",
          "name": "stdout",
          "text": [
            "Type: int64\n",
            "['id' 'year' 'Rabotniki' 'SubMSP' 'Vnovsozd' 'minekreg' 'naselenie'\n",
            " 'edu30' 'suppmsp']\n",
            "\n",
            "Type: float64\n",
            "['oborot' 'InvestFC' 'fedsub' 'minekfed' 'fz22344' 'saldfinresult'\n",
            " 'newrabmesta' 'newSMBdo30' 'biznav' 'im' 'infrmoney' 'infrrazv' 'vrp'\n",
            " 'budg']\n",
            "\n"
          ]
        }
      ]
    },
    {
      "cell_type": "code",
      "source": [
        "df_ind = df.set_index(['id', 'year'])"
      ],
      "metadata": {
        "id": "SkTjkJx5fnzi"
      },
      "execution_count": 107,
      "outputs": []
    },
    {
      "cell_type": "markdown",
      "source": [
        "Conclusion: <br>\n",
        "    - All variables are numeric -> ratio variables <br>\n",
        "    - All the data are real data (economical, demographically or geographical). NaN values shouldn't be handled. It can reduce the quality of the models in this case. We just need to remove Region and Distinct variables (they aren't influence on the variable at this case)"
      ],
      "metadata": {
        "id": "D2atihxYgQcR"
      }
    },
    {
      "cell_type": "markdown",
      "source": [
        "## Selecting predictors"
      ],
      "metadata": {
        "id": "nm5191QMjF4A"
      }
    },
    {
      "cell_type": "markdown",
      "source": [
        "Let's use correlation approach to choose predictors (one of the good options for panel data). At this situations, we have several years. It means, we should choose variables, which save its correlation particular the same throughout the years."
      ],
      "metadata": {
        "id": "5pqLrOw9jSCq"
      }
    },
    {
      "cell_type": "code",
      "source": [
        "years = [2016, 2017, 2018]\n",
        "\n",
        "for year in years:\n",
        "    df_year = df[df['year'] == year]\n",
        "    df_year.set_index('year')\n",
        "    print(f\"Correlations for year {year}\")\n",
        "    print(df_year.corrwith(df_year[dep]).sort_values(ascending=False))\n",
        "    print()"
      ],
      "metadata": {
        "colab": {
          "base_uri": "https://localhost:8080/"
        },
        "id": "KPsBrJikjBNu",
        "outputId": "ed4af3c3-767f-436b-d894-c8b073304dc4"
      },
      "execution_count": 108,
      "outputs": [
        {
          "output_type": "stream",
          "name": "stdout",
          "text": [
            "Correlations for year 2016\n",
            "newSMBdo30       1.000000\n",
            "edu30            0.734754\n",
            "newrabmesta      0.464002\n",
            "minekfed         0.387489\n",
            "fedsub           0.386022\n",
            "infrmoney        0.254928\n",
            "naselenie        0.240464\n",
            "minekreg         0.227298\n",
            "biznav           0.186949\n",
            "InvestFC         0.168781\n",
            "Rabotniki        0.102658\n",
            "SubMSP           0.101528\n",
            "Vnovsozd         0.077558\n",
            "suppmsp          0.069628\n",
            "infrrazv         0.029800\n",
            "vrp              0.004271\n",
            "oborot          -0.004997\n",
            "budg            -0.008739\n",
            "im              -0.012679\n",
            "id              -0.018504\n",
            "fz22344         -0.046095\n",
            "saldfinresult   -0.048834\n",
            "year                  NaN\n",
            "dtype: float64\n",
            "\n",
            "Correlations for year 2017\n",
            "newSMBdo30       1.000000\n",
            "edu30            0.950512\n",
            "minekfed         0.428480\n",
            "newrabmesta      0.393231\n",
            "infrmoney        0.289116\n",
            "fedsub           0.265062\n",
            "naselenie        0.205443\n",
            "minekreg         0.110562\n",
            "InvestFC         0.083715\n",
            "SubMSP           0.058061\n",
            "im               0.048484\n",
            "Rabotniki        0.040057\n",
            "Vnovsozd         0.025688\n",
            "suppmsp         -0.024341\n",
            "vrp             -0.032578\n",
            "fz22344         -0.041965\n",
            "budg            -0.042193\n",
            "oborot          -0.050915\n",
            "id              -0.061672\n",
            "infrrazv        -0.069695\n",
            "saldfinresult   -0.073221\n",
            "biznav          -0.084742\n",
            "year                  NaN\n",
            "dtype: float64\n",
            "\n",
            "Correlations for year 2018\n",
            "newSMBdo30       1.000000\n",
            "edu30            0.722267\n",
            "minekfed         0.479484\n",
            "infrmoney        0.348773\n",
            "minekreg         0.287576\n",
            "naselenie        0.242059\n",
            "newrabmesta      0.175454\n",
            "biznav           0.172495\n",
            "SubMSP           0.082969\n",
            "Rabotniki        0.070146\n",
            "Vnovsozd         0.067691\n",
            "im               0.020060\n",
            "infrrazv        -0.008896\n",
            "vrp             -0.011394\n",
            "fedsub          -0.012039\n",
            "InvestFC        -0.022018\n",
            "oborot          -0.022018\n",
            "budg            -0.024071\n",
            "fz22344         -0.030240\n",
            "id              -0.038924\n",
            "suppmsp         -0.046978\n",
            "saldfinresult   -0.075812\n",
            "year                  NaN\n",
            "dtype: float64\n",
            "\n"
          ]
        }
      ]
    },
    {
      "cell_type": "markdown",
      "source": [
        "Now let's calculate the difference throughout years."
      ],
      "metadata": {
        "id": "Uu6LsN1UjdN9"
      }
    },
    {
      "cell_type": "code",
      "source": [
        "for i in range(2):\n",
        "    df_year1 = df[df['year'] == years[i]]\n",
        "    df_year2 = df[df['year'] == years[i + 1]]\n",
        "    df_diff = pd.DataFrame()\n",
        "    for v in df_year1.columns:\n",
        "        if v == 'year' or v == 'id':\n",
        "            continue\n",
        "        l2 = df_year2[v].tolist()\n",
        "        l1 = df_year1[v].tolist()\n",
        "        diff = []\n",
        "        for j in range(len(l1)):\n",
        "            diff.append(l2[j] - l1[j])\n",
        "        df_diff[v] = diff\n",
        "    print(f\"Correlations for years {years[i+1]}-{years[i]}\")\n",
        "    print(df_diff.corrwith(df_diff[dep]).sort_values(ascending=False))\n",
        "    print()"
      ],
      "metadata": {
        "colab": {
          "base_uri": "https://localhost:8080/"
        },
        "id": "u9-5N5HsjgA2",
        "outputId": "284015ba-70ff-41de-aeb9-8d2b3ca508cf"
      },
      "execution_count": 110,
      "outputs": [
        {
          "output_type": "stream",
          "name": "stdout",
          "text": [
            "Correlations for years 2017-2016\n",
            "newSMBdo30       1.000000\n",
            "edu30            0.567750\n",
            "newrabmesta      0.376154\n",
            "fedsub           0.253411\n",
            "minekfed         0.161629\n",
            "Vnovsozd         0.146342\n",
            "oborot           0.087847\n",
            "Rabotniki        0.083764\n",
            "SubMSP           0.065477\n",
            "suppmsp          0.054193\n",
            "im               0.020545\n",
            "infrmoney        0.003096\n",
            "InvestFC        -0.004830\n",
            "budg            -0.026353\n",
            "vrp             -0.035313\n",
            "naselenie       -0.054165\n",
            "fz22344         -0.054530\n",
            "saldfinresult   -0.063471\n",
            "infrrazv        -0.100409\n",
            "biznav          -0.330675\n",
            "minekreg        -0.396475\n",
            "dtype: float64\n",
            "\n",
            "Correlations for years 2018-2017\n",
            "newSMBdo30       1.000000\n",
            "edu30            0.377692\n",
            "minekfed         0.202086\n",
            "Vnovsozd         0.194698\n",
            "oborot           0.150545\n",
            "biznav           0.138099\n",
            "SubMSP           0.091244\n",
            "infrrazv         0.089799\n",
            "Rabotniki        0.046005\n",
            "vrp              0.027318\n",
            "InvestFC         0.020477\n",
            "budg             0.016514\n",
            "newrabmesta      0.001685\n",
            "naselenie       -0.030443\n",
            "infrmoney       -0.032915\n",
            "fz22344         -0.046079\n",
            "saldfinresult   -0.047860\n",
            "suppmsp         -0.057493\n",
            "im              -0.066111\n",
            "fedsub          -0.323155\n",
            "minekreg        -0.381575\n",
            "dtype: float64\n",
            "\n"
          ]
        }
      ]
    },
    {
      "cell_type": "markdown",
      "source": [
        "The predictors are (from difference table): <br>\n",
        "- edu30 <br>\n",
        "- minekfed <br>\n",
        "- Vnovsozd <br>\n",
        "The predictors are (from correlation by years: highest correlation throughout the years): <br>\n",
        "- newrabmesta <br>\n",
        "- infrmoney <br>\n",
        "- naselenie <br>\n",
        "The final predictors list: <br>\n",
        "- edu30 <br>\n",
        "- minekfed <br>\n",
        "- Vnovsozd <br>\n",
        "- newrabmesta <br>\n",
        "- infrmoney <br>\n",
        "- naselenie\n"
      ],
      "metadata": {
        "id": "HuQM9bahkHn3"
      }
    },
    {
      "cell_type": "markdown",
      "source": [
        "## Hypothesis"
      ],
      "metadata": {
        "id": "xydXiNWRlxKn"
      }
    },
    {
      "cell_type": "code",
      "source": [
        "predictors = ['edu30', 'minekfed', 'Vnovsozd', 'newrabmesta', 'infrmoney', 'naselenie']\n",
        "for ind, val in enumerate(predictors):\n",
        "    print(str(ind + 1) + '. ' + 'There is a relationship between dependent variable (' + dep + ') and ' + val + ' variable.')"
      ],
      "metadata": {
        "colab": {
          "base_uri": "https://localhost:8080/"
        },
        "id": "JHb09s_vlyew",
        "outputId": "ccae4809-1ef3-4c21-d4ac-b96ec8a62d05"
      },
      "execution_count": 114,
      "outputs": [
        {
          "output_type": "stream",
          "name": "stdout",
          "text": [
            "1. There is a relationship between dependent variable (newSMBdo30) and edu30 variable.\n",
            "2. There is a relationship between dependent variable (newSMBdo30) and minekfed variable.\n",
            "3. There is a relationship between dependent variable (newSMBdo30) and Vnovsozd variable.\n",
            "4. There is a relationship between dependent variable (newSMBdo30) and newrabmesta variable.\n",
            "5. There is a relationship between dependent variable (newSMBdo30) and infrmoney variable.\n",
            "6. There is a relationship between dependent variable (newSMBdo30) and naselenie variable.\n"
          ]
        }
      ]
    },
    {
      "cell_type": "markdown",
      "source": [
        "## Descriptive analysis"
      ],
      "metadata": {
        "id": "MXDqu5TGmExT"
      }
    },
    {
      "cell_type": "markdown",
      "source": [
        "### Dependent variable"
      ],
      "metadata": {
        "id": "0kcpDhkjmqL4"
      }
    },
    {
      "cell_type": "code",
      "source": [
        "# Variable dependent\n",
        "df[dep].describe()"
      ],
      "metadata": {
        "colab": {
          "base_uri": "https://localhost:8080/"
        },
        "id": "n8ES1yv5mMHH",
        "outputId": "7ac78395-63cd-4b0d-8891-b462f67238ae"
      },
      "execution_count": 115,
      "outputs": [
        {
          "output_type": "execute_result",
          "data": {
            "text/plain": [
              "count    255.000000\n",
              "mean      39.016039\n",
              "std       44.155366\n",
              "min        0.000000\n",
              "25%        0.285000\n",
              "50%       28.000000\n",
              "75%       55.075000\n",
              "max      230.000000\n",
              "Name: newSMBdo30, dtype: float64"
            ]
          },
          "metadata": {},
          "execution_count": 115
        }
      ]
    },
    {
      "cell_type": "code",
      "source": [
        "df[dep].hist()"
      ],
      "metadata": {
        "colab": {
          "base_uri": "https://localhost:8080/",
          "height": 282
        },
        "id": "6yHabmVDmQh-",
        "outputId": "769de1ba-fee7-4f17-b2f5-01ee31073649"
      },
      "execution_count": 116,
      "outputs": [
        {
          "output_type": "execute_result",
          "data": {
            "text/plain": [
              "<matplotlib.axes._subplots.AxesSubplot at 0x7f6035b9f650>"
            ]
          },
          "metadata": {},
          "execution_count": 116
        },
        {
          "output_type": "display_data",
          "data": {
            "text/plain": [
              "<Figure size 432x288 with 1 Axes>"
            ],
            "image/png": "[encoded data removed]"
          },
          "metadata": {
            "needs_background": "light"
          }
        }
      ]
    },
    {
      "cell_type": "markdown",
      "source": [
        "The distribution of the dependent variable aren't normal. The majority of the values are located at the left part of the bar chart. It means, most of the districts have less and less SMEs by entrepreneurs under 30 years old"
      ],
      "metadata": {
        "id": "Xlz1L4mhmTru"
      }
    },
    {
      "cell_type": "code",
      "source": [
        "for year in years:\n",
        "    df_year = df[df['year'] == year]\n",
        "    print(f\"{year}\")\n",
        "    print(df_year[dep].describe())\n",
        "    df_year[dep].hist()\n",
        "    plt.show()"
      ],
      "metadata": {
        "colab": {
          "base_uri": "https://localhost:8080/",
          "height": 1000
        },
        "id": "VLgFJSS-mm7I",
        "outputId": "9eb68270-e242-495d-ecdb-bd9c30cf0d8b"
      },
      "execution_count": 122,
      "outputs": [
        {
          "output_type": "stream",
          "name": "stdout",
          "text": [
            "2016\n",
            "count     85.000000\n",
            "mean      39.917647\n",
            "std       51.534365\n",
            "min        0.000000\n",
            "25%        0.000000\n",
            "50%       21.000000\n",
            "75%       57.000000\n",
            "max      230.000000\n",
            "Name: newSMBdo30, dtype: float64\n"
          ]
        },
        {
          "output_type": "display_data",
          "data": {
            "text/plain": [
              "<Figure size 432x288 with 1 Axes>"
            ],
            "image/png": "[encoded data removed]"
          },
          "metadata": {
            "needs_background": "light"
          }
        },
        {
          "output_type": "stream",
          "name": "stdout",
          "text": [
            "2017\n",
            "count     85.000000\n",
            "mean      34.635294\n",
            "std       34.373248\n",
            "min        0.000000\n",
            "25%        1.000000\n",
            "50%       31.000000\n",
            "75%       52.000000\n",
            "max      172.000000\n",
            "Name: newSMBdo30, dtype: float64\n"
          ]
        },
        {
          "output_type": "display_data",
          "data": {
            "text/plain": [
              "<Figure size 432x288 with 1 Axes>"
            ],
            "image/png": "[encoded data removed]"
          },
          "metadata": {
            "needs_background": "light"
          }
        },
        {
          "output_type": "stream",
          "name": "stdout",
          "text": [
            "2018\n",
            "count     85.000000\n",
            "mean      42.495176\n",
            "std       45.007877\n",
            "min        0.000000\n",
            "25%        0.570000\n",
            "50%       31.350000\n",
            "75%       61.560000\n",
            "max      183.540000\n",
            "Name: newSMBdo30, dtype: float64\n"
          ]
        },
        {
          "output_type": "display_data",
          "data": {
            "text/plain": [
              "<Figure size 432x288 with 1 Axes>"
            ],
            "image/png": "[encoded data removed]"
          },
          "metadata": {
            "needs_background": "light"
          }
        }
      ]
    },
    {
      "cell_type": "markdown",
      "source": [
        "We can say that the trend of the variable is growing right now."
      ],
      "metadata": {
        "id": "X82p1kGOmzPm"
      }
    },
    {
      "cell_type": "code",
      "source": [
        "df.groupby('year')[dep].mean().plot()"
      ],
      "metadata": {
        "colab": {
          "base_uri": "https://localhost:8080/",
          "height": 296
        },
        "id": "GXonrizCm4Oe",
        "outputId": "09f5a55c-1e36-45b7-e9ed-7c144444c070"
      },
      "execution_count": 118,
      "outputs": [
        {
          "output_type": "execute_result",
          "data": {
            "text/plain": [
              "<matplotlib.axes._subplots.AxesSubplot at 0x7f6035973e50>"
            ]
          },
          "metadata": {},
          "execution_count": 118
        },
        {
          "output_type": "display_data",
          "data": {
            "text/plain": [
              "<Figure size 432x288 with 1 Axes>"
            ],
            "image/png": "[encoded data removed]"
          },
          "metadata": {
            "needs_background": "light"
          }
        }
      ]
    },
    {
      "cell_type": "markdown",
      "source": [
        "Here we can see firslty the downsteam in this variable and then upstream."
      ],
      "metadata": {
        "id": "uEIGPsWXm8V-"
      }
    },
    {
      "cell_type": "markdown",
      "source": [
        "### edu30"
      ],
      "metadata": {
        "id": "iLhCVT-SnGP_"
      }
    },
    {
      "cell_type": "code",
      "source": [
        "df['edu30'].describe()"
      ],
      "metadata": {
        "colab": {
          "base_uri": "https://localhost:8080/"
        },
        "id": "0rOFJG4nnIBC",
        "outputId": "5368f4d5-dc3d-476c-d8b8-9a2642029943"
      },
      "execution_count": 119,
      "outputs": [
        {
          "output_type": "execute_result",
          "data": {
            "text/plain": [
              "count     255.000000\n",
              "mean      430.717647\n",
              "std       475.304186\n",
              "min         0.000000\n",
              "25%        50.000000\n",
              "50%       302.000000\n",
              "75%       684.000000\n",
              "max      3600.000000\n",
              "Name: edu30, dtype: float64"
            ]
          },
          "metadata": {},
          "execution_count": 119
        }
      ]
    },
    {
      "cell_type": "code",
      "source": [
        "df['edu30'].hist()"
      ],
      "metadata": {
        "colab": {
          "base_uri": "https://localhost:8080/",
          "height": 282
        },
        "id": "-ue4-2ijnLnr",
        "outputId": "a96e9f65-dca1-4984-8b91-3401e0815e2c"
      },
      "execution_count": 120,
      "outputs": [
        {
          "output_type": "execute_result",
          "data": {
            "text/plain": [
              "<matplotlib.axes._subplots.AxesSubplot at 0x7f603594b090>"
            ]
          },
          "metadata": {},
          "execution_count": 120
        },
        {
          "output_type": "display_data",
          "data": {
            "text/plain": [
              "<Figure size 432x288 with 1 Axes>"
            ],
            "image/png": "[encoded data removed]"
          },
          "metadata": {
            "needs_background": "light"
          }
        }
      ]
    },
    {
      "cell_type": "markdown",
      "source": [
        "The distribution isn't normal. Most of the dat are less than the average."
      ],
      "metadata": {
        "id": "S0HzUKednPpz"
      }
    },
    {
      "cell_type": "code",
      "source": [
        "for year in years:\n",
        "    df_year = df[df['year'] == year]\n",
        "    print(f\"{year}\")\n",
        "    print(df_year['edu30'].describe())\n",
        "    df_year['edu30'].hist()\n",
        "    plt.show()"
      ],
      "metadata": {
        "colab": {
          "base_uri": "https://localhost:8080/",
          "height": 1000
        },
        "id": "GVzY0Et5nRb7",
        "outputId": "86b0ba47-1257-41f9-8bf2-a280ff624338"
      },
      "execution_count": 123,
      "outputs": [
        {
          "output_type": "stream",
          "name": "stdout",
          "text": [
            "2016\n",
            "count      85.000000\n",
            "mean      410.776471\n",
            "std       569.224438\n",
            "min         0.000000\n",
            "25%         0.000000\n",
            "50%       200.000000\n",
            "75%       680.000000\n",
            "max      3600.000000\n",
            "Name: edu30, dtype: float64\n"
          ]
        },
        {
          "output_type": "display_data",
          "data": {
            "text/plain": [
              "<Figure size 432x288 with 1 Axes>"
            ],
            "image/png": "[encoded data removed]"
          },
          "metadata": {
            "needs_background": "light"
          }
        },
        {
          "output_type": "stream",
          "name": "stdout",
          "text": [
            "2017\n",
            "count      85.000000\n",
            "mean      354.164706\n",
            "std       343.835850\n",
            "min         0.000000\n",
            "25%        50.000000\n",
            "50%       313.000000\n",
            "75%       516.000000\n",
            "max      1719.000000\n",
            "Name: edu30, dtype: float64\n"
          ]
        },
        {
          "output_type": "display_data",
          "data": {
            "text/plain": [
              "<Figure size 432x288 with 1 Axes>"
            ],
            "image/png": "[encoded data removed]"
          },
          "metadata": {
            "needs_background": "light"
          }
        },
        {
          "output_type": "stream",
          "name": "stdout",
          "text": [
            "2018\n",
            "count      85.000000\n",
            "mean      527.211765\n",
            "std       474.475603\n",
            "min         0.000000\n",
            "25%       100.000000\n",
            "50%       446.000000\n",
            "75%       800.000000\n",
            "max      1910.000000\n",
            "Name: edu30, dtype: float64\n"
          ]
        },
        {
          "output_type": "display_data",
          "data": {
            "text/plain": [
              "<Figure size 432x288 with 1 Axes>"
            ],
            "image/png": "[encoded data removed]"
          },
          "metadata": {
            "needs_background": "light"
          }
        }
      ]
    },
    {
      "cell_type": "markdown",
      "source": [
        "The trend is upstream throught the years"
      ],
      "metadata": {
        "id": "8cAlveA0ndVQ"
      }
    },
    {
      "cell_type": "code",
      "source": [
        "df.groupby('year')['edu30'].mean().plot()"
      ],
      "metadata": {
        "colab": {
          "base_uri": "https://localhost:8080/",
          "height": 296
        },
        "id": "o95f_MBmng30",
        "outputId": "a749604d-0368-4c48-f925-e0646757d606"
      },
      "execution_count": 125,
      "outputs": [
        {
          "output_type": "execute_result",
          "data": {
            "text/plain": [
              "<matplotlib.axes._subplots.AxesSubplot at 0x7f6035a48bd0>"
            ]
          },
          "metadata": {},
          "execution_count": 125
        },
        {
          "output_type": "display_data",
          "data": {
            "text/plain": [
              "<Figure size 432x288 with 1 Axes>"
            ],
            "image/png": "[encoded data removed]"
          },
          "metadata": {
            "needs_background": "light"
          }
        }
      ]
    },
    {
      "cell_type": "markdown",
      "source": [
        "Here we can see firslty the downsteam in this variable and then upstream."
      ],
      "metadata": {
        "id": "PnGycKv8noBe"
      }
    },
    {
      "cell_type": "markdown",
      "source": [
        "### minekfed"
      ],
      "metadata": {
        "id": "Aznrxt4onn7G"
      }
    },
    {
      "cell_type": "code",
      "source": [
        "df['minekfed'].describe()"
      ],
      "metadata": {
        "colab": {
          "base_uri": "https://localhost:8080/"
        },
        "id": "8kf9igHvnj7F",
        "outputId": "54361edc-2947-4e4b-8c0c-879ce54042a0"
      },
      "execution_count": 126,
      "outputs": [
        {
          "output_type": "execute_result",
          "data": {
            "text/plain": [
              "count    255.000000\n",
              "mean     114.825821\n",
              "std      104.693620\n",
              "min        0.000000\n",
              "25%       45.505618\n",
              "50%       82.022472\n",
              "75%      158.494382\n",
              "max      705.000000\n",
              "Name: minekfed, dtype: float64"
            ]
          },
          "metadata": {},
          "execution_count": 126
        }
      ]
    },
    {
      "cell_type": "code",
      "source": [
        "df['minekfed'].hist()"
      ],
      "metadata": {
        "colab": {
          "base_uri": "https://localhost:8080/",
          "height": 282
        },
        "id": "CHzXpUHbnyDq",
        "outputId": "662f18bb-9c47-4642-f594-5c8a0caa26dc"
      },
      "execution_count": 127,
      "outputs": [
        {
          "output_type": "execute_result",
          "data": {
            "text/plain": [
              "<matplotlib.axes._subplots.AxesSubplot at 0x7f6035ba3450>"
            ]
          },
          "metadata": {},
          "execution_count": 127
        },
        {
          "output_type": "display_data",
          "data": {
            "text/plain": [
              "<Figure size 432x288 with 1 Axes>"
            ],
            "image/png": "[encoded data removed]"
          },
          "metadata": {
            "needs_background": "light"
          }
        }
      ]
    },
    {
      "cell_type": "markdown",
      "source": [
        "The distrbiturion isn't normal (most of the variables less than average)"
      ],
      "metadata": {
        "id": "3Elw9gDBn4q7"
      }
    },
    {
      "cell_type": "code",
      "source": [
        "for year in years:\n",
        "    df_year = df[df['year'] == year]\n",
        "    print(f\"{year}\")\n",
        "    print(df_year['minekfed'].describe())\n",
        "    df_year['minekfed'].hist()\n",
        "    plt.show()"
      ],
      "metadata": {
        "colab": {
          "base_uri": "https://localhost:8080/",
          "height": 1000
        },
        "id": "Pl-LJTuinzWc",
        "outputId": "2c321cfc-fbed-428c-f5ca-3edfe1bd2c35"
      },
      "execution_count": 128,
      "outputs": [
        {
          "output_type": "stream",
          "name": "stdout",
          "text": [
            "2016\n",
            "count     85.000000\n",
            "mean     130.388235\n",
            "std      122.870634\n",
            "min        0.000000\n",
            "25%       56.000000\n",
            "50%       95.000000\n",
            "75%      164.000000\n",
            "max      705.000000\n",
            "Name: minekfed, dtype: float64\n"
          ]
        },
        {
          "output_type": "display_data",
          "data": {
            "text/plain": [
              "<Figure size 432x288 with 1 Axes>"
            ],
            "image/png": "[encoded data removed]"
          },
          "metadata": {
            "needs_background": "light"
          }
        },
        {
          "output_type": "stream",
          "name": "stdout",
          "text": [
            "2017\n",
            "count     85.000000\n",
            "mean      90.176471\n",
            "std       84.927164\n",
            "min        0.000000\n",
            "25%       33.000000\n",
            "50%       64.000000\n",
            "75%      106.000000\n",
            "max      342.000000\n",
            "Name: minekfed, dtype: float64\n"
          ]
        },
        {
          "output_type": "display_data",
          "data": {
            "text/plain": [
              "<Figure size 432x288 with 1 Axes>"
            ],
            "image/png": "[encoded data removed]"
          },
          "metadata": {
            "needs_background": "light"
          }
        },
        {
          "output_type": "stream",
          "name": "stdout",
          "text": [
            "2018\n",
            "count     85.000000\n",
            "mean     123.912756\n",
            "std       99.448307\n",
            "min        0.000000\n",
            "25%       52.808989\n",
            "50%       88.764045\n",
            "75%      166.292135\n",
            "max      470.224719\n",
            "Name: minekfed, dtype: float64\n"
          ]
        },
        {
          "output_type": "display_data",
          "data": {
            "text/plain": [
              "<Figure size 432x288 with 1 Axes>"
            ],
            "image/png": "[encoded data removed]"
          },
          "metadata": {
            "needs_background": "light"
          }
        }
      ]
    },
    {
      "cell_type": "markdown",
      "source": [
        "The trend is flexible. First year is upstream, next year is downstream"
      ],
      "metadata": {
        "id": "HO0iFLYjn5jB"
      }
    },
    {
      "cell_type": "code",
      "source": [
        "df.groupby('year')['minekfed'].mean().plot()"
      ],
      "metadata": {
        "colab": {
          "base_uri": "https://localhost:8080/",
          "height": 296
        },
        "id": "MrEi9uOin282",
        "outputId": "062633d8-6b31-4a87-b9d7-cc609de9640c"
      },
      "execution_count": 129,
      "outputs": [
        {
          "output_type": "execute_result",
          "data": {
            "text/plain": [
              "<matplotlib.axes._subplots.AxesSubplot at 0x7f6035722b10>"
            ]
          },
          "metadata": {},
          "execution_count": 129
        },
        {
          "output_type": "display_data",
          "data": {
            "text/plain": [
              "<Figure size 432x288 with 1 Axes>"
            ],
            "image/png": "[encoded data removed]"
          },
          "metadata": {
            "needs_background": "light"
          }
        }
      ]
    },
    {
      "cell_type": "markdown",
      "source": [
        "downstream from 2016 to 2017 <br>\n",
        "upstream from 2017 to 2018"
      ],
      "metadata": {
        "id": "vx_g2mqhn5xC"
      }
    },
    {
      "cell_type": "markdown",
      "source": [
        "### Vnovsozd"
      ],
      "metadata": {
        "id": "uFisAPvyn6F7"
      }
    },
    {
      "cell_type": "code",
      "source": [
        "df['Vnovsozd'].describe()"
      ],
      "metadata": {
        "colab": {
          "base_uri": "https://localhost:8080/"
        },
        "id": "cX4FRwhsn8NW",
        "outputId": "93ee7904-d6c1-42a1-cd85-c62d009a142b"
      },
      "execution_count": 130,
      "outputs": [
        {
          "output_type": "execute_result",
          "data": {
            "text/plain": [
              "count       255.000000\n",
              "mean      11484.164706\n",
              "std       19003.568695\n",
              "min         155.000000\n",
              "25%        3391.500000\n",
              "50%        6667.000000\n",
              "75%       11641.000000\n",
              "max      159342.000000\n",
              "Name: Vnovsozd, dtype: float64"
            ]
          },
          "metadata": {},
          "execution_count": 130
        }
      ]
    },
    {
      "cell_type": "code",
      "source": [
        "df['Vnovsozd'].hist()"
      ],
      "metadata": {
        "colab": {
          "base_uri": "https://localhost:8080/",
          "height": 282
        },
        "id": "lDABfMlgn9gG",
        "outputId": "7c992e6b-0ec0-453a-c6d1-e7a647ccf404"
      },
      "execution_count": 131,
      "outputs": [
        {
          "output_type": "execute_result",
          "data": {
            "text/plain": [
              "<matplotlib.axes._subplots.AxesSubplot at 0x7f60361815d0>"
            ]
          },
          "metadata": {},
          "execution_count": 131
        },
        {
          "output_type": "display_data",
          "data": {
            "text/plain": [
              "<Figure size 432x288 with 1 Axes>"
            ],
            "image/png": "[encoded data removed]"
          },
          "metadata": {
            "needs_background": "light"
          }
        }
      ]
    },
    {
      "cell_type": "markdown",
      "source": [
        "The distribution isn't normal. Most of the variables less than average"
      ],
      "metadata": {
        "id": "rUvAptZOoCGd"
      }
    },
    {
      "cell_type": "code",
      "source": [
        "for year in years:\n",
        "    df_year = df[df['year'] == year]\n",
        "    print(f\"{year}\")\n",
        "    print(df_year['Vnovsozd'].describe())\n",
        "    df_year['Vnovsozd'].hist()\n",
        "    plt.show()"
      ],
      "metadata": {
        "colab": {
          "base_uri": "https://localhost:8080/",
          "height": 1000
        },
        "id": "FhlH2we7n-J0",
        "outputId": "e4d5c889-d229-4b0a-f409-4095969f74b0"
      },
      "execution_count": 132,
      "outputs": [
        {
          "output_type": "stream",
          "name": "stdout",
          "text": [
            "2016\n",
            "count        85.000000\n",
            "mean      11328.835294\n",
            "std       18640.917651\n",
            "min         155.000000\n",
            "25%        3586.000000\n",
            "50%        6449.000000\n",
            "75%       11718.000000\n",
            "max      150349.000000\n",
            "Name: Vnovsozd, dtype: float64\n"
          ]
        },
        {
          "output_type": "display_data",
          "data": {
            "text/plain": [
              "<Figure size 432x288 with 1 Axes>"
            ],
            "image/png": "[encoded data removed]"
          },
          "metadata": {
            "needs_background": "light"
          }
        },
        {
          "output_type": "stream",
          "name": "stdout",
          "text": [
            "2017\n",
            "count        85.000000\n",
            "mean      11314.258824\n",
            "std       19488.549287\n",
            "min         161.000000\n",
            "25%        3309.000000\n",
            "50%        6560.000000\n",
            "75%       11418.000000\n",
            "max      159342.000000\n",
            "Name: Vnovsozd, dtype: float64\n"
          ]
        },
        {
          "output_type": "display_data",
          "data": {
            "text/plain": [
              "<Figure size 432x288 with 1 Axes>"
            ],
            "image/png": "[encoded data removed]"
          },
          "metadata": {
            "needs_background": "light"
          }
        },
        {
          "output_type": "stream",
          "name": "stdout",
          "text": [
            "2018\n",
            "count        85.000000\n",
            "mean      11809.400000\n",
            "std       19093.383909\n",
            "min         180.000000\n",
            "25%        3407.000000\n",
            "50%        6868.000000\n",
            "75%       11916.000000\n",
            "max      150734.000000\n",
            "Name: Vnovsozd, dtype: float64\n"
          ]
        },
        {
          "output_type": "display_data",
          "data": {
            "text/plain": [
              "<Figure size 432x288 with 1 Axes>"
            ],
            "image/png": "[encoded data removed]"
          },
          "metadata": {
            "needs_background": "light"
          }
        }
      ]
    },
    {
      "cell_type": "markdown",
      "source": [
        "There isn't statistical significant changes thorughout the years"
      ],
      "metadata": {
        "id": "mWl_cLBIoCh6"
      }
    },
    {
      "cell_type": "code",
      "source": [
        "df.groupby('year')['Vnovsozd'].mean().plot()"
      ],
      "metadata": {
        "colab": {
          "base_uri": "https://localhost:8080/",
          "height": 296
        },
        "id": "gSX74FmWn-2G",
        "outputId": "534c5437-2fbf-4f2a-ce25-57c970f3dfc1"
      },
      "execution_count": 133,
      "outputs": [
        {
          "output_type": "execute_result",
          "data": {
            "text/plain": [
              "<matplotlib.axes._subplots.AxesSubplot at 0x7f60356f57d0>"
            ]
          },
          "metadata": {},
          "execution_count": 133
        },
        {
          "output_type": "display_data",
          "data": {
            "text/plain": [
              "<Figure size 432x288 with 1 Axes>"
            ],
            "image/png": "[encoded data removed]"
          },
          "metadata": {
            "needs_background": "light"
          }
        }
      ]
    },
    {
      "cell_type": "markdown",
      "source": [
        "downstream (almost stgnation) from 2016 to 2017 <br>\n",
        "upstream from 2017 to 2018"
      ],
      "metadata": {
        "id": "38fCgxO6oCzY"
      }
    },
    {
      "cell_type": "markdown",
      "source": [
        "### newrabmesta"
      ],
      "metadata": {
        "id": "sGiFrYVGoDGT"
      }
    },
    {
      "cell_type": "code",
      "source": [
        "df['newrabmesta'].describe()"
      ],
      "metadata": {
        "colab": {
          "base_uri": "https://localhost:8080/"
        },
        "id": "LjxdEo3XoFEq",
        "outputId": "5f7a5d44-3a26-4e29-ba63-2b40f07b542d"
      },
      "execution_count": 134,
      "outputs": [
        {
          "output_type": "execute_result",
          "data": {
            "text/plain": [
              "count    255.000000\n",
              "mean       0.514976\n",
              "std        0.574761\n",
              "min        0.002000\n",
              "25%        0.147500\n",
              "50%        0.296000\n",
              "75%        0.676500\n",
              "max        3.303000\n",
              "Name: newrabmesta, dtype: float64"
            ]
          },
          "metadata": {},
          "execution_count": 134
        }
      ]
    },
    {
      "cell_type": "code",
      "source": [
        "df['newrabmesta'].hist()"
      ],
      "metadata": {
        "colab": {
          "base_uri": "https://localhost:8080/",
          "height": 284
        },
        "id": "DuQkFs1joGRO",
        "outputId": "3f9f92b1-8fd1-4371-8b10-13b7a17e3df2"
      },
      "execution_count": 135,
      "outputs": [
        {
          "output_type": "execute_result",
          "data": {
            "text/plain": [
              "<matplotlib.axes._subplots.AxesSubplot at 0x7f6035f77850>"
            ]
          },
          "metadata": {},
          "execution_count": 135
        },
        {
          "output_type": "display_data",
          "data": {
            "text/plain": [
              "<Figure size 432x288 with 1 Axes>"
            ],
            "image/png": "[encoded data removed]"
          },
          "metadata": {
            "needs_background": "light"
          }
        }
      ]
    },
    {
      "cell_type": "markdown",
      "source": [
        "The distribution isn't normal (most of the values less than average)"
      ],
      "metadata": {
        "id": "T97SmYgwoKAa"
      }
    },
    {
      "cell_type": "code",
      "source": [
        "for year in years:\n",
        "    df_year = df[df['year'] == year]\n",
        "    print(f\"{year}\")\n",
        "    print(df_year['newrabmesta'].describe())\n",
        "    df_year['newrabmesta'].hist()\n",
        "    plt.show()"
      ],
      "metadata": {
        "colab": {
          "base_uri": "https://localhost:8080/",
          "height": 1000
        },
        "id": "vcKZ9u50oHEx",
        "outputId": "8d7a3872-390c-4d47-d926-cd0c638943d9"
      },
      "execution_count": 136,
      "outputs": [
        {
          "output_type": "stream",
          "name": "stdout",
          "text": [
            "2016\n",
            "count    85.000000\n",
            "mean      0.751929\n",
            "std       0.710631\n",
            "min       0.009000\n",
            "25%       0.218000\n",
            "50%       0.578000\n",
            "75%       0.939000\n",
            "max       3.303000\n",
            "Name: newrabmesta, dtype: float64\n"
          ]
        },
        {
          "output_type": "display_data",
          "data": {
            "text/plain": [
              "<Figure size 432x288 with 1 Axes>"
            ],
            "image/png": "[encoded data removed]"
          },
          "metadata": {
            "needs_background": "light"
          }
        },
        {
          "output_type": "stream",
          "name": "stdout",
          "text": [
            "2017\n",
            "count    85.000000\n",
            "mean      0.464812\n",
            "std       0.484832\n",
            "min       0.002000\n",
            "25%       0.125000\n",
            "50%       0.296000\n",
            "75%       0.629000\n",
            "max       2.354000\n",
            "Name: newrabmesta, dtype: float64\n"
          ]
        },
        {
          "output_type": "display_data",
          "data": {
            "text/plain": [
              "<Figure size 432x288 with 1 Axes>"
            ],
            "image/png": "[encoded data removed]"
          },
          "metadata": {
            "needs_background": "light"
          }
        },
        {
          "output_type": "stream",
          "name": "stdout",
          "text": [
            "2018\n",
            "count    85.000000\n",
            "mean      0.328188\n",
            "std       0.405202\n",
            "min       0.006000\n",
            "25%       0.120000\n",
            "50%       0.222000\n",
            "75%       0.364000\n",
            "max       3.043000\n",
            "Name: newrabmesta, dtype: float64\n"
          ]
        },
        {
          "output_type": "display_data",
          "data": {
            "text/plain": [
              "<Figure size 432x288 with 1 Axes>"
            ],
            "image/png": "[encoded data removed]"
          },
          "metadata": {
            "needs_background": "light"
          }
        }
      ]
    },
    {
      "cell_type": "markdown",
      "source": [
        "The trend is flexible. From 2016 to 2017 is downstrem trend. from 2017 to 2018 is upstream trend"
      ],
      "metadata": {
        "id": "qTS-ewbwoKTu"
      }
    },
    {
      "cell_type": "code",
      "source": [
        "df.groupby('year')['newrabmesta'].mean().plot()"
      ],
      "metadata": {
        "colab": {
          "base_uri": "https://localhost:8080/",
          "height": 296
        },
        "id": "TGQPy_2goH2A",
        "outputId": "d1796231-fb06-4d0e-eacf-e9e9b0e60147"
      },
      "execution_count": 137,
      "outputs": [
        {
          "output_type": "execute_result",
          "data": {
            "text/plain": [
              "<matplotlib.axes._subplots.AxesSubplot at 0x7f6035fbf750>"
            ]
          },
          "metadata": {},
          "execution_count": 137
        },
        {
          "output_type": "display_data",
          "data": {
            "text/plain": [
              "<Figure size 432x288 with 1 Axes>"
            ],
            "image/png": "[encoded data removed]"
          },
          "metadata": {
            "needs_background": "light"
          }
        }
      ]
    },
    {
      "cell_type": "markdown",
      "source": [
        "There is downstrem trend"
      ],
      "metadata": {
        "id": "u8fluv1koKp3"
      }
    },
    {
      "cell_type": "markdown",
      "source": [
        "### infrmoney"
      ],
      "metadata": {
        "id": "pm1kmFkpoK77"
      }
    },
    {
      "cell_type": "code",
      "source": [
        "df['infrmoney'].describe()"
      ],
      "metadata": {
        "colab": {
          "base_uri": "https://localhost:8080/"
        },
        "id": "OSHpu-fSoNJn",
        "outputId": "9083105d-bc59-47c0-cd17-75d4d5b0d4ed"
      },
      "execution_count": 138,
      "outputs": [
        {
          "output_type": "execute_result",
          "data": {
            "text/plain": [
              "count    255.000000\n",
              "mean      84.696432\n",
              "std       98.873969\n",
              "min        0.000000\n",
              "25%       22.031020\n",
              "50%       59.000000\n",
              "75%      112.000000\n",
              "max      705.000000\n",
              "Name: infrmoney, dtype: float64"
            ]
          },
          "metadata": {},
          "execution_count": 138
        }
      ]
    },
    {
      "cell_type": "code",
      "source": [
        "df['infrmoney'].hist()"
      ],
      "metadata": {
        "colab": {
          "base_uri": "https://localhost:8080/",
          "height": 282
        },
        "id": "NP_hBG8JoOIY",
        "outputId": "979af346-292b-4f57-88e9-c0f03028a516"
      },
      "execution_count": 139,
      "outputs": [
        {
          "output_type": "execute_result",
          "data": {
            "text/plain": [
              "<matplotlib.axes._subplots.AxesSubplot at 0x7f60353d65d0>"
            ]
          },
          "metadata": {},
          "execution_count": 139
        },
        {
          "output_type": "display_data",
          "data": {
            "text/plain": [
              "<Figure size 432x288 with 1 Axes>"
            ],
            "image/png": "[encoded data removed]"
          },
          "metadata": {
            "needs_background": "light"
          }
        }
      ]
    },
    {
      "cell_type": "markdown",
      "source": [
        "The distribution isn't normal. Most of the values less than average"
      ],
      "metadata": {
        "id": "ZqpLcPc6oRcM"
      }
    },
    {
      "cell_type": "code",
      "source": [
        "for year in years:\n",
        "    df_year = df[df['year'] == year]\n",
        "    print(f\"{year}\")\n",
        "    print(df_year['infrmoney'].describe())\n",
        "    df_year['infrmoney'].hist()\n",
        "    plt.show()"
      ],
      "metadata": {
        "colab": {
          "base_uri": "https://localhost:8080/",
          "height": 1000
        },
        "id": "5E5CHh_koOnq",
        "outputId": "d921c6d7-9eb3-4b68-8b6e-82d125ef9606"
      },
      "execution_count": 140,
      "outputs": [
        {
          "output_type": "stream",
          "name": "stdout",
          "text": [
            "2016\n",
            "count     85.000000\n",
            "mean      63.964706\n",
            "std      104.290054\n",
            "min        0.000000\n",
            "25%        8.000000\n",
            "50%       36.000000\n",
            "75%       79.000000\n",
            "max      705.000000\n",
            "Name: infrmoney, dtype: float64\n"
          ]
        },
        {
          "output_type": "display_data",
          "data": {
            "text/plain": [
              "<Figure size 432x288 with 1 Axes>"
            ],
            "image/png": "[encoded data removed]"
          },
          "metadata": {
            "needs_background": "light"
          }
        },
        {
          "output_type": "stream",
          "name": "stdout",
          "text": [
            "2017\n",
            "count     85.000000\n",
            "mean     103.894118\n",
            "std      100.526711\n",
            "min        0.000000\n",
            "25%       38.000000\n",
            "50%       79.000000\n",
            "75%      123.000000\n",
            "max      551.000000\n",
            "Name: infrmoney, dtype: float64\n"
          ]
        },
        {
          "output_type": "display_data",
          "data": {
            "text/plain": [
              "<Figure size 432x288 with 1 Axes>"
            ],
            "image/png": "[encoded data removed]"
          },
          "metadata": {
            "needs_background": "light"
          }
        },
        {
          "output_type": "stream",
          "name": "stdout",
          "text": [
            "2018\n",
            "count     85.000000\n",
            "mean      86.230472\n",
            "std       88.140072\n",
            "min        0.000000\n",
            "25%       27.226540\n",
            "50%       62.672413\n",
            "75%      127.399660\n",
            "max      579.976678\n",
            "Name: infrmoney, dtype: float64\n"
          ]
        },
        {
          "output_type": "display_data",
          "data": {
            "text/plain": [
              "<Figure size 432x288 with 1 Axes>"
            ],
            "image/png": "[encoded data removed]"
          },
          "metadata": {
            "needs_background": "light"
          }
        }
      ]
    },
    {
      "cell_type": "markdown",
      "source": [
        "The trend is flexible. From 2016 to 2017 is downstream and then upstream"
      ],
      "metadata": {
        "id": "j_V4G031oRz-"
      }
    },
    {
      "cell_type": "code",
      "source": [
        "df.groupby('year')['infrmoney'].mean().plot()"
      ],
      "metadata": {
        "colab": {
          "base_uri": "https://localhost:8080/",
          "height": 296
        },
        "id": "78kBLNxNoPUk",
        "outputId": "86cf8ae2-5611-49e9-94f9-b5064a930fe4"
      },
      "execution_count": 141,
      "outputs": [
        {
          "output_type": "execute_result",
          "data": {
            "text/plain": [
              "<matplotlib.axes._subplots.AxesSubplot at 0x7f6035e8a310>"
            ]
          },
          "metadata": {},
          "execution_count": 141
        },
        {
          "output_type": "display_data",
          "data": {
            "text/plain": [
              "<Figure size 432x288 with 1 Axes>"
            ],
            "image/png": "[encoded data removed]"
          },
          "metadata": {
            "needs_background": "light"
          }
        }
      ]
    },
    {
      "cell_type": "markdown",
      "source": [
        "From 2016 to 2017 is upstream <br>\n",
        "from 2017 to 2018 is downsteam "
      ],
      "metadata": {
        "id": "o0qkzEEYoSJP"
      }
    },
    {
      "cell_type": "markdown",
      "source": [
        "### naselenie"
      ],
      "metadata": {
        "id": "ir0oolrXoSiH"
      }
    },
    {
      "cell_type": "code",
      "source": [
        "df['naselenie'].describe()"
      ],
      "metadata": {
        "colab": {
          "base_uri": "https://localhost:8080/"
        },
        "id": "4wH3hv6moVSj",
        "outputId": "83cedf9a-a22b-40a5-8e65-f091f5e45851"
      },
      "execution_count": 142,
      "outputs": [
        {
          "output_type": "execute_result",
          "data": {
            "text/plain": [
              "count    2.550000e+02\n",
              "mean     1.726899e+06\n",
              "std      1.773318e+06\n",
              "min      4.390000e+04\n",
              "25%      7.504020e+05\n",
              "50%      1.183900e+06\n",
              "75%      2.334900e+06\n",
              "max      1.250647e+07\n",
              "Name: naselenie, dtype: float64"
            ]
          },
          "metadata": {},
          "execution_count": 142
        }
      ]
    },
    {
      "cell_type": "code",
      "source": [
        "df['naselenie'].hist()"
      ],
      "metadata": {
        "colab": {
          "base_uri": "https://localhost:8080/",
          "height": 295
        },
        "id": "G2xqH06zoWXN",
        "outputId": "fce52202-eac2-49c7-85df-496007a68c7a"
      },
      "execution_count": 143,
      "outputs": [
        {
          "output_type": "execute_result",
          "data": {
            "text/plain": [
              "<matplotlib.axes._subplots.AxesSubplot at 0x7f60360bacd0>"
            ]
          },
          "metadata": {},
          "execution_count": 143
        },
        {
          "output_type": "display_data",
          "data": {
            "text/plain": [
              "<Figure size 432x288 with 1 Axes>"
            ],
            "image/png": "[encoded data removed]"
          },
          "metadata": {
            "needs_background": "light"
          }
        }
      ]
    },
    {
      "cell_type": "markdown",
      "source": [
        "The distribution isn't normal. Most of the values less than average"
      ],
      "metadata": {
        "id": "EW7gNqkloZ9y"
      }
    },
    {
      "cell_type": "code",
      "source": [
        "for year in years:\n",
        "    df_year = df[df['year'] == year]\n",
        "    print(f\"{year}\")\n",
        "    print(df_year['naselenie'].describe())\n",
        "    df_year['naselenie'].hist()\n",
        "    plt.show()"
      ],
      "metadata": {
        "colab": {
          "base_uri": "https://localhost:8080/",
          "height": 1000
        },
        "id": "okOLkNYToW32",
        "outputId": "36dc05a5-782d-42e4-ec33-e1af2ddd39bc"
      },
      "execution_count": 144,
      "outputs": [
        {
          "output_type": "stream",
          "name": "stdout",
          "text": [
            "2016\n",
            "count    8.500000e+01\n",
            "mean     1.725582e+06\n",
            "std      1.771927e+06\n",
            "min      4.390000e+04\n",
            "25%      7.573000e+05\n",
            "50%      1.185800e+06\n",
            "75%      2.334400e+06\n",
            "max      1.235540e+07\n",
            "Name: naselenie, dtype: float64\n"
          ]
        },
        {
          "output_type": "display_data",
          "data": {
            "text/plain": [
              "<Figure size 432x288 with 1 Axes>"
            ],
            "image/png": "[encoded data removed]"
          },
          "metadata": {
            "needs_background": "light"
          }
        },
        {
          "output_type": "stream",
          "name": "stdout",
          "text": [
            "2017\n",
            "count    8.500000e+01\n",
            "mean     1.727111e+06\n",
            "std      1.777275e+06\n",
            "min      4.390000e+04\n",
            "25%      7.548000e+05\n",
            "50%      1.183900e+06\n",
            "75%      2.335400e+06\n",
            "max      1.238070e+07\n",
            "Name: naselenie, dtype: float64\n"
          ]
        },
        {
          "output_type": "display_data",
          "data": {
            "text/plain": [
              "<Figure size 432x288 with 1 Axes>"
            ],
            "image/png": "[encoded data removed]"
          },
          "metadata": {
            "needs_background": "light"
          }
        },
        {
          "output_type": "stream",
          "name": "stdout",
          "text": [
            "2018\n",
            "count    8.500000e+01\n",
            "mean     1.728005e+06\n",
            "std      1.791762e+06\n",
            "min      4.399700e+04\n",
            "25%      7.472470e+05\n",
            "50%      1.176689e+06\n",
            "75%      2.333768e+06\n",
            "max      1.250647e+07\n",
            "Name: naselenie, dtype: float64\n"
          ]
        },
        {
          "output_type": "display_data",
          "data": {
            "text/plain": [
              "<Figure size 432x288 with 1 Axes>"
            ],
            "image/png": "[encoded data removed]"
          },
          "metadata": {
            "needs_background": "light"
          }
        }
      ]
    },
    {
      "cell_type": "markdown",
      "source": [
        "The trend is almost upstream"
      ],
      "metadata": {
        "id": "xq3pRB6foaU4"
      }
    },
    {
      "cell_type": "code",
      "source": [
        "df.groupby('year')['naselenie'].mean().plot()"
      ],
      "metadata": {
        "colab": {
          "base_uri": "https://localhost:8080/",
          "height": 307
        },
        "id": "zzYk9rWXoXoF",
        "outputId": "f7c5c41b-e629-4019-f1ce-9de63ec9ebab"
      },
      "execution_count": 145,
      "outputs": [
        {
          "output_type": "execute_result",
          "data": {
            "text/plain": [
              "<matplotlib.axes._subplots.AxesSubplot at 0x7f60360bcb10>"
            ]
          },
          "metadata": {},
          "execution_count": 145
        },
        {
          "output_type": "display_data",
          "data": {
            "text/plain": [
              "<Figure size 432x288 with 1 Axes>"
            ],
            "image/png": "[encoded data removed]"
          },
          "metadata": {
            "needs_background": "light"
          }
        }
      ]
    },
    {
      "cell_type": "markdown",
      "source": [
        "The trend is upstream"
      ],
      "metadata": {
        "id": "4_9JN252oagB"
      }
    },
    {
      "cell_type": "markdown",
      "source": [
        "## Models"
      ],
      "metadata": {
        "id": "JY941ETPoasU"
      }
    },
    {
      "cell_type": "code",
      "source": [
        "# Pooled model\n",
        "all = ['edu30', 'minekfed', 'Vnovsozd', 'newrabmesta', 'infrmoney', 'naselenie', dep]\n",
        "pred = ['edu30', 'minekfed', 'Vnovsozd', 'newrabmesta', 'infrmoney', 'naselenie']\n",
        "df_cleared_all = df_ind[all].dropna()\n",
        "df_pred = df_cleared_all[pred]\n",
        "\n",
        "_pred = sm.add_constant(df_pred)\n",
        "mod = PooledOLS(df_cleared_all[dep], _pred)\n",
        "pooled_res = mod.fit()\n",
        "print(pooled_res)"
      ],
      "metadata": {
        "colab": {
          "base_uri": "https://localhost:8080/"
        },
        "id": "12MKvHxzqMra",
        "outputId": "8b9901ab-3db5-4c81-83fd-e57caaea0fb9"
      },
      "execution_count": 146,
      "outputs": [
        {
          "output_type": "stream",
          "name": "stdout",
          "text": [
            "                          PooledOLS Estimation Summary                          \n",
            "================================================================================\n",
            "Dep. Variable:             newSMBdo30   R-squared:                        0.6391\n",
            "Estimator:                  PooledOLS   R-squared (Between):              0.7345\n",
            "No. Observations:                 255   R-squared (Within):               0.0068\n",
            "Date:                Sat, May 28 2022   R-squared (Overall):              0.6391\n",
            "Time:                        12:35:05   Log-likelihood                   -1197.3\n",
            "Cov. Estimator:            Unadjusted                                           \n",
            "                                        F-statistic:                      73.192\n",
            "Entities:                          85   P-value                           0.0000\n",
            "Avg Obs:                       3.0000   Distribution:                   F(6,248)\n",
            "Min Obs:                       3.0000                                           \n",
            "Max Obs:                       3.0000   F-statistic (robust):             73.192\n",
            "                                        P-value                           0.0000\n",
            "Time periods:                       3   Distribution:                   F(6,248)\n",
            "Avg Obs:                       85.000                                           \n",
            "Min Obs:                       85.000                                           \n",
            "Max Obs:                       85.000                                           \n",
            "                                                                                \n",
            "                              Parameter Estimates                              \n",
            "===============================================================================\n",
            "             Parameter  Std. Err.     T-stat    P-value    Lower CI    Upper CI\n",
            "-------------------------------------------------------------------------------\n",
            "const           0.0746     2.9087     0.0257     0.9795     -5.6543      5.8036\n",
            "edu30           0.0618     0.0041     15.204     0.0000      0.0538      0.0699\n",
            "minekfed        0.0701     0.0332     2.1084     0.0360      0.0046      0.1355\n",
            "Vnovsozd       -0.0007     0.0003    -2.0407     0.0423     -0.0013  -2.355e-05\n",
            "newrabmesta     7.2446     4.1324     1.7531     0.0808     -0.8944      15.384\n",
            "infrmoney      -0.0247     0.0296    -0.8338     0.4052     -0.0829      0.0336\n",
            "naselenie    6.011e-06  4.104e-06     1.4646     0.1443  -2.072e-06   1.409e-05\n",
            "===============================================================================\n"
          ]
        },
        {
          "output_type": "stream",
          "name": "stderr",
          "text": [
            "/usr/local/lib/python3.7/dist-packages/statsmodels/tsa/tsatools.py:117: FutureWarning: In a future version of pandas all arguments of concat except for the argument 'objs' will be keyword-only\n",
            "  x = pd.concat(x[::order], 1)\n"
          ]
        }
      ]
    },
    {
      "cell_type": "code",
      "source": [
        "# Fixed effect model\n",
        "mod = PanelOLS(df_cleared_all[dep], _pred, entity_effects=True)\n",
        "fe_res = mod.fit()\n",
        "print(fe_res)"
      ],
      "metadata": {
        "colab": {
          "base_uri": "https://localhost:8080/"
        },
        "id": "JJ684BxCqdbb",
        "outputId": "b7b30fcf-6a67-4b00-ab41-5918eb56e43c"
      },
      "execution_count": 148,
      "outputs": [
        {
          "output_type": "stream",
          "name": "stdout",
          "text": [
            "                          PanelOLS Estimation Summary                           \n",
            "================================================================================\n",
            "Dep. Variable:             newSMBdo30   R-squared:                        0.2765\n",
            "Estimator:                   PanelOLS   R-squared (Between):             -4.7729\n",
            "No. Observations:                 255   R-squared (Within):               0.2765\n",
            "Date:                Sat, May 28 2022   R-squared (Overall):             -4.1111\n",
            "Time:                        12:35:19   Log-likelihood                   -1026.9\n",
            "Cov. Estimator:            Unadjusted                                           \n",
            "                                        F-statistic:                      10.445\n",
            "Entities:                          85   P-value                           0.0000\n",
            "Avg Obs:                       3.0000   Distribution:                   F(6,164)\n",
            "Min Obs:                       3.0000                                           \n",
            "Max Obs:                       3.0000   F-statistic (robust):             10.445\n",
            "                                        P-value                           0.0000\n",
            "Time periods:                       3   Distribution:                   F(6,164)\n",
            "Avg Obs:                       85.000                                           \n",
            "Min Obs:                       85.000                                           \n",
            "Max Obs:                       85.000                                           \n",
            "                                                                                \n",
            "                              Parameter Estimates                              \n",
            "===============================================================================\n",
            "             Parameter  Std. Err.     T-stat    P-value    Lower CI    Upper CI\n",
            "-------------------------------------------------------------------------------\n",
            "const           123.63     166.68     0.7417     0.4593     -205.49      452.74\n",
            "edu30           0.0260     0.0048     5.4361     0.0000      0.0166      0.0355\n",
            "minekfed        0.0636     0.0265     2.3973     0.0176      0.0112      0.1160\n",
            "Vnovsozd        0.0036     0.0017     2.1705     0.0314      0.0003      0.0070\n",
            "newrabmesta     8.3677     3.9006     2.1452     0.0334      0.6657      16.070\n",
            "infrmoney      -0.0080     0.0308    -0.2611     0.7943     -0.0689      0.0528\n",
            "naselenie   -8.604e-05     0.0001    -0.8560     0.3932     -0.0003      0.0001\n",
            "===============================================================================\n",
            "\n",
            "F-test for Poolability: 5.4778\n",
            "P-value: 0.0000\n",
            "Distribution: F(84,164)\n",
            "\n",
            "Included effects: Entity\n"
          ]
        }
      ]
    },
    {
      "cell_type": "code",
      "source": [
        "# Random effect model\n",
        "mod = RandomEffects(df_cleared_all[dep], _pred)\n",
        "re_res = mod.fit()\n",
        "print(re_res)"
      ],
      "metadata": {
        "colab": {
          "base_uri": "https://localhost:8080/"
        },
        "id": "ZGdf2HwyqhFV",
        "outputId": "e957da88-bf7a-495b-af62-c42e5f6db288"
      },
      "execution_count": 150,
      "outputs": [
        {
          "output_type": "stream",
          "name": "stdout",
          "text": [
            "                        RandomEffects Estimation Summary                        \n",
            "================================================================================\n",
            "Dep. Variable:             newSMBdo30   R-squared:                        0.4738\n",
            "Estimator:              RandomEffects   R-squared (Between):              0.6774\n",
            "No. Observations:                 255   R-squared (Within):               0.1836\n",
            "Date:                Sat, May 28 2022   R-squared (Overall):              0.6127\n",
            "Time:                        12:35:31   Log-likelihood                   -1099.2\n",
            "Cov. Estimator:            Unadjusted                                           \n",
            "                                        F-statistic:                      37.218\n",
            "Entities:                          85   P-value                           0.0000\n",
            "Avg Obs:                       3.0000   Distribution:                   F(6,248)\n",
            "Min Obs:                       3.0000                                           \n",
            "Max Obs:                       3.0000   F-statistic (robust):             37.218\n",
            "                                        P-value                           0.0000\n",
            "Time periods:                       3   Distribution:                   F(6,248)\n",
            "Avg Obs:                       85.000                                           \n",
            "Min Obs:                       85.000                                           \n",
            "Max Obs:                       85.000                                           \n",
            "                                                                                \n",
            "                              Parameter Estimates                              \n",
            "===============================================================================\n",
            "             Parameter  Std. Err.     T-stat    P-value    Lower CI    Upper CI\n",
            "-------------------------------------------------------------------------------\n",
            "const           3.7289     4.1750     0.8931     0.3726     -4.4942      11.952\n",
            "edu30           0.0455     0.0040     11.341     0.0000      0.0376      0.0535\n",
            "minekfed        0.0641     0.0265     2.4131     0.0165      0.0118      0.1163\n",
            "Vnovsozd       -0.0012     0.0004    -2.7663     0.0061     -0.0020     -0.0003\n",
            "newrabmesta     4.0409     3.3118     1.2202     0.2236     -2.4818      10.564\n",
            "infrmoney      -0.0257     0.0259    -0.9902     0.3230     -0.0767      0.0254\n",
            "naselenie    1.253e-05  4.901e-06     2.5557     0.0112   2.873e-06   2.218e-05\n",
            "===============================================================================\n"
          ]
        }
      ]
    },
    {
      "cell_type": "markdown",
      "source": [
        "## Choose the model"
      ],
      "metadata": {
        "id": "p8oRrWxQqkXo"
      }
    },
    {
      "cell_type": "markdown",
      "source": [
        "### Random effect and Pooled model\n",
        "\n",
        "H0: there are no individual effects\n",
        "\n",
        "p-value: >0.05 of accept"
      ],
      "metadata": {
        "id": "0v6_VQcGqoF_"
      }
    },
    {
      "cell_type": "code",
      "source": [
        "residuals_pooled_OLS = pooled_res.resids\n",
        "pooled_OLS_dataset = pd.concat([df_cleared_all, residuals_pooled_OLS], axis=1)\n",
        "breusch_pagan_test_results = het_breuschpagan(pooled_OLS_dataset['residual'], _pred)\n",
        "print('P-value:', breusch_pagan_test_results[3])"
      ],
      "metadata": {
        "colab": {
          "base_uri": "https://localhost:8080/"
        },
        "id": "87S8ySssqleT",
        "outputId": "f734765a-92d7-4ab7-c1d1-5f3efc7b2a74"
      },
      "execution_count": 151,
      "outputs": [
        {
          "output_type": "stream",
          "name": "stdout",
          "text": [
            "P-value: 1.368303166656504e-08\n"
          ]
        }
      ]
    },
    {
      "cell_type": "markdown",
      "source": [
        "p-value < 0.05 => H0 is rejected.\n",
        "It means, we should choose a model with effects (fixed or random)"
      ],
      "metadata": {
        "id": "RElp-6bkqsNa"
      }
    },
    {
      "cell_type": "markdown",
      "source": [
        "### Random effect and fixed effect\n",
        "\n",
        "H0: individual effects are not correlated (they are random)\n",
        "\n",
        "p-value: >0.05 of accept"
      ],
      "metadata": {
        "id": "bEjMOHPuqum1"
      }
    },
    {
      "cell_type": "code",
      "source": [
        "def hausman(fe, re):\n",
        "    b = fe.params\n",
        "    B = re.params\n",
        "    v_b = fe.cov\n",
        "    v_B = re.cov\n",
        "    df = b[np.abs(b) < 1e8].size\n",
        "    chi2 = np.dot((b - B).T, la.inv(v_b - v_B).dot(b - B))\n",
        "    pval = stats.chi2.sf(chi2, df)\n",
        "    return chi2, df, pval\n",
        "\n",
        "hausman_results = hausman(fe_res, re_res)\n",
        "print('p-value: ' + str(hausman_results[2]))"
      ],
      "metadata": {
        "colab": {
          "base_uri": "https://localhost:8080/"
        },
        "id": "ASYLNWLCqwiK",
        "outputId": "c4e10eb3-3fd6-4bec-e831-7d6550f423cb"
      },
      "execution_count": 152,
      "outputs": [
        {
          "output_type": "stream",
          "name": "stdout",
          "text": [
            "p-value: 4.3402285360243985e-09\n"
          ]
        }
      ]
    },
    {
      "cell_type": "markdown",
      "source": [
        "p-value < 0.05 => H0 is rejected.\n",
        "We should choose the fixed-effects model (FINAL CHOICE)"
      ],
      "metadata": {
        "id": "t91-LvMaqz8t"
      }
    },
    {
      "cell_type": "markdown",
      "source": [
        "### Description of the final model\n",
        "\n",
        "- p-value = 0 -> the model is statistically significant\n",
        "- R-squared = 0.2765 => the model explains 27.65% of the variance"
      ],
      "metadata": {
        "id": "n38AGK49q2xr"
      }
    },
    {
      "cell_type": "code",
      "source": [
        "l = []\n",
        "for (param, index) in zip(fe_res.params[1:], fe_res.params.index[1:]):\n",
        "    l.append('{:.7f}*{}'.format(param, index))\n",
        "\n",
        "print('Y = {:7f} + {}'.format(fe_res.params[0], ' + '.join(l)))"
      ],
      "metadata": {
        "colab": {
          "base_uri": "https://localhost:8080/"
        },
        "id": "WDGh_86-q4w5",
        "outputId": "5212073f-84f3-43ab-ba03-d0e840a1b975"
      },
      "execution_count": 153,
      "outputs": [
        {
          "output_type": "stream",
          "name": "stdout",
          "text": [
            "Y = 123.625237 + 0.0260257*edu30 + 0.0636116*minekfed + 0.0036422*Vnovsozd + 8.3676593*newrabmesta + -0.0080438*infrmoney + -0.0000860*naselenie\n"
          ]
        }
      ]
    },
    {
      "cell_type": "code",
      "source": [
        "f'Statistically significant model parameters: {fe_res.pvalues[fe_res.pvalues < 0.05].index.values}'"
      ],
      "metadata": {
        "colab": {
          "base_uri": "https://localhost:8080/",
          "height": 37
        },
        "id": "scBd_9J-rXvo",
        "outputId": "c705ed35-22a7-4b59-9afb-7c0fe5b95e43"
      },
      "execution_count": 154,
      "outputs": [
        {
          "output_type": "execute_result",
          "data": {
            "text/plain": [
              "\"Statistically significant model parameters: ['edu30' 'minekfed' 'Vnovsozd' 'newrabmesta']\""
            ],
            "application/vnd.google.colaboratory.intrinsic+json": {
              "type": "string"
            }
          },
          "metadata": {},
          "execution_count": 154
        }
      ]
    },
    {
      "cell_type": "code",
      "source": [
        "f'Statistically nonsignificant model parameters: {fe_res.pvalues[fe_res.pvalues > 0.05].index.values}'"
      ],
      "metadata": {
        "colab": {
          "base_uri": "https://localhost:8080/",
          "height": 37
        },
        "id": "V7v_wPu-rZMi",
        "outputId": "829cde3b-cb4b-4b23-972f-6550ac886d74"
      },
      "execution_count": 155,
      "outputs": [
        {
          "output_type": "execute_result",
          "data": {
            "text/plain": [
              "\"Statistically nonsignificant model parameters: ['const' 'infrmoney' 'naselenie']\""
            ],
            "application/vnd.google.colaboratory.intrinsic+json": {
              "type": "string"
            }
          },
          "metadata": {},
          "execution_count": 155
        }
      ]
    },
    {
      "cell_type": "markdown",
      "source": [
        "There are 3 statistically-significant predictors: <br>\n",
        "- edu30 <br>\n",
        "- minekfed <br>\n",
        "- Vnozsozd <br>\n",
        "- newrabmesta <br>\n",
        "<br>\n",
        "Each relationship: <br>\n",
        "- There is a relationship between new SMEs created by entrepreneurs under 30 years old and Number of individuals under the age of 30 who have completed training in educational programs aimed at acquiring business skills and creating SMEs. Each increase by one leads to increase in 0.026 new SMEs.\n",
        "- There is a relationship between new SMEs created by entrepreneurs under 30 years old and Regional subsidy of the Ministry of Economic Development for SMEs. Each increase by one leads to increase in 0.6 new SMEs.\n",
        "- There is a relationship between new SMEs created by entrepreneurs under 30 years old and Number of newly created SMEs. Each increase by one leads to 0.003 new SMEs.\n",
        "- There is a relationship between new SMEs created by entrepreneurs under 30 years old and New jobs created by SME. Each increase by one leads to 8.37 new SMEs.\n",
        "\n",
        "Others are not statistically significant."
      ],
      "metadata": {
        "id": "08qUW8_4rcaR"
      }
    },
    {
      "cell_type": "markdown",
      "source": [
        "### Conclusion"
      ],
      "metadata": {
        "id": "rAz-XTtasoXD"
      }
    },
    {
      "cell_type": "markdown",
      "source": [
        "The accepted hypothesis:\n",
        "- There is a relationship between new SMEs created by entrepreneurs under 30 years old and Number of individuals under the age of 30 who have completed training in educational programs aimed at acquiring business skills and creating SMEs.\n",
        "- There is a relationship between new SMEs created by entrepreneurs under 30 years old and Regional subsidy of the Ministry of Economic Development for SMEs.\n",
        "- There is a relationship between new SMEs created by entrepreneurs under 30 years old and Number of newly created SMEs. Each increase by one leads to 0.003 new SMEs.\n",
        "- There is a relationship between new SMEs created by entrepreneurs under 30 years old and New jobs created by SME.\n",
        "\n",
        "The rejected hypothesis:\n",
        "- There is a relationship between new SMEs created by entrepreneurs under 30 years old and Allocated financial resources by infrastructure organizations of the federal subject for the development of SMEs\n",
        "- There is a relationship between new SMEs created by entrepreneurs under 30 years old and Population of the federal subject of the Russian Federation\n",
        "\n",
        "In the result of the analysis:\n",
        "- We have managed to extract several indicators which have influence on new SMEs created by entrepreneurs under 30 years old: **above (ACCEPTED HYPOTHESIS)**.\n",
        "- The built model is statistically significant, however it explains less than 50% variance, which is not good.\n",
        "- There are individual fixed effects which influence new SMEs created by entrepreneurs under 30 years old over time in different. This effects may not be chosen as the predictors or may not included in the datasets."
      ],
      "metadata": {
        "id": "rO3el9N7sqUO"
      }
    },
    {
      "cell_type": "markdown",
      "source": [
        "# Task 3"
      ],
      "metadata": {
        "id": "ewk5Ohd0toTp"
      }
    },
    {
      "cell_type": "markdown",
      "source": [
        "Мультиноминальная регрессия может использоваться для того, чтобы предсказать что-то на протяжении некоторого периода для определенной предметной области. Например нужно предсказать/проанализировать результаты одной школы по сдаче ЕГЭ. ЕГЭ сдается каждый год, поэтому можно провести регрессию и найти те переменные, которые в большей степени влияют на хорошую оценку по ЕГЭ. Другими словами: <br>\n",
        "Dependent variable: результат ЕГЭ по математике\n",
        "Predictors:\n",
        "- годовая оценка по математике\n",
        "- годовая оценка по информатике\n",
        "- статус школы\n",
        "- средний результат ЕГЭ по городу"
      ],
      "metadata": {
        "id": "oeekltkntqlz"
      }
    },
    {
      "cell_type": "markdown",
      "source": [
        "# Task 4"
      ],
      "metadata": {
        "id": "kC5VUXd-trAO"
      }
    },
    {
      "cell_type": "markdown",
      "source": [
        "Регрессия может использоваться для того, чтобы проанализировать тренды в одной области знаний (цикличность, сезонность и прочее). Например можно взять предметную область осенняя одежда (плащ) в России. На это будут влиять западные факторы, а также некоторые факторы внутри России. Другими словами:\n",
        "Проблема: Плащи марки А будут в тренде этой осенью/весной?\n",
        "Специфические моменты: Нужно вручную собрать данные из западных источников (что носят звезды на западе, цена закупки товаров, возможность поставки товаров), а также проанализировать Российский рынок (что носят Российские звезды, цена покупки товара в России, средний достаток Россиян). На цену нужно ориентироваться, так как если товар будет сильно дорогой, то он не сможет быть трендовым весной/осенью, так как его не смогут купить и так далее."
      ],
      "metadata": {
        "id": "PumAPkA8tsMP"
      }
    }
  ]
}