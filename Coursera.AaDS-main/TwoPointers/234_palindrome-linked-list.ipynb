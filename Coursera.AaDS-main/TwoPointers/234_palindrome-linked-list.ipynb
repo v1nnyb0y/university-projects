{
  "nbformat": 4,
  "nbformat_minor": 0,
  "metadata": {
    "colab": {
      "name": "234.ipynb",
      "provenance": [],
      "authorship_tag": "ABX9TyOdrsj/odQzmAPAvXMpsu+c",
      "include_colab_link": true
    },
    "kernelspec": {
      "name": "python3",
      "display_name": "Python 3"
    },
    "language_info": {
      "name": "python"
    }
  },
  "cells": [
    {
      "cell_type": "markdown",
      "metadata": {
        "id": "view-in-github",
        "colab_type": "text"
      },
      "source": [
        "<a href=\"https://colab.research.google.com/github/v1nnyb0y/Coursera.AaDS/blob/main/TwoPointers/234_palindrome-linked-list.ipynb\" target=\"_parent\"><img src=\"https://colab.research.google.com/assets/colab-badge.svg\" alt=\"Open In Colab\"/></a>"
      ]
    },
    {
      "cell_type": "code",
      "execution_count": null,
      "metadata": {
        "id": "-zYcB6-NRKU3"
      },
      "outputs": [],
      "source": [
        "class Solution:\n",
        "    def isPalindrome(self, head: ListNode) -> bool:\n",
        "        res = []\n",
        "        \n",
        "        while head:\n",
        "            res.append(head.val)\n",
        "            head = head.next\n",
        "        return res == res[::-1]"
      ]
    }
  ]
}