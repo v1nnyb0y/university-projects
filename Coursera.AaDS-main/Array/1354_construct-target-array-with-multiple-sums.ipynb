{
  "nbformat": 4,
  "nbformat_minor": 0,
  "metadata": {
    "colab": {
      "name": "1354.ipynb",
      "provenance": [],
      "authorship_tag": "ABX9TyMzZs9333orKlw/yb5yZhuR",
      "include_colab_link": true
    },
    "kernelspec": {
      "name": "python3",
      "display_name": "Python 3"
    },
    "language_info": {
      "name": "python"
    }
  },
  "cells": [
    {
      "cell_type": "markdown",
      "metadata": {
        "id": "view-in-github",
        "colab_type": "text"
      },
      "source": [
        "<a href=\"https://colab.research.google.com/github/v1nnyb0y/Coursera.AaDS/blob/main/Array/1354_construct-target-array-with-multiple-sums.ipynb\" target=\"_parent\"><img src=\"https://colab.research.google.com/assets/colab-badge.svg\" alt=\"Open In Colab\"/></a>"
      ]
    },
    {
      "cell_type": "code",
      "execution_count": null,
      "metadata": {
        "id": "ns1ueaWvQOzY"
      },
      "outputs": [],
      "source": [
        "class Solution:\n",
        "    def isPossible(self, A):\n",
        "        total = sum(A)\n",
        "        A = [-a for a in A]\n",
        "        heapq.heapify(A)\n",
        "        while True:\n",
        "            a = -heapq.heappop(A)\n",
        "            total -= a\n",
        "            if a == 1 or total == 1: return True\n",
        "            if a < total or total == 0 or a % total == 0:\n",
        "                return False\n",
        "            a %= total\n",
        "            total += a\n",
        "            heapq.heappush(A, -a)"
      ]
    }
  ]
}